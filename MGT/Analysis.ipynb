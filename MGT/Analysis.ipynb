{
 "cells": [
  {
   "cell_type": "code",
   "execution_count": 1,
   "id": "efc86eaa-15dc-4246-9377-93f92b767e98",
   "metadata": {},
   "outputs": [
    {
     "data": {
      "text/html": [
       "        <script type=\"text/javascript\">\n",
       "        window.PlotlyConfig = {MathJaxConfig: 'local'};\n",
       "        if (window.MathJax && window.MathJax.Hub && window.MathJax.Hub.Config) {window.MathJax.Hub.Config({SVG: {font: \"STIX-Web\"}});}\n",
       "        if (typeof require !== 'undefined') {\n",
       "        require.undef(\"plotly\");\n",
       "        requirejs.config({\n",
       "            paths: {\n",
       "                'plotly': ['https://cdn.plot.ly/plotly-2.14.0.min']\n",
       "            }\n",
       "        });\n",
       "        require(['plotly'], function(Plotly) {\n",
       "            window._Plotly = Plotly;\n",
       "        });\n",
       "        }\n",
       "        </script>\n",
       "        "
      ]
     },
     "metadata": {},
     "output_type": "display_data"
    },
    {
     "data": {
      "text/html": [
       "        <script type=\"text/javascript\">\n",
       "        window.PlotlyConfig = {MathJaxConfig: 'local'};\n",
       "        if (window.MathJax && window.MathJax.Hub && window.MathJax.Hub.Config) {window.MathJax.Hub.Config({SVG: {font: \"STIX-Web\"}});}\n",
       "        if (typeof require !== 'undefined') {\n",
       "        require.undef(\"plotly\");\n",
       "        requirejs.config({\n",
       "            paths: {\n",
       "                'plotly': ['https://cdn.plot.ly/plotly-2.14.0.min']\n",
       "            }\n",
       "        });\n",
       "        require(['plotly'], function(Plotly) {\n",
       "            window._Plotly = Plotly;\n",
       "        });\n",
       "        }\n",
       "        </script>\n",
       "        "
      ]
     },
     "metadata": {},
     "output_type": "display_data"
    }
   ],
   "source": [
    "import pandas as pd\n",
    "import numpy as np\n",
    "import scipy as sc\n",
    "from sklearn.metrics import accuracy_score,confusion_matrix\n",
    "from sklearn.model_selection import cross_val_score, KFold, StratifiedKFold\n",
    "from sklearn.linear_model import LogisticRegression\n",
    "from sklearn.svm import SVC\n",
    "from sklearn.tree import DecisionTreeClassifier\n",
    "from sklearn.naive_bayes import GaussianNB\n",
    "from sklearn.ensemble import RandomForestClassifier\n",
    "from sklearn.neighbors import KNeighborsClassifier\n",
    "from sklearn.neural_network import MLPClassifier\n",
    "from sklearn.model_selection import train_test_split as tt\n",
    "import matplotlib.pyplot as plt\n",
    "import seaborn as sns\n",
    "from sklearn.preprocessing import LabelEncoder\n",
    "from dateutil import parser\n",
    "import isodate\n",
    "import cufflinks as cf\n",
    "from scipy import stats\n",
    "import seaborn as sns\n",
    "import matplotlib.pyplot as plt\n",
    "import plotly.express as px\n",
    "from plotly.subplots import make_subplots\n",
    "import plotly.graph_objects as go\n",
    "from scipy.stats import chi2_contingency\n",
    "%matplotlib inline\n",
    "from plotly.offline import download_plotlyjs, init_notebook_mode, plot, iplot\n",
    "init_notebook_mode(connected=True)\n",
    "# Use Plotly locally\n",
    "cf.go_offline()\n",
    "import warnings\n",
    "warnings.filterwarnings('ignore')"
   ]
  },
  {
   "cell_type": "code",
   "execution_count": 2,
   "id": "b2514c58-1615-47d0-a068-ac3bfa9c0978",
   "metadata": {
    "tags": []
   },
   "outputs": [],
   "source": [
    "df = pd.read_csv('YT - Affair dataset with description.csv')\n",
    "# df"
   ]
  },
  {
   "cell_type": "code",
   "execution_count": 3,
   "id": "abf3886b-d6e5-462f-9432-bd02c979f2b1",
   "metadata": {},
   "outputs": [],
   "source": [
    "df = df[df['age']>18]"
   ]
  },
  {
   "cell_type": "code",
   "execution_count": 4,
   "id": "86b725d4-683c-4ee8-9b20-e3cf968f217e",
   "metadata": {
    "tags": []
   },
   "outputs": [
    {
     "name": "stdout",
     "output_type": "stream",
     "text": [
      "<class 'pandas.core.frame.DataFrame'>\n",
      "Int64Index: 961 entries, 0 to 999\n",
      "Data columns (total 13 columns):\n",
      " #   Column         Non-Null Count  Dtype  \n",
      "---  ------         --------------  -----  \n",
      " 0   affairs        961 non-null    float64\n",
      " 1   affair_status  961 non-null    object \n",
      " 2   gender         961 non-null    object \n",
      " 3   age            961 non-null    int64  \n",
      " 4   yearsmarried   961 non-null    float64\n",
      " 5   children       961 non-null    object \n",
      " 6   religiousness  961 non-null    float64\n",
      " 7   education      961 non-null    float64\n",
      " 8   occupation     961 non-null    float64\n",
      " 9   rating         961 non-null    float64\n",
      " 10  region         961 non-null    object \n",
      " 11  frequentflyer  961 non-null    object \n",
      " 12  income_level   961 non-null    object \n",
      "dtypes: float64(6), int64(1), object(6)\n",
      "memory usage: 105.1+ KB\n"
     ]
    }
   ],
   "source": [
    "df.info()"
   ]
  },
  {
   "cell_type": "code",
   "execution_count": 5,
   "id": "c236a349-d782-4335-80d2-bffe1d0cce55",
   "metadata": {
    "tags": []
   },
   "outputs": [
    {
     "name": "stdout",
     "output_type": "stream",
     "text": [
      "female    517\n",
      "male      444\n",
      "Name: gender, dtype: int64\n"
     ]
    },
    {
     "data": {
      "text/plain": [
       "female    53.798127\n",
       "male      46.201873\n",
       "Name: gender, dtype: float64"
      ]
     },
     "execution_count": 5,
     "metadata": {},
     "output_type": "execute_result"
    }
   ],
   "source": [
    "s = df.gender.value_counts()\n",
    "print(s)\n",
    "\n",
    "pv = df.gender.value_counts(normalize=True) * 100\n",
    "pv"
   ]
  },
  {
   "cell_type": "code",
   "execution_count": 6,
   "id": "ceaf4f5b-aa1a-4ade-97b2-f8fbd453acda",
   "metadata": {
    "tags": []
   },
   "outputs": [
    {
     "name": "stdout",
     "output_type": "stream",
     "text": [
      "yes    689\n",
      "no     272\n",
      "Name: children, dtype: int64\n"
     ]
    },
    {
     "data": {
      "text/plain": [
       "yes    71.69615\n",
       "no     28.30385\n",
       "Name: children, dtype: float64"
      ]
     },
     "execution_count": 6,
     "metadata": {},
     "output_type": "execute_result"
    }
   ],
   "source": [
    "a = df.age.value_counts()[:10]\n",
    "h = df.children.value_counts()\n",
    "print(h)\n",
    "df.children.value_counts(normalize=True) * 100\n",
    "# a"
   ]
  },
  {
   "cell_type": "code",
   "execution_count": 7,
   "id": "ef210f52-bf2e-4912-bf8a-5302e6507152",
   "metadata": {},
   "outputs": [
    {
     "name": "stdout",
     "output_type": "stream",
     "text": [
      "Female Common Age: 27  Number of occurences: 91\n",
      "Male Common Age: 27  Number of occurences: 74\n"
     ]
    }
   ],
   "source": [
    "most_common_value = df[df.gender=='female'].age.mode()[0]\n",
    "count = df[df.gender=='female'].age.value_counts()[most_common_value]\n",
    "print(\"Female Common Age:\",most_common_value,\" Number of occurences:\",count)\n",
    "most_common_value = df[df.gender=='male'].age.mode()[0]\n",
    "count = df[df.gender=='male'].age.value_counts()[most_common_value]\n",
    "print(\"Male Common Age:\",most_common_value,\" Number of occurences:\",count)"
   ]
  },
  {
   "cell_type": "code",
   "execution_count": 8,
   "id": "f5d68ff5-1f61-4ae0-81bc-d0a30762b01e",
   "metadata": {
    "tags": []
   },
   "outputs": [],
   "source": [
    "u = df[df.gender=='female'].age.value_counts()\n",
    "# u"
   ]
  },
  {
   "cell_type": "code",
   "execution_count": 9,
   "id": "4f495049-f149-49fc-82e8-05f053d5fb20",
   "metadata": {},
   "outputs": [
    {
     "name": "stdout",
     "output_type": "stream",
     "text": [
      "0.5361698255700291\n"
     ]
    },
    {
     "data": {
      "application/vnd.plotly.v1+json": {
       "config": {
        "plotlyServerURL": "https://plot.ly"
       },
       "data": [
        {
         "hovertemplate": "age=%{x}<br>yearsmarried=%{y}<extra></extra>",
         "legendgroup": "",
         "marker": {
          "color": "#636efa",
          "symbol": "circle"
         },
         "mode": "markers",
         "name": "",
         "orientation": "v",
         "showlegend": false,
         "type": "scatter",
         "x": [
          37,
          27,
          32,
          57,
          22,
          32,
          22,
          57,
          32,
          22,
          37,
          27,
          47,
          22,
          27,
          37,
          37,
          22,
          22,
          27,
          22,
          22,
          27,
          32,
          37,
          22,
          27,
          42,
          27,
          27,
          42,
          22,
          27,
          42,
          32,
          22,
          42,
          22,
          22,
          22,
          32,
          52,
          22,
          27,
          32,
          22,
          27,
          42,
          27,
          42,
          22,
          32,
          27,
          27,
          22,
          37,
          22,
          37,
          27,
          32,
          47,
          37,
          22,
          27,
          32,
          42,
          37,
          47,
          22,
          27,
          27,
          32,
          22,
          47,
          32,
          27,
          22,
          27,
          22,
          57,
          57,
          22,
          42,
          22,
          22,
          32,
          27,
          22,
          37,
          32,
          37,
          37,
          57,
          27,
          42,
          57,
          37,
          37,
          37,
          27,
          37,
          22,
          57,
          37,
          22,
          27,
          57,
          32,
          22,
          32,
          37,
          32,
          42,
          27,
          37,
          37,
          32,
          22,
          27,
          27,
          42,
          42,
          27,
          22,
          37,
          22,
          27,
          32,
          27,
          27,
          42,
          27,
          27,
          32,
          32,
          22,
          37,
          27,
          27,
          27,
          32,
          27,
          52,
          27,
          37,
          27,
          52,
          57,
          27,
          37,
          22,
          32,
          37,
          22,
          42,
          52,
          37,
          27,
          32,
          27,
          27,
          37,
          47,
          32,
          27,
          57,
          22,
          42,
          57,
          57,
          22,
          32,
          42,
          27,
          32,
          27,
          27,
          32,
          37,
          42,
          32,
          32,
          37,
          22,
          27,
          27,
          27,
          32,
          32,
          22,
          27,
          27,
          37,
          37,
          22,
          37,
          22,
          52,
          22,
          32,
          32,
          22,
          27,
          22,
          27,
          37,
          22,
          37,
          37,
          42,
          22,
          52,
          27,
          27,
          42,
          22,
          22,
          22,
          37,
          37,
          42,
          47,
          22,
          32,
          22,
          32,
          27,
          37,
          42,
          37,
          32,
          42,
          27,
          22,
          27,
          22,
          52,
          32,
          37,
          32,
          42,
          32,
          27,
          32,
          22,
          22,
          42,
          52,
          37,
          47,
          57,
          32,
          27,
          22,
          22,
          22,
          42,
          57,
          27,
          22,
          37,
          32,
          22,
          22,
          52,
          37,
          32,
          42,
          27,
          37,
          27,
          22,
          32,
          27,
          27,
          32,
          37,
          47,
          27,
          37,
          32,
          32,
          42,
          27,
          27,
          22,
          27,
          27,
          37,
          37,
          22,
          37,
          22,
          32,
          27,
          22,
          27,
          37,
          37,
          27,
          32,
          32,
          22,
          22,
          32,
          32,
          37,
          32,
          27,
          22,
          47,
          27,
          37,
          42,
          32,
          52,
          22,
          52,
          22,
          22,
          27,
          32,
          27,
          32,
          37,
          32,
          32,
          37,
          32,
          32,
          47,
          27,
          27,
          37,
          27,
          37,
          32,
          27,
          27,
          37,
          27,
          22,
          22,
          42,
          27,
          27,
          52,
          27,
          27,
          27,
          22,
          27,
          27,
          47,
          32,
          42,
          22,
          27,
          32,
          22,
          47,
          32,
          57,
          27,
          32,
          37,
          32,
          22,
          27,
          57,
          32,
          27,
          22,
          22,
          32,
          47,
          22,
          22,
          27,
          52,
          32,
          47,
          27,
          22,
          32,
          22,
          22,
          42,
          27,
          42,
          57,
          42,
          32,
          22,
          22,
          22,
          32,
          22,
          27,
          27,
          42,
          32,
          57,
          37,
          52,
          47,
          27,
          27,
          22,
          37,
          27,
          42,
          22,
          22,
          57,
          37,
          27,
          22,
          27,
          37,
          22,
          27,
          27,
          22,
          27,
          32,
          32,
          32,
          22,
          27,
          52,
          27,
          27,
          42,
          42,
          27,
          27,
          42,
          27,
          27,
          22,
          27,
          22,
          22,
          47,
          37,
          37,
          27,
          27,
          27,
          37,
          32,
          22,
          22,
          37,
          22,
          37,
          32,
          37,
          42,
          42,
          37,
          32,
          27,
          37,
          27,
          42,
          47,
          27,
          27,
          27,
          27,
          42,
          27,
          27,
          32,
          27,
          32,
          27,
          32,
          32,
          37,
          37,
          32,
          52,
          42,
          52,
          37,
          22,
          27,
          27,
          47,
          42,
          27,
          32,
          32,
          47,
          37,
          22,
          27,
          52,
          27,
          27,
          32,
          32,
          22,
          22,
          42,
          57,
          32,
          27,
          32,
          57,
          42,
          37,
          42,
          52,
          27,
          32,
          22,
          27,
          37,
          32,
          27,
          32,
          32,
          42,
          32,
          37,
          27,
          42,
          27,
          37,
          27,
          27,
          32,
          32,
          22,
          32,
          27,
          22,
          32,
          42,
          42,
          32,
          32,
          57,
          47,
          42,
          37,
          37,
          27,
          37,
          32,
          32,
          37,
          27,
          47,
          37,
          27,
          27,
          22,
          52,
          27,
          37,
          27,
          32,
          22,
          32,
          22,
          42,
          32,
          37,
          42,
          27,
          37,
          37,
          22,
          32,
          32,
          52,
          47,
          32,
          32,
          27,
          42,
          42,
          27,
          32,
          47,
          22,
          32,
          32,
          22,
          32,
          32,
          38,
          32,
          33,
          39,
          38,
          23,
          27,
          30,
          34,
          34,
          36,
          34,
          25,
          37,
          32,
          38,
          51,
          38,
          40,
          46,
          39,
          40,
          38,
          29,
          41,
          40,
          32,
          29,
          39,
          28,
          30,
          26,
          22,
          33,
          38,
          31,
          39,
          51,
          24,
          31,
          38,
          39,
          27,
          34,
          45,
          40,
          26,
          28,
          33,
          28,
          23,
          40,
          25,
          31,
          29,
          38,
          33,
          41,
          41,
          44,
          20,
          35,
          26,
          26,
          38,
          28,
          28,
          44,
          36,
          35,
          33,
          35,
          42,
          26,
          26,
          47,
          23,
          22,
          19,
          32,
          23,
          29,
          26,
          31,
          40,
          36,
          36,
          35,
          19,
          23,
          28,
          24,
          27,
          39,
          23,
          40,
          32,
          25,
          43,
          23,
          44,
          37,
          41,
          40,
          32,
          30,
          23,
          34,
          35,
          45,
          33,
          32,
          26,
          39,
          26,
          24,
          31,
          29,
          31,
          36,
          51,
          42,
          39,
          37,
          29,
          25,
          21,
          38,
          30,
          45,
          43,
          23,
          28,
          20,
          51,
          42,
          29,
          35,
          34,
          20,
          36,
          23,
          21,
          29,
          30,
          39,
          43,
          33,
          35,
          28,
          19,
          35,
          31,
          24,
          29,
          24,
          43,
          36,
          33,
          33,
          27,
          41,
          30,
          32,
          34,
          23,
          41,
          30,
          30,
          33,
          27,
          34,
          52,
          24,
          23,
          36,
          32,
          22,
          28,
          26,
          25,
          24,
          37,
          36,
          33,
          28,
          30,
          31,
          42,
          37,
          42,
          27,
          33,
          39,
          27,
          40,
          21,
          29,
          41,
          26,
          25,
          35,
          47,
          39,
          23,
          38,
          30,
          46,
          42,
          51,
          38,
          44,
          36,
          45,
          49,
          33,
          36,
          29,
          43,
          19,
          27,
          35,
          34,
          25,
          33,
          46,
          22,
          25,
          33,
          25,
          30,
          20,
          33,
          30,
          53,
          22,
          22,
          32,
          25,
          22,
          33,
          31,
          32,
          49,
          39,
          38,
          26,
          22,
          34,
          37,
          37,
          57,
          23,
          31,
          34,
          53,
          34,
          35,
          21,
          44,
          47,
          19,
          41,
          26,
          25,
          38,
          25,
          26,
          37,
          41,
          34,
          38,
          27,
          31,
          48,
          37,
          47,
          28,
          24,
          34,
          27,
          50,
          43,
          40,
          45,
          33,
          31,
          29,
          34,
          34,
          44,
          34,
          32,
          32,
          42,
          29,
          35,
          27,
          25,
          35,
          37,
          31,
          28,
          23,
          30,
          27,
          50,
          33,
          35,
          20,
          30,
          22,
          29,
          21,
          45,
          32,
          44,
          43,
          29,
          29,
          43,
          39,
          42,
          20,
          26,
          35,
          46,
          49,
          49,
          33,
          35,
          34,
          23,
          21,
          22,
          39,
          24,
          35,
          42,
          21,
          38,
          26,
          34,
          46,
          46,
          24,
          31,
          38,
          34,
          26,
          40,
          35,
          26,
          39,
          32,
          34,
          43,
          43,
          23,
          21,
          51,
          50,
          32,
          19,
          35
         ],
         "xaxis": "x",
         "y": [
          10,
          4,
          15,
          15,
          0.75,
          1.5,
          0.75,
          15,
          15,
          1.5,
          15,
          4,
          15,
          1.5,
          4,
          15,
          15,
          0.75,
          1.5,
          10,
          1.5,
          1.5,
          10,
          10,
          4,
          1.5,
          7,
          15,
          4,
          4,
          15,
          1.5,
          0.417,
          15,
          4,
          1.5,
          15,
          4,
          1.5,
          0.75,
          10,
          15,
          0.417,
          4,
          7,
          4,
          7,
          15,
          1.5,
          15,
          0.75,
          7,
          4,
          10,
          4,
          15,
          1.5,
          15,
          0.75,
          10,
          15,
          10,
          0.75,
          4,
          7,
          15,
          10,
          15,
          1.5,
          1.5,
          4,
          10,
          0.125,
          15,
          15,
          7,
          1.5,
          4,
          1.5,
          15,
          15,
          0.75,
          4,
          1.5,
          0.417,
          15,
          1.5,
          1.5,
          15,
          15,
          10,
          10,
          15,
          0.417,
          15,
          15,
          10,
          15,
          15,
          10,
          10,
          0.125,
          15,
          15,
          4,
          7,
          15,
          15,
          1.5,
          7,
          15,
          1.5,
          10,
          7,
          15,
          15,
          10,
          0.75,
          7,
          7,
          15,
          15,
          7,
          1.5,
          15,
          0.125,
          1.5,
          1.5,
          1.5,
          10,
          15,
          1.5,
          4,
          10,
          15,
          0.75,
          15,
          4,
          4,
          10,
          15,
          7,
          15,
          4,
          4,
          4,
          15,
          15,
          7,
          7,
          0.75,
          4,
          15,
          0.75,
          15,
          15,
          15,
          7,
          4,
          4,
          4,
          15,
          15,
          10,
          1.5,
          15,
          1.5,
          15,
          15,
          15,
          0.125,
          10,
          15,
          1.5,
          0.125,
          4,
          10,
          7,
          15,
          15,
          1.5,
          4,
          7,
          0.417,
          7,
          0.75,
          4,
          10,
          15,
          0.75,
          7,
          0.417,
          15,
          15,
          4,
          15,
          1.5,
          15,
          1.5,
          4,
          4,
          1.5,
          0.75,
          7,
          0.75,
          15,
          1.5,
          10,
          15,
          15,
          4,
          7,
          0.75,
          4,
          1.5,
          1.5,
          4,
          4,
          15,
          10,
          15,
          15,
          1.5,
          10,
          7,
          10,
          1.5,
          15,
          4,
          15,
          7,
          15,
          4,
          0.75,
          4,
          0.75,
          15,
          10,
          15,
          7,
          15,
          15,
          4,
          15,
          0.75,
          1.5,
          15,
          15,
          15,
          15,
          15,
          7,
          7,
          1.5,
          4,
          1.5,
          15,
          15,
          7,
          4,
          15,
          7,
          1.5,
          1.5,
          15,
          15,
          10,
          15,
          4,
          15,
          1.5,
          0.125,
          10,
          4,
          7,
          4,
          15,
          15,
          1.5,
          15,
          15,
          7,
          15,
          7,
          1.5,
          1.5,
          4,
          7,
          15,
          7,
          1.5,
          15,
          1.5,
          10,
          4,
          0.417,
          4,
          15,
          10,
          7,
          4,
          4,
          1.5,
          4,
          10,
          0.75,
          15,
          4,
          1.5,
          7,
          15,
          4,
          15,
          4,
          4,
          15,
          1.5,
          15,
          0.417,
          1.5,
          4,
          15,
          1.5,
          4,
          15,
          10,
          10,
          1.5,
          1.5,
          10,
          15,
          10,
          4,
          15,
          0.75,
          15,
          15,
          10,
          7,
          15,
          1.5,
          0.75,
          4,
          0.125,
          1.5,
          7,
          15,
          1.5,
          1.5,
          1.5,
          0.125,
          4,
          4,
          15,
          15,
          7,
          0.75,
          0.125,
          10,
          0.417,
          15,
          10,
          15,
          4,
          7,
          10,
          10,
          4,
          7,
          15,
          7,
          1.5,
          1.5,
          1.5,
          7,
          15,
          0.75,
          1.5,
          4,
          15,
          10,
          15,
          7,
          1.5,
          10,
          0.75,
          1.5,
          15,
          7,
          15,
          15,
          15,
          7,
          4,
          1.5,
          0.75,
          15,
          1.5,
          4,
          4,
          15,
          1.5,
          15,
          7,
          15,
          15,
          7,
          7,
          4,
          7,
          7,
          10,
          1.5,
          4,
          15,
          15,
          7,
          4,
          4,
          15,
          1.5,
          7,
          4,
          0.125,
          7,
          15,
          10,
          15,
          1.5,
          4,
          15,
          7,
          7,
          15,
          15,
          7,
          7,
          15,
          4,
          7,
          1.5,
          4,
          4,
          1.5,
          15,
          10,
          15,
          4,
          1.5,
          4,
          15,
          10,
          0.125,
          1.5,
          15,
          1.5,
          15,
          15,
          15,
          15,
          15,
          10,
          15,
          4,
          10,
          4,
          15,
          15,
          4,
          7,
          1.5,
          7,
          15,
          10,
          1.5,
          4,
          7,
          10,
          4,
          10,
          7,
          15,
          10,
          10,
          15,
          15,
          15,
          15,
          4,
          7,
          4,
          15,
          15,
          4,
          7,
          0.417,
          15,
          15,
          4,
          4,
          15,
          4,
          10,
          7,
          7,
          1.5,
          4,
          15,
          15,
          4,
          4,
          7,
          15,
          15,
          10,
          15,
          15,
          7,
          7,
          4,
          7,
          15,
          15,
          7,
          7,
          1.5,
          15,
          10,
          4,
          4,
          15,
          10,
          10,
          7,
          7,
          10,
          15,
          7,
          7,
          4,
          1.5,
          15,
          15,
          15,
          10,
          15,
          15,
          15,
          15,
          15,
          15,
          10,
          15,
          15,
          10,
          15,
          1.5,
          15,
          15,
          4,
          10,
          4,
          7,
          4,
          15,
          4,
          15,
          4,
          4,
          1.5,
          15,
          7,
          15,
          15,
          4,
          15,
          15,
          1.5,
          4,
          15,
          15,
          15,
          15,
          15,
          7,
          15,
          15,
          7,
          10,
          15,
          1.5,
          10,
          10,
          7,
          15,
          2,
          5,
          0,
          8,
          2,
          4,
          12,
          13,
          3,
          9,
          13,
          2,
          19,
          6,
          9,
          5,
          4,
          12,
          13,
          6,
          16,
          10,
          8,
          3,
          15,
          13,
          11,
          7,
          6,
          0,
          7,
          1,
          12,
          12,
          2,
          10,
          18,
          11,
          9,
          9,
          1,
          5,
          1,
          10,
          5,
          5,
          3,
          11,
          12,
          13,
          5,
          11,
          13,
          17,
          8,
          15,
          12,
          11,
          7,
          9,
          14,
          5,
          12,
          7,
          11,
          15,
          13,
          0,
          7,
          5,
          0,
          1,
          4,
          8,
          4,
          10,
          9,
          4,
          18,
          12,
          14,
          7,
          5,
          2,
          10,
          8,
          8,
          1,
          7,
          1,
          13,
          7,
          3,
          4,
          15,
          6,
          6,
          10,
          11,
          11,
          6,
          12,
          10,
          0,
          15,
          7,
          3,
          2,
          9,
          1,
          6,
          8,
          0,
          10,
          12,
          2,
          18,
          10,
          8,
          12,
          6,
          14,
          9,
          3,
          2,
          18,
          9,
          5,
          9,
          1,
          0,
          9,
          5,
          1,
          20,
          16,
          1,
          11,
          10,
          9,
          7,
          0,
          4,
          4,
          7,
          6,
          18,
          15,
          16,
          14,
          3,
          13,
          3,
          4,
          6,
          0,
          3,
          16,
          13,
          13,
          1,
          5,
          11,
          13,
          6,
          9,
          5,
          9,
          8,
          0,
          11,
          4,
          2,
          6,
          8,
          1,
          10,
          5,
          11,
          4,
          13,
          1,
          17,
          15,
          5,
          1,
          9,
          5,
          3,
          2,
          1,
          1,
          8,
          2,
          2,
          14,
          11,
          1,
          15,
          3,
          11,
          4,
          15,
          6,
          7,
          6,
          15,
          18,
          10,
          7,
          13,
          16,
          9,
          2,
          10,
          8,
          1,
          12,
          20,
          18,
          3,
          5,
          9,
          6,
          6,
          14,
          2,
          16,
          10,
          4,
          11,
          10,
          8,
          9,
          8,
          4,
          4,
          11,
          18,
          8,
          10,
          11,
          11,
          10,
          8,
          16,
          1,
          11,
          11,
          9,
          12,
          0,
          12,
          7,
          6,
          14,
          7,
          4,
          9,
          10,
          4,
          16,
          6,
          8,
          13,
          8,
          11,
          8,
          7,
          9,
          17,
          7,
          1,
          4,
          16,
          9,
          11,
          1,
          8,
          1,
          18,
          12,
          7,
          0,
          16,
          4,
          13,
          13,
          6,
          11,
          5,
          10,
          2,
          0,
          1,
          9,
          12,
          5,
          7,
          7,
          5,
          3,
          3,
          4,
          17,
          12,
          7,
          6,
          8,
          6,
          10,
          13,
          3,
          10,
          3,
          8,
          10,
          13,
          13,
          2,
          1,
          7,
          4,
          10,
          11,
          12,
          11,
          9,
          2,
          5,
          14,
          7,
          0,
          11,
          9,
          10,
          5,
          9,
          12,
          10,
          11,
          4,
          11,
          8,
          6,
          10,
          5,
          7,
          1,
          4,
          0,
          11,
          8,
          18,
          7,
          3,
          14,
          5,
          0,
          2,
          3,
          17,
          10,
          2,
          11,
          11
         ],
         "yaxis": "y"
        }
       ],
       "layout": {
        "autosize": true,
        "legend": {
         "tracegroupgap": 0
        },
        "template": {
         "data": {
          "bar": [
           {
            "error_x": {
             "color": "#2a3f5f"
            },
            "error_y": {
             "color": "#2a3f5f"
            },
            "marker": {
             "line": {
              "color": "#E5ECF6",
              "width": 0.5
             },
             "pattern": {
              "fillmode": "overlay",
              "size": 10,
              "solidity": 0.2
             }
            },
            "type": "bar"
           }
          ],
          "barpolar": [
           {
            "marker": {
             "line": {
              "color": "#E5ECF6",
              "width": 0.5
             },
             "pattern": {
              "fillmode": "overlay",
              "size": 10,
              "solidity": 0.2
             }
            },
            "type": "barpolar"
           }
          ],
          "carpet": [
           {
            "aaxis": {
             "endlinecolor": "#2a3f5f",
             "gridcolor": "white",
             "linecolor": "white",
             "minorgridcolor": "white",
             "startlinecolor": "#2a3f5f"
            },
            "baxis": {
             "endlinecolor": "#2a3f5f",
             "gridcolor": "white",
             "linecolor": "white",
             "minorgridcolor": "white",
             "startlinecolor": "#2a3f5f"
            },
            "type": "carpet"
           }
          ],
          "choropleth": [
           {
            "colorbar": {
             "outlinewidth": 0,
             "ticks": ""
            },
            "type": "choropleth"
           }
          ],
          "contour": [
           {
            "colorbar": {
             "outlinewidth": 0,
             "ticks": ""
            },
            "colorscale": [
             [
              0,
              "#0d0887"
             ],
             [
              0.1111111111111111,
              "#46039f"
             ],
             [
              0.2222222222222222,
              "#7201a8"
             ],
             [
              0.3333333333333333,
              "#9c179e"
             ],
             [
              0.4444444444444444,
              "#bd3786"
             ],
             [
              0.5555555555555556,
              "#d8576b"
             ],
             [
              0.6666666666666666,
              "#ed7953"
             ],
             [
              0.7777777777777778,
              "#fb9f3a"
             ],
             [
              0.8888888888888888,
              "#fdca26"
             ],
             [
              1,
              "#f0f921"
             ]
            ],
            "type": "contour"
           }
          ],
          "contourcarpet": [
           {
            "colorbar": {
             "outlinewidth": 0,
             "ticks": ""
            },
            "type": "contourcarpet"
           }
          ],
          "heatmap": [
           {
            "colorbar": {
             "outlinewidth": 0,
             "ticks": ""
            },
            "colorscale": [
             [
              0,
              "#0d0887"
             ],
             [
              0.1111111111111111,
              "#46039f"
             ],
             [
              0.2222222222222222,
              "#7201a8"
             ],
             [
              0.3333333333333333,
              "#9c179e"
             ],
             [
              0.4444444444444444,
              "#bd3786"
             ],
             [
              0.5555555555555556,
              "#d8576b"
             ],
             [
              0.6666666666666666,
              "#ed7953"
             ],
             [
              0.7777777777777778,
              "#fb9f3a"
             ],
             [
              0.8888888888888888,
              "#fdca26"
             ],
             [
              1,
              "#f0f921"
             ]
            ],
            "type": "heatmap"
           }
          ],
          "heatmapgl": [
           {
            "colorbar": {
             "outlinewidth": 0,
             "ticks": ""
            },
            "colorscale": [
             [
              0,
              "#0d0887"
             ],
             [
              0.1111111111111111,
              "#46039f"
             ],
             [
              0.2222222222222222,
              "#7201a8"
             ],
             [
              0.3333333333333333,
              "#9c179e"
             ],
             [
              0.4444444444444444,
              "#bd3786"
             ],
             [
              0.5555555555555556,
              "#d8576b"
             ],
             [
              0.6666666666666666,
              "#ed7953"
             ],
             [
              0.7777777777777778,
              "#fb9f3a"
             ],
             [
              0.8888888888888888,
              "#fdca26"
             ],
             [
              1,
              "#f0f921"
             ]
            ],
            "type": "heatmapgl"
           }
          ],
          "histogram": [
           {
            "marker": {
             "pattern": {
              "fillmode": "overlay",
              "size": 10,
              "solidity": 0.2
             }
            },
            "type": "histogram"
           }
          ],
          "histogram2d": [
           {
            "colorbar": {
             "outlinewidth": 0,
             "ticks": ""
            },
            "colorscale": [
             [
              0,
              "#0d0887"
             ],
             [
              0.1111111111111111,
              "#46039f"
             ],
             [
              0.2222222222222222,
              "#7201a8"
             ],
             [
              0.3333333333333333,
              "#9c179e"
             ],
             [
              0.4444444444444444,
              "#bd3786"
             ],
             [
              0.5555555555555556,
              "#d8576b"
             ],
             [
              0.6666666666666666,
              "#ed7953"
             ],
             [
              0.7777777777777778,
              "#fb9f3a"
             ],
             [
              0.8888888888888888,
              "#fdca26"
             ],
             [
              1,
              "#f0f921"
             ]
            ],
            "type": "histogram2d"
           }
          ],
          "histogram2dcontour": [
           {
            "colorbar": {
             "outlinewidth": 0,
             "ticks": ""
            },
            "colorscale": [
             [
              0,
              "#0d0887"
             ],
             [
              0.1111111111111111,
              "#46039f"
             ],
             [
              0.2222222222222222,
              "#7201a8"
             ],
             [
              0.3333333333333333,
              "#9c179e"
             ],
             [
              0.4444444444444444,
              "#bd3786"
             ],
             [
              0.5555555555555556,
              "#d8576b"
             ],
             [
              0.6666666666666666,
              "#ed7953"
             ],
             [
              0.7777777777777778,
              "#fb9f3a"
             ],
             [
              0.8888888888888888,
              "#fdca26"
             ],
             [
              1,
              "#f0f921"
             ]
            ],
            "type": "histogram2dcontour"
           }
          ],
          "mesh3d": [
           {
            "colorbar": {
             "outlinewidth": 0,
             "ticks": ""
            },
            "type": "mesh3d"
           }
          ],
          "parcoords": [
           {
            "line": {
             "colorbar": {
              "outlinewidth": 0,
              "ticks": ""
             }
            },
            "type": "parcoords"
           }
          ],
          "pie": [
           {
            "automargin": true,
            "type": "pie"
           }
          ],
          "scatter": [
           {
            "fillpattern": {
             "fillmode": "overlay",
             "size": 10,
             "solidity": 0.2
            },
            "type": "scatter"
           }
          ],
          "scatter3d": [
           {
            "line": {
             "colorbar": {
              "outlinewidth": 0,
              "ticks": ""
             }
            },
            "marker": {
             "colorbar": {
              "outlinewidth": 0,
              "ticks": ""
             }
            },
            "type": "scatter3d"
           }
          ],
          "scattercarpet": [
           {
            "marker": {
             "colorbar": {
              "outlinewidth": 0,
              "ticks": ""
             }
            },
            "type": "scattercarpet"
           }
          ],
          "scattergeo": [
           {
            "marker": {
             "colorbar": {
              "outlinewidth": 0,
              "ticks": ""
             }
            },
            "type": "scattergeo"
           }
          ],
          "scattergl": [
           {
            "marker": {
             "colorbar": {
              "outlinewidth": 0,
              "ticks": ""
             }
            },
            "type": "scattergl"
           }
          ],
          "scattermapbox": [
           {
            "marker": {
             "colorbar": {
              "outlinewidth": 0,
              "ticks": ""
             }
            },
            "type": "scattermapbox"
           }
          ],
          "scatterpolar": [
           {
            "marker": {
             "colorbar": {
              "outlinewidth": 0,
              "ticks": ""
             }
            },
            "type": "scatterpolar"
           }
          ],
          "scatterpolargl": [
           {
            "marker": {
             "colorbar": {
              "outlinewidth": 0,
              "ticks": ""
             }
            },
            "type": "scatterpolargl"
           }
          ],
          "scatterternary": [
           {
            "marker": {
             "colorbar": {
              "outlinewidth": 0,
              "ticks": ""
             }
            },
            "type": "scatterternary"
           }
          ],
          "surface": [
           {
            "colorbar": {
             "outlinewidth": 0,
             "ticks": ""
            },
            "colorscale": [
             [
              0,
              "#0d0887"
             ],
             [
              0.1111111111111111,
              "#46039f"
             ],
             [
              0.2222222222222222,
              "#7201a8"
             ],
             [
              0.3333333333333333,
              "#9c179e"
             ],
             [
              0.4444444444444444,
              "#bd3786"
             ],
             [
              0.5555555555555556,
              "#d8576b"
             ],
             [
              0.6666666666666666,
              "#ed7953"
             ],
             [
              0.7777777777777778,
              "#fb9f3a"
             ],
             [
              0.8888888888888888,
              "#fdca26"
             ],
             [
              1,
              "#f0f921"
             ]
            ],
            "type": "surface"
           }
          ],
          "table": [
           {
            "cells": {
             "fill": {
              "color": "#EBF0F8"
             },
             "line": {
              "color": "white"
             }
            },
            "header": {
             "fill": {
              "color": "#C8D4E3"
             },
             "line": {
              "color": "white"
             }
            },
            "type": "table"
           }
          ]
         },
         "layout": {
          "annotationdefaults": {
           "arrowcolor": "#2a3f5f",
           "arrowhead": 0,
           "arrowwidth": 1
          },
          "autotypenumbers": "strict",
          "coloraxis": {
           "colorbar": {
            "outlinewidth": 0,
            "ticks": ""
           }
          },
          "colorscale": {
           "diverging": [
            [
             0,
             "#8e0152"
            ],
            [
             0.1,
             "#c51b7d"
            ],
            [
             0.2,
             "#de77ae"
            ],
            [
             0.3,
             "#f1b6da"
            ],
            [
             0.4,
             "#fde0ef"
            ],
            [
             0.5,
             "#f7f7f7"
            ],
            [
             0.6,
             "#e6f5d0"
            ],
            [
             0.7,
             "#b8e186"
            ],
            [
             0.8,
             "#7fbc41"
            ],
            [
             0.9,
             "#4d9221"
            ],
            [
             1,
             "#276419"
            ]
           ],
           "sequential": [
            [
             0,
             "#0d0887"
            ],
            [
             0.1111111111111111,
             "#46039f"
            ],
            [
             0.2222222222222222,
             "#7201a8"
            ],
            [
             0.3333333333333333,
             "#9c179e"
            ],
            [
             0.4444444444444444,
             "#bd3786"
            ],
            [
             0.5555555555555556,
             "#d8576b"
            ],
            [
             0.6666666666666666,
             "#ed7953"
            ],
            [
             0.7777777777777778,
             "#fb9f3a"
            ],
            [
             0.8888888888888888,
             "#fdca26"
            ],
            [
             1,
             "#f0f921"
            ]
           ],
           "sequentialminus": [
            [
             0,
             "#0d0887"
            ],
            [
             0.1111111111111111,
             "#46039f"
            ],
            [
             0.2222222222222222,
             "#7201a8"
            ],
            [
             0.3333333333333333,
             "#9c179e"
            ],
            [
             0.4444444444444444,
             "#bd3786"
            ],
            [
             0.5555555555555556,
             "#d8576b"
            ],
            [
             0.6666666666666666,
             "#ed7953"
            ],
            [
             0.7777777777777778,
             "#fb9f3a"
            ],
            [
             0.8888888888888888,
             "#fdca26"
            ],
            [
             1,
             "#f0f921"
            ]
           ]
          },
          "colorway": [
           "#636efa",
           "#EF553B",
           "#00cc96",
           "#ab63fa",
           "#FFA15A",
           "#19d3f3",
           "#FF6692",
           "#B6E880",
           "#FF97FF",
           "#FECB52"
          ],
          "font": {
           "color": "#2a3f5f"
          },
          "geo": {
           "bgcolor": "white",
           "lakecolor": "white",
           "landcolor": "#E5ECF6",
           "showlakes": true,
           "showland": true,
           "subunitcolor": "white"
          },
          "hoverlabel": {
           "align": "left"
          },
          "hovermode": "closest",
          "mapbox": {
           "style": "light"
          },
          "paper_bgcolor": "white",
          "plot_bgcolor": "#E5ECF6",
          "polar": {
           "angularaxis": {
            "gridcolor": "white",
            "linecolor": "white",
            "ticks": ""
           },
           "bgcolor": "#E5ECF6",
           "radialaxis": {
            "gridcolor": "white",
            "linecolor": "white",
            "ticks": ""
           }
          },
          "scene": {
           "xaxis": {
            "backgroundcolor": "#E5ECF6",
            "gridcolor": "white",
            "gridwidth": 2,
            "linecolor": "white",
            "showbackground": true,
            "ticks": "",
            "zerolinecolor": "white"
           },
           "yaxis": {
            "backgroundcolor": "#E5ECF6",
            "gridcolor": "white",
            "gridwidth": 2,
            "linecolor": "white",
            "showbackground": true,
            "ticks": "",
            "zerolinecolor": "white"
           },
           "zaxis": {
            "backgroundcolor": "#E5ECF6",
            "gridcolor": "white",
            "gridwidth": 2,
            "linecolor": "white",
            "showbackground": true,
            "ticks": "",
            "zerolinecolor": "white"
           }
          },
          "shapedefaults": {
           "line": {
            "color": "#2a3f5f"
           }
          },
          "ternary": {
           "aaxis": {
            "gridcolor": "white",
            "linecolor": "white",
            "ticks": ""
           },
           "baxis": {
            "gridcolor": "white",
            "linecolor": "white",
            "ticks": ""
           },
           "bgcolor": "#E5ECF6",
           "caxis": {
            "gridcolor": "white",
            "linecolor": "white",
            "ticks": ""
           }
          },
          "title": {
           "x": 0.05
          },
          "xaxis": {
           "automargin": true,
           "gridcolor": "white",
           "linecolor": "white",
           "ticks": "",
           "title": {
            "standoff": 15
           },
           "zerolinecolor": "white",
           "zerolinewidth": 2
          },
          "yaxis": {
           "automargin": true,
           "gridcolor": "white",
           "linecolor": "white",
           "ticks": "",
           "title": {
            "standoff": 15
           },
           "zerolinecolor": "white",
           "zerolinewidth": 2
          }
         }
        },
        "title": {
         "text": "Age vs Years Married"
        },
        "xaxis": {
         "anchor": "y",
         "autorange": true,
         "domain": [
          0,
          1
         ],
         "range": [
          16.623807132094424,
          59.37619286790557
         ],
         "title": {
          "text": "age"
         },
         "type": "linear"
        },
        "yaxis": {
         "anchor": "x",
         "autorange": true,
         "domain": [
          0,
          1
         ],
         "range": [
          -1.6504854368932038,
          21.650485436893202
         ],
         "title": {
          "text": "yearsmarried"
         },
         "type": "linear"
        }
       }
      },
      "image/png": "[encoded data removed]",
      "text/html": [
       "<div>                            <div id=\"23c26aff-49dc-4452-9966-7b8989d31497\" class=\"plotly-graph-div\" style=\"height:525px; width:100%;\"></div>            <script type=\"text/javascript\">                require([\"plotly\"], function(Plotly) {                    window.PLOTLYENV=window.PLOTLYENV || {};                                    if (document.getElementById(\"23c26aff-49dc-4452-9966-7b8989d31497\")) {                    Plotly.newPlot(                        \"23c26aff-49dc-4452-9966-7b8989d31497\",                        [{\"hovertemplate\":\"age=%{x}<br>yearsmarried=%{y}<extra></extra>\",\"legendgroup\":\"\",\"marker\":{\"color\":\"#636efa\",\"symbol\":\"circle\"},\"mode\":\"markers\",\"name\":\"\",\"orientation\":\"v\",\"showlegend\":false,\"x\":[37,27,32,57,22,32,22,57,32,22,37,27,47,22,27,37,37,22,22,27,22,22,27,32,37,22,27,42,27,27,42,22,27,42,32,22,42,22,22,22,32,52,22,27,32,22,27,42,27,42,22,32,27,27,22,37,22,37,27,32,47,37,22,27,32,42,37,47,22,27,27,32,22,47,32,27,22,27,22,57,57,22,42,22,22,32,27,22,37,32,37,37,57,27,42,57,37,37,37,27,37,22,57,37,22,27,57,32,22,32,37,32,42,27,37,37,32,22,27,27,42,42,27,22,37,22,27,32,27,27,42,27,27,32,32,22,37,27,27,27,32,27,52,27,37,27,52,57,27,37,22,32,37,22,42,52,37,27,32,27,27,37,47,32,27,57,22,42,57,57,22,32,42,27,32,27,27,32,37,42,32,32,37,22,27,27,27,32,32,22,27,27,37,37,22,37,22,52,22,32,32,22,27,22,27,37,22,37,37,42,22,52,27,27,42,22,22,22,37,37,42,47,22,32,22,32,27,37,42,37,32,42,27,22,27,22,52,32,37,32,42,32,27,32,22,22,42,52,37,47,57,32,27,22,22,22,42,57,27,22,37,32,22,22,52,37,32,42,27,37,27,22,32,27,27,32,37,47,27,37,32,32,42,27,27,22,27,27,37,37,22,37,22,32,27,22,27,37,37,27,32,32,22,22,32,32,37,32,27,22,47,27,37,42,32,52,22,52,22,22,27,32,27,32,37,32,32,37,32,32,47,27,27,37,27,37,32,27,27,37,27,22,22,42,27,27,52,27,27,27,22,27,27,47,32,42,22,27,32,22,47,32,57,27,32,37,32,22,27,57,32,27,22,22,32,47,22,22,27,52,32,47,27,22,32,22,22,42,27,42,57,42,32,22,22,22,32,22,27,27,42,32,57,37,52,47,27,27,22,37,27,42,22,22,57,37,27,22,27,37,22,27,27,22,27,32,32,32,22,27,52,27,27,42,42,27,27,42,27,27,22,27,22,22,47,37,37,27,27,27,37,32,22,22,37,22,37,32,37,42,42,37,32,27,37,27,42,47,27,27,27,27,42,27,27,32,27,32,27,32,32,37,37,32,52,42,52,37,22,27,27,47,42,27,32,32,47,37,22,27,52,27,27,32,32,22,22,42,57,32,27,32,57,42,37,42,52,27,32,22,27,37,32,27,32,32,42,32,37,27,42,27,37,27,27,32,32,22,32,27,22,32,42,42,32,32,57,47,42,37,37,27,37,32,32,37,27,47,37,27,27,22,52,27,37,27,32,22,32,22,42,32,37,42,27,37,37,22,32,32,52,47,32,32,27,42,42,27,32,47,22,32,32,22,32,32,38,32,33,39,38,23,27,30,34,34,36,34,25,37,32,38,51,38,40,46,39,40,38,29,41,40,32,29,39,28,30,26,22,33,38,31,39,51,24,31,38,39,27,34,45,40,26,28,33,28,23,40,25,31,29,38,33,41,41,44,20,35,26,26,38,28,28,44,36,35,33,35,42,26,26,47,23,22,19,32,23,29,26,31,40,36,36,35,19,23,28,24,27,39,23,40,32,25,43,23,44,37,41,40,32,30,23,34,35,45,33,32,26,39,26,24,31,29,31,36,51,42,39,37,29,25,21,38,30,45,43,23,28,20,51,42,29,35,34,20,36,23,21,29,30,39,43,33,35,28,19,35,31,24,29,24,43,36,33,33,27,41,30,32,34,23,41,30,30,33,27,34,52,24,23,36,32,22,28,26,25,24,37,36,33,28,30,31,42,37,42,27,33,39,27,40,21,29,41,26,25,35,47,39,23,38,30,46,42,51,38,44,36,45,49,33,36,29,43,19,27,35,34,25,33,46,22,25,33,25,30,20,33,30,53,22,22,32,25,22,33,31,32,49,39,38,26,22,34,37,37,57,23,31,34,53,34,35,21,44,47,19,41,26,25,38,25,26,37,41,34,38,27,31,48,37,47,28,24,34,27,50,43,40,45,33,31,29,34,34,44,34,32,32,42,29,35,27,25,35,37,31,28,23,30,27,50,33,35,20,30,22,29,21,45,32,44,43,29,29,43,39,42,20,26,35,46,49,49,33,35,34,23,21,22,39,24,35,42,21,38,26,34,46,46,24,31,38,34,26,40,35,26,39,32,34,43,43,23,21,51,50,32,19,35],\"xaxis\":\"x\",\"y\":[10.0,4.0,15.0,15.0,0.75,1.5,0.75,15.0,15.0,1.5,15.0,4.0,15.0,1.5,4.0,15.0,15.0,0.75,1.5,10.0,1.5,1.5,10.0,10.0,4.0,1.5,7.0,15.0,4.0,4.0,15.0,1.5,0.417,15.0,4.0,1.5,15.0,4.0,1.5,0.75,10.0,15.0,0.417,4.0,7.0,4.0,7.0,15.0,1.5,15.0,0.75,7.0,4.0,10.0,4.0,15.0,1.5,15.0,0.75,10.0,15.0,10.0,0.75,4.0,7.0,15.0,10.0,15.0,1.5,1.5,4.0,10.0,0.125,15.0,15.0,7.0,1.5,4.0,1.5,15.0,15.0,0.75,4.0,1.5,0.417,15.0,1.5,1.5,15.0,15.0,10.0,10.0,15.0,0.417,15.0,15.0,10.0,15.0,15.0,10.0,10.0,0.125,15.0,15.0,4.0,7.0,15.0,15.0,1.5,7.0,15.0,1.5,10.0,7.0,15.0,15.0,10.0,0.75,7.0,7.0,15.0,15.0,7.0,1.5,15.0,0.125,1.5,1.5,1.5,10.0,15.0,1.5,4.0,10.0,15.0,0.75,15.0,4.0,4.0,10.0,15.0,7.0,15.0,4.0,4.0,4.0,15.0,15.0,7.0,7.0,0.75,4.0,15.0,0.75,15.0,15.0,15.0,7.0,4.0,4.0,4.0,15.0,15.0,10.0,1.5,15.0,1.5,15.0,15.0,15.0,0.125,10.0,15.0,1.5,0.125,4.0,10.0,7.0,15.0,15.0,1.5,4.0,7.0,0.417,7.0,0.75,4.0,10.0,15.0,0.75,7.0,0.417,15.0,15.0,4.0,15.0,1.5,15.0,1.5,4.0,4.0,1.5,0.75,7.0,0.75,15.0,1.5,10.0,15.0,15.0,4.0,7.0,0.75,4.0,1.5,1.5,4.0,4.0,15.0,10.0,15.0,15.0,1.5,10.0,7.0,10.0,1.5,15.0,4.0,15.0,7.0,15.0,4.0,0.75,4.0,0.75,15.0,10.0,15.0,7.0,15.0,15.0,4.0,15.0,0.75,1.5,15.0,15.0,15.0,15.0,15.0,7.0,7.0,1.5,4.0,1.5,15.0,15.0,7.0,4.0,15.0,7.0,1.5,1.5,15.0,15.0,10.0,15.0,4.0,15.0,1.5,0.125,10.0,4.0,7.0,4.0,15.0,15.0,1.5,15.0,15.0,7.0,15.0,7.0,1.5,1.5,4.0,7.0,15.0,7.0,1.5,15.0,1.5,10.0,4.0,0.417,4.0,15.0,10.0,7.0,4.0,4.0,1.5,4.0,10.0,0.75,15.0,4.0,1.5,7.0,15.0,4.0,15.0,4.0,4.0,15.0,1.5,15.0,0.417,1.5,4.0,15.0,1.5,4.0,15.0,10.0,10.0,1.5,1.5,10.0,15.0,10.0,4.0,15.0,0.75,15.0,15.0,10.0,7.0,15.0,1.5,0.75,4.0,0.125,1.5,7.0,15.0,1.5,1.5,1.5,0.125,4.0,4.0,15.0,15.0,7.0,0.75,0.125,10.0,0.417,15.0,10.0,15.0,4.0,7.0,10.0,10.0,4.0,7.0,15.0,7.0,1.5,1.5,1.5,7.0,15.0,0.75,1.5,4.0,15.0,10.0,15.0,7.0,1.5,10.0,0.75,1.5,15.0,7.0,15.0,15.0,15.0,7.0,4.0,1.5,0.75,15.0,1.5,4.0,4.0,15.0,1.5,15.0,7.0,15.0,15.0,7.0,7.0,4.0,7.0,7.0,10.0,1.5,4.0,15.0,15.0,7.0,4.0,4.0,15.0,1.5,7.0,4.0,0.125,7.0,15.0,10.0,15.0,1.5,4.0,15.0,7.0,7.0,15.0,15.0,7.0,7.0,15.0,4.0,7.0,1.5,4.0,4.0,1.5,15.0,10.0,15.0,4.0,1.5,4.0,15.0,10.0,0.125,1.5,15.0,1.5,15.0,15.0,15.0,15.0,15.0,10.0,15.0,4.0,10.0,4.0,15.0,15.0,4.0,7.0,1.5,7.0,15.0,10.0,1.5,4.0,7.0,10.0,4.0,10.0,7.0,15.0,10.0,10.0,15.0,15.0,15.0,15.0,4.0,7.0,4.0,15.0,15.0,4.0,7.0,0.417,15.0,15.0,4.0,4.0,15.0,4.0,10.0,7.0,7.0,1.5,4.0,15.0,15.0,4.0,4.0,7.0,15.0,15.0,10.0,15.0,15.0,7.0,7.0,4.0,7.0,15.0,15.0,7.0,7.0,1.5,15.0,10.0,4.0,4.0,15.0,10.0,10.0,7.0,7.0,10.0,15.0,7.0,7.0,4.0,1.5,15.0,15.0,15.0,10.0,15.0,15.0,15.0,15.0,15.0,15.0,10.0,15.0,15.0,10.0,15.0,1.5,15.0,15.0,4.0,10.0,4.0,7.0,4.0,15.0,4.0,15.0,4.0,4.0,1.5,15.0,7.0,15.0,15.0,4.0,15.0,15.0,1.5,4.0,15.0,15.0,15.0,15.0,15.0,7.0,15.0,15.0,7.0,10.0,15.0,1.5,10.0,10.0,7.0,15.0,2.0,5.0,0.0,8.0,2.0,4.0,12.0,13.0,3.0,9.0,13.0,2.0,19.0,6.0,9.0,5.0,4.0,12.0,13.0,6.0,16.0,10.0,8.0,3.0,15.0,13.0,11.0,7.0,6.0,0.0,7.0,1.0,12.0,12.0,2.0,10.0,18.0,11.0,9.0,9.0,1.0,5.0,1.0,10.0,5.0,5.0,3.0,11.0,12.0,13.0,5.0,11.0,13.0,17.0,8.0,15.0,12.0,11.0,7.0,9.0,14.0,5.0,12.0,7.0,11.0,15.0,13.0,0.0,7.0,5.0,0.0,1.0,4.0,8.0,4.0,10.0,9.0,4.0,18.0,12.0,14.0,7.0,5.0,2.0,10.0,8.0,8.0,1.0,7.0,1.0,13.0,7.0,3.0,4.0,15.0,6.0,6.0,10.0,11.0,11.0,6.0,12.0,10.0,0.0,15.0,7.0,3.0,2.0,9.0,1.0,6.0,8.0,0.0,10.0,12.0,2.0,18.0,10.0,8.0,12.0,6.0,14.0,9.0,3.0,2.0,18.0,9.0,5.0,9.0,1.0,0.0,9.0,5.0,1.0,20.0,16.0,1.0,11.0,10.0,9.0,7.0,0.0,4.0,4.0,7.0,6.0,18.0,15.0,16.0,14.0,3.0,13.0,3.0,4.0,6.0,0.0,3.0,16.0,13.0,13.0,1.0,5.0,11.0,13.0,6.0,9.0,5.0,9.0,8.0,0.0,11.0,4.0,2.0,6.0,8.0,1.0,10.0,5.0,11.0,4.0,13.0,1.0,17.0,15.0,5.0,1.0,9.0,5.0,3.0,2.0,1.0,1.0,8.0,2.0,2.0,14.0,11.0,1.0,15.0,3.0,11.0,4.0,15.0,6.0,7.0,6.0,15.0,18.0,10.0,7.0,13.0,16.0,9.0,2.0,10.0,8.0,1.0,12.0,20.0,18.0,3.0,5.0,9.0,6.0,6.0,14.0,2.0,16.0,10.0,4.0,11.0,10.0,8.0,9.0,8.0,4.0,4.0,11.0,18.0,8.0,10.0,11.0,11.0,10.0,8.0,16.0,1.0,11.0,11.0,9.0,12.0,0.0,12.0,7.0,6.0,14.0,7.0,4.0,9.0,10.0,4.0,16.0,6.0,8.0,13.0,8.0,11.0,8.0,7.0,9.0,17.0,7.0,1.0,4.0,16.0,9.0,11.0,1.0,8.0,1.0,18.0,12.0,7.0,0.0,16.0,4.0,13.0,13.0,6.0,11.0,5.0,10.0,2.0,0.0,1.0,9.0,12.0,5.0,7.0,7.0,5.0,3.0,3.0,4.0,17.0,12.0,7.0,6.0,8.0,6.0,10.0,13.0,3.0,10.0,3.0,8.0,10.0,13.0,13.0,2.0,1.0,7.0,4.0,10.0,11.0,12.0,11.0,9.0,2.0,5.0,14.0,7.0,0.0,11.0,9.0,10.0,5.0,9.0,12.0,10.0,11.0,4.0,11.0,8.0,6.0,10.0,5.0,7.0,1.0,4.0,0.0,11.0,8.0,18.0,7.0,3.0,14.0,5.0,0.0,2.0,3.0,17.0,10.0,2.0,11.0,11.0],\"yaxis\":\"y\",\"type\":\"scatter\"}],                        {\"template\":{\"data\":{\"histogram2dcontour\":[{\"type\":\"histogram2dcontour\",\"colorbar\":{\"outlinewidth\":0,\"ticks\":\"\"},\"colorscale\":[[0.0,\"#0d0887\"],[0.1111111111111111,\"#46039f\"],[0.2222222222222222,\"#7201a8\"],[0.3333333333333333,\"#9c179e\"],[0.4444444444444444,\"#bd3786\"],[0.5555555555555556,\"#d8576b\"],[0.6666666666666666,\"#ed7953\"],[0.7777777777777778,\"#fb9f3a\"],[0.8888888888888888,\"#fdca26\"],[1.0,\"#f0f921\"]]}],\"choropleth\":[{\"type\":\"choropleth\",\"colorbar\":{\"outlinewidth\":0,\"ticks\":\"\"}}],\"histogram2d\":[{\"type\":\"histogram2d\",\"colorbar\":{\"outlinewidth\":0,\"ticks\":\"\"},\"colorscale\":[[0.0,\"#0d0887\"],[0.1111111111111111,\"#46039f\"],[0.2222222222222222,\"#7201a8\"],[0.3333333333333333,\"#9c179e\"],[0.4444444444444444,\"#bd3786\"],[0.5555555555555556,\"#d8576b\"],[0.6666666666666666,\"#ed7953\"],[0.7777777777777778,\"#fb9f3a\"],[0.8888888888888888,\"#fdca26\"],[1.0,\"#f0f921\"]]}],\"heatmap\":[{\"type\":\"heatmap\",\"colorbar\":{\"outlinewidth\":0,\"ticks\":\"\"},\"colorscale\":[[0.0,\"#0d0887\"],[0.1111111111111111,\"#46039f\"],[0.2222222222222222,\"#7201a8\"],[0.3333333333333333,\"#9c179e\"],[0.4444444444444444,\"#bd3786\"],[0.5555555555555556,\"#d8576b\"],[0.6666666666666666,\"#ed7953\"],[0.7777777777777778,\"#fb9f3a\"],[0.8888888888888888,\"#fdca26\"],[1.0,\"#f0f921\"]]}],\"heatmapgl\":[{\"type\":\"heatmapgl\",\"colorbar\":{\"outlinewidth\":0,\"ticks\":\"\"},\"colorscale\":[[0.0,\"#0d0887\"],[0.1111111111111111,\"#46039f\"],[0.2222222222222222,\"#7201a8\"],[0.3333333333333333,\"#9c179e\"],[0.4444444444444444,\"#bd3786\"],[0.5555555555555556,\"#d8576b\"],[0.6666666666666666,\"#ed7953\"],[0.7777777777777778,\"#fb9f3a\"],[0.8888888888888888,\"#fdca26\"],[1.0,\"#f0f921\"]]}],\"contourcarpet\":[{\"type\":\"contourcarpet\",\"colorbar\":{\"outlinewidth\":0,\"ticks\":\"\"}}],\"contour\":[{\"type\":\"contour\",\"colorbar\":{\"outlinewidth\":0,\"ticks\":\"\"},\"colorscale\":[[0.0,\"#0d0887\"],[0.1111111111111111,\"#46039f\"],[0.2222222222222222,\"#7201a8\"],[0.3333333333333333,\"#9c179e\"],[0.4444444444444444,\"#bd3786\"],[0.5555555555555556,\"#d8576b\"],[0.6666666666666666,\"#ed7953\"],[0.7777777777777778,\"#fb9f3a\"],[0.8888888888888888,\"#fdca26\"],[1.0,\"#f0f921\"]]}],\"surface\":[{\"type\":\"surface\",\"colorbar\":{\"outlinewidth\":0,\"ticks\":\"\"},\"colorscale\":[[0.0,\"#0d0887\"],[0.1111111111111111,\"#46039f\"],[0.2222222222222222,\"#7201a8\"],[0.3333333333333333,\"#9c179e\"],[0.4444444444444444,\"#bd3786\"],[0.5555555555555556,\"#d8576b\"],[0.6666666666666666,\"#ed7953\"],[0.7777777777777778,\"#fb9f3a\"],[0.8888888888888888,\"#fdca26\"],[1.0,\"#f0f921\"]]}],\"mesh3d\":[{\"type\":\"mesh3d\",\"colorbar\":{\"outlinewidth\":0,\"ticks\":\"\"}}],\"scatter\":[{\"fillpattern\":{\"fillmode\":\"overlay\",\"size\":10,\"solidity\":0.2},\"type\":\"scatter\"}],\"parcoords\":[{\"type\":\"parcoords\",\"line\":{\"colorbar\":{\"outlinewidth\":0,\"ticks\":\"\"}}}],\"scatterpolargl\":[{\"type\":\"scatterpolargl\",\"marker\":{\"colorbar\":{\"outlinewidth\":0,\"ticks\":\"\"}}}],\"bar\":[{\"error_x\":{\"color\":\"#2a3f5f\"},\"error_y\":{\"color\":\"#2a3f5f\"},\"marker\":{\"line\":{\"color\":\"#E5ECF6\",\"width\":0.5},\"pattern\":{\"fillmode\":\"overlay\",\"size\":10,\"solidity\":0.2}},\"type\":\"bar\"}],\"scattergeo\":[{\"type\":\"scattergeo\",\"marker\":{\"colorbar\":{\"outlinewidth\":0,\"ticks\":\"\"}}}],\"scatterpolar\":[{\"type\":\"scatterpolar\",\"marker\":{\"colorbar\":{\"outlinewidth\":0,\"ticks\":\"\"}}}],\"histogram\":[{\"marker\":{\"pattern\":{\"fillmode\":\"overlay\",\"size\":10,\"solidity\":0.2}},\"type\":\"histogram\"}],\"scattergl\":[{\"type\":\"scattergl\",\"marker\":{\"colorbar\":{\"outlinewidth\":0,\"ticks\":\"\"}}}],\"scatter3d\":[{\"type\":\"scatter3d\",\"line\":{\"colorbar\":{\"outlinewidth\":0,\"ticks\":\"\"}},\"marker\":{\"colorbar\":{\"outlinewidth\":0,\"ticks\":\"\"}}}],\"scattermapbox\":[{\"type\":\"scattermapbox\",\"marker\":{\"colorbar\":{\"outlinewidth\":0,\"ticks\":\"\"}}}],\"scatterternary\":[{\"type\":\"scatterternary\",\"marker\":{\"colorbar\":{\"outlinewidth\":0,\"ticks\":\"\"}}}],\"scattercarpet\":[{\"type\":\"scattercarpet\",\"marker\":{\"colorbar\":{\"outlinewidth\":0,\"ticks\":\"\"}}}],\"carpet\":[{\"aaxis\":{\"endlinecolor\":\"#2a3f5f\",\"gridcolor\":\"white\",\"linecolor\":\"white\",\"minorgridcolor\":\"white\",\"startlinecolor\":\"#2a3f5f\"},\"baxis\":{\"endlinecolor\":\"#2a3f5f\",\"gridcolor\":\"white\",\"linecolor\":\"white\",\"minorgridcolor\":\"white\",\"startlinecolor\":\"#2a3f5f\"},\"type\":\"carpet\"}],\"table\":[{\"cells\":{\"fill\":{\"color\":\"#EBF0F8\"},\"line\":{\"color\":\"white\"}},\"header\":{\"fill\":{\"color\":\"#C8D4E3\"},\"line\":{\"color\":\"white\"}},\"type\":\"table\"}],\"barpolar\":[{\"marker\":{\"line\":{\"color\":\"#E5ECF6\",\"width\":0.5},\"pattern\":{\"fillmode\":\"overlay\",\"size\":10,\"solidity\":0.2}},\"type\":\"barpolar\"}],\"pie\":[{\"automargin\":true,\"type\":\"pie\"}]},\"layout\":{\"autotypenumbers\":\"strict\",\"colorway\":[\"#636efa\",\"#EF553B\",\"#00cc96\",\"#ab63fa\",\"#FFA15A\",\"#19d3f3\",\"#FF6692\",\"#B6E880\",\"#FF97FF\",\"#FECB52\"],\"font\":{\"color\":\"#2a3f5f\"},\"hovermode\":\"closest\",\"hoverlabel\":{\"align\":\"left\"},\"paper_bgcolor\":\"white\",\"plot_bgcolor\":\"#E5ECF6\",\"polar\":{\"bgcolor\":\"#E5ECF6\",\"angularaxis\":{\"gridcolor\":\"white\",\"linecolor\":\"white\",\"ticks\":\"\"},\"radialaxis\":{\"gridcolor\":\"white\",\"linecolor\":\"white\",\"ticks\":\"\"}},\"ternary\":{\"bgcolor\":\"#E5ECF6\",\"aaxis\":{\"gridcolor\":\"white\",\"linecolor\":\"white\",\"ticks\":\"\"},\"baxis\":{\"gridcolor\":\"white\",\"linecolor\":\"white\",\"ticks\":\"\"},\"caxis\":{\"gridcolor\":\"white\",\"linecolor\":\"white\",\"ticks\":\"\"}},\"coloraxis\":{\"colorbar\":{\"outlinewidth\":0,\"ticks\":\"\"}},\"colorscale\":{\"sequential\":[[0.0,\"#0d0887\"],[0.1111111111111111,\"#46039f\"],[0.2222222222222222,\"#7201a8\"],[0.3333333333333333,\"#9c179e\"],[0.4444444444444444,\"#bd3786\"],[0.5555555555555556,\"#d8576b\"],[0.6666666666666666,\"#ed7953\"],[0.7777777777777778,\"#fb9f3a\"],[0.8888888888888888,\"#fdca26\"],[1.0,\"#f0f921\"]],\"sequentialminus\":[[0.0,\"#0d0887\"],[0.1111111111111111,\"#46039f\"],[0.2222222222222222,\"#7201a8\"],[0.3333333333333333,\"#9c179e\"],[0.4444444444444444,\"#bd3786\"],[0.5555555555555556,\"#d8576b\"],[0.6666666666666666,\"#ed7953\"],[0.7777777777777778,\"#fb9f3a\"],[0.8888888888888888,\"#fdca26\"],[1.0,\"#f0f921\"]],\"diverging\":[[0,\"#8e0152\"],[0.1,\"#c51b7d\"],[0.2,\"#de77ae\"],[0.3,\"#f1b6da\"],[0.4,\"#fde0ef\"],[0.5,\"#f7f7f7\"],[0.6,\"#e6f5d0\"],[0.7,\"#b8e186\"],[0.8,\"#7fbc41\"],[0.9,\"#4d9221\"],[1,\"#276419\"]]},\"xaxis\":{\"gridcolor\":\"white\",\"linecolor\":\"white\",\"ticks\":\"\",\"title\":{\"standoff\":15},\"zerolinecolor\":\"white\",\"automargin\":true,\"zerolinewidth\":2},\"yaxis\":{\"gridcolor\":\"white\",\"linecolor\":\"white\",\"ticks\":\"\",\"title\":{\"standoff\":15},\"zerolinecolor\":\"white\",\"automargin\":true,\"zerolinewidth\":2},\"scene\":{\"xaxis\":{\"backgroundcolor\":\"#E5ECF6\",\"gridcolor\":\"white\",\"linecolor\":\"white\",\"showbackground\":true,\"ticks\":\"\",\"zerolinecolor\":\"white\",\"gridwidth\":2},\"yaxis\":{\"backgroundcolor\":\"#E5ECF6\",\"gridcolor\":\"white\",\"linecolor\":\"white\",\"showbackground\":true,\"ticks\":\"\",\"zerolinecolor\":\"white\",\"gridwidth\":2},\"zaxis\":{\"backgroundcolor\":\"#E5ECF6\",\"gridcolor\":\"white\",\"linecolor\":\"white\",\"showbackground\":true,\"ticks\":\"\",\"zerolinecolor\":\"white\",\"gridwidth\":2}},\"shapedefaults\":{\"line\":{\"color\":\"#2a3f5f\"}},\"annotationdefaults\":{\"arrowcolor\":\"#2a3f5f\",\"arrowhead\":0,\"arrowwidth\":1},\"geo\":{\"bgcolor\":\"white\",\"landcolor\":\"#E5ECF6\",\"subunitcolor\":\"white\",\"showland\":true,\"showlakes\":true,\"lakecolor\":\"white\"},\"title\":{\"x\":0.05},\"mapbox\":{\"style\":\"light\"}}},\"xaxis\":{\"anchor\":\"y\",\"domain\":[0.0,1.0],\"title\":{\"text\":\"age\"}},\"yaxis\":{\"anchor\":\"x\",\"domain\":[0.0,1.0],\"title\":{\"text\":\"yearsmarried\"}},\"legend\":{\"tracegroupgap\":0},\"title\":{\"text\":\"Age vs Years Married\"}},                        {\"responsive\": true}                    ).then(function(){\n",
       "                            \n",
       "var gd = document.getElementById('23c26aff-49dc-4452-9966-7b8989d31497');\n",
       "var x = new MutationObserver(function (mutations, observer) {{\n",
       "        var display = window.getComputedStyle(gd).display;\n",
       "        if (!display || display === 'none') {{\n",
       "            console.log([gd, 'removed!']);\n",
       "            Plotly.purge(gd);\n",
       "            observer.disconnect();\n",
       "        }}\n",
       "}});\n",
       "\n",
       "// Listen for the removal of the full notebook cells\n",
       "var notebookContainer = gd.closest('#notebook-container');\n",
       "if (notebookContainer) {{\n",
       "    x.observe(notebookContainer, {childList: true});\n",
       "}}\n",
       "\n",
       "// Listen for the clearing of the current output cell\n",
       "var outputEl = gd.closest('.output');\n",
       "if (outputEl) {{\n",
       "    x.observe(outputEl, {childList: true});\n",
       "}}\n",
       "\n",
       "                        })                };                });            </script>        </div>"
      ]
     },
     "metadata": {},
     "output_type": "display_data"
    }
   ],
   "source": [
    "correlation = df['age'].corr(df['yearsmarried'])\n",
    "print(correlation)\n",
    "\n",
    "fig = px.scatter(df, x=\"age\", y=\"yearsmarried\", title=\"Age vs Years Married\") \n",
    "fig.show()"
   ]
  },
  {
   "cell_type": "code",
   "execution_count": 10,
   "id": "abdcc0bd-5fbd-4225-b3ce-04ac018f9fc6",
   "metadata": {
    "tags": []
   },
   "outputs": [
    {
     "data": {
      "text/plain": [
       "gender  age\n",
       "female  27     91\n",
       "        22     86\n",
       "        32     72\n",
       "        37     36\n",
       "        42     33\n",
       "               ..\n",
       "male    51      3\n",
       "        44      2\n",
       "        49      2\n",
       "        19      1\n",
       "        50      1\n",
       "Name: age, Length: 70, dtype: int64"
      ]
     },
     "execution_count": 10,
     "metadata": {},
     "output_type": "execute_result"
    }
   ],
   "source": [
    "# Bar Charts\n",
    "f = df.groupby('gender')['age'].value_counts()\n",
    "f"
   ]
  },
  {
   "cell_type": "code",
   "execution_count": 11,
   "id": "c1215825-c43c-48b9-b0ea-a7d6abf7789f",
   "metadata": {
    "tags": []
   },
   "outputs": [
    {
     "data": {
      "application/vnd.plotly.v1+json": {
       "config": {
        "plotlyServerURL": "https://plot.ly"
       },
       "data": [
        {
         "name": "Female",
         "type": "bar",
         "x": [
          27,
          22,
          32,
          37,
          42,
          35,
          34,
          47,
          38,
          23,
          25,
          33,
          52,
          26,
          28,
          31,
          30,
          29,
          39,
          43,
          40,
          41,
          57,
          19,
          44,
          36,
          24,
          51,
          45,
          21,
          46,
          53,
          49,
          50,
          48,
          20
         ],
         "xaxis": "x",
         "y": [
          91,
          86,
          72,
          36,
          33,
          14,
          14,
          13,
          11,
          10,
          10,
          10,
          9,
          9,
          8,
          8,
          8,
          7,
          7,
          6,
          6,
          6,
          5,
          5,
          5,
          5,
          4,
          3,
          3,
          3,
          2,
          2,
          2,
          2,
          1,
          1
         ],
         "yaxis": "y"
        },
        {
         "name": "Male",
         "type": "bar",
         "x": [
          27,
          37,
          32,
          22,
          42,
          57,
          47,
          52,
          33,
          26,
          29,
          39,
          23,
          34,
          30,
          24,
          31,
          38,
          36,
          40,
          21,
          20,
          35,
          46,
          43,
          28,
          51,
          25,
          45,
          41,
          44,
          49,
          19,
          50
         ],
         "xaxis": "x2",
         "y": [
          74,
          62,
          60,
          41,
          32,
          18,
          14,
          13,
          10,
          9,
          9,
          8,
          7,
          7,
          6,
          6,
          6,
          6,
          6,
          5,
          5,
          5,
          5,
          4,
          4,
          4,
          3,
          3,
          3,
          3,
          2,
          2,
          1,
          1
         ],
         "yaxis": "y2"
        }
       ],
       "layout": {
        "autosize": true,
        "template": {
         "data": {
          "bar": [
           {
            "error_x": {
             "color": "#2a3f5f"
            },
            "error_y": {
             "color": "#2a3f5f"
            },
            "marker": {
             "line": {
              "color": "#E5ECF6",
              "width": 0.5
             },
             "pattern": {
              "fillmode": "overlay",
              "size": 10,
              "solidity": 0.2
             }
            },
            "type": "bar"
           }
          ],
          "barpolar": [
           {
            "marker": {
             "line": {
              "color": "#E5ECF6",
              "width": 0.5
             },
             "pattern": {
              "fillmode": "overlay",
              "size": 10,
              "solidity": 0.2
             }
            },
            "type": "barpolar"
           }
          ],
          "carpet": [
           {
            "aaxis": {
             "endlinecolor": "#2a3f5f",
             "gridcolor": "white",
             "linecolor": "white",
             "minorgridcolor": "white",
             "startlinecolor": "#2a3f5f"
            },
            "baxis": {
             "endlinecolor": "#2a3f5f",
             "gridcolor": "white",
             "linecolor": "white",
             "minorgridcolor": "white",
             "startlinecolor": "#2a3f5f"
            },
            "type": "carpet"
           }
          ],
          "choropleth": [
           {
            "colorbar": {
             "outlinewidth": 0,
             "ticks": ""
            },
            "type": "choropleth"
           }
          ],
          "contour": [
           {
            "colorbar": {
             "outlinewidth": 0,
             "ticks": ""
            },
            "colorscale": [
             [
              0,
              "#0d0887"
             ],
             [
              0.1111111111111111,
              "#46039f"
             ],
             [
              0.2222222222222222,
              "#7201a8"
             ],
             [
              0.3333333333333333,
              "#9c179e"
             ],
             [
              0.4444444444444444,
              "#bd3786"
             ],
             [
              0.5555555555555556,
              "#d8576b"
             ],
             [
              0.6666666666666666,
              "#ed7953"
             ],
             [
              0.7777777777777778,
              "#fb9f3a"
             ],
             [
              0.8888888888888888,
              "#fdca26"
             ],
             [
              1,
              "#f0f921"
             ]
            ],
            "type": "contour"
           }
          ],
          "contourcarpet": [
           {
            "colorbar": {
             "outlinewidth": 0,
             "ticks": ""
            },
            "type": "contourcarpet"
           }
          ],
          "heatmap": [
           {
            "colorbar": {
             "outlinewidth": 0,
             "ticks": ""
            },
            "colorscale": [
             [
              0,
              "#0d0887"
             ],
             [
              0.1111111111111111,
              "#46039f"
             ],
             [
              0.2222222222222222,
              "#7201a8"
             ],
             [
              0.3333333333333333,
              "#9c179e"
             ],
             [
              0.4444444444444444,
              "#bd3786"
             ],
             [
              0.5555555555555556,
              "#d8576b"
             ],
             [
              0.6666666666666666,
              "#ed7953"
             ],
             [
              0.7777777777777778,
              "#fb9f3a"
             ],
             [
              0.8888888888888888,
              "#fdca26"
             ],
             [
              1,
              "#f0f921"
             ]
            ],
            "type": "heatmap"
           }
          ],
          "heatmapgl": [
           {
            "colorbar": {
             "outlinewidth": 0,
             "ticks": ""
            },
            "colorscale": [
             [
              0,
              "#0d0887"
             ],
             [
              0.1111111111111111,
              "#46039f"
             ],
             [
              0.2222222222222222,
              "#7201a8"
             ],
             [
              0.3333333333333333,
              "#9c179e"
             ],
             [
              0.4444444444444444,
              "#bd3786"
             ],
             [
              0.5555555555555556,
              "#d8576b"
             ],
             [
              0.6666666666666666,
              "#ed7953"
             ],
             [
              0.7777777777777778,
              "#fb9f3a"
             ],
             [
              0.8888888888888888,
              "#fdca26"
             ],
             [
              1,
              "#f0f921"
             ]
            ],
            "type": "heatmapgl"
           }
          ],
          "histogram": [
           {
            "marker": {
             "pattern": {
              "fillmode": "overlay",
              "size": 10,
              "solidity": 0.2
             }
            },
            "type": "histogram"
           }
          ],
          "histogram2d": [
           {
            "colorbar": {
             "outlinewidth": 0,
             "ticks": ""
            },
            "colorscale": [
             [
              0,
              "#0d0887"
             ],
             [
              0.1111111111111111,
              "#46039f"
             ],
             [
              0.2222222222222222,
              "#7201a8"
             ],
             [
              0.3333333333333333,
              "#9c179e"
             ],
             [
              0.4444444444444444,
              "#bd3786"
             ],
             [
              0.5555555555555556,
              "#d8576b"
             ],
             [
              0.6666666666666666,
              "#ed7953"
             ],
             [
              0.7777777777777778,
              "#fb9f3a"
             ],
             [
              0.8888888888888888,
              "#fdca26"
             ],
             [
              1,
              "#f0f921"
             ]
            ],
            "type": "histogram2d"
           }
          ],
          "histogram2dcontour": [
           {
            "colorbar": {
             "outlinewidth": 0,
             "ticks": ""
            },
            "colorscale": [
             [
              0,
              "#0d0887"
             ],
             [
              0.1111111111111111,
              "#46039f"
             ],
             [
              0.2222222222222222,
              "#7201a8"
             ],
             [
              0.3333333333333333,
              "#9c179e"
             ],
             [
              0.4444444444444444,
              "#bd3786"
             ],
             [
              0.5555555555555556,
              "#d8576b"
             ],
             [
              0.6666666666666666,
              "#ed7953"
             ],
             [
              0.7777777777777778,
              "#fb9f3a"
             ],
             [
              0.8888888888888888,
              "#fdca26"
             ],
             [
              1,
              "#f0f921"
             ]
            ],
            "type": "histogram2dcontour"
           }
          ],
          "mesh3d": [
           {
            "colorbar": {
             "outlinewidth": 0,
             "ticks": ""
            },
            "type": "mesh3d"
           }
          ],
          "parcoords": [
           {
            "line": {
             "colorbar": {
              "outlinewidth": 0,
              "ticks": ""
             }
            },
            "type": "parcoords"
           }
          ],
          "pie": [
           {
            "automargin": true,
            "type": "pie"
           }
          ],
          "scatter": [
           {
            "fillpattern": {
             "fillmode": "overlay",
             "size": 10,
             "solidity": 0.2
            },
            "type": "scatter"
           }
          ],
          "scatter3d": [
           {
            "line": {
             "colorbar": {
              "outlinewidth": 0,
              "ticks": ""
             }
            },
            "marker": {
             "colorbar": {
              "outlinewidth": 0,
              "ticks": ""
             }
            },
            "type": "scatter3d"
           }
          ],
          "scattercarpet": [
           {
            "marker": {
             "colorbar": {
              "outlinewidth": 0,
              "ticks": ""
             }
            },
            "type": "scattercarpet"
           }
          ],
          "scattergeo": [
           {
            "marker": {
             "colorbar": {
              "outlinewidth": 0,
              "ticks": ""
             }
            },
            "type": "scattergeo"
           }
          ],
          "scattergl": [
           {
            "marker": {
             "colorbar": {
              "outlinewidth": 0,
              "ticks": ""
             }
            },
            "type": "scattergl"
           }
          ],
          "scattermapbox": [
           {
            "marker": {
             "colorbar": {
              "outlinewidth": 0,
              "ticks": ""
             }
            },
            "type": "scattermapbox"
           }
          ],
          "scatterpolar": [
           {
            "marker": {
             "colorbar": {
              "outlinewidth": 0,
              "ticks": ""
             }
            },
            "type": "scatterpolar"
           }
          ],
          "scatterpolargl": [
           {
            "marker": {
             "colorbar": {
              "outlinewidth": 0,
              "ticks": ""
             }
            },
            "type": "scatterpolargl"
           }
          ],
          "scatterternary": [
           {
            "marker": {
             "colorbar": {
              "outlinewidth": 0,
              "ticks": ""
             }
            },
            "type": "scatterternary"
           }
          ],
          "surface": [
           {
            "colorbar": {
             "outlinewidth": 0,
             "ticks": ""
            },
            "colorscale": [
             [
              0,
              "#0d0887"
             ],
             [
              0.1111111111111111,
              "#46039f"
             ],
             [
              0.2222222222222222,
              "#7201a8"
             ],
             [
              0.3333333333333333,
              "#9c179e"
             ],
             [
              0.4444444444444444,
              "#bd3786"
             ],
             [
              0.5555555555555556,
              "#d8576b"
             ],
             [
              0.6666666666666666,
              "#ed7953"
             ],
             [
              0.7777777777777778,
              "#fb9f3a"
             ],
             [
              0.8888888888888888,
              "#fdca26"
             ],
             [
              1,
              "#f0f921"
             ]
            ],
            "type": "surface"
           }
          ],
          "table": [
           {
            "cells": {
             "fill": {
              "color": "#EBF0F8"
             },
             "line": {
              "color": "white"
             }
            },
            "header": {
             "fill": {
              "color": "#C8D4E3"
             },
             "line": {
              "color": "white"
             }
            },
            "type": "table"
           }
          ]
         },
         "layout": {
          "annotationdefaults": {
           "arrowcolor": "#2a3f5f",
           "arrowhead": 0,
           "arrowwidth": 1
          },
          "autotypenumbers": "strict",
          "coloraxis": {
           "colorbar": {
            "outlinewidth": 0,
            "ticks": ""
           }
          },
          "colorscale": {
           "diverging": [
            [
             0,
             "#8e0152"
            ],
            [
             0.1,
             "#c51b7d"
            ],
            [
             0.2,
             "#de77ae"
            ],
            [
             0.3,
             "#f1b6da"
            ],
            [
             0.4,
             "#fde0ef"
            ],
            [
             0.5,
             "#f7f7f7"
            ],
            [
             0.6,
             "#e6f5d0"
            ],
            [
             0.7,
             "#b8e186"
            ],
            [
             0.8,
             "#7fbc41"
            ],
            [
             0.9,
             "#4d9221"
            ],
            [
             1,
             "#276419"
            ]
           ],
           "sequential": [
            [
             0,
             "#0d0887"
            ],
            [
             0.1111111111111111,
             "#46039f"
            ],
            [
             0.2222222222222222,
             "#7201a8"
            ],
            [
             0.3333333333333333,
             "#9c179e"
            ],
            [
             0.4444444444444444,
             "#bd3786"
            ],
            [
             0.5555555555555556,
             "#d8576b"
            ],
            [
             0.6666666666666666,
             "#ed7953"
            ],
            [
             0.7777777777777778,
             "#fb9f3a"
            ],
            [
             0.8888888888888888,
             "#fdca26"
            ],
            [
             1,
             "#f0f921"
            ]
           ],
           "sequentialminus": [
            [
             0,
             "#0d0887"
            ],
            [
             0.1111111111111111,
             "#46039f"
            ],
            [
             0.2222222222222222,
             "#7201a8"
            ],
            [
             0.3333333333333333,
             "#9c179e"
            ],
            [
             0.4444444444444444,
             "#bd3786"
            ],
            [
             0.5555555555555556,
             "#d8576b"
            ],
            [
             0.6666666666666666,
             "#ed7953"
            ],
            [
             0.7777777777777778,
             "#fb9f3a"
            ],
            [
             0.8888888888888888,
             "#fdca26"
            ],
            [
             1,
             "#f0f921"
            ]
           ]
          },
          "colorway": [
           "#636efa",
           "#EF553B",
           "#00cc96",
           "#ab63fa",
           "#FFA15A",
           "#19d3f3",
           "#FF6692",
           "#B6E880",
           "#FF97FF",
           "#FECB52"
          ],
          "font": {
           "color": "#2a3f5f"
          },
          "geo": {
           "bgcolor": "white",
           "lakecolor": "white",
           "landcolor": "#E5ECF6",
           "showlakes": true,
           "showland": true,
           "subunitcolor": "white"
          },
          "hoverlabel": {
           "align": "left"
          },
          "hovermode": "closest",
          "mapbox": {
           "style": "light"
          },
          "paper_bgcolor": "white",
          "plot_bgcolor": "#E5ECF6",
          "polar": {
           "angularaxis": {
            "gridcolor": "white",
            "linecolor": "white",
            "ticks": ""
           },
           "bgcolor": "#E5ECF6",
           "radialaxis": {
            "gridcolor": "white",
            "linecolor": "white",
            "ticks": ""
           }
          },
          "scene": {
           "xaxis": {
            "backgroundcolor": "#E5ECF6",
            "gridcolor": "white",
            "gridwidth": 2,
            "linecolor": "white",
            "showbackground": true,
            "ticks": "",
            "zerolinecolor": "white"
           },
           "yaxis": {
            "backgroundcolor": "#E5ECF6",
            "gridcolor": "white",
            "gridwidth": 2,
            "linecolor": "white",
            "showbackground": true,
            "ticks": "",
            "zerolinecolor": "white"
           },
           "zaxis": {
            "backgroundcolor": "#E5ECF6",
            "gridcolor": "white",
            "gridwidth": 2,
            "linecolor": "white",
            "showbackground": true,
            "ticks": "",
            "zerolinecolor": "white"
           }
          },
          "shapedefaults": {
           "line": {
            "color": "#2a3f5f"
           }
          },
          "ternary": {
           "aaxis": {
            "gridcolor": "white",
            "linecolor": "white",
            "ticks": ""
           },
           "baxis": {
            "gridcolor": "white",
            "linecolor": "white",
            "ticks": ""
           },
           "bgcolor": "#E5ECF6",
           "caxis": {
            "gridcolor": "white",
            "linecolor": "white",
            "ticks": ""
           }
          },
          "title": {
           "x": 0.05
          },
          "xaxis": {
           "automargin": true,
           "gridcolor": "white",
           "linecolor": "white",
           "ticks": "",
           "title": {
            "standoff": 15
           },
           "zerolinecolor": "white",
           "zerolinewidth": 2
          },
          "yaxis": {
           "automargin": true,
           "gridcolor": "white",
           "linecolor": "white",
           "ticks": "",
           "title": {
            "standoff": 15
           },
           "zerolinecolor": "white",
           "zerolinewidth": 2
          }
         }
        },
        "title": {
         "text": "Age by Gender"
        },
        "xaxis": {
         "anchor": "y",
         "domain": [
          0,
          0.45
         ],
         "range": [
          19,
          58
         ],
         "title": {
          "text": "Female Age"
         },
         "type": "linear"
        },
        "xaxis2": {
         "anchor": "y2",
         "domain": [
          0.55,
          1
         ],
         "range": [
          19,
          58
         ],
         "title": {
          "text": "Male Age"
         },
         "type": "linear"
        },
        "yaxis": {
         "anchor": "x",
         "autorange": true,
         "domain": [
          0,
          1
         ],
         "range": [
          0,
          95.78947368421052
         ],
         "type": "linear"
        },
        "yaxis2": {
         "anchor": "x2",
         "autorange": true,
         "domain": [
          0,
          1
         ],
         "range": [
          0,
          77.89473684210526
         ],
         "type": "linear"
        }
       }
      },
      "image/png": "[encoded data removed]",
      "text/html": [
       "<div>                            <div id=\"2bef5664-a7e9-4f99-bc6b-4da183224f28\" class=\"plotly-graph-div\" style=\"height:525px; width:100%;\"></div>            <script type=\"text/javascript\">                require([\"plotly\"], function(Plotly) {                    window.PLOTLYENV=window.PLOTLYENV || {};                                    if (document.getElementById(\"2bef5664-a7e9-4f99-bc6b-4da183224f28\")) {                    Plotly.newPlot(                        \"2bef5664-a7e9-4f99-bc6b-4da183224f28\",                        [{\"name\":\"Female\",\"x\":[27,22,32,37,42,35,34,47,38,23,25,33,52,26,28,31,30,29,39,43,40,41,57,19,44,36,24,51,45,21,46,53,49,50,48,20],\"y\":[91,86,72,36,33,14,14,13,11,10,10,10,9,9,8,8,8,7,7,6,6,6,5,5,5,5,4,3,3,3,2,2,2,2,1,1],\"type\":\"bar\",\"xaxis\":\"x\",\"yaxis\":\"y\"},{\"name\":\"Male\",\"x\":[27,37,32,22,42,57,47,52,33,26,29,39,23,34,30,24,31,38,36,40,21,20,35,46,43,28,51,25,45,41,44,49,19,50],\"y\":[74,62,60,41,32,18,14,13,10,9,9,8,7,7,6,6,6,6,6,5,5,5,5,4,4,4,3,3,3,3,2,2,1,1],\"type\":\"bar\",\"xaxis\":\"x2\",\"yaxis\":\"y2\"}],                        {\"template\":{\"data\":{\"histogram2dcontour\":[{\"type\":\"histogram2dcontour\",\"colorbar\":{\"outlinewidth\":0,\"ticks\":\"\"},\"colorscale\":[[0.0,\"#0d0887\"],[0.1111111111111111,\"#46039f\"],[0.2222222222222222,\"#7201a8\"],[0.3333333333333333,\"#9c179e\"],[0.4444444444444444,\"#bd3786\"],[0.5555555555555556,\"#d8576b\"],[0.6666666666666666,\"#ed7953\"],[0.7777777777777778,\"#fb9f3a\"],[0.8888888888888888,\"#fdca26\"],[1.0,\"#f0f921\"]]}],\"choropleth\":[{\"type\":\"choropleth\",\"colorbar\":{\"outlinewidth\":0,\"ticks\":\"\"}}],\"histogram2d\":[{\"type\":\"histogram2d\",\"colorbar\":{\"outlinewidth\":0,\"ticks\":\"\"},\"colorscale\":[[0.0,\"#0d0887\"],[0.1111111111111111,\"#46039f\"],[0.2222222222222222,\"#7201a8\"],[0.3333333333333333,\"#9c179e\"],[0.4444444444444444,\"#bd3786\"],[0.5555555555555556,\"#d8576b\"],[0.6666666666666666,\"#ed7953\"],[0.7777777777777778,\"#fb9f3a\"],[0.8888888888888888,\"#fdca26\"],[1.0,\"#f0f921\"]]}],\"heatmap\":[{\"type\":\"heatmap\",\"colorbar\":{\"outlinewidth\":0,\"ticks\":\"\"},\"colorscale\":[[0.0,\"#0d0887\"],[0.1111111111111111,\"#46039f\"],[0.2222222222222222,\"#7201a8\"],[0.3333333333333333,\"#9c179e\"],[0.4444444444444444,\"#bd3786\"],[0.5555555555555556,\"#d8576b\"],[0.6666666666666666,\"#ed7953\"],[0.7777777777777778,\"#fb9f3a\"],[0.8888888888888888,\"#fdca26\"],[1.0,\"#f0f921\"]]}],\"heatmapgl\":[{\"type\":\"heatmapgl\",\"colorbar\":{\"outlinewidth\":0,\"ticks\":\"\"},\"colorscale\":[[0.0,\"#0d0887\"],[0.1111111111111111,\"#46039f\"],[0.2222222222222222,\"#7201a8\"],[0.3333333333333333,\"#9c179e\"],[0.4444444444444444,\"#bd3786\"],[0.5555555555555556,\"#d8576b\"],[0.6666666666666666,\"#ed7953\"],[0.7777777777777778,\"#fb9f3a\"],[0.8888888888888888,\"#fdca26\"],[1.0,\"#f0f921\"]]}],\"contourcarpet\":[{\"type\":\"contourcarpet\",\"colorbar\":{\"outlinewidth\":0,\"ticks\":\"\"}}],\"contour\":[{\"type\":\"contour\",\"colorbar\":{\"outlinewidth\":0,\"ticks\":\"\"},\"colorscale\":[[0.0,\"#0d0887\"],[0.1111111111111111,\"#46039f\"],[0.2222222222222222,\"#7201a8\"],[0.3333333333333333,\"#9c179e\"],[0.4444444444444444,\"#bd3786\"],[0.5555555555555556,\"#d8576b\"],[0.6666666666666666,\"#ed7953\"],[0.7777777777777778,\"#fb9f3a\"],[0.8888888888888888,\"#fdca26\"],[1.0,\"#f0f921\"]]}],\"surface\":[{\"type\":\"surface\",\"colorbar\":{\"outlinewidth\":0,\"ticks\":\"\"},\"colorscale\":[[0.0,\"#0d0887\"],[0.1111111111111111,\"#46039f\"],[0.2222222222222222,\"#7201a8\"],[0.3333333333333333,\"#9c179e\"],[0.4444444444444444,\"#bd3786\"],[0.5555555555555556,\"#d8576b\"],[0.6666666666666666,\"#ed7953\"],[0.7777777777777778,\"#fb9f3a\"],[0.8888888888888888,\"#fdca26\"],[1.0,\"#f0f921\"]]}],\"mesh3d\":[{\"type\":\"mesh3d\",\"colorbar\":{\"outlinewidth\":0,\"ticks\":\"\"}}],\"scatter\":[{\"fillpattern\":{\"fillmode\":\"overlay\",\"size\":10,\"solidity\":0.2},\"type\":\"scatter\"}],\"parcoords\":[{\"type\":\"parcoords\",\"line\":{\"colorbar\":{\"outlinewidth\":0,\"ticks\":\"\"}}}],\"scatterpolargl\":[{\"type\":\"scatterpolargl\",\"marker\":{\"colorbar\":{\"outlinewidth\":0,\"ticks\":\"\"}}}],\"bar\":[{\"error_x\":{\"color\":\"#2a3f5f\"},\"error_y\":{\"color\":\"#2a3f5f\"},\"marker\":{\"line\":{\"color\":\"#E5ECF6\",\"width\":0.5},\"pattern\":{\"fillmode\":\"overlay\",\"size\":10,\"solidity\":0.2}},\"type\":\"bar\"}],\"scattergeo\":[{\"type\":\"scattergeo\",\"marker\":{\"colorbar\":{\"outlinewidth\":0,\"ticks\":\"\"}}}],\"scatterpolar\":[{\"type\":\"scatterpolar\",\"marker\":{\"colorbar\":{\"outlinewidth\":0,\"ticks\":\"\"}}}],\"histogram\":[{\"marker\":{\"pattern\":{\"fillmode\":\"overlay\",\"size\":10,\"solidity\":0.2}},\"type\":\"histogram\"}],\"scattergl\":[{\"type\":\"scattergl\",\"marker\":{\"colorbar\":{\"outlinewidth\":0,\"ticks\":\"\"}}}],\"scatter3d\":[{\"type\":\"scatter3d\",\"line\":{\"colorbar\":{\"outlinewidth\":0,\"ticks\":\"\"}},\"marker\":{\"colorbar\":{\"outlinewidth\":0,\"ticks\":\"\"}}}],\"scattermapbox\":[{\"type\":\"scattermapbox\",\"marker\":{\"colorbar\":{\"outlinewidth\":0,\"ticks\":\"\"}}}],\"scatterternary\":[{\"type\":\"scatterternary\",\"marker\":{\"colorbar\":{\"outlinewidth\":0,\"ticks\":\"\"}}}],\"scattercarpet\":[{\"type\":\"scattercarpet\",\"marker\":{\"colorbar\":{\"outlinewidth\":0,\"ticks\":\"\"}}}],\"carpet\":[{\"aaxis\":{\"endlinecolor\":\"#2a3f5f\",\"gridcolor\":\"white\",\"linecolor\":\"white\",\"minorgridcolor\":\"white\",\"startlinecolor\":\"#2a3f5f\"},\"baxis\":{\"endlinecolor\":\"#2a3f5f\",\"gridcolor\":\"white\",\"linecolor\":\"white\",\"minorgridcolor\":\"white\",\"startlinecolor\":\"#2a3f5f\"},\"type\":\"carpet\"}],\"table\":[{\"cells\":{\"fill\":{\"color\":\"#EBF0F8\"},\"line\":{\"color\":\"white\"}},\"header\":{\"fill\":{\"color\":\"#C8D4E3\"},\"line\":{\"color\":\"white\"}},\"type\":\"table\"}],\"barpolar\":[{\"marker\":{\"line\":{\"color\":\"#E5ECF6\",\"width\":0.5},\"pattern\":{\"fillmode\":\"overlay\",\"size\":10,\"solidity\":0.2}},\"type\":\"barpolar\"}],\"pie\":[{\"automargin\":true,\"type\":\"pie\"}]},\"layout\":{\"autotypenumbers\":\"strict\",\"colorway\":[\"#636efa\",\"#EF553B\",\"#00cc96\",\"#ab63fa\",\"#FFA15A\",\"#19d3f3\",\"#FF6692\",\"#B6E880\",\"#FF97FF\",\"#FECB52\"],\"font\":{\"color\":\"#2a3f5f\"},\"hovermode\":\"closest\",\"hoverlabel\":{\"align\":\"left\"},\"paper_bgcolor\":\"white\",\"plot_bgcolor\":\"#E5ECF6\",\"polar\":{\"bgcolor\":\"#E5ECF6\",\"angularaxis\":{\"gridcolor\":\"white\",\"linecolor\":\"white\",\"ticks\":\"\"},\"radialaxis\":{\"gridcolor\":\"white\",\"linecolor\":\"white\",\"ticks\":\"\"}},\"ternary\":{\"bgcolor\":\"#E5ECF6\",\"aaxis\":{\"gridcolor\":\"white\",\"linecolor\":\"white\",\"ticks\":\"\"},\"baxis\":{\"gridcolor\":\"white\",\"linecolor\":\"white\",\"ticks\":\"\"},\"caxis\":{\"gridcolor\":\"white\",\"linecolor\":\"white\",\"ticks\":\"\"}},\"coloraxis\":{\"colorbar\":{\"outlinewidth\":0,\"ticks\":\"\"}},\"colorscale\":{\"sequential\":[[0.0,\"#0d0887\"],[0.1111111111111111,\"#46039f\"],[0.2222222222222222,\"#7201a8\"],[0.3333333333333333,\"#9c179e\"],[0.4444444444444444,\"#bd3786\"],[0.5555555555555556,\"#d8576b\"],[0.6666666666666666,\"#ed7953\"],[0.7777777777777778,\"#fb9f3a\"],[0.8888888888888888,\"#fdca26\"],[1.0,\"#f0f921\"]],\"sequentialminus\":[[0.0,\"#0d0887\"],[0.1111111111111111,\"#46039f\"],[0.2222222222222222,\"#7201a8\"],[0.3333333333333333,\"#9c179e\"],[0.4444444444444444,\"#bd3786\"],[0.5555555555555556,\"#d8576b\"],[0.6666666666666666,\"#ed7953\"],[0.7777777777777778,\"#fb9f3a\"],[0.8888888888888888,\"#fdca26\"],[1.0,\"#f0f921\"]],\"diverging\":[[0,\"#8e0152\"],[0.1,\"#c51b7d\"],[0.2,\"#de77ae\"],[0.3,\"#f1b6da\"],[0.4,\"#fde0ef\"],[0.5,\"#f7f7f7\"],[0.6,\"#e6f5d0\"],[0.7,\"#b8e186\"],[0.8,\"#7fbc41\"],[0.9,\"#4d9221\"],[1,\"#276419\"]]},\"xaxis\":{\"gridcolor\":\"white\",\"linecolor\":\"white\",\"ticks\":\"\",\"title\":{\"standoff\":15},\"zerolinecolor\":\"white\",\"automargin\":true,\"zerolinewidth\":2},\"yaxis\":{\"gridcolor\":\"white\",\"linecolor\":\"white\",\"ticks\":\"\",\"title\":{\"standoff\":15},\"zerolinecolor\":\"white\",\"automargin\":true,\"zerolinewidth\":2},\"scene\":{\"xaxis\":{\"backgroundcolor\":\"#E5ECF6\",\"gridcolor\":\"white\",\"linecolor\":\"white\",\"showbackground\":true,\"ticks\":\"\",\"zerolinecolor\":\"white\",\"gridwidth\":2},\"yaxis\":{\"backgroundcolor\":\"#E5ECF6\",\"gridcolor\":\"white\",\"linecolor\":\"white\",\"showbackground\":true,\"ticks\":\"\",\"zerolinecolor\":\"white\",\"gridwidth\":2},\"zaxis\":{\"backgroundcolor\":\"#E5ECF6\",\"gridcolor\":\"white\",\"linecolor\":\"white\",\"showbackground\":true,\"ticks\":\"\",\"zerolinecolor\":\"white\",\"gridwidth\":2}},\"shapedefaults\":{\"line\":{\"color\":\"#2a3f5f\"}},\"annotationdefaults\":{\"arrowcolor\":\"#2a3f5f\",\"arrowhead\":0,\"arrowwidth\":1},\"geo\":{\"bgcolor\":\"white\",\"landcolor\":\"#E5ECF6\",\"subunitcolor\":\"white\",\"showland\":true,\"showlakes\":true,\"lakecolor\":\"white\"},\"title\":{\"x\":0.05},\"mapbox\":{\"style\":\"light\"}}},\"xaxis\":{\"anchor\":\"y\",\"domain\":[0.0,0.45],\"title\":{\"text\":\"Female Age\"},\"range\":[19,58]},\"yaxis\":{\"anchor\":\"x\",\"domain\":[0.0,1.0]},\"xaxis2\":{\"anchor\":\"y2\",\"domain\":[0.55,1.0],\"title\":{\"text\":\"Male Age\"},\"range\":[19,58]},\"yaxis2\":{\"anchor\":\"x2\",\"domain\":[0.0,1.0]},\"title\":{\"text\":\"Age by Gender\"}},                        {\"responsive\": true}                    ).then(function(){\n",
       "                            \n",
       "var gd = document.getElementById('2bef5664-a7e9-4f99-bc6b-4da183224f28');\n",
       "var x = new MutationObserver(function (mutations, observer) {{\n",
       "        var display = window.getComputedStyle(gd).display;\n",
       "        if (!display || display === 'none') {{\n",
       "            console.log([gd, 'removed!']);\n",
       "            Plotly.purge(gd);\n",
       "            observer.disconnect();\n",
       "        }}\n",
       "}});\n",
       "\n",
       "// Listen for the removal of the full notebook cells\n",
       "var notebookContainer = gd.closest('#notebook-container');\n",
       "if (notebookContainer) {{\n",
       "    x.observe(notebookContainer, {childList: true});\n",
       "}}\n",
       "\n",
       "// Listen for the clearing of the current output cell\n",
       "var outputEl = gd.closest('.output');\n",
       "if (outputEl) {{\n",
       "    x.observe(outputEl, {childList: true});\n",
       "}}\n",
       "\n",
       "                        })                };                });            </script>        </div>"
      ]
     },
     "metadata": {},
     "output_type": "display_data"
    }
   ],
   "source": [
    "min_age = min(df.age)\n",
    "max_age = max(df.age)\n",
    "\n",
    "fig = make_subplots(rows=1, cols=2)\n",
    "\n",
    "female_data = df[df['gender'] == 'female']\n",
    "f_d = female_data['age'].value_counts()\n",
    "fig.add_trace(go.Bar(x=list(f_d.index), y=list(f_d.values),name='Female'), row=1, col=1)\n",
    "fig.update_xaxes(title_text=\"Female Age\", row=1, col=1,range=[min_age, max_age+1])\n",
    "\n",
    "male_data = df[df['gender'] == 'male']\n",
    "m_d = male_data['age'].value_counts()\n",
    "fig.add_trace(go.Bar(x=list(m_d.index), y=list(m_d.values),name='Male'), row=1, col=2)\n",
    "fig.update_xaxes(title_text=\"Male Age\", row=1, col=2,range=[min_age, max_age+1])\n",
    "\n",
    "fig.update_layout(title=\"Age by Gender\")\n",
    "\n",
    "fig.show()"
   ]
  },
  {
   "cell_type": "code",
   "execution_count": 12,
   "id": "056cfd71-4a22-4646-9710-e5349ba3c0f2",
   "metadata": {},
   "outputs": [
    {
     "data": {
      "text/plain": [
       "No     719\n",
       "Yes    242\n",
       "Name: affair_status, dtype: int64"
      ]
     },
     "execution_count": 12,
     "metadata": {},
     "output_type": "execute_result"
    }
   ],
   "source": [
    "df['affair_status'].value_counts()"
   ]
  },
  {
   "cell_type": "code",
   "execution_count": 13,
   "id": "506020b8-bdd8-4c32-8406-dfe89b469f26",
   "metadata": {},
   "outputs": [
    {
     "data": {
      "text/plain": [
       "gender  affair_status\n",
       "female  No               75.822050\n",
       "        Yes              24.177950\n",
       "male    No               73.648649\n",
       "        Yes              26.351351\n",
       "Name: affair_status, dtype: float64"
      ]
     },
     "execution_count": 13,
     "metadata": {},
     "output_type": "execute_result"
    }
   ],
   "source": [
    "df.groupby('gender')['affair_status'].value_counts(normalize=True) * 100"
   ]
  },
  {
   "cell_type": "code",
   "execution_count": 14,
   "id": "f572080e-eab2-491a-a55d-d0f07a562408",
   "metadata": {
    "tags": []
   },
   "outputs": [
    {
     "data": {
      "text/plain": [
       "gender  affair_status  age\n",
       "female  No             22     76\n",
       "                       27     68\n",
       "                       32     50\n",
       "                       37     30\n",
       "                       42     19\n",
       "                              ..\n",
       "male    Yes            34      1\n",
       "                       35      1\n",
       "                       41      1\n",
       "                       44      1\n",
       "                       46      1\n",
       "Name: age, Length: 126, dtype: int64"
      ]
     },
     "execution_count": 14,
     "metadata": {},
     "output_type": "execute_result"
    }
   ],
   "source": [
    "gr = df.groupby(['gender','affair_status'],axis=0)['age'].value_counts()\n",
    "gr"
   ]
  },
  {
   "cell_type": "code",
   "execution_count": 15,
   "id": "4dc7fcc7-33c0-4a89-bbd3-e919223d5bc3",
   "metadata": {},
   "outputs": [
    {
     "data": {
      "application/vnd.plotly.v1+json": {
       "config": {
        "plotlyServerURL": "https://plot.ly"
       },
       "data": [
        {
         "name": "Female",
         "type": "bar",
         "x": [
          27,
          32,
          42,
          22,
          37,
          34,
          30,
          33,
          35,
          38,
          40,
          44,
          47,
          52,
          19,
          21,
          23,
          29,
          31,
          24,
          26,
          28,
          36,
          39,
          41,
          43,
          45,
          51,
          53,
          57
         ],
         "xaxis": "x",
         "y": [
          23,
          22,
          14,
          10,
          6,
          5,
          3,
          3,
          3,
          3,
          3,
          3,
          3,
          3,
          2,
          2,
          2,
          2,
          2,
          1,
          1,
          1,
          1,
          1,
          1,
          1,
          1,
          1,
          1,
          1
         ],
         "yaxis": "y"
        },
        {
         "name": "Male",
         "type": "bar",
         "x": [
          37,
          27,
          32,
          22,
          42,
          47,
          39,
          24,
          33,
          52,
          20,
          36,
          38,
          43,
          51,
          57,
          26,
          28,
          29,
          30,
          31,
          34,
          35,
          41,
          44,
          46
         ],
         "xaxis": "x2",
         "y": [
          22,
          21,
          18,
          10,
          6,
          5,
          4,
          3,
          3,
          3,
          2,
          2,
          2,
          2,
          2,
          2,
          1,
          1,
          1,
          1,
          1,
          1,
          1,
          1,
          1,
          1
         ],
         "yaxis": "y2"
        }
       ],
       "layout": {
        "autosize": true,
        "template": {
         "data": {
          "bar": [
           {
            "error_x": {
             "color": "#2a3f5f"
            },
            "error_y": {
             "color": "#2a3f5f"
            },
            "marker": {
             "line": {
              "color": "#E5ECF6",
              "width": 0.5
             },
             "pattern": {
              "fillmode": "overlay",
              "size": 10,
              "solidity": 0.2
             }
            },
            "type": "bar"
           }
          ],
          "barpolar": [
           {
            "marker": {
             "line": {
              "color": "#E5ECF6",
              "width": 0.5
             },
             "pattern": {
              "fillmode": "overlay",
              "size": 10,
              "solidity": 0.2
             }
            },
            "type": "barpolar"
           }
          ],
          "carpet": [
           {
            "aaxis": {
             "endlinecolor": "#2a3f5f",
             "gridcolor": "white",
             "linecolor": "white",
             "minorgridcolor": "white",
             "startlinecolor": "#2a3f5f"
            },
            "baxis": {
             "endlinecolor": "#2a3f5f",
             "gridcolor": "white",
             "linecolor": "white",
             "minorgridcolor": "white",
             "startlinecolor": "#2a3f5f"
            },
            "type": "carpet"
           }
          ],
          "choropleth": [
           {
            "colorbar": {
             "outlinewidth": 0,
             "ticks": ""
            },
            "type": "choropleth"
           }
          ],
          "contour": [
           {
            "colorbar": {
             "outlinewidth": 0,
             "ticks": ""
            },
            "colorscale": [
             [
              0,
              "#0d0887"
             ],
             [
              0.1111111111111111,
              "#46039f"
             ],
             [
              0.2222222222222222,
              "#7201a8"
             ],
             [
              0.3333333333333333,
              "#9c179e"
             ],
             [
              0.4444444444444444,
              "#bd3786"
             ],
             [
              0.5555555555555556,
              "#d8576b"
             ],
             [
              0.6666666666666666,
              "#ed7953"
             ],
             [
              0.7777777777777778,
              "#fb9f3a"
             ],
             [
              0.8888888888888888,
              "#fdca26"
             ],
             [
              1,
              "#f0f921"
             ]
            ],
            "type": "contour"
           }
          ],
          "contourcarpet": [
           {
            "colorbar": {
             "outlinewidth": 0,
             "ticks": ""
            },
            "type": "contourcarpet"
           }
          ],
          "heatmap": [
           {
            "colorbar": {
             "outlinewidth": 0,
             "ticks": ""
            },
            "colorscale": [
             [
              0,
              "#0d0887"
             ],
             [
              0.1111111111111111,
              "#46039f"
             ],
             [
              0.2222222222222222,
              "#7201a8"
             ],
             [
              0.3333333333333333,
              "#9c179e"
             ],
             [
              0.4444444444444444,
              "#bd3786"
             ],
             [
              0.5555555555555556,
              "#d8576b"
             ],
             [
              0.6666666666666666,
              "#ed7953"
             ],
             [
              0.7777777777777778,
              "#fb9f3a"
             ],
             [
              0.8888888888888888,
              "#fdca26"
             ],
             [
              1,
              "#f0f921"
             ]
            ],
            "type": "heatmap"
           }
          ],
          "heatmapgl": [
           {
            "colorbar": {
             "outlinewidth": 0,
             "ticks": ""
            },
            "colorscale": [
             [
              0,
              "#0d0887"
             ],
             [
              0.1111111111111111,
              "#46039f"
             ],
             [
              0.2222222222222222,
              "#7201a8"
             ],
             [
              0.3333333333333333,
              "#9c179e"
             ],
             [
              0.4444444444444444,
              "#bd3786"
             ],
             [
              0.5555555555555556,
              "#d8576b"
             ],
             [
              0.6666666666666666,
              "#ed7953"
             ],
             [
              0.7777777777777778,
              "#fb9f3a"
             ],
             [
              0.8888888888888888,
              "#fdca26"
             ],
             [
              1,
              "#f0f921"
             ]
            ],
            "type": "heatmapgl"
           }
          ],
          "histogram": [
           {
            "marker": {
             "pattern": {
              "fillmode": "overlay",
              "size": 10,
              "solidity": 0.2
             }
            },
            "type": "histogram"
           }
          ],
          "histogram2d": [
           {
            "colorbar": {
             "outlinewidth": 0,
             "ticks": ""
            },
            "colorscale": [
             [
              0,
              "#0d0887"
             ],
             [
              0.1111111111111111,
              "#46039f"
             ],
             [
              0.2222222222222222,
              "#7201a8"
             ],
             [
              0.3333333333333333,
              "#9c179e"
             ],
             [
              0.4444444444444444,
              "#bd3786"
             ],
             [
              0.5555555555555556,
              "#d8576b"
             ],
             [
              0.6666666666666666,
              "#ed7953"
             ],
             [
              0.7777777777777778,
              "#fb9f3a"
             ],
             [
              0.8888888888888888,
              "#fdca26"
             ],
             [
              1,
              "#f0f921"
             ]
            ],
            "type": "histogram2d"
           }
          ],
          "histogram2dcontour": [
           {
            "colorbar": {
             "outlinewidth": 0,
             "ticks": ""
            },
            "colorscale": [
             [
              0,
              "#0d0887"
             ],
             [
              0.1111111111111111,
              "#46039f"
             ],
             [
              0.2222222222222222,
              "#7201a8"
             ],
             [
              0.3333333333333333,
              "#9c179e"
             ],
             [
              0.4444444444444444,
              "#bd3786"
             ],
             [
              0.5555555555555556,
              "#d8576b"
             ],
             [
              0.6666666666666666,
              "#ed7953"
             ],
             [
              0.7777777777777778,
              "#fb9f3a"
             ],
             [
              0.8888888888888888,
              "#fdca26"
             ],
             [
              1,
              "#f0f921"
             ]
            ],
            "type": "histogram2dcontour"
           }
          ],
          "mesh3d": [
           {
            "colorbar": {
             "outlinewidth": 0,
             "ticks": ""
            },
            "type": "mesh3d"
           }
          ],
          "parcoords": [
           {
            "line": {
             "colorbar": {
              "outlinewidth": 0,
              "ticks": ""
             }
            },
            "type": "parcoords"
           }
          ],
          "pie": [
           {
            "automargin": true,
            "type": "pie"
           }
          ],
          "scatter": [
           {
            "fillpattern": {
             "fillmode": "overlay",
             "size": 10,
             "solidity": 0.2
            },
            "type": "scatter"
           }
          ],
          "scatter3d": [
           {
            "line": {
             "colorbar": {
              "outlinewidth": 0,
              "ticks": ""
             }
            },
            "marker": {
             "colorbar": {
              "outlinewidth": 0,
              "ticks": ""
             }
            },
            "type": "scatter3d"
           }
          ],
          "scattercarpet": [
           {
            "marker": {
             "colorbar": {
              "outlinewidth": 0,
              "ticks": ""
             }
            },
            "type": "scattercarpet"
           }
          ],
          "scattergeo": [
           {
            "marker": {
             "colorbar": {
              "outlinewidth": 0,
              "ticks": ""
             }
            },
            "type": "scattergeo"
           }
          ],
          "scattergl": [
           {
            "marker": {
             "colorbar": {
              "outlinewidth": 0,
              "ticks": ""
             }
            },
            "type": "scattergl"
           }
          ],
          "scattermapbox": [
           {
            "marker": {
             "colorbar": {
              "outlinewidth": 0,
              "ticks": ""
             }
            },
            "type": "scattermapbox"
           }
          ],
          "scatterpolar": [
           {
            "marker": {
             "colorbar": {
              "outlinewidth": 0,
              "ticks": ""
             }
            },
            "type": "scatterpolar"
           }
          ],
          "scatterpolargl": [
           {
            "marker": {
             "colorbar": {
              "outlinewidth": 0,
              "ticks": ""
             }
            },
            "type": "scatterpolargl"
           }
          ],
          "scatterternary": [
           {
            "marker": {
             "colorbar": {
              "outlinewidth": 0,
              "ticks": ""
             }
            },
            "type": "scatterternary"
           }
          ],
          "surface": [
           {
            "colorbar": {
             "outlinewidth": 0,
             "ticks": ""
            },
            "colorscale": [
             [
              0,
              "#0d0887"
             ],
             [
              0.1111111111111111,
              "#46039f"
             ],
             [
              0.2222222222222222,
              "#7201a8"
             ],
             [
              0.3333333333333333,
              "#9c179e"
             ],
             [
              0.4444444444444444,
              "#bd3786"
             ],
             [
              0.5555555555555556,
              "#d8576b"
             ],
             [
              0.6666666666666666,
              "#ed7953"
             ],
             [
              0.7777777777777778,
              "#fb9f3a"
             ],
             [
              0.8888888888888888,
              "#fdca26"
             ],
             [
              1,
              "#f0f921"
             ]
            ],
            "type": "surface"
           }
          ],
          "table": [
           {
            "cells": {
             "fill": {
              "color": "#EBF0F8"
             },
             "line": {
              "color": "white"
             }
            },
            "header": {
             "fill": {
              "color": "#C8D4E3"
             },
             "line": {
              "color": "white"
             }
            },
            "type": "table"
           }
          ]
         },
         "layout": {
          "annotationdefaults": {
           "arrowcolor": "#2a3f5f",
           "arrowhead": 0,
           "arrowwidth": 1
          },
          "autotypenumbers": "strict",
          "coloraxis": {
           "colorbar": {
            "outlinewidth": 0,
            "ticks": ""
           }
          },
          "colorscale": {
           "diverging": [
            [
             0,
             "#8e0152"
            ],
            [
             0.1,
             "#c51b7d"
            ],
            [
             0.2,
             "#de77ae"
            ],
            [
             0.3,
             "#f1b6da"
            ],
            [
             0.4,
             "#fde0ef"
            ],
            [
             0.5,
             "#f7f7f7"
            ],
            [
             0.6,
             "#e6f5d0"
            ],
            [
             0.7,
             "#b8e186"
            ],
            [
             0.8,
             "#7fbc41"
            ],
            [
             0.9,
             "#4d9221"
            ],
            [
             1,
             "#276419"
            ]
           ],
           "sequential": [
            [
             0,
             "#0d0887"
            ],
            [
             0.1111111111111111,
             "#46039f"
            ],
            [
             0.2222222222222222,
             "#7201a8"
            ],
            [
             0.3333333333333333,
             "#9c179e"
            ],
            [
             0.4444444444444444,
             "#bd3786"
            ],
            [
             0.5555555555555556,
             "#d8576b"
            ],
            [
             0.6666666666666666,
             "#ed7953"
            ],
            [
             0.7777777777777778,
             "#fb9f3a"
            ],
            [
             0.8888888888888888,
             "#fdca26"
            ],
            [
             1,
             "#f0f921"
            ]
           ],
           "sequentialminus": [
            [
             0,
             "#0d0887"
            ],
            [
             0.1111111111111111,
             "#46039f"
            ],
            [
             0.2222222222222222,
             "#7201a8"
            ],
            [
             0.3333333333333333,
             "#9c179e"
            ],
            [
             0.4444444444444444,
             "#bd3786"
            ],
            [
             0.5555555555555556,
             "#d8576b"
            ],
            [
             0.6666666666666666,
             "#ed7953"
            ],
            [
             0.7777777777777778,
             "#fb9f3a"
            ],
            [
             0.8888888888888888,
             "#fdca26"
            ],
            [
             1,
             "#f0f921"
            ]
           ]
          },
          "colorway": [
           "#636efa",
           "#EF553B",
           "#00cc96",
           "#ab63fa",
           "#FFA15A",
           "#19d3f3",
           "#FF6692",
           "#B6E880",
           "#FF97FF",
           "#FECB52"
          ],
          "font": {
           "color": "#2a3f5f"
          },
          "geo": {
           "bgcolor": "white",
           "lakecolor": "white",
           "landcolor": "#E5ECF6",
           "showlakes": true,
           "showland": true,
           "subunitcolor": "white"
          },
          "hoverlabel": {
           "align": "left"
          },
          "hovermode": "closest",
          "mapbox": {
           "style": "light"
          },
          "paper_bgcolor": "white",
          "plot_bgcolor": "#E5ECF6",
          "polar": {
           "angularaxis": {
            "gridcolor": "white",
            "linecolor": "white",
            "ticks": ""
           },
           "bgcolor": "#E5ECF6",
           "radialaxis": {
            "gridcolor": "white",
            "linecolor": "white",
            "ticks": ""
           }
          },
          "scene": {
           "xaxis": {
            "backgroundcolor": "#E5ECF6",
            "gridcolor": "white",
            "gridwidth": 2,
            "linecolor": "white",
            "showbackground": true,
            "ticks": "",
            "zerolinecolor": "white"
           },
           "yaxis": {
            "backgroundcolor": "#E5ECF6",
            "gridcolor": "white",
            "gridwidth": 2,
            "linecolor": "white",
            "showbackground": true,
            "ticks": "",
            "zerolinecolor": "white"
           },
           "zaxis": {
            "backgroundcolor": "#E5ECF6",
            "gridcolor": "white",
            "gridwidth": 2,
            "linecolor": "white",
            "showbackground": true,
            "ticks": "",
            "zerolinecolor": "white"
           }
          },
          "shapedefaults": {
           "line": {
            "color": "#2a3f5f"
           }
          },
          "ternary": {
           "aaxis": {
            "gridcolor": "white",
            "linecolor": "white",
            "ticks": ""
           },
           "baxis": {
            "gridcolor": "white",
            "linecolor": "white",
            "ticks": ""
           },
           "bgcolor": "#E5ECF6",
           "caxis": {
            "gridcolor": "white",
            "linecolor": "white",
            "ticks": ""
           }
          },
          "title": {
           "x": 0.05
          },
          "xaxis": {
           "automargin": true,
           "gridcolor": "white",
           "linecolor": "white",
           "ticks": "",
           "title": {
            "standoff": 15
           },
           "zerolinecolor": "white",
           "zerolinewidth": 2
          },
          "yaxis": {
           "automargin": true,
           "gridcolor": "white",
           "linecolor": "white",
           "ticks": "",
           "title": {
            "standoff": 15
           },
           "zerolinecolor": "white",
           "zerolinewidth": 2
          }
         }
        },
        "title": {
         "text": "Affair by Gender by Age"
        },
        "xaxis": {
         "anchor": "y",
         "domain": [
          0,
          0.45
         ],
         "range": [
          19,
          58
         ],
         "title": {
          "text": "Female Age"
         },
         "type": "linear"
        },
        "xaxis2": {
         "anchor": "y2",
         "domain": [
          0.55,
          1
         ],
         "range": [
          19,
          58
         ],
         "title": {
          "text": "Male Age"
         },
         "type": "linear"
        },
        "yaxis": {
         "anchor": "x",
         "autorange": true,
         "domain": [
          0,
          1
         ],
         "range": [
          0,
          24.210526315789473
         ],
         "type": "linear"
        },
        "yaxis2": {
         "anchor": "x2",
         "autorange": true,
         "domain": [
          0,
          1
         ],
         "range": [
          0,
          23.157894736842106
         ],
         "type": "linear"
        }
       }
      },
      "image/png": "[encoded data removed]",
      "text/html": [
       "<div>                            <div id=\"c1b9dd20-5dc7-4675-94d6-5458680793b6\" class=\"plotly-graph-div\" style=\"height:525px; width:100%;\"></div>            <script type=\"text/javascript\">                require([\"plotly\"], function(Plotly) {                    window.PLOTLYENV=window.PLOTLYENV || {};                                    if (document.getElementById(\"c1b9dd20-5dc7-4675-94d6-5458680793b6\")) {                    Plotly.newPlot(                        \"c1b9dd20-5dc7-4675-94d6-5458680793b6\",                        [{\"name\":\"Female\",\"x\":[27,32,42,22,37,34,30,33,35,38,40,44,47,52,19,21,23,29,31,24,26,28,36,39,41,43,45,51,53,57],\"y\":[23,22,14,10,6,5,3,3,3,3,3,3,3,3,2,2,2,2,2,1,1,1,1,1,1,1,1,1,1,1],\"type\":\"bar\",\"xaxis\":\"x\",\"yaxis\":\"y\"},{\"name\":\"Male\",\"x\":[37,27,32,22,42,47,39,24,33,52,20,36,38,43,51,57,26,28,29,30,31,34,35,41,44,46],\"y\":[22,21,18,10,6,5,4,3,3,3,2,2,2,2,2,2,1,1,1,1,1,1,1,1,1,1],\"type\":\"bar\",\"xaxis\":\"x2\",\"yaxis\":\"y2\"}],                        {\"template\":{\"data\":{\"histogram2dcontour\":[{\"type\":\"histogram2dcontour\",\"colorbar\":{\"outlinewidth\":0,\"ticks\":\"\"},\"colorscale\":[[0.0,\"#0d0887\"],[0.1111111111111111,\"#46039f\"],[0.2222222222222222,\"#7201a8\"],[0.3333333333333333,\"#9c179e\"],[0.4444444444444444,\"#bd3786\"],[0.5555555555555556,\"#d8576b\"],[0.6666666666666666,\"#ed7953\"],[0.7777777777777778,\"#fb9f3a\"],[0.8888888888888888,\"#fdca26\"],[1.0,\"#f0f921\"]]}],\"choropleth\":[{\"type\":\"choropleth\",\"colorbar\":{\"outlinewidth\":0,\"ticks\":\"\"}}],\"histogram2d\":[{\"type\":\"histogram2d\",\"colorbar\":{\"outlinewidth\":0,\"ticks\":\"\"},\"colorscale\":[[0.0,\"#0d0887\"],[0.1111111111111111,\"#46039f\"],[0.2222222222222222,\"#7201a8\"],[0.3333333333333333,\"#9c179e\"],[0.4444444444444444,\"#bd3786\"],[0.5555555555555556,\"#d8576b\"],[0.6666666666666666,\"#ed7953\"],[0.7777777777777778,\"#fb9f3a\"],[0.8888888888888888,\"#fdca26\"],[1.0,\"#f0f921\"]]}],\"heatmap\":[{\"type\":\"heatmap\",\"colorbar\":{\"outlinewidth\":0,\"ticks\":\"\"},\"colorscale\":[[0.0,\"#0d0887\"],[0.1111111111111111,\"#46039f\"],[0.2222222222222222,\"#7201a8\"],[0.3333333333333333,\"#9c179e\"],[0.4444444444444444,\"#bd3786\"],[0.5555555555555556,\"#d8576b\"],[0.6666666666666666,\"#ed7953\"],[0.7777777777777778,\"#fb9f3a\"],[0.8888888888888888,\"#fdca26\"],[1.0,\"#f0f921\"]]}],\"heatmapgl\":[{\"type\":\"heatmapgl\",\"colorbar\":{\"outlinewidth\":0,\"ticks\":\"\"},\"colorscale\":[[0.0,\"#0d0887\"],[0.1111111111111111,\"#46039f\"],[0.2222222222222222,\"#7201a8\"],[0.3333333333333333,\"#9c179e\"],[0.4444444444444444,\"#bd3786\"],[0.5555555555555556,\"#d8576b\"],[0.6666666666666666,\"#ed7953\"],[0.7777777777777778,\"#fb9f3a\"],[0.8888888888888888,\"#fdca26\"],[1.0,\"#f0f921\"]]}],\"contourcarpet\":[{\"type\":\"contourcarpet\",\"colorbar\":{\"outlinewidth\":0,\"ticks\":\"\"}}],\"contour\":[{\"type\":\"contour\",\"colorbar\":{\"outlinewidth\":0,\"ticks\":\"\"},\"colorscale\":[[0.0,\"#0d0887\"],[0.1111111111111111,\"#46039f\"],[0.2222222222222222,\"#7201a8\"],[0.3333333333333333,\"#9c179e\"],[0.4444444444444444,\"#bd3786\"],[0.5555555555555556,\"#d8576b\"],[0.6666666666666666,\"#ed7953\"],[0.7777777777777778,\"#fb9f3a\"],[0.8888888888888888,\"#fdca26\"],[1.0,\"#f0f921\"]]}],\"surface\":[{\"type\":\"surface\",\"colorbar\":{\"outlinewidth\":0,\"ticks\":\"\"},\"colorscale\":[[0.0,\"#0d0887\"],[0.1111111111111111,\"#46039f\"],[0.2222222222222222,\"#7201a8\"],[0.3333333333333333,\"#9c179e\"],[0.4444444444444444,\"#bd3786\"],[0.5555555555555556,\"#d8576b\"],[0.6666666666666666,\"#ed7953\"],[0.7777777777777778,\"#fb9f3a\"],[0.8888888888888888,\"#fdca26\"],[1.0,\"#f0f921\"]]}],\"mesh3d\":[{\"type\":\"mesh3d\",\"colorbar\":{\"outlinewidth\":0,\"ticks\":\"\"}}],\"scatter\":[{\"fillpattern\":{\"fillmode\":\"overlay\",\"size\":10,\"solidity\":0.2},\"type\":\"scatter\"}],\"parcoords\":[{\"type\":\"parcoords\",\"line\":{\"colorbar\":{\"outlinewidth\":0,\"ticks\":\"\"}}}],\"scatterpolargl\":[{\"type\":\"scatterpolargl\",\"marker\":{\"colorbar\":{\"outlinewidth\":0,\"ticks\":\"\"}}}],\"bar\":[{\"error_x\":{\"color\":\"#2a3f5f\"},\"error_y\":{\"color\":\"#2a3f5f\"},\"marker\":{\"line\":{\"color\":\"#E5ECF6\",\"width\":0.5},\"pattern\":{\"fillmode\":\"overlay\",\"size\":10,\"solidity\":0.2}},\"type\":\"bar\"}],\"scattergeo\":[{\"type\":\"scattergeo\",\"marker\":{\"colorbar\":{\"outlinewidth\":0,\"ticks\":\"\"}}}],\"scatterpolar\":[{\"type\":\"scatterpolar\",\"marker\":{\"colorbar\":{\"outlinewidth\":0,\"ticks\":\"\"}}}],\"histogram\":[{\"marker\":{\"pattern\":{\"fillmode\":\"overlay\",\"size\":10,\"solidity\":0.2}},\"type\":\"histogram\"}],\"scattergl\":[{\"type\":\"scattergl\",\"marker\":{\"colorbar\":{\"outlinewidth\":0,\"ticks\":\"\"}}}],\"scatter3d\":[{\"type\":\"scatter3d\",\"line\":{\"colorbar\":{\"outlinewidth\":0,\"ticks\":\"\"}},\"marker\":{\"colorbar\":{\"outlinewidth\":0,\"ticks\":\"\"}}}],\"scattermapbox\":[{\"type\":\"scattermapbox\",\"marker\":{\"colorbar\":{\"outlinewidth\":0,\"ticks\":\"\"}}}],\"scatterternary\":[{\"type\":\"scatterternary\",\"marker\":{\"colorbar\":{\"outlinewidth\":0,\"ticks\":\"\"}}}],\"scattercarpet\":[{\"type\":\"scattercarpet\",\"marker\":{\"colorbar\":{\"outlinewidth\":0,\"ticks\":\"\"}}}],\"carpet\":[{\"aaxis\":{\"endlinecolor\":\"#2a3f5f\",\"gridcolor\":\"white\",\"linecolor\":\"white\",\"minorgridcolor\":\"white\",\"startlinecolor\":\"#2a3f5f\"},\"baxis\":{\"endlinecolor\":\"#2a3f5f\",\"gridcolor\":\"white\",\"linecolor\":\"white\",\"minorgridcolor\":\"white\",\"startlinecolor\":\"#2a3f5f\"},\"type\":\"carpet\"}],\"table\":[{\"cells\":{\"fill\":{\"color\":\"#EBF0F8\"},\"line\":{\"color\":\"white\"}},\"header\":{\"fill\":{\"color\":\"#C8D4E3\"},\"line\":{\"color\":\"white\"}},\"type\":\"table\"}],\"barpolar\":[{\"marker\":{\"line\":{\"color\":\"#E5ECF6\",\"width\":0.5},\"pattern\":{\"fillmode\":\"overlay\",\"size\":10,\"solidity\":0.2}},\"type\":\"barpolar\"}],\"pie\":[{\"automargin\":true,\"type\":\"pie\"}]},\"layout\":{\"autotypenumbers\":\"strict\",\"colorway\":[\"#636efa\",\"#EF553B\",\"#00cc96\",\"#ab63fa\",\"#FFA15A\",\"#19d3f3\",\"#FF6692\",\"#B6E880\",\"#FF97FF\",\"#FECB52\"],\"font\":{\"color\":\"#2a3f5f\"},\"hovermode\":\"closest\",\"hoverlabel\":{\"align\":\"left\"},\"paper_bgcolor\":\"white\",\"plot_bgcolor\":\"#E5ECF6\",\"polar\":{\"bgcolor\":\"#E5ECF6\",\"angularaxis\":{\"gridcolor\":\"white\",\"linecolor\":\"white\",\"ticks\":\"\"},\"radialaxis\":{\"gridcolor\":\"white\",\"linecolor\":\"white\",\"ticks\":\"\"}},\"ternary\":{\"bgcolor\":\"#E5ECF6\",\"aaxis\":{\"gridcolor\":\"white\",\"linecolor\":\"white\",\"ticks\":\"\"},\"baxis\":{\"gridcolor\":\"white\",\"linecolor\":\"white\",\"ticks\":\"\"},\"caxis\":{\"gridcolor\":\"white\",\"linecolor\":\"white\",\"ticks\":\"\"}},\"coloraxis\":{\"colorbar\":{\"outlinewidth\":0,\"ticks\":\"\"}},\"colorscale\":{\"sequential\":[[0.0,\"#0d0887\"],[0.1111111111111111,\"#46039f\"],[0.2222222222222222,\"#7201a8\"],[0.3333333333333333,\"#9c179e\"],[0.4444444444444444,\"#bd3786\"],[0.5555555555555556,\"#d8576b\"],[0.6666666666666666,\"#ed7953\"],[0.7777777777777778,\"#fb9f3a\"],[0.8888888888888888,\"#fdca26\"],[1.0,\"#f0f921\"]],\"sequentialminus\":[[0.0,\"#0d0887\"],[0.1111111111111111,\"#46039f\"],[0.2222222222222222,\"#7201a8\"],[0.3333333333333333,\"#9c179e\"],[0.4444444444444444,\"#bd3786\"],[0.5555555555555556,\"#d8576b\"],[0.6666666666666666,\"#ed7953\"],[0.7777777777777778,\"#fb9f3a\"],[0.8888888888888888,\"#fdca26\"],[1.0,\"#f0f921\"]],\"diverging\":[[0,\"#8e0152\"],[0.1,\"#c51b7d\"],[0.2,\"#de77ae\"],[0.3,\"#f1b6da\"],[0.4,\"#fde0ef\"],[0.5,\"#f7f7f7\"],[0.6,\"#e6f5d0\"],[0.7,\"#b8e186\"],[0.8,\"#7fbc41\"],[0.9,\"#4d9221\"],[1,\"#276419\"]]},\"xaxis\":{\"gridcolor\":\"white\",\"linecolor\":\"white\",\"ticks\":\"\",\"title\":{\"standoff\":15},\"zerolinecolor\":\"white\",\"automargin\":true,\"zerolinewidth\":2},\"yaxis\":{\"gridcolor\":\"white\",\"linecolor\":\"white\",\"ticks\":\"\",\"title\":{\"standoff\":15},\"zerolinecolor\":\"white\",\"automargin\":true,\"zerolinewidth\":2},\"scene\":{\"xaxis\":{\"backgroundcolor\":\"#E5ECF6\",\"gridcolor\":\"white\",\"linecolor\":\"white\",\"showbackground\":true,\"ticks\":\"\",\"zerolinecolor\":\"white\",\"gridwidth\":2},\"yaxis\":{\"backgroundcolor\":\"#E5ECF6\",\"gridcolor\":\"white\",\"linecolor\":\"white\",\"showbackground\":true,\"ticks\":\"\",\"zerolinecolor\":\"white\",\"gridwidth\":2},\"zaxis\":{\"backgroundcolor\":\"#E5ECF6\",\"gridcolor\":\"white\",\"linecolor\":\"white\",\"showbackground\":true,\"ticks\":\"\",\"zerolinecolor\":\"white\",\"gridwidth\":2}},\"shapedefaults\":{\"line\":{\"color\":\"#2a3f5f\"}},\"annotationdefaults\":{\"arrowcolor\":\"#2a3f5f\",\"arrowhead\":0,\"arrowwidth\":1},\"geo\":{\"bgcolor\":\"white\",\"landcolor\":\"#E5ECF6\",\"subunitcolor\":\"white\",\"showland\":true,\"showlakes\":true,\"lakecolor\":\"white\"},\"title\":{\"x\":0.05},\"mapbox\":{\"style\":\"light\"}}},\"xaxis\":{\"anchor\":\"y\",\"domain\":[0.0,0.45],\"title\":{\"text\":\"Female Age\"},\"range\":[19,58]},\"yaxis\":{\"anchor\":\"x\",\"domain\":[0.0,1.0]},\"xaxis2\":{\"anchor\":\"y2\",\"domain\":[0.55,1.0],\"title\":{\"text\":\"Male Age\"},\"range\":[19,58]},\"yaxis2\":{\"anchor\":\"x2\",\"domain\":[0.0,1.0]},\"title\":{\"text\":\"Affair by Gender by Age\"}},                        {\"responsive\": true}                    ).then(function(){\n",
       "                            \n",
       "var gd = document.getElementById('c1b9dd20-5dc7-4675-94d6-5458680793b6');\n",
       "var x = new MutationObserver(function (mutations, observer) {{\n",
       "        var display = window.getComputedStyle(gd).display;\n",
       "        if (!display || display === 'none') {{\n",
       "            console.log([gd, 'removed!']);\n",
       "            Plotly.purge(gd);\n",
       "            observer.disconnect();\n",
       "        }}\n",
       "}});\n",
       "\n",
       "// Listen for the removal of the full notebook cells\n",
       "var notebookContainer = gd.closest('#notebook-container');\n",
       "if (notebookContainer) {{\n",
       "    x.observe(notebookContainer, {childList: true});\n",
       "}}\n",
       "\n",
       "// Listen for the clearing of the current output cell\n",
       "var outputEl = gd.closest('.output');\n",
       "if (outputEl) {{\n",
       "    x.observe(outputEl, {childList: true});\n",
       "}}\n",
       "\n",
       "                        })                };                });            </script>        </div>"
      ]
     },
     "metadata": {},
     "output_type": "display_data"
    }
   ],
   "source": [
    "grf = gr['female']['Yes']\n",
    "grm = gr['male']['Yes']\n",
    "\n",
    "fig = make_subplots(rows=1, cols=2)\n",
    "\n",
    "fig.add_trace(go.Bar(x=list(grf.index), y=list(grf.values),name='Female'), row=1, col=1)\n",
    "fig.update_xaxes(title_text=\"Female Age\", row=1, col=1,range=[min_age, max_age+1])\n",
    "\n",
    "fig.add_trace(go.Bar(x=list(grm.index), y=list(grm.values),name='Male'), row=1, col=2)\n",
    "fig.update_xaxes(title_text=\"Male Age\", row=1, col=2,range=[min_age, max_age+1])\n",
    "\n",
    "fig.update_layout(title=\"Affair by Gender by Age\")\n",
    "\n",
    "fig.show()"
   ]
  },
  {
   "cell_type": "code",
   "execution_count": 16,
   "id": "2924cfce-7204-47e6-ac55-ccaf17dd4803",
   "metadata": {
    "tags": []
   },
   "outputs": [],
   "source": [
    "gy = df.groupby(['gender','affair_status'],axis=0)['yearsmarried'].value_counts()"
   ]
  },
  {
   "cell_type": "code",
   "execution_count": 17,
   "id": "aa4fb057-a81e-4091-b25f-52b13ce37f2b",
   "metadata": {
    "tags": []
   },
   "outputs": [],
   "source": [
    "# gy['female']['Yes']"
   ]
  },
  {
   "cell_type": "code",
   "execution_count": 18,
   "id": "c54b3cae-d070-4a10-870f-8a4da4c86cf1",
   "metadata": {},
   "outputs": [],
   "source": [
    "gyf = gy['female']['Yes']\n",
    "gym = gy['male']['Yes']"
   ]
  },
  {
   "cell_type": "code",
   "execution_count": 19,
   "id": "64e9efa1-bf9b-4e4e-be41-4fec366a39af",
   "metadata": {
    "tags": []
   },
   "outputs": [
    {
     "data": {
      "application/vnd.plotly.v1+json": {
       "config": {
        "plotlyServerURL": "https://plot.ly"
       },
       "data": [
        {
         "name": "Female",
         "type": "bar",
         "x": [
          15,
          7,
          4,
          10,
          1,
          1.5,
          6,
          11,
          0,
          14,
          13,
          18,
          2,
          3,
          12,
          16,
          5,
          8,
          9
         ],
         "xaxis": "x",
         "y": [
          34,
          20,
          13,
          13,
          5,
          5,
          5,
          5,
          4,
          4,
          3,
          3,
          2,
          2,
          2,
          2,
          1,
          1,
          1
         ],
         "yaxis": "y"
        },
        {
         "name": "Male",
         "type": "bar",
         "x": [
          15,
          4,
          10,
          7,
          1.5,
          13,
          5,
          1,
          12,
          0,
          6,
          9,
          18,
          20,
          0.125,
          0.417,
          2,
          3,
          8,
          11,
          16
         ],
         "xaxis": "x2",
         "y": [
          31,
          21,
          13,
          11,
          7,
          6,
          5,
          3,
          3,
          2,
          2,
          2,
          2,
          2,
          1,
          1,
          1,
          1,
          1,
          1,
          1
         ],
         "yaxis": "y2"
        }
       ],
       "layout": {
        "autosize": true,
        "template": {
         "data": {
          "bar": [
           {
            "error_x": {
             "color": "#2a3f5f"
            },
            "error_y": {
             "color": "#2a3f5f"
            },
            "marker": {
             "line": {
              "color": "#E5ECF6",
              "width": 0.5
             },
             "pattern": {
              "fillmode": "overlay",
              "size": 10,
              "solidity": 0.2
             }
            },
            "type": "bar"
           }
          ],
          "barpolar": [
           {
            "marker": {
             "line": {
              "color": "#E5ECF6",
              "width": 0.5
             },
             "pattern": {
              "fillmode": "overlay",
              "size": 10,
              "solidity": 0.2
             }
            },
            "type": "barpolar"
           }
          ],
          "carpet": [
           {
            "aaxis": {
             "endlinecolor": "#2a3f5f",
             "gridcolor": "white",
             "linecolor": "white",
             "minorgridcolor": "white",
             "startlinecolor": "#2a3f5f"
            },
            "baxis": {
             "endlinecolor": "#2a3f5f",
             "gridcolor": "white",
             "linecolor": "white",
             "minorgridcolor": "white",
             "startlinecolor": "#2a3f5f"
            },
            "type": "carpet"
           }
          ],
          "choropleth": [
           {
            "colorbar": {
             "outlinewidth": 0,
             "ticks": ""
            },
            "type": "choropleth"
           }
          ],
          "contour": [
           {
            "colorbar": {
             "outlinewidth": 0,
             "ticks": ""
            },
            "colorscale": [
             [
              0,
              "#0d0887"
             ],
             [
              0.1111111111111111,
              "#46039f"
             ],
             [
              0.2222222222222222,
              "#7201a8"
             ],
             [
              0.3333333333333333,
              "#9c179e"
             ],
             [
              0.4444444444444444,
              "#bd3786"
             ],
             [
              0.5555555555555556,
              "#d8576b"
             ],
             [
              0.6666666666666666,
              "#ed7953"
             ],
             [
              0.7777777777777778,
              "#fb9f3a"
             ],
             [
              0.8888888888888888,
              "#fdca26"
             ],
             [
              1,
              "#f0f921"
             ]
            ],
            "type": "contour"
           }
          ],
          "contourcarpet": [
           {
            "colorbar": {
             "outlinewidth": 0,
             "ticks": ""
            },
            "type": "contourcarpet"
           }
          ],
          "heatmap": [
           {
            "colorbar": {
             "outlinewidth": 0,
             "ticks": ""
            },
            "colorscale": [
             [
              0,
              "#0d0887"
             ],
             [
              0.1111111111111111,
              "#46039f"
             ],
             [
              0.2222222222222222,
              "#7201a8"
             ],
             [
              0.3333333333333333,
              "#9c179e"
             ],
             [
              0.4444444444444444,
              "#bd3786"
             ],
             [
              0.5555555555555556,
              "#d8576b"
             ],
             [
              0.6666666666666666,
              "#ed7953"
             ],
             [
              0.7777777777777778,
              "#fb9f3a"
             ],
             [
              0.8888888888888888,
              "#fdca26"
             ],
             [
              1,
              "#f0f921"
             ]
            ],
            "type": "heatmap"
           }
          ],
          "heatmapgl": [
           {
            "colorbar": {
             "outlinewidth": 0,
             "ticks": ""
            },
            "colorscale": [
             [
              0,
              "#0d0887"
             ],
             [
              0.1111111111111111,
              "#46039f"
             ],
             [
              0.2222222222222222,
              "#7201a8"
             ],
             [
              0.3333333333333333,
              "#9c179e"
             ],
             [
              0.4444444444444444,
              "#bd3786"
             ],
             [
              0.5555555555555556,
              "#d8576b"
             ],
             [
              0.6666666666666666,
              "#ed7953"
             ],
             [
              0.7777777777777778,
              "#fb9f3a"
             ],
             [
              0.8888888888888888,
              "#fdca26"
             ],
             [
              1,
              "#f0f921"
             ]
            ],
            "type": "heatmapgl"
           }
          ],
          "histogram": [
           {
            "marker": {
             "pattern": {
              "fillmode": "overlay",
              "size": 10,
              "solidity": 0.2
             }
            },
            "type": "histogram"
           }
          ],
          "histogram2d": [
           {
            "colorbar": {
             "outlinewidth": 0,
             "ticks": ""
            },
            "colorscale": [
             [
              0,
              "#0d0887"
             ],
             [
              0.1111111111111111,
              "#46039f"
             ],
             [
              0.2222222222222222,
              "#7201a8"
             ],
             [
              0.3333333333333333,
              "#9c179e"
             ],
             [
              0.4444444444444444,
              "#bd3786"
             ],
             [
              0.5555555555555556,
              "#d8576b"
             ],
             [
              0.6666666666666666,
              "#ed7953"
             ],
             [
              0.7777777777777778,
              "#fb9f3a"
             ],
             [
              0.8888888888888888,
              "#fdca26"
             ],
             [
              1,
              "#f0f921"
             ]
            ],
            "type": "histogram2d"
           }
          ],
          "histogram2dcontour": [
           {
            "colorbar": {
             "outlinewidth": 0,
             "ticks": ""
            },
            "colorscale": [
             [
              0,
              "#0d0887"
             ],
             [
              0.1111111111111111,
              "#46039f"
             ],
             [
              0.2222222222222222,
              "#7201a8"
             ],
             [
              0.3333333333333333,
              "#9c179e"
             ],
             [
              0.4444444444444444,
              "#bd3786"
             ],
             [
              0.5555555555555556,
              "#d8576b"
             ],
             [
              0.6666666666666666,
              "#ed7953"
             ],
             [
              0.7777777777777778,
              "#fb9f3a"
             ],
             [
              0.8888888888888888,
              "#fdca26"
             ],
             [
              1,
              "#f0f921"
             ]
            ],
            "type": "histogram2dcontour"
           }
          ],
          "mesh3d": [
           {
            "colorbar": {
             "outlinewidth": 0,
             "ticks": ""
            },
            "type": "mesh3d"
           }
          ],
          "parcoords": [
           {
            "line": {
             "colorbar": {
              "outlinewidth": 0,
              "ticks": ""
             }
            },
            "type": "parcoords"
           }
          ],
          "pie": [
           {
            "automargin": true,
            "type": "pie"
           }
          ],
          "scatter": [
           {
            "fillpattern": {
             "fillmode": "overlay",
             "size": 10,
             "solidity": 0.2
            },
            "type": "scatter"
           }
          ],
          "scatter3d": [
           {
            "line": {
             "colorbar": {
              "outlinewidth": 0,
              "ticks": ""
             }
            },
            "marker": {
             "colorbar": {
              "outlinewidth": 0,
              "ticks": ""
             }
            },
            "type": "scatter3d"
           }
          ],
          "scattercarpet": [
           {
            "marker": {
             "colorbar": {
              "outlinewidth": 0,
              "ticks": ""
             }
            },
            "type": "scattercarpet"
           }
          ],
          "scattergeo": [
           {
            "marker": {
             "colorbar": {
              "outlinewidth": 0,
              "ticks": ""
             }
            },
            "type": "scattergeo"
           }
          ],
          "scattergl": [
           {
            "marker": {
             "colorbar": {
              "outlinewidth": 0,
              "ticks": ""
             }
            },
            "type": "scattergl"
           }
          ],
          "scattermapbox": [
           {
            "marker": {
             "colorbar": {
              "outlinewidth": 0,
              "ticks": ""
             }
            },
            "type": "scattermapbox"
           }
          ],
          "scatterpolar": [
           {
            "marker": {
             "colorbar": {
              "outlinewidth": 0,
              "ticks": ""
             }
            },
            "type": "scatterpolar"
           }
          ],
          "scatterpolargl": [
           {
            "marker": {
             "colorbar": {
              "outlinewidth": 0,
              "ticks": ""
             }
            },
            "type": "scatterpolargl"
           }
          ],
          "scatterternary": [
           {
            "marker": {
             "colorbar": {
              "outlinewidth": 0,
              "ticks": ""
             }
            },
            "type": "scatterternary"
           }
          ],
          "surface": [
           {
            "colorbar": {
             "outlinewidth": 0,
             "ticks": ""
            },
            "colorscale": [
             [
              0,
              "#0d0887"
             ],
             [
              0.1111111111111111,
              "#46039f"
             ],
             [
              0.2222222222222222,
              "#7201a8"
             ],
             [
              0.3333333333333333,
              "#9c179e"
             ],
             [
              0.4444444444444444,
              "#bd3786"
             ],
             [
              0.5555555555555556,
              "#d8576b"
             ],
             [
              0.6666666666666666,
              "#ed7953"
             ],
             [
              0.7777777777777778,
              "#fb9f3a"
             ],
             [
              0.8888888888888888,
              "#fdca26"
             ],
             [
              1,
              "#f0f921"
             ]
            ],
            "type": "surface"
           }
          ],
          "table": [
           {
            "cells": {
             "fill": {
              "color": "#EBF0F8"
             },
             "line": {
              "color": "white"
             }
            },
            "header": {
             "fill": {
              "color": "#C8D4E3"
             },
             "line": {
              "color": "white"
             }
            },
            "type": "table"
           }
          ]
         },
         "layout": {
          "annotationdefaults": {
           "arrowcolor": "#2a3f5f",
           "arrowhead": 0,
           "arrowwidth": 1
          },
          "autotypenumbers": "strict",
          "coloraxis": {
           "colorbar": {
            "outlinewidth": 0,
            "ticks": ""
           }
          },
          "colorscale": {
           "diverging": [
            [
             0,
             "#8e0152"
            ],
            [
             0.1,
             "#c51b7d"
            ],
            [
             0.2,
             "#de77ae"
            ],
            [
             0.3,
             "#f1b6da"
            ],
            [
             0.4,
             "#fde0ef"
            ],
            [
             0.5,
             "#f7f7f7"
            ],
            [
             0.6,
             "#e6f5d0"
            ],
            [
             0.7,
             "#b8e186"
            ],
            [
             0.8,
             "#7fbc41"
            ],
            [
             0.9,
             "#4d9221"
            ],
            [
             1,
             "#276419"
            ]
           ],
           "sequential": [
            [
             0,
             "#0d0887"
            ],
            [
             0.1111111111111111,
             "#46039f"
            ],
            [
             0.2222222222222222,
             "#7201a8"
            ],
            [
             0.3333333333333333,
             "#9c179e"
            ],
            [
             0.4444444444444444,
             "#bd3786"
            ],
            [
             0.5555555555555556,
             "#d8576b"
            ],
            [
             0.6666666666666666,
             "#ed7953"
            ],
            [
             0.7777777777777778,
             "#fb9f3a"
            ],
            [
             0.8888888888888888,
             "#fdca26"
            ],
            [
             1,
             "#f0f921"
            ]
           ],
           "sequentialminus": [
            [
             0,
             "#0d0887"
            ],
            [
             0.1111111111111111,
             "#46039f"
            ],
            [
             0.2222222222222222,
             "#7201a8"
            ],
            [
             0.3333333333333333,
             "#9c179e"
            ],
            [
             0.4444444444444444,
             "#bd3786"
            ],
            [
             0.5555555555555556,
             "#d8576b"
            ],
            [
             0.6666666666666666,
             "#ed7953"
            ],
            [
             0.7777777777777778,
             "#fb9f3a"
            ],
            [
             0.8888888888888888,
             "#fdca26"
            ],
            [
             1,
             "#f0f921"
            ]
           ]
          },
          "colorway": [
           "#636efa",
           "#EF553B",
           "#00cc96",
           "#ab63fa",
           "#FFA15A",
           "#19d3f3",
           "#FF6692",
           "#B6E880",
           "#FF97FF",
           "#FECB52"
          ],
          "font": {
           "color": "#2a3f5f"
          },
          "geo": {
           "bgcolor": "white",
           "lakecolor": "white",
           "landcolor": "#E5ECF6",
           "showlakes": true,
           "showland": true,
           "subunitcolor": "white"
          },
          "hoverlabel": {
           "align": "left"
          },
          "hovermode": "closest",
          "mapbox": {
           "style": "light"
          },
          "paper_bgcolor": "white",
          "plot_bgcolor": "#E5ECF6",
          "polar": {
           "angularaxis": {
            "gridcolor": "white",
            "linecolor": "white",
            "ticks": ""
           },
           "bgcolor": "#E5ECF6",
           "radialaxis": {
            "gridcolor": "white",
            "linecolor": "white",
            "ticks": ""
           }
          },
          "scene": {
           "xaxis": {
            "backgroundcolor": "#E5ECF6",
            "gridcolor": "white",
            "gridwidth": 2,
            "linecolor": "white",
            "showbackground": true,
            "ticks": "",
            "zerolinecolor": "white"
           },
           "yaxis": {
            "backgroundcolor": "#E5ECF6",
            "gridcolor": "white",
            "gridwidth": 2,
            "linecolor": "white",
            "showbackground": true,
            "ticks": "",
            "zerolinecolor": "white"
           },
           "zaxis": {
            "backgroundcolor": "#E5ECF6",
            "gridcolor": "white",
            "gridwidth": 2,
            "linecolor": "white",
            "showbackground": true,
            "ticks": "",
            "zerolinecolor": "white"
           }
          },
          "shapedefaults": {
           "line": {
            "color": "#2a3f5f"
           }
          },
          "ternary": {
           "aaxis": {
            "gridcolor": "white",
            "linecolor": "white",
            "ticks": ""
           },
           "baxis": {
            "gridcolor": "white",
            "linecolor": "white",
            "ticks": ""
           },
           "bgcolor": "#E5ECF6",
           "caxis": {
            "gridcolor": "white",
            "linecolor": "white",
            "ticks": ""
           }
          },
          "title": {
           "x": 0.05
          },
          "xaxis": {
           "automargin": true,
           "gridcolor": "white",
           "linecolor": "white",
           "ticks": "",
           "title": {
            "standoff": 15
           },
           "zerolinecolor": "white",
           "zerolinewidth": 2
          },
          "yaxis": {
           "automargin": true,
           "gridcolor": "white",
           "linecolor": "white",
           "ticks": "",
           "title": {
            "standoff": 15
           },
           "zerolinecolor": "white",
           "zerolinewidth": 2
          }
         }
        },
        "title": {
         "text": "Affair by Gender by Year Married"
        },
        "xaxis": {
         "anchor": "y",
         "domain": [
          0,
          0.45
         ],
         "range": [
          0,
          21
         ],
         "title": {
          "text": "Female Years Married"
         },
         "type": "linear"
        },
        "xaxis2": {
         "anchor": "y2",
         "domain": [
          0.55,
          1
         ],
         "range": [
          0,
          21
         ],
         "title": {
          "text": "Male Years Married"
         },
         "type": "linear"
        },
        "yaxis": {
         "anchor": "x",
         "autorange": true,
         "domain": [
          0,
          1
         ],
         "range": [
          0,
          35.78947368421053
         ],
         "type": "linear"
        },
        "yaxis2": {
         "anchor": "x2",
         "autorange": true,
         "domain": [
          0,
          1
         ],
         "range": [
          0,
          32.63157894736842
         ],
         "type": "linear"
        }
       }
      },
      "image/png": "[encoded data removed]",
      "text/html": [
       "<div>                            <div id=\"e6d07bca-d9c0-4af5-84fd-7d5ad2f60be2\" class=\"plotly-graph-div\" style=\"height:525px; width:100%;\"></div>            <script type=\"text/javascript\">                require([\"plotly\"], function(Plotly) {                    window.PLOTLYENV=window.PLOTLYENV || {};                                    if (document.getElementById(\"e6d07bca-d9c0-4af5-84fd-7d5ad2f60be2\")) {                    Plotly.newPlot(                        \"e6d07bca-d9c0-4af5-84fd-7d5ad2f60be2\",                        [{\"name\":\"Female\",\"x\":[15.0,7.0,4.0,10.0,1.0,1.5,6.0,11.0,0.0,14.0,13.0,18.0,2.0,3.0,12.0,16.0,5.0,8.0,9.0],\"y\":[34,20,13,13,5,5,5,5,4,4,3,3,2,2,2,2,1,1,1],\"type\":\"bar\",\"xaxis\":\"x\",\"yaxis\":\"y\"},{\"name\":\"Male\",\"x\":[15.0,4.0,10.0,7.0,1.5,13.0,5.0,1.0,12.0,0.0,6.0,9.0,18.0,20.0,0.125,0.417,2.0,3.0,8.0,11.0,16.0],\"y\":[31,21,13,11,7,6,5,3,3,2,2,2,2,2,1,1,1,1,1,1,1],\"type\":\"bar\",\"xaxis\":\"x2\",\"yaxis\":\"y2\"}],                        {\"template\":{\"data\":{\"histogram2dcontour\":[{\"type\":\"histogram2dcontour\",\"colorbar\":{\"outlinewidth\":0,\"ticks\":\"\"},\"colorscale\":[[0.0,\"#0d0887\"],[0.1111111111111111,\"#46039f\"],[0.2222222222222222,\"#7201a8\"],[0.3333333333333333,\"#9c179e\"],[0.4444444444444444,\"#bd3786\"],[0.5555555555555556,\"#d8576b\"],[0.6666666666666666,\"#ed7953\"],[0.7777777777777778,\"#fb9f3a\"],[0.8888888888888888,\"#fdca26\"],[1.0,\"#f0f921\"]]}],\"choropleth\":[{\"type\":\"choropleth\",\"colorbar\":{\"outlinewidth\":0,\"ticks\":\"\"}}],\"histogram2d\":[{\"type\":\"histogram2d\",\"colorbar\":{\"outlinewidth\":0,\"ticks\":\"\"},\"colorscale\":[[0.0,\"#0d0887\"],[0.1111111111111111,\"#46039f\"],[0.2222222222222222,\"#7201a8\"],[0.3333333333333333,\"#9c179e\"],[0.4444444444444444,\"#bd3786\"],[0.5555555555555556,\"#d8576b\"],[0.6666666666666666,\"#ed7953\"],[0.7777777777777778,\"#fb9f3a\"],[0.8888888888888888,\"#fdca26\"],[1.0,\"#f0f921\"]]}],\"heatmap\":[{\"type\":\"heatmap\",\"colorbar\":{\"outlinewidth\":0,\"ticks\":\"\"},\"colorscale\":[[0.0,\"#0d0887\"],[0.1111111111111111,\"#46039f\"],[0.2222222222222222,\"#7201a8\"],[0.3333333333333333,\"#9c179e\"],[0.4444444444444444,\"#bd3786\"],[0.5555555555555556,\"#d8576b\"],[0.6666666666666666,\"#ed7953\"],[0.7777777777777778,\"#fb9f3a\"],[0.8888888888888888,\"#fdca26\"],[1.0,\"#f0f921\"]]}],\"heatmapgl\":[{\"type\":\"heatmapgl\",\"colorbar\":{\"outlinewidth\":0,\"ticks\":\"\"},\"colorscale\":[[0.0,\"#0d0887\"],[0.1111111111111111,\"#46039f\"],[0.2222222222222222,\"#7201a8\"],[0.3333333333333333,\"#9c179e\"],[0.4444444444444444,\"#bd3786\"],[0.5555555555555556,\"#d8576b\"],[0.6666666666666666,\"#ed7953\"],[0.7777777777777778,\"#fb9f3a\"],[0.8888888888888888,\"#fdca26\"],[1.0,\"#f0f921\"]]}],\"contourcarpet\":[{\"type\":\"contourcarpet\",\"colorbar\":{\"outlinewidth\":0,\"ticks\":\"\"}}],\"contour\":[{\"type\":\"contour\",\"colorbar\":{\"outlinewidth\":0,\"ticks\":\"\"},\"colorscale\":[[0.0,\"#0d0887\"],[0.1111111111111111,\"#46039f\"],[0.2222222222222222,\"#7201a8\"],[0.3333333333333333,\"#9c179e\"],[0.4444444444444444,\"#bd3786\"],[0.5555555555555556,\"#d8576b\"],[0.6666666666666666,\"#ed7953\"],[0.7777777777777778,\"#fb9f3a\"],[0.8888888888888888,\"#fdca26\"],[1.0,\"#f0f921\"]]}],\"surface\":[{\"type\":\"surface\",\"colorbar\":{\"outlinewidth\":0,\"ticks\":\"\"},\"colorscale\":[[0.0,\"#0d0887\"],[0.1111111111111111,\"#46039f\"],[0.2222222222222222,\"#7201a8\"],[0.3333333333333333,\"#9c179e\"],[0.4444444444444444,\"#bd3786\"],[0.5555555555555556,\"#d8576b\"],[0.6666666666666666,\"#ed7953\"],[0.7777777777777778,\"#fb9f3a\"],[0.8888888888888888,\"#fdca26\"],[1.0,\"#f0f921\"]]}],\"mesh3d\":[{\"type\":\"mesh3d\",\"colorbar\":{\"outlinewidth\":0,\"ticks\":\"\"}}],\"scatter\":[{\"fillpattern\":{\"fillmode\":\"overlay\",\"size\":10,\"solidity\":0.2},\"type\":\"scatter\"}],\"parcoords\":[{\"type\":\"parcoords\",\"line\":{\"colorbar\":{\"outlinewidth\":0,\"ticks\":\"\"}}}],\"scatterpolargl\":[{\"type\":\"scatterpolargl\",\"marker\":{\"colorbar\":{\"outlinewidth\":0,\"ticks\":\"\"}}}],\"bar\":[{\"error_x\":{\"color\":\"#2a3f5f\"},\"error_y\":{\"color\":\"#2a3f5f\"},\"marker\":{\"line\":{\"color\":\"#E5ECF6\",\"width\":0.5},\"pattern\":{\"fillmode\":\"overlay\",\"size\":10,\"solidity\":0.2}},\"type\":\"bar\"}],\"scattergeo\":[{\"type\":\"scattergeo\",\"marker\":{\"colorbar\":{\"outlinewidth\":0,\"ticks\":\"\"}}}],\"scatterpolar\":[{\"type\":\"scatterpolar\",\"marker\":{\"colorbar\":{\"outlinewidth\":0,\"ticks\":\"\"}}}],\"histogram\":[{\"marker\":{\"pattern\":{\"fillmode\":\"overlay\",\"size\":10,\"solidity\":0.2}},\"type\":\"histogram\"}],\"scattergl\":[{\"type\":\"scattergl\",\"marker\":{\"colorbar\":{\"outlinewidth\":0,\"ticks\":\"\"}}}],\"scatter3d\":[{\"type\":\"scatter3d\",\"line\":{\"colorbar\":{\"outlinewidth\":0,\"ticks\":\"\"}},\"marker\":{\"colorbar\":{\"outlinewidth\":0,\"ticks\":\"\"}}}],\"scattermapbox\":[{\"type\":\"scattermapbox\",\"marker\":{\"colorbar\":{\"outlinewidth\":0,\"ticks\":\"\"}}}],\"scatterternary\":[{\"type\":\"scatterternary\",\"marker\":{\"colorbar\":{\"outlinewidth\":0,\"ticks\":\"\"}}}],\"scattercarpet\":[{\"type\":\"scattercarpet\",\"marker\":{\"colorbar\":{\"outlinewidth\":0,\"ticks\":\"\"}}}],\"carpet\":[{\"aaxis\":{\"endlinecolor\":\"#2a3f5f\",\"gridcolor\":\"white\",\"linecolor\":\"white\",\"minorgridcolor\":\"white\",\"startlinecolor\":\"#2a3f5f\"},\"baxis\":{\"endlinecolor\":\"#2a3f5f\",\"gridcolor\":\"white\",\"linecolor\":\"white\",\"minorgridcolor\":\"white\",\"startlinecolor\":\"#2a3f5f\"},\"type\":\"carpet\"}],\"table\":[{\"cells\":{\"fill\":{\"color\":\"#EBF0F8\"},\"line\":{\"color\":\"white\"}},\"header\":{\"fill\":{\"color\":\"#C8D4E3\"},\"line\":{\"color\":\"white\"}},\"type\":\"table\"}],\"barpolar\":[{\"marker\":{\"line\":{\"color\":\"#E5ECF6\",\"width\":0.5},\"pattern\":{\"fillmode\":\"overlay\",\"size\":10,\"solidity\":0.2}},\"type\":\"barpolar\"}],\"pie\":[{\"automargin\":true,\"type\":\"pie\"}]},\"layout\":{\"autotypenumbers\":\"strict\",\"colorway\":[\"#636efa\",\"#EF553B\",\"#00cc96\",\"#ab63fa\",\"#FFA15A\",\"#19d3f3\",\"#FF6692\",\"#B6E880\",\"#FF97FF\",\"#FECB52\"],\"font\":{\"color\":\"#2a3f5f\"},\"hovermode\":\"closest\",\"hoverlabel\":{\"align\":\"left\"},\"paper_bgcolor\":\"white\",\"plot_bgcolor\":\"#E5ECF6\",\"polar\":{\"bgcolor\":\"#E5ECF6\",\"angularaxis\":{\"gridcolor\":\"white\",\"linecolor\":\"white\",\"ticks\":\"\"},\"radialaxis\":{\"gridcolor\":\"white\",\"linecolor\":\"white\",\"ticks\":\"\"}},\"ternary\":{\"bgcolor\":\"#E5ECF6\",\"aaxis\":{\"gridcolor\":\"white\",\"linecolor\":\"white\",\"ticks\":\"\"},\"baxis\":{\"gridcolor\":\"white\",\"linecolor\":\"white\",\"ticks\":\"\"},\"caxis\":{\"gridcolor\":\"white\",\"linecolor\":\"white\",\"ticks\":\"\"}},\"coloraxis\":{\"colorbar\":{\"outlinewidth\":0,\"ticks\":\"\"}},\"colorscale\":{\"sequential\":[[0.0,\"#0d0887\"],[0.1111111111111111,\"#46039f\"],[0.2222222222222222,\"#7201a8\"],[0.3333333333333333,\"#9c179e\"],[0.4444444444444444,\"#bd3786\"],[0.5555555555555556,\"#d8576b\"],[0.6666666666666666,\"#ed7953\"],[0.7777777777777778,\"#fb9f3a\"],[0.8888888888888888,\"#fdca26\"],[1.0,\"#f0f921\"]],\"sequentialminus\":[[0.0,\"#0d0887\"],[0.1111111111111111,\"#46039f\"],[0.2222222222222222,\"#7201a8\"],[0.3333333333333333,\"#9c179e\"],[0.4444444444444444,\"#bd3786\"],[0.5555555555555556,\"#d8576b\"],[0.6666666666666666,\"#ed7953\"],[0.7777777777777778,\"#fb9f3a\"],[0.8888888888888888,\"#fdca26\"],[1.0,\"#f0f921\"]],\"diverging\":[[0,\"#8e0152\"],[0.1,\"#c51b7d\"],[0.2,\"#de77ae\"],[0.3,\"#f1b6da\"],[0.4,\"#fde0ef\"],[0.5,\"#f7f7f7\"],[0.6,\"#e6f5d0\"],[0.7,\"#b8e186\"],[0.8,\"#7fbc41\"],[0.9,\"#4d9221\"],[1,\"#276419\"]]},\"xaxis\":{\"gridcolor\":\"white\",\"linecolor\":\"white\",\"ticks\":\"\",\"title\":{\"standoff\":15},\"zerolinecolor\":\"white\",\"automargin\":true,\"zerolinewidth\":2},\"yaxis\":{\"gridcolor\":\"white\",\"linecolor\":\"white\",\"ticks\":\"\",\"title\":{\"standoff\":15},\"zerolinecolor\":\"white\",\"automargin\":true,\"zerolinewidth\":2},\"scene\":{\"xaxis\":{\"backgroundcolor\":\"#E5ECF6\",\"gridcolor\":\"white\",\"linecolor\":\"white\",\"showbackground\":true,\"ticks\":\"\",\"zerolinecolor\":\"white\",\"gridwidth\":2},\"yaxis\":{\"backgroundcolor\":\"#E5ECF6\",\"gridcolor\":\"white\",\"linecolor\":\"white\",\"showbackground\":true,\"ticks\":\"\",\"zerolinecolor\":\"white\",\"gridwidth\":2},\"zaxis\":{\"backgroundcolor\":\"#E5ECF6\",\"gridcolor\":\"white\",\"linecolor\":\"white\",\"showbackground\":true,\"ticks\":\"\",\"zerolinecolor\":\"white\",\"gridwidth\":2}},\"shapedefaults\":{\"line\":{\"color\":\"#2a3f5f\"}},\"annotationdefaults\":{\"arrowcolor\":\"#2a3f5f\",\"arrowhead\":0,\"arrowwidth\":1},\"geo\":{\"bgcolor\":\"white\",\"landcolor\":\"#E5ECF6\",\"subunitcolor\":\"white\",\"showland\":true,\"showlakes\":true,\"lakecolor\":\"white\"},\"title\":{\"x\":0.05},\"mapbox\":{\"style\":\"light\"}}},\"xaxis\":{\"anchor\":\"y\",\"domain\":[0.0,0.45],\"title\":{\"text\":\"Female Years Married\"},\"range\":[0,21.0]},\"yaxis\":{\"anchor\":\"x\",\"domain\":[0.0,1.0]},\"xaxis2\":{\"anchor\":\"y2\",\"domain\":[0.55,1.0],\"title\":{\"text\":\"Male Years Married\"},\"range\":[0,21.0]},\"yaxis2\":{\"anchor\":\"x2\",\"domain\":[0.0,1.0]},\"title\":{\"text\":\"Affair by Gender by Year Married\"}},                        {\"responsive\": true}                    ).then(function(){\n",
       "                            \n",
       "var gd = document.getElementById('e6d07bca-d9c0-4af5-84fd-7d5ad2f60be2');\n",
       "var x = new MutationObserver(function (mutations, observer) {{\n",
       "        var display = window.getComputedStyle(gd).display;\n",
       "        if (!display || display === 'none') {{\n",
       "            console.log([gd, 'removed!']);\n",
       "            Plotly.purge(gd);\n",
       "            observer.disconnect();\n",
       "        }}\n",
       "}});\n",
       "\n",
       "// Listen for the removal of the full notebook cells\n",
       "var notebookContainer = gd.closest('#notebook-container');\n",
       "if (notebookContainer) {{\n",
       "    x.observe(notebookContainer, {childList: true});\n",
       "}}\n",
       "\n",
       "// Listen for the clearing of the current output cell\n",
       "var outputEl = gd.closest('.output');\n",
       "if (outputEl) {{\n",
       "    x.observe(outputEl, {childList: true});\n",
       "}}\n",
       "\n",
       "                        })                };                });            </script>        </div>"
      ]
     },
     "metadata": {},
     "output_type": "display_data"
    }
   ],
   "source": [
    "ym = max(df.yearsmarried)\n",
    "\n",
    "fig = make_subplots(rows=1, cols=2)\n",
    "\n",
    "# plot data for female gender\n",
    "fig.add_trace(go.Bar(x=list(gyf.index), y=list(gyf.values),name='Female'), row=1, col=1)\n",
    "fig.update_xaxes(title_text=\"Female Years Married\", row=1, col=1,range=[0, ym+1])\n",
    "\n",
    "# plot data for male gender\n",
    "fig.add_trace(go.Bar(x=list(gym.index), y=list(gym.values),name='Male'), row=1, col=2)\n",
    "fig.update_xaxes(title_text=\"Male Years Married\", row=1, col=2,range=[0, ym+1])\n",
    "fig.update_layout(title=\"Affair by Gender by Year Married\")\n",
    "\n",
    "# show plot\n",
    "fig.show()"
   ]
  },
  {
   "cell_type": "code",
   "execution_count": 20,
   "id": "569bc1d0-a1fb-4d45-a7d1-faf34e6919b0",
   "metadata": {},
   "outputs": [
    {
     "data": {
      "text/plain": [
       "2.0    271\n",
       "4.0    256\n",
       "3.0    231\n",
       "1.0    103\n",
       "5.0     76\n",
       "0.0     20\n",
       "6.0      3\n",
       "7.0      1\n",
       "Name: religiousness, dtype: int64"
      ]
     },
     "execution_count": 20,
     "metadata": {},
     "output_type": "execute_result"
    }
   ],
   "source": [
    "# df.occupation.unique()\n",
    "df.religiousness.value_counts()\n",
    "# df.education.unique()\n",
    "# df.rating.unique()"
   ]
  },
  {
   "cell_type": "raw",
   "id": "51a91cd7-c612-40ed-82a2-a4ccf07ffbd1",
   "metadata": {
    "tags": []
   },
   "source": [
    "# Pie Charts"
   ]
  },
  {
   "cell_type": "code",
   "execution_count": 21,
   "id": "f387ec7d-f293-4904-a993-b48b94094d0a",
   "metadata": {},
   "outputs": [],
   "source": [
    "gp = df.groupby(['gender'],axis=0)['religiousness'].value_counts()"
   ]
  },
  {
   "cell_type": "code",
   "execution_count": 22,
   "id": "b426fe80-7a65-44e3-a6d0-25f2e978631f",
   "metadata": {
    "tags": []
   },
   "outputs": [
    {
     "data": {
      "text/plain": [
       "gender  religiousness\n",
       "female  0.0                8\n",
       "        1.0               52\n",
       "        2.0              157\n",
       "        3.0              127\n",
       "        4.0              131\n",
       "        5.0               38\n",
       "        6.0                3\n",
       "        7.0                1\n",
       "male    0.0               12\n",
       "        1.0               51\n",
       "        2.0              114\n",
       "        3.0              104\n",
       "        4.0              125\n",
       "        5.0               38\n",
       "Name: religiousness, dtype: int64"
      ]
     },
     "execution_count": 22,
     "metadata": {},
     "output_type": "execute_result"
    }
   ],
   "source": [
    "gp = gp.sort_index()\n",
    "gp"
   ]
  },
  {
   "cell_type": "code",
   "execution_count": 23,
   "id": "9d3b8a64-75d0-472c-b793-08e0d3c8a34d",
   "metadata": {},
   "outputs": [
    {
     "data": {
      "application/vnd.plotly.v1+json": {
       "config": {
        "plotlyServerURL": "https://plot.ly"
       },
       "data": [
        {
         "domain": {
          "x": [
           0,
           0.45
          ],
          "y": [
           0,
           1
          ]
         },
         "labels": [
          0,
          1,
          2,
          3,
          4,
          5,
          6,
          7
         ],
         "name": "Female",
         "type": "pie",
         "values": [
          8,
          52,
          157,
          127,
          131,
          38,
          3,
          1
         ]
        },
        {
         "domain": {
          "x": [
           0.55,
           1
          ],
          "y": [
           0,
           1
          ]
         },
         "labels": [
          0,
          1,
          2,
          3,
          4,
          5
         ],
         "name": "Male",
         "type": "pie",
         "values": [
          12,
          51,
          114,
          104,
          125,
          38
         ]
        }
       ],
       "layout": {
        "autosize": true,
        "legend": {
         "x": 1.1,
         "xanchor": "right",
         "y": 1.02
        },
        "template": {
         "data": {
          "bar": [
           {
            "error_x": {
             "color": "#2a3f5f"
            },
            "error_y": {
             "color": "#2a3f5f"
            },
            "marker": {
             "line": {
              "color": "#E5ECF6",
              "width": 0.5
             },
             "pattern": {
              "fillmode": "overlay",
              "size": 10,
              "solidity": 0.2
             }
            },
            "type": "bar"
           }
          ],
          "barpolar": [
           {
            "marker": {
             "line": {
              "color": "#E5ECF6",
              "width": 0.5
             },
             "pattern": {
              "fillmode": "overlay",
              "size": 10,
              "solidity": 0.2
             }
            },
            "type": "barpolar"
           }
          ],
          "carpet": [
           {
            "aaxis": {
             "endlinecolor": "#2a3f5f",
             "gridcolor": "white",
             "linecolor": "white",
             "minorgridcolor": "white",
             "startlinecolor": "#2a3f5f"
            },
            "baxis": {
             "endlinecolor": "#2a3f5f",
             "gridcolor": "white",
             "linecolor": "white",
             "minorgridcolor": "white",
             "startlinecolor": "#2a3f5f"
            },
            "type": "carpet"
           }
          ],
          "choropleth": [
           {
            "colorbar": {
             "outlinewidth": 0,
             "ticks": ""
            },
            "type": "choropleth"
           }
          ],
          "contour": [
           {
            "colorbar": {
             "outlinewidth": 0,
             "ticks": ""
            },
            "colorscale": [
             [
              0,
              "#0d0887"
             ],
             [
              0.1111111111111111,
              "#46039f"
             ],
             [
              0.2222222222222222,
              "#7201a8"
             ],
             [
              0.3333333333333333,
              "#9c179e"
             ],
             [
              0.4444444444444444,
              "#bd3786"
             ],
             [
              0.5555555555555556,
              "#d8576b"
             ],
             [
              0.6666666666666666,
              "#ed7953"
             ],
             [
              0.7777777777777778,
              "#fb9f3a"
             ],
             [
              0.8888888888888888,
              "#fdca26"
             ],
             [
              1,
              "#f0f921"
             ]
            ],
            "type": "contour"
           }
          ],
          "contourcarpet": [
           {
            "colorbar": {
             "outlinewidth": 0,
             "ticks": ""
            },
            "type": "contourcarpet"
           }
          ],
          "heatmap": [
           {
            "colorbar": {
             "outlinewidth": 0,
             "ticks": ""
            },
            "colorscale": [
             [
              0,
              "#0d0887"
             ],
             [
              0.1111111111111111,
              "#46039f"
             ],
             [
              0.2222222222222222,
              "#7201a8"
             ],
             [
              0.3333333333333333,
              "#9c179e"
             ],
             [
              0.4444444444444444,
              "#bd3786"
             ],
             [
              0.5555555555555556,
              "#d8576b"
             ],
             [
              0.6666666666666666,
              "#ed7953"
             ],
             [
              0.7777777777777778,
              "#fb9f3a"
             ],
             [
              0.8888888888888888,
              "#fdca26"
             ],
             [
              1,
              "#f0f921"
             ]
            ],
            "type": "heatmap"
           }
          ],
          "heatmapgl": [
           {
            "colorbar": {
             "outlinewidth": 0,
             "ticks": ""
            },
            "colorscale": [
             [
              0,
              "#0d0887"
             ],
             [
              0.1111111111111111,
              "#46039f"
             ],
             [
              0.2222222222222222,
              "#7201a8"
             ],
             [
              0.3333333333333333,
              "#9c179e"
             ],
             [
              0.4444444444444444,
              "#bd3786"
             ],
             [
              0.5555555555555556,
              "#d8576b"
             ],
             [
              0.6666666666666666,
              "#ed7953"
             ],
             [
              0.7777777777777778,
              "#fb9f3a"
             ],
             [
              0.8888888888888888,
              "#fdca26"
             ],
             [
              1,
              "#f0f921"
             ]
            ],
            "type": "heatmapgl"
           }
          ],
          "histogram": [
           {
            "marker": {
             "pattern": {
              "fillmode": "overlay",
              "size": 10,
              "solidity": 0.2
             }
            },
            "type": "histogram"
           }
          ],
          "histogram2d": [
           {
            "colorbar": {
             "outlinewidth": 0,
             "ticks": ""
            },
            "colorscale": [
             [
              0,
              "#0d0887"
             ],
             [
              0.1111111111111111,
              "#46039f"
             ],
             [
              0.2222222222222222,
              "#7201a8"
             ],
             [
              0.3333333333333333,
              "#9c179e"
             ],
             [
              0.4444444444444444,
              "#bd3786"
             ],
             [
              0.5555555555555556,
              "#d8576b"
             ],
             [
              0.6666666666666666,
              "#ed7953"
             ],
             [
              0.7777777777777778,
              "#fb9f3a"
             ],
             [
              0.8888888888888888,
              "#fdca26"
             ],
             [
              1,
              "#f0f921"
             ]
            ],
            "type": "histogram2d"
           }
          ],
          "histogram2dcontour": [
           {
            "colorbar": {
             "outlinewidth": 0,
             "ticks": ""
            },
            "colorscale": [
             [
              0,
              "#0d0887"
             ],
             [
              0.1111111111111111,
              "#46039f"
             ],
             [
              0.2222222222222222,
              "#7201a8"
             ],
             [
              0.3333333333333333,
              "#9c179e"
             ],
             [
              0.4444444444444444,
              "#bd3786"
             ],
             [
              0.5555555555555556,
              "#d8576b"
             ],
             [
              0.6666666666666666,
              "#ed7953"
             ],
             [
              0.7777777777777778,
              "#fb9f3a"
             ],
             [
              0.8888888888888888,
              "#fdca26"
             ],
             [
              1,
              "#f0f921"
             ]
            ],
            "type": "histogram2dcontour"
           }
          ],
          "mesh3d": [
           {
            "colorbar": {
             "outlinewidth": 0,
             "ticks": ""
            },
            "type": "mesh3d"
           }
          ],
          "parcoords": [
           {
            "line": {
             "colorbar": {
              "outlinewidth": 0,
              "ticks": ""
             }
            },
            "type": "parcoords"
           }
          ],
          "pie": [
           {
            "automargin": true,
            "type": "pie"
           }
          ],
          "scatter": [
           {
            "fillpattern": {
             "fillmode": "overlay",
             "size": 10,
             "solidity": 0.2
            },
            "type": "scatter"
           }
          ],
          "scatter3d": [
           {
            "line": {
             "colorbar": {
              "outlinewidth": 0,
              "ticks": ""
             }
            },
            "marker": {
             "colorbar": {
              "outlinewidth": 0,
              "ticks": ""
             }
            },
            "type": "scatter3d"
           }
          ],
          "scattercarpet": [
           {
            "marker": {
             "colorbar": {
              "outlinewidth": 0,
              "ticks": ""
             }
            },
            "type": "scattercarpet"
           }
          ],
          "scattergeo": [
           {
            "marker": {
             "colorbar": {
              "outlinewidth": 0,
              "ticks": ""
             }
            },
            "type": "scattergeo"
           }
          ],
          "scattergl": [
           {
            "marker": {
             "colorbar": {
              "outlinewidth": 0,
              "ticks": ""
             }
            },
            "type": "scattergl"
           }
          ],
          "scattermapbox": [
           {
            "marker": {
             "colorbar": {
              "outlinewidth": 0,
              "ticks": ""
             }
            },
            "type": "scattermapbox"
           }
          ],
          "scatterpolar": [
           {
            "marker": {
             "colorbar": {
              "outlinewidth": 0,
              "ticks": ""
             }
            },
            "type": "scatterpolar"
           }
          ],
          "scatterpolargl": [
           {
            "marker": {
             "colorbar": {
              "outlinewidth": 0,
              "ticks": ""
             }
            },
            "type": "scatterpolargl"
           }
          ],
          "scatterternary": [
           {
            "marker": {
             "colorbar": {
              "outlinewidth": 0,
              "ticks": ""
             }
            },
            "type": "scatterternary"
           }
          ],
          "surface": [
           {
            "colorbar": {
             "outlinewidth": 0,
             "ticks": ""
            },
            "colorscale": [
             [
              0,
              "#0d0887"
             ],
             [
              0.1111111111111111,
              "#46039f"
             ],
             [
              0.2222222222222222,
              "#7201a8"
             ],
             [
              0.3333333333333333,
              "#9c179e"
             ],
             [
              0.4444444444444444,
              "#bd3786"
             ],
             [
              0.5555555555555556,
              "#d8576b"
             ],
             [
              0.6666666666666666,
              "#ed7953"
             ],
             [
              0.7777777777777778,
              "#fb9f3a"
             ],
             [
              0.8888888888888888,
              "#fdca26"
             ],
             [
              1,
              "#f0f921"
             ]
            ],
            "type": "surface"
           }
          ],
          "table": [
           {
            "cells": {
             "fill": {
              "color": "#EBF0F8"
             },
             "line": {
              "color": "white"
             }
            },
            "header": {
             "fill": {
              "color": "#C8D4E3"
             },
             "line": {
              "color": "white"
             }
            },
            "type": "table"
           }
          ]
         },
         "layout": {
          "annotationdefaults": {
           "arrowcolor": "#2a3f5f",
           "arrowhead": 0,
           "arrowwidth": 1
          },
          "autotypenumbers": "strict",
          "coloraxis": {
           "colorbar": {
            "outlinewidth": 0,
            "ticks": ""
           }
          },
          "colorscale": {
           "diverging": [
            [
             0,
             "#8e0152"
            ],
            [
             0.1,
             "#c51b7d"
            ],
            [
             0.2,
             "#de77ae"
            ],
            [
             0.3,
             "#f1b6da"
            ],
            [
             0.4,
             "#fde0ef"
            ],
            [
             0.5,
             "#f7f7f7"
            ],
            [
             0.6,
             "#e6f5d0"
            ],
            [
             0.7,
             "#b8e186"
            ],
            [
             0.8,
             "#7fbc41"
            ],
            [
             0.9,
             "#4d9221"
            ],
            [
             1,
             "#276419"
            ]
           ],
           "sequential": [
            [
             0,
             "#0d0887"
            ],
            [
             0.1111111111111111,
             "#46039f"
            ],
            [
             0.2222222222222222,
             "#7201a8"
            ],
            [
             0.3333333333333333,
             "#9c179e"
            ],
            [
             0.4444444444444444,
             "#bd3786"
            ],
            [
             0.5555555555555556,
             "#d8576b"
            ],
            [
             0.6666666666666666,
             "#ed7953"
            ],
            [
             0.7777777777777778,
             "#fb9f3a"
            ],
            [
             0.8888888888888888,
             "#fdca26"
            ],
            [
             1,
             "#f0f921"
            ]
           ],
           "sequentialminus": [
            [
             0,
             "#0d0887"
            ],
            [
             0.1111111111111111,
             "#46039f"
            ],
            [
             0.2222222222222222,
             "#7201a8"
            ],
            [
             0.3333333333333333,
             "#9c179e"
            ],
            [
             0.4444444444444444,
             "#bd3786"
            ],
            [
             0.5555555555555556,
             "#d8576b"
            ],
            [
             0.6666666666666666,
             "#ed7953"
            ],
            [
             0.7777777777777778,
             "#fb9f3a"
            ],
            [
             0.8888888888888888,
             "#fdca26"
            ],
            [
             1,
             "#f0f921"
            ]
           ]
          },
          "colorway": [
           "#636efa",
           "#EF553B",
           "#00cc96",
           "#ab63fa",
           "#FFA15A",
           "#19d3f3",
           "#FF6692",
           "#B6E880",
           "#FF97FF",
           "#FECB52"
          ],
          "font": {
           "color": "#2a3f5f"
          },
          "geo": {
           "bgcolor": "white",
           "lakecolor": "white",
           "landcolor": "#E5ECF6",
           "showlakes": true,
           "showland": true,
           "subunitcolor": "white"
          },
          "hoverlabel": {
           "align": "left"
          },
          "hovermode": "closest",
          "mapbox": {
           "style": "light"
          },
          "paper_bgcolor": "white",
          "plot_bgcolor": "#E5ECF6",
          "polar": {
           "angularaxis": {
            "gridcolor": "white",
            "linecolor": "white",
            "ticks": ""
           },
           "bgcolor": "#E5ECF6",
           "radialaxis": {
            "gridcolor": "white",
            "linecolor": "white",
            "ticks": ""
           }
          },
          "scene": {
           "xaxis": {
            "backgroundcolor": "#E5ECF6",
            "gridcolor": "white",
            "gridwidth": 2,
            "linecolor": "white",
            "showbackground": true,
            "ticks": "",
            "zerolinecolor": "white"
           },
           "yaxis": {
            "backgroundcolor": "#E5ECF6",
            "gridcolor": "white",
            "gridwidth": 2,
            "linecolor": "white",
            "showbackground": true,
            "ticks": "",
            "zerolinecolor": "white"
           },
           "zaxis": {
            "backgroundcolor": "#E5ECF6",
            "gridcolor": "white",
            "gridwidth": 2,
            "linecolor": "white",
            "showbackground": true,
            "ticks": "",
            "zerolinecolor": "white"
           }
          },
          "shapedefaults": {
           "line": {
            "color": "#2a3f5f"
           }
          },
          "ternary": {
           "aaxis": {
            "gridcolor": "white",
            "linecolor": "white",
            "ticks": ""
           },
           "baxis": {
            "gridcolor": "white",
            "linecolor": "white",
            "ticks": ""
           },
           "bgcolor": "#E5ECF6",
           "caxis": {
            "gridcolor": "white",
            "linecolor": "white",
            "ticks": ""
           }
          },
          "title": {
           "x": 0.05
          },
          "xaxis": {
           "automargin": true,
           "gridcolor": "white",
           "linecolor": "white",
           "ticks": "",
           "title": {
            "standoff": 15
           },
           "zerolinecolor": "white",
           "zerolinewidth": 2
          },
          "yaxis": {
           "automargin": true,
           "gridcolor": "white",
           "linecolor": "white",
           "ticks": "",
           "title": {
            "standoff": 15
           },
           "zerolinecolor": "white",
           "zerolinewidth": 2
          }
         }
        },
        "title": {
         "text": "Percentage of religious individuals by Gender"
        }
       }
      },
      "image/png": "[encoded data removed]",
      "text/html": [
       "<div>                            <div id=\"0167662e-d876-4c65-af2c-b599342968c6\" class=\"plotly-graph-div\" style=\"height:525px; width:100%;\"></div>            <script type=\"text/javascript\">                require([\"plotly\"], function(Plotly) {                    window.PLOTLYENV=window.PLOTLYENV || {};                                    if (document.getElementById(\"0167662e-d876-4c65-af2c-b599342968c6\")) {                    Plotly.newPlot(                        \"0167662e-d876-4c65-af2c-b599342968c6\",                        [{\"labels\":[0.0,1.0,2.0,3.0,4.0,5.0,6.0,7.0],\"name\":\"Female\",\"values\":[8,52,157,127,131,38,3,1],\"type\":\"pie\",\"domain\":{\"x\":[0.0,0.45],\"y\":[0.0,1.0]}},{\"labels\":[0.0,1.0,2.0,3.0,4.0,5.0],\"name\":\"Male\",\"values\":[12,51,114,104,125,38],\"type\":\"pie\",\"domain\":{\"x\":[0.55,1.0],\"y\":[0.0,1.0]}}],                        {\"template\":{\"data\":{\"histogram2dcontour\":[{\"type\":\"histogram2dcontour\",\"colorbar\":{\"outlinewidth\":0,\"ticks\":\"\"},\"colorscale\":[[0.0,\"#0d0887\"],[0.1111111111111111,\"#46039f\"],[0.2222222222222222,\"#7201a8\"],[0.3333333333333333,\"#9c179e\"],[0.4444444444444444,\"#bd3786\"],[0.5555555555555556,\"#d8576b\"],[0.6666666666666666,\"#ed7953\"],[0.7777777777777778,\"#fb9f3a\"],[0.8888888888888888,\"#fdca26\"],[1.0,\"#f0f921\"]]}],\"choropleth\":[{\"type\":\"choropleth\",\"colorbar\":{\"outlinewidth\":0,\"ticks\":\"\"}}],\"histogram2d\":[{\"type\":\"histogram2d\",\"colorbar\":{\"outlinewidth\":0,\"ticks\":\"\"},\"colorscale\":[[0.0,\"#0d0887\"],[0.1111111111111111,\"#46039f\"],[0.2222222222222222,\"#7201a8\"],[0.3333333333333333,\"#9c179e\"],[0.4444444444444444,\"#bd3786\"],[0.5555555555555556,\"#d8576b\"],[0.6666666666666666,\"#ed7953\"],[0.7777777777777778,\"#fb9f3a\"],[0.8888888888888888,\"#fdca26\"],[1.0,\"#f0f921\"]]}],\"heatmap\":[{\"type\":\"heatmap\",\"colorbar\":{\"outlinewidth\":0,\"ticks\":\"\"},\"colorscale\":[[0.0,\"#0d0887\"],[0.1111111111111111,\"#46039f\"],[0.2222222222222222,\"#7201a8\"],[0.3333333333333333,\"#9c179e\"],[0.4444444444444444,\"#bd3786\"],[0.5555555555555556,\"#d8576b\"],[0.6666666666666666,\"#ed7953\"],[0.7777777777777778,\"#fb9f3a\"],[0.8888888888888888,\"#fdca26\"],[1.0,\"#f0f921\"]]}],\"heatmapgl\":[{\"type\":\"heatmapgl\",\"colorbar\":{\"outlinewidth\":0,\"ticks\":\"\"},\"colorscale\":[[0.0,\"#0d0887\"],[0.1111111111111111,\"#46039f\"],[0.2222222222222222,\"#7201a8\"],[0.3333333333333333,\"#9c179e\"],[0.4444444444444444,\"#bd3786\"],[0.5555555555555556,\"#d8576b\"],[0.6666666666666666,\"#ed7953\"],[0.7777777777777778,\"#fb9f3a\"],[0.8888888888888888,\"#fdca26\"],[1.0,\"#f0f921\"]]}],\"contourcarpet\":[{\"type\":\"contourcarpet\",\"colorbar\":{\"outlinewidth\":0,\"ticks\":\"\"}}],\"contour\":[{\"type\":\"contour\",\"colorbar\":{\"outlinewidth\":0,\"ticks\":\"\"},\"colorscale\":[[0.0,\"#0d0887\"],[0.1111111111111111,\"#46039f\"],[0.2222222222222222,\"#7201a8\"],[0.3333333333333333,\"#9c179e\"],[0.4444444444444444,\"#bd3786\"],[0.5555555555555556,\"#d8576b\"],[0.6666666666666666,\"#ed7953\"],[0.7777777777777778,\"#fb9f3a\"],[0.8888888888888888,\"#fdca26\"],[1.0,\"#f0f921\"]]}],\"surface\":[{\"type\":\"surface\",\"colorbar\":{\"outlinewidth\":0,\"ticks\":\"\"},\"colorscale\":[[0.0,\"#0d0887\"],[0.1111111111111111,\"#46039f\"],[0.2222222222222222,\"#7201a8\"],[0.3333333333333333,\"#9c179e\"],[0.4444444444444444,\"#bd3786\"],[0.5555555555555556,\"#d8576b\"],[0.6666666666666666,\"#ed7953\"],[0.7777777777777778,\"#fb9f3a\"],[0.8888888888888888,\"#fdca26\"],[1.0,\"#f0f921\"]]}],\"mesh3d\":[{\"type\":\"mesh3d\",\"colorbar\":{\"outlinewidth\":0,\"ticks\":\"\"}}],\"scatter\":[{\"fillpattern\":{\"fillmode\":\"overlay\",\"size\":10,\"solidity\":0.2},\"type\":\"scatter\"}],\"parcoords\":[{\"type\":\"parcoords\",\"line\":{\"colorbar\":{\"outlinewidth\":0,\"ticks\":\"\"}}}],\"scatterpolargl\":[{\"type\":\"scatterpolargl\",\"marker\":{\"colorbar\":{\"outlinewidth\":0,\"ticks\":\"\"}}}],\"bar\":[{\"error_x\":{\"color\":\"#2a3f5f\"},\"error_y\":{\"color\":\"#2a3f5f\"},\"marker\":{\"line\":{\"color\":\"#E5ECF6\",\"width\":0.5},\"pattern\":{\"fillmode\":\"overlay\",\"size\":10,\"solidity\":0.2}},\"type\":\"bar\"}],\"scattergeo\":[{\"type\":\"scattergeo\",\"marker\":{\"colorbar\":{\"outlinewidth\":0,\"ticks\":\"\"}}}],\"scatterpolar\":[{\"type\":\"scatterpolar\",\"marker\":{\"colorbar\":{\"outlinewidth\":0,\"ticks\":\"\"}}}],\"histogram\":[{\"marker\":{\"pattern\":{\"fillmode\":\"overlay\",\"size\":10,\"solidity\":0.2}},\"type\":\"histogram\"}],\"scattergl\":[{\"type\":\"scattergl\",\"marker\":{\"colorbar\":{\"outlinewidth\":0,\"ticks\":\"\"}}}],\"scatter3d\":[{\"type\":\"scatter3d\",\"line\":{\"colorbar\":{\"outlinewidth\":0,\"ticks\":\"\"}},\"marker\":{\"colorbar\":{\"outlinewidth\":0,\"ticks\":\"\"}}}],\"scattermapbox\":[{\"type\":\"scattermapbox\",\"marker\":{\"colorbar\":{\"outlinewidth\":0,\"ticks\":\"\"}}}],\"scatterternary\":[{\"type\":\"scatterternary\",\"marker\":{\"colorbar\":{\"outlinewidth\":0,\"ticks\":\"\"}}}],\"scattercarpet\":[{\"type\":\"scattercarpet\",\"marker\":{\"colorbar\":{\"outlinewidth\":0,\"ticks\":\"\"}}}],\"carpet\":[{\"aaxis\":{\"endlinecolor\":\"#2a3f5f\",\"gridcolor\":\"white\",\"linecolor\":\"white\",\"minorgridcolor\":\"white\",\"startlinecolor\":\"#2a3f5f\"},\"baxis\":{\"endlinecolor\":\"#2a3f5f\",\"gridcolor\":\"white\",\"linecolor\":\"white\",\"minorgridcolor\":\"white\",\"startlinecolor\":\"#2a3f5f\"},\"type\":\"carpet\"}],\"table\":[{\"cells\":{\"fill\":{\"color\":\"#EBF0F8\"},\"line\":{\"color\":\"white\"}},\"header\":{\"fill\":{\"color\":\"#C8D4E3\"},\"line\":{\"color\":\"white\"}},\"type\":\"table\"}],\"barpolar\":[{\"marker\":{\"line\":{\"color\":\"#E5ECF6\",\"width\":0.5},\"pattern\":{\"fillmode\":\"overlay\",\"size\":10,\"solidity\":0.2}},\"type\":\"barpolar\"}],\"pie\":[{\"automargin\":true,\"type\":\"pie\"}]},\"layout\":{\"autotypenumbers\":\"strict\",\"colorway\":[\"#636efa\",\"#EF553B\",\"#00cc96\",\"#ab63fa\",\"#FFA15A\",\"#19d3f3\",\"#FF6692\",\"#B6E880\",\"#FF97FF\",\"#FECB52\"],\"font\":{\"color\":\"#2a3f5f\"},\"hovermode\":\"closest\",\"hoverlabel\":{\"align\":\"left\"},\"paper_bgcolor\":\"white\",\"plot_bgcolor\":\"#E5ECF6\",\"polar\":{\"bgcolor\":\"#E5ECF6\",\"angularaxis\":{\"gridcolor\":\"white\",\"linecolor\":\"white\",\"ticks\":\"\"},\"radialaxis\":{\"gridcolor\":\"white\",\"linecolor\":\"white\",\"ticks\":\"\"}},\"ternary\":{\"bgcolor\":\"#E5ECF6\",\"aaxis\":{\"gridcolor\":\"white\",\"linecolor\":\"white\",\"ticks\":\"\"},\"baxis\":{\"gridcolor\":\"white\",\"linecolor\":\"white\",\"ticks\":\"\"},\"caxis\":{\"gridcolor\":\"white\",\"linecolor\":\"white\",\"ticks\":\"\"}},\"coloraxis\":{\"colorbar\":{\"outlinewidth\":0,\"ticks\":\"\"}},\"colorscale\":{\"sequential\":[[0.0,\"#0d0887\"],[0.1111111111111111,\"#46039f\"],[0.2222222222222222,\"#7201a8\"],[0.3333333333333333,\"#9c179e\"],[0.4444444444444444,\"#bd3786\"],[0.5555555555555556,\"#d8576b\"],[0.6666666666666666,\"#ed7953\"],[0.7777777777777778,\"#fb9f3a\"],[0.8888888888888888,\"#fdca26\"],[1.0,\"#f0f921\"]],\"sequentialminus\":[[0.0,\"#0d0887\"],[0.1111111111111111,\"#46039f\"],[0.2222222222222222,\"#7201a8\"],[0.3333333333333333,\"#9c179e\"],[0.4444444444444444,\"#bd3786\"],[0.5555555555555556,\"#d8576b\"],[0.6666666666666666,\"#ed7953\"],[0.7777777777777778,\"#fb9f3a\"],[0.8888888888888888,\"#fdca26\"],[1.0,\"#f0f921\"]],\"diverging\":[[0,\"#8e0152\"],[0.1,\"#c51b7d\"],[0.2,\"#de77ae\"],[0.3,\"#f1b6da\"],[0.4,\"#fde0ef\"],[0.5,\"#f7f7f7\"],[0.6,\"#e6f5d0\"],[0.7,\"#b8e186\"],[0.8,\"#7fbc41\"],[0.9,\"#4d9221\"],[1,\"#276419\"]]},\"xaxis\":{\"gridcolor\":\"white\",\"linecolor\":\"white\",\"ticks\":\"\",\"title\":{\"standoff\":15},\"zerolinecolor\":\"white\",\"automargin\":true,\"zerolinewidth\":2},\"yaxis\":{\"gridcolor\":\"white\",\"linecolor\":\"white\",\"ticks\":\"\",\"title\":{\"standoff\":15},\"zerolinecolor\":\"white\",\"automargin\":true,\"zerolinewidth\":2},\"scene\":{\"xaxis\":{\"backgroundcolor\":\"#E5ECF6\",\"gridcolor\":\"white\",\"linecolor\":\"white\",\"showbackground\":true,\"ticks\":\"\",\"zerolinecolor\":\"white\",\"gridwidth\":2},\"yaxis\":{\"backgroundcolor\":\"#E5ECF6\",\"gridcolor\":\"white\",\"linecolor\":\"white\",\"showbackground\":true,\"ticks\":\"\",\"zerolinecolor\":\"white\",\"gridwidth\":2},\"zaxis\":{\"backgroundcolor\":\"#E5ECF6\",\"gridcolor\":\"white\",\"linecolor\":\"white\",\"showbackground\":true,\"ticks\":\"\",\"zerolinecolor\":\"white\",\"gridwidth\":2}},\"shapedefaults\":{\"line\":{\"color\":\"#2a3f5f\"}},\"annotationdefaults\":{\"arrowcolor\":\"#2a3f5f\",\"arrowhead\":0,\"arrowwidth\":1},\"geo\":{\"bgcolor\":\"white\",\"landcolor\":\"#E5ECF6\",\"subunitcolor\":\"white\",\"showland\":true,\"showlakes\":true,\"lakecolor\":\"white\"},\"title\":{\"x\":0.05},\"mapbox\":{\"style\":\"light\"}}},\"legend\":{\"y\":1.02,\"xanchor\":\"right\",\"x\":1.1},\"title\":{\"text\":\"Percentage of religious individuals by Gender\"}},                        {\"responsive\": true}                    ).then(function(){\n",
       "                            \n",
       "var gd = document.getElementById('0167662e-d876-4c65-af2c-b599342968c6');\n",
       "var x = new MutationObserver(function (mutations, observer) {{\n",
       "        var display = window.getComputedStyle(gd).display;\n",
       "        if (!display || display === 'none') {{\n",
       "            console.log([gd, 'removed!']);\n",
       "            Plotly.purge(gd);\n",
       "            observer.disconnect();\n",
       "        }}\n",
       "}});\n",
       "\n",
       "// Listen for the removal of the full notebook cells\n",
       "var notebookContainer = gd.closest('#notebook-container');\n",
       "if (notebookContainer) {{\n",
       "    x.observe(notebookContainer, {childList: true});\n",
       "}}\n",
       "\n",
       "// Listen for the clearing of the current output cell\n",
       "var outputEl = gd.closest('.output');\n",
       "if (outputEl) {{\n",
       "    x.observe(outputEl, {childList: true});\n",
       "}}\n",
       "\n",
       "                        })                };                });            </script>        </div>"
      ]
     },
     "metadata": {},
     "output_type": "display_data"
    }
   ],
   "source": [
    "gpf = gp['female']\n",
    "gpm = gp['male']\n",
    "\n",
    "# Create the pie chart trace\n",
    "trace_pie1 = go.Pie(labels=gpf.index, values=gpf.values,name='Female')\n",
    "trace_pie2 = go.Pie(labels=gpm.index, values=gpm.values,name='Male')\n",
    "# Create the subplots\n",
    "fig = make_subplots(rows=1, cols=2, specs=[[{'type': 'pie'}, {'type': 'pie'}]])\n",
    "\n",
    "# Add the traces to the subplots\n",
    "fig.add_trace(trace_pie1, row=1, col=1)\n",
    "fig.add_trace(trace_pie2, row=1, col=2)\n",
    "fig.update_xaxes(title_text='Female', row=1, col=1)\n",
    "fig.update_xaxes(title_text='Male', row=1, col=2)\n",
    "\n",
    "# Set the layout of the chart\n",
    "fig.update_layout(title='Percentage of religious individuals by Gender',legend=dict(y=1.02,\n",
    "                        xanchor='right',x=1.1 ))\n",
    "\n",
    "fig.show()"
   ]
  },
  {
   "cell_type": "raw",
   "id": "61624be6-0438-4d8d-9761-a3594f9b9366",
   "metadata": {},
   "source": [
    "* Violin Plot\n",
    "Violin Plot is a combination of the boxplot and KDE\n",
    "While a box plot corresponds to data points, the violin plot uses the KDE estimation of the data points"
   ]
  },
  {
   "cell_type": "code",
   "execution_count": 24,
   "id": "f00ce122-fad2-46a8-8eaf-4b7c7a5e69f3",
   "metadata": {},
   "outputs": [
    {
     "data": {
      "application/vnd.plotly.v1+json": {
       "config": {
        "plotlyServerURL": "https://plot.ly"
       },
       "data": [
        {
         "alignmentgroup": "True",
         "box": {
          "visible": true
         },
         "customdata": [
          [
           0,
           "No",
           10,
           "no",
           3,
           18,
           7,
           4,
           "urban",
           "yes",
           "150000 - 200,000"
          ],
          [
           0,
           "No",
           4,
           "no",
           4,
           14,
           6,
           4,
           "rural",
           "no",
           "150000 - 200,000"
          ],
          [
           0,
           "No",
           15,
           "yes",
           1,
           12,
           1,
           4,
           "rural",
           "no",
           "Under 25000"
          ],
          [
           0,
           "No",
           15,
           "yes",
           5,
           18,
           6,
           5,
           "rural",
           "yes",
           "75,000 - 100000"
          ],
          [
           0,
           "No",
           0.75,
           "no",
           2,
           17,
           6,
           3,
           "rural",
           "yes",
           "75,000 - 100000"
          ],
          [
           0,
           "No",
           1.5,
           "no",
           2,
           17,
           5,
           5,
           "urban",
           "no",
           "50000 - 75000"
          ],
          [
           0,
           "No",
           0.75,
           "no",
           2,
           12,
           1,
           3,
           "urban",
           "yes",
           "50000 - 75000"
          ],
          [
           0,
           "No",
           15,
           "yes",
           2,
           14,
           4,
           4,
           "rural",
           "yes",
           "200000 or more"
          ],
          [
           0,
           "No",
           15,
           "yes",
           4,
           16,
           1,
           2,
           "rural",
           "no",
           "50000 - 75000"
          ],
          [
           0,
           "No",
           1.5,
           "no",
           4,
           14,
           4,
           5,
           "urban",
           "yes",
           "75,000 - 100000"
          ],
          [
           0,
           "No",
           15,
           "yes",
           2,
           20,
           7,
           2,
           "rural",
           "no",
           "200000 or more"
          ],
          [
           0,
           "No",
           4,
           "yes",
           4,
           18,
           6,
           4,
           "rural",
           "yes",
           "150000 - 200,000"
          ],
          [
           0,
           "No",
           15,
           "yes",
           5,
           17,
           6,
           4,
           "urban",
           "no",
           "100000 - 150000"
          ],
          [
           0,
           "No",
           1.5,
           "no",
           2,
           17,
           5,
           4,
           "urban",
           "no",
           "150000 - 200,000"
          ],
          [
           0,
           "No",
           4,
           "no",
           4,
           14,
           5,
           4,
           "rural",
           "yes",
           "200000 or more"
          ],
          [
           0,
           "No",
           15,
           "yes",
           1,
           17,
           5,
           5,
           "urban",
           "no",
           "150000 - 200,000"
          ],
          [
           0,
           "No",
           15,
           "yes",
           2,
           18,
           4,
           3,
           "rural",
           "yes",
           "50000 - 75000"
          ],
          [
           0,
           "No",
           0.75,
           "no",
           3,
           16,
           5,
           4,
           "rural",
           "no",
           "Under 25000"
          ],
          [
           0,
           "No",
           1.5,
           "no",
           2,
           16,
           5,
           5,
           "rural",
           "yes",
           "Under 25000"
          ],
          [
           0,
           "No",
           10,
           "yes",
           2,
           14,
           1,
           5,
           "urban",
           "yes",
           "Under 25000"
          ],
          [
           0,
           "No",
           1.5,
           "no",
           2,
           16,
           5,
           5,
           "urban",
           "no",
           "100000 - 150000"
          ],
          [
           0,
           "No",
           1.5,
           "no",
           2,
           16,
           5,
           5,
           "urban",
           "no",
           "50000 - 75000"
          ],
          [
           0,
           "No",
           10,
           "yes",
           4,
           16,
           5,
           4,
           "rural",
           "no",
           "75,000 - 100000"
          ],
          [
           0,
           "No",
           10,
           "yes",
           3,
           14,
           1,
           5,
           "urban",
           "no",
           "50000 - 75000"
          ],
          [
           0,
           "No",
           4,
           "yes",
           2,
           20,
           6,
           4,
           "urban",
           "no",
           "Under 25000"
          ],
          [
           0,
           "No",
           1.5,
           "no",
           2,
           18,
           5,
           5,
           "rural",
           "no",
           "75,000 - 100000"
          ],
          [
           0,
           "No",
           7,
           "no",
           4,
           16,
           1,
           5,
           "urban",
           "no",
           "25000 - 50000"
          ],
          [
           0,
           "No",
           15,
           "yes",
           5,
           20,
           6,
           4,
           "urban",
           "yes",
           "100000 - 150000"
          ],
          [
           0,
           "No",
           4,
           "yes",
           3,
           16,
           5,
           5,
           "rural",
           "yes",
           "200000 or more"
          ],
          [
           0,
           "No",
           4,
           "yes",
           3,
           17,
           5,
           4,
           "urban",
           "yes",
           "75,000 - 100000"
          ],
          [
           0,
           "No",
           15,
           "yes",
           4,
           20,
           6,
           3,
           "urban",
           "yes",
           "25000 - 50000"
          ],
          [
           0,
           "No",
           1.5,
           "no",
           3,
           16,
           5,
           5,
           "rural",
           "no",
           "75,000 - 100000"
          ],
          [
           0,
           "No",
           0.417,
           "no",
           4,
           17,
           6,
           4,
           "urban",
           "yes",
           "200000 or more"
          ],
          [
           0,
           "No",
           15,
           "yes",
           5,
           14,
           5,
           4,
           "rural",
           "yes",
           "50000 - 75000"
          ],
          [
           0,
           "No",
           4,
           "yes",
           1,
           18,
           6,
           4,
           "rural",
           "yes",
           "150000 - 200,000"
          ],
          [
           0,
           "No",
           1.5,
           "no",
           4,
           16,
           5,
           3,
           "rural",
           "no",
           "50000 - 75000"
          ],
          [
           0,
           "No",
           15,
           "yes",
           3,
           12,
           1,
           4,
           "rural",
           "no",
           "200000 or more"
          ],
          [
           0,
           "No",
           4,
           "no",
           4,
           17,
           5,
           5,
           "urban",
           "yes",
           "150000 - 200,000"
          ],
          [
           0,
           "No",
           1.5,
           "yes",
           1,
           14,
           3,
           5,
           "rural",
           "yes",
           "75,000 - 100000"
          ],
          [
           0,
           "No",
           0.75,
           "no",
           3,
           16,
           1,
           5,
           "rural",
           "no",
           "100000 - 150000"
          ],
          [
           0,
           "No",
           10,
           "yes",
           5,
           20,
           6,
           5,
           "urban",
           "yes",
           "100000 - 150000"
          ],
          [
           0,
           "No",
           15,
           "yes",
           5,
           18,
           6,
           3,
           "rural",
           "no",
           "50000 - 75000"
          ],
          [
           0,
           "No",
           0.417,
           "no",
           5,
           14,
           1,
           4,
           "rural",
           "no",
           "200000 or more"
          ],
          [
           0,
           "No",
           4,
           "yes",
           2,
           18,
           6,
           1,
           "urban",
           "yes",
           "75,000 - 100000"
          ],
          [
           0,
           "No",
           7,
           "yes",
           5,
           17,
           5,
           3,
           "urban",
           "yes",
           "150000 - 200,000"
          ],
          [
           0,
           "No",
           4,
           "no",
           3,
           16,
           5,
           5,
           "urban",
           "yes",
           "100000 - 150000"
          ],
          [
           0,
           "No",
           7,
           "yes",
           4,
           18,
           6,
           5,
           "rural",
           "no",
           "25000 - 50000"
          ],
          [
           0,
           "No",
           15,
           "yes",
           2,
           18,
           5,
           4,
           "urban",
           "no",
           "25000 - 50000"
          ],
          [
           0,
           "No",
           1.5,
           "yes",
           4,
           16,
           3,
           5,
           "rural",
           "yes",
           "25000 - 50000"
          ],
          [
           0,
           "No",
           15,
           "yes",
           2,
           20,
           6,
           4,
           "urban",
           "yes",
           "25000 - 50000"
          ],
          [
           0,
           "No",
           0.75,
           "no",
           5,
           14,
           3,
           5,
           "rural",
           "yes",
           "50000 - 75000"
          ],
          [
           0,
           "No",
           7,
           "yes",
           2,
           20,
           6,
           4,
           "rural",
           "yes",
           "100000 - 150000"
          ],
          [
           0,
           "No",
           4,
           "yes",
           5,
           20,
           6,
           5,
           "rural",
           "yes",
           "75,000 - 100000"
          ],
          [
           0,
           "No",
           10,
           "yes",
           4,
           20,
           6,
           4,
           "urban",
           "yes",
           "75,000 - 100000"
          ],
          [
           0,
           "No",
           4,
           "no",
           1,
           18,
           5,
           5,
           "urban",
           "no",
           "Under 25000"
          ],
          [
           0,
           "No",
           15,
           "yes",
           4,
           14,
           3,
           1,
           "urban",
           "no",
           "100000 - 150000"
          ],
          [
           0,
           "No",
           1.5,
           "yes",
           5,
           16,
           4,
           4,
           "rural",
           "no",
           "Under 25000"
          ],
          [
           0,
           "No",
           15,
           "yes",
           4,
           17,
           1,
           5,
           "rural",
           "no",
           "100000 - 150000"
          ],
          [
           0,
           "No",
           0.75,
           "no",
           4,
           17,
           5,
           4,
           "urban",
           "yes",
           "100000 - 150000"
          ],
          [
           0,
           "No",
           10,
           "yes",
           4,
           20,
           6,
           4,
           "rural",
           "no",
           "50000 - 75000"
          ],
          [
           0,
           "No",
           15,
           "yes",
           5,
           14,
           7,
           2,
           "rural",
           "no",
           "100000 - 150000"
          ],
          [
           0,
           "No",
           10,
           "yes",
           3,
           20,
           6,
           4,
           "rural",
           "no",
           "Under 25000"
          ],
          [
           0,
           "No",
           0.75,
           "no",
           2,
           16,
           5,
           5,
           "rural",
           "no",
           "50000 - 75000"
          ],
          [
           0,
           "No",
           4,
           "no",
           2,
           18,
           4,
           5,
           "urban",
           "yes",
           "25000 - 50000"
          ],
          [
           0,
           "No",
           7,
           "no",
           4,
           20,
           6,
           4,
           "urban",
           "no",
           "25000 - 50000"
          ],
          [
           0,
           "No",
           15,
           "yes",
           2,
           17,
           3,
           5,
           "rural",
           "yes",
           "150000 - 200,000"
          ],
          [
           0,
           "No",
           10,
           "yes",
           4,
           20,
           6,
           4,
           "urban",
           "yes",
           "75,000 - 100000"
          ],
          [
           0,
           "No",
           15,
           "yes",
           3,
           17,
           6,
           5,
           "urban",
           "no",
           "Under 25000"
          ],
          [
           0,
           "No",
           1.5,
           "no",
           5,
           16,
           5,
           5,
           "urban",
           "no",
           "100000 - 150000"
          ],
          [
           0,
           "No",
           1.5,
           "no",
           2,
           16,
           6,
           4,
           "urban",
           "no",
           "Under 25000"
          ],
          [
           0,
           "No",
           4,
           "no",
           3,
           17,
           5,
           5,
           "rural",
           "no",
           "100000 - 150000"
          ],
          [
           0,
           "No",
           10,
           "yes",
           5,
           14,
           4,
           5,
           "urban",
           "no",
           "100000 - 150000"
          ],
          [
           0,
           "No",
           0.125,
           "no",
           2,
           12,
           5,
           5,
           "rural",
           "yes",
           "100000 - 150000"
          ],
          [
           0,
           "No",
           15,
           "yes",
           4,
           14,
           4,
           3,
           "rural",
           "no",
           "50000 - 75000"
          ],
          [
           0,
           "No",
           15,
           "yes",
           1,
           14,
           5,
           5,
           "urban",
           "no",
           "100000 - 150000"
          ],
          [
           0,
           "No",
           7,
           "yes",
           4,
           16,
           5,
           5,
           "rural",
           "yes",
           "50000 - 75000"
          ],
          [
           0,
           "No",
           1.5,
           "yes",
           3,
           16,
           5,
           5,
           "rural",
           "no",
           "25000 - 50000"
          ],
          [
           0,
           "No",
           4,
           "yes",
           3,
           17,
           6,
           5,
           "rural",
           "no",
           "50000 - 75000"
          ],
          [
           0,
           "No",
           1.5,
           "no",
           3,
           16,
           5,
           5,
           "rural",
           "yes",
           "150000 - 200,000"
          ],
          [
           0,
           "No",
           15,
           "yes",
           2,
           14,
           7,
           2,
           "urban",
           "no",
           "25000 - 50000"
          ],
          [
           0,
           "No",
           15,
           "yes",
           4,
           20,
           6,
           5,
           "rural",
           "yes",
           "25000 - 50000"
          ],
          [
           0,
           "No",
           0.75,
           "no",
           2,
           16,
           3,
           4,
           "rural",
           "no",
           "200000 or more"
          ],
          [
           0,
           "No",
           4,
           "no",
           4,
           17,
           3,
           3,
           "rural",
           "no",
           "200000 or more"
          ],
          [
           0,
           "No",
           1.5,
           "yes",
           4,
           12,
           1,
           5,
           "urban",
           "yes",
           "75,000 - 100000"
          ],
          [
           0,
           "No",
           0.417,
           "no",
           1,
           17,
           6,
           4,
           "rural",
           "no",
           "Under 25000"
          ],
          [
           0,
           "No",
           15,
           "yes",
           4,
           17,
           5,
           5,
           "urban",
           "yes",
           "50000 - 75000"
          ],
          [
           0,
           "No",
           1.5,
           "no",
           3,
           18,
           5,
           2,
           "rural",
           "no",
           "150000 - 200,000"
          ],
          [
           0,
           "No",
           1.5,
           "yes",
           3,
           14,
           1,
           5,
           "urban",
           "no",
           "Under 25000"
          ],
          [
           0,
           "No",
           15,
           "yes",
           3,
           14,
           1,
           4,
           "urban",
           "yes",
           "Under 25000"
          ],
          [
           0,
           "No",
           15,
           "yes",
           4,
           14,
           3,
           4,
           "urban",
           "no",
           "25000 - 50000"
          ],
          [
           0,
           "No",
           10,
           "yes",
           2,
           14,
           5,
           3,
           "rural",
           "no",
           "50000 - 75000"
          ],
          [
           0,
           "No",
           10,
           "yes",
           4,
           16,
           5,
           4,
           "rural",
           "yes",
           "200000 or more"
          ],
          [
           0,
           "No",
           15,
           "yes",
           5,
           20,
           5,
           3,
           "urban",
           "yes",
           "150000 - 200,000"
          ],
          [
           0,
           "No",
           0.417,
           "no",
           1,
           16,
           3,
           4,
           "rural",
           "yes",
           "200000 or more"
          ],
          [
           0,
           "No",
           15,
           "yes",
           5,
           14,
           1,
           5,
           "urban",
           "yes",
           "200000 or more"
          ],
          [
           0,
           "No",
           15,
           "yes",
           3,
           16,
           6,
           1,
           "rural",
           "yes",
           "Under 25000"
          ],
          [
           0,
           "No",
           10,
           "yes",
           1,
           16,
           6,
           4,
           "urban",
           "yes",
           "150000 - 200,000"
          ],
          [
           0,
           "No",
           15,
           "yes",
           3,
           17,
           5,
           5,
           "urban",
           "no",
           "100000 - 150000"
          ],
          [
           0,
           "No",
           15,
           "yes",
           4,
           20,
           6,
           5,
           "rural",
           "no",
           "150000 - 200,000"
          ],
          [
           0,
           "No",
           10,
           "yes",
           5,
           14,
           1,
           5,
           "rural",
           "no",
           "200000 or more"
          ],
          [
           0,
           "No",
           10,
           "yes",
           2,
           18,
           6,
           4,
           "rural",
           "no",
           "Under 25000"
          ],
          [
           0,
           "No",
           0.125,
           "no",
           4,
           12,
           4,
           5,
           "urban",
           "yes",
           "150000 - 200,000"
          ],
          [
           0,
           "No",
           15,
           "yes",
           5,
           20,
           6,
           5,
           "urban",
           "yes",
           "100000 - 150000"
          ],
          [
           0,
           "No",
           15,
           "yes",
           4,
           18,
           6,
           4,
           "rural",
           "yes",
           "100000 - 150000"
          ],
          [
           0,
           "No",
           4,
           "yes",
           4,
           14,
           6,
           4,
           "urban",
           "yes",
           "150000 - 200,000"
          ],
          [
           0,
           "No",
           7,
           "yes",
           4,
           18,
           5,
           4,
           "urban",
           "no",
           "200000 or more"
          ],
          [
           0,
           "No",
           15,
           "yes",
           4,
           20,
           5,
           4,
           "rural",
           "yes",
           "150000 - 200,000"
          ],
          [
           0,
           "No",
           15,
           "yes",
           3,
           14,
           6,
           3,
           "rural",
           "no",
           "75,000 - 100000"
          ],
          [
           0,
           "No",
           1.5,
           "no",
           2,
           14,
           5,
           4,
           "rural",
           "no",
           "150000 - 200,000"
          ],
          [
           0,
           "No",
           7,
           "yes",
           4,
           17,
           1,
           5,
           "rural",
           "no",
           "150000 - 200,000"
          ],
          [
           0,
           "No",
           15,
           "yes",
           4,
           17,
           6,
           5,
           "rural",
           "yes",
           "75,000 - 100000"
          ],
          [
           0,
           "No",
           1.5,
           "no",
           5,
           18,
           5,
           5,
           "rural",
           "yes",
           "25000 - 50000"
          ],
          [
           0,
           "No",
           10,
           "yes",
           5,
           20,
           7,
           4,
           "urban",
           "yes",
           "25000 - 50000"
          ],
          [
           0,
           "No",
           7,
           "no",
           3,
           16,
           5,
           4,
           "urban",
           "yes",
           "50000 - 75000"
          ],
          [
           0,
           "No",
           15,
           "no",
           4,
           20,
           6,
           5,
           "urban",
           "no",
           "150000 - 200,000"
          ],
          [
           0,
           "No",
           15,
           "yes",
           4,
           14,
           3,
           2,
           "rural",
           "yes",
           "75,000 - 100000"
          ],
          [
           0,
           "No",
           10,
           "no",
           5,
           18,
           6,
           4,
           "rural",
           "yes",
           "75,000 - 100000"
          ],
          [
           0,
           "No",
           0.75,
           "no",
           4,
           16,
           1,
           5,
           "urban",
           "no",
           "100000 - 150000"
          ],
          [
           0,
           "No",
           7,
           "yes",
           4,
           12,
           2,
           4,
           "rural",
           "yes",
           "150000 - 200,000"
          ],
          [
           0,
           "No",
           7,
           "yes",
           2,
           16,
           2,
           5,
           "rural",
           "yes",
           "75,000 - 100000"
          ],
          [
           0,
           "No",
           15,
           "yes",
           5,
           18,
           5,
           4,
           "urban",
           "no",
           "50000 - 75000"
          ],
          [
           0,
           "No",
           15,
           "yes",
           4,
           17,
           5,
           3,
           "rural",
           "no",
           "75,000 - 100000"
          ],
          [
           0,
           "No",
           7,
           "yes",
           2,
           16,
           1,
           2,
           "rural",
           "no",
           "150000 - 200,000"
          ],
          [
           0,
           "No",
           1.5,
           "no",
           3,
           16,
           5,
           5,
           "rural",
           "yes",
           "75,000 - 100000"
          ],
          [
           0,
           "No",
           15,
           "yes",
           5,
           20,
           6,
           5,
           "rural",
           "yes",
           "100000 - 150000"
          ],
          [
           0,
           "No",
           0.125,
           "no",
           2,
           14,
           4,
           5,
           "urban",
           "yes",
           "100000 - 150000"
          ],
          [
           0,
           "No",
           1.5,
           "no",
           4,
           16,
           5,
           5,
           "rural",
           "yes",
           "150000 - 200,000"
          ],
          [
           0,
           "No",
           1.5,
           "no",
           2,
           18,
           6,
           5,
           "urban",
           "no",
           "25000 - 50000"
          ],
          [
           0,
           "No",
           1.5,
           "no",
           2,
           17,
           6,
           5,
           "urban",
           "yes",
           "50000 - 75000"
          ],
          [
           0,
           "No",
           10,
           "yes",
           4,
           16,
           1,
           3,
           "rural",
           "yes",
           "100000 - 150000"
          ],
          [
           0,
           "No",
           15,
           "yes",
           4,
           18,
           6,
           5,
           "urban",
           "no",
           "Under 25000"
          ],
          [
           0,
           "No",
           1.5,
           "no",
           2,
           16,
           6,
           5,
           "rural",
           "yes",
           "200000 or more"
          ],
          [
           0,
           "No",
           4,
           "no",
           2,
           18,
           6,
           3,
           "urban",
           "yes",
           "150000 - 200,000"
          ],
          [
           0,
           "No",
           10,
           "yes",
           3,
           14,
           5,
           3,
           "urban",
           "yes",
           "25000 - 50000"
          ],
          [
           0,
           "No",
           15,
           "yes",
           3,
           18,
           5,
           4,
           "urban",
           "yes",
           "50000 - 75000"
          ],
          [
           0,
           "No",
           0.75,
           "no",
           2,
           18,
           6,
           5,
           "urban",
           "yes",
           "200000 or more"
          ],
          [
           0,
           "No",
           15,
           "yes",
           2,
           16,
           1,
           4,
           "urban",
           "no",
           "50000 - 75000"
          ],
          [
           0,
           "No",
           4,
           "yes",
           4,
           20,
           5,
           5,
           "urban",
           "yes",
           "100000 - 150000"
          ],
          [
           0,
           "No",
           4,
           "no",
           1,
           20,
           5,
           4,
           "urban",
           "no",
           "150000 - 200,000"
          ],
          [
           0,
           "No",
           10,
           "yes",
           2,
           12,
           1,
           4,
           "rural",
           "yes",
           "Under 25000"
          ],
          [
           0,
           "No",
           15,
           "yes",
           5,
           18,
           6,
           4,
           "rural",
           "no",
           "25000 - 50000"
          ],
          [
           0,
           "No",
           7,
           "yes",
           5,
           12,
           5,
           3,
           "rural",
           "yes",
           "25000 - 50000"
          ],
          [
           0,
           "No",
           15,
           "yes",
           2,
           18,
           5,
           4,
           "rural",
           "no",
           "75,000 - 100000"
          ],
          [
           0,
           "No",
           4,
           "no",
           3,
           20,
           6,
           3,
           "rural",
           "yes",
           "100000 - 150000"
          ],
          [
           0,
           "No",
           4,
           "yes",
           1,
           18,
           5,
           4,
           "rural",
           "yes",
           "50000 - 75000"
          ],
          [
           0,
           "No",
           4,
           "yes",
           4,
           14,
           5,
           4,
           "urban",
           "yes",
           "Under 25000"
          ],
          [
           0,
           "No",
           15,
           "yes",
           5,
           12,
           1,
           3,
           "urban",
           "no",
           "100000 - 150000"
          ],
          [
           0,
           "No",
           15,
           "yes",
           4,
           16,
           6,
           4,
           "urban",
           "yes",
           "25000 - 50000"
          ],
          [
           0,
           "No",
           7,
           "yes",
           1,
           16,
           5,
           4,
           "rural",
           "yes",
           "50000 - 75000"
          ],
          [
           0,
           "No",
           7,
           "yes",
           4,
           20,
           6,
           3,
           "urban",
           "no",
           "75,000 - 100000"
          ],
          [
           0,
           "No",
           0.75,
           "no",
           2,
           14,
           4,
           3,
           "urban",
           "yes",
           "100000 - 150000"
          ],
          [
           0,
           "No",
           4,
           "yes",
           2,
           18,
           5,
           3,
           "rural",
           "no",
           "50000 - 75000"
          ],
          [
           0,
           "No",
           15,
           "yes",
           4,
           20,
           6,
           3,
           "rural",
           "no",
           "200000 or more"
          ],
          [
           0,
           "No",
           0.75,
           "yes",
           2,
           14,
           4,
           3,
           "urban",
           "no",
           "200000 or more"
          ],
          [
           0,
           "No",
           15,
           "yes",
           4,
           20,
           6,
           3,
           "urban",
           "no",
           "25000 - 50000"
          ],
          [
           0,
           "No",
           15,
           "yes",
           5,
           17,
           1,
           1,
           "rural",
           "yes",
           "100000 - 150000"
          ],
          [
           0,
           "No",
           15,
           "yes",
           4,
           14,
           1,
           2,
           "rural",
           "yes",
           "25000 - 50000"
          ],
          [
           0,
           "No",
           7,
           "yes",
           4,
           14,
           5,
           3,
           "urban",
           "yes",
           "200000 or more"
          ],
          [
           0,
           "No",
           4,
           "yes",
           2,
           16,
           5,
           5,
           "urban",
           "no",
           "150000 - 200,000"
          ],
          [
           0,
           "No",
           4,
           "yes",
           2,
           18,
           6,
           5,
           "urban",
           "no",
           "25000 - 50000"
          ],
          [
           0,
           "No",
           4,
           "yes",
           2,
           18,
           5,
           5,
           "rural",
           "no",
           "150000 - 200,000"
          ],
          [
           0,
           "No",
           15,
           "yes",
           5,
           18,
           6,
           5,
           "urban",
           "no",
           "Under 25000"
          ],
          [
           0,
           "No",
           15,
           "yes",
           5,
           12,
           5,
           4,
           "urban",
           "no",
           "100000 - 150000"
          ],
          [
           0,
           "No",
           10,
           "yes",
           3,
           17,
           1,
           4,
           "urban",
           "yes",
           "75,000 - 100000"
          ],
          [
           0,
           "No",
           1.5,
           "yes",
           4,
           17,
           1,
           2,
           "urban",
           "yes",
           "100000 - 150000"
          ],
          [
           0,
           "No",
           15,
           "yes",
           2,
           18,
           5,
           2,
           "urban",
           "yes",
           "200000 or more"
          ],
          [
           0,
           "No",
           1.5,
           "no",
           4,
           14,
           5,
           4,
           "urban",
           "yes",
           "200000 or more"
          ],
          [
           0,
           "No",
           15,
           "yes",
           3,
           14,
           3,
           4,
           "urban",
           "yes",
           "50000 - 75000"
          ],
          [
           0,
           "No",
           15,
           "yes",
           4,
           9,
           2,
           2,
           "urban",
           "no",
           "75,000 - 100000"
          ],
          [
           0,
           "No",
           15,
           "yes",
           4,
           20,
           6,
           5,
           "urban",
           "yes",
           "25000 - 50000"
          ],
          [
           0,
           "No",
           0.125,
           "no",
           4,
           14,
           4,
           5,
           "rural",
           "no",
           "50000 - 75000"
          ],
          [
           0,
           "No",
           10,
           "yes",
           4,
           14,
           1,
           5,
           "rural",
           "yes",
           "50000 - 75000"
          ],
          [
           0,
           "No",
           15,
           "yes",
           3,
           18,
           5,
           4,
           "urban",
           "no",
           "50000 - 75000"
          ],
          [
           0,
           "No",
           1.5,
           "no",
           2,
           18,
           6,
           5,
           "rural",
           "no",
           "25000 - 50000"
          ],
          [
           0,
           "No",
           0.125,
           "yes",
           2,
           18,
           5,
           2,
           "urban",
           "yes",
           "Under 25000"
          ],
          [
           0,
           "No",
           4,
           "no",
           3,
           16,
           5,
           4,
           "rural",
           "no",
           "Under 25000"
          ],
          [
           0,
           "No",
           10,
           "yes",
           2,
           16,
           1,
           4,
           "rural",
           "yes",
           "75,000 - 100000"
          ],
          [
           0,
           "No",
           7,
           "yes",
           4,
           16,
           1,
           3,
           "rural",
           "yes",
           "50000 - 75000"
          ],
          [
           0,
           "No",
           15,
           "yes",
           4,
           14,
           5,
           4,
           "rural",
           "yes",
           "100000 - 150000"
          ],
          [
           0,
           "No",
           15,
           "yes",
           5,
           17,
           6,
           2,
           "rural",
           "no",
           "75,000 - 100000"
          ],
          [
           0,
           "No",
           1.5,
           "yes",
           4,
           14,
           6,
           5,
           "rural",
           "yes",
           "75,000 - 100000"
          ],
          [
           0,
           "No",
           4,
           "yes",
           3,
           17,
           5,
           3,
           "rural",
           "no",
           "200000 or more"
          ],
          [
           0,
           "No",
           7,
           "no",
           4,
           18,
           5,
           5,
           "urban",
           "yes",
           "Under 25000"
          ],
          [
           0,
           "No",
           0.417,
           "yes",
           3,
           14,
           3,
           5,
           "urban",
           "no",
           "50000 - 75000"
          ],
          [
           0,
           "No",
           7,
           "yes",
           4,
           14,
           1,
           5,
           "urban",
           "no",
           "150000 - 200,000"
          ],
          [
           0,
           "No",
           0.75,
           "no",
           3,
           16,
           5,
           5,
           "rural",
           "yes",
           "Under 25000"
          ],
          [
           0,
           "No",
           4,
           "yes",
           2,
           20,
           5,
           5,
           "rural",
           "no",
           "200000 or more"
          ],
          [
           0,
           "No",
           10,
           "yes",
           4,
           16,
           4,
           5,
           "rural",
           "no",
           "100000 - 150000"
          ],
          [
           0,
           "No",
           15,
           "yes",
           1,
           14,
           5,
           5,
           "urban",
           "no",
           "Under 25000"
          ],
          [
           0,
           "No",
           0.75,
           "no",
           3,
           17,
           4,
           5,
           "rural",
           "no",
           "75,000 - 100000"
          ],
          [
           0,
           "No",
           7,
           "yes",
           4,
           17,
           1,
           4,
           "rural",
           "yes",
           "75,000 - 100000"
          ],
          [
           0,
           "No",
           0.417,
           "yes",
           4,
           20,
           5,
           4,
           "urban",
           "yes",
           "75,000 - 100000"
          ],
          [
           0,
           "No",
           15,
           "yes",
           4,
           20,
           5,
           4,
           "urban",
           "yes",
           "150000 - 200,000"
          ],
          [
           0,
           "No",
           15,
           "yes",
           2,
           14,
           1,
           3,
           "rural",
           "yes",
           "Under 25000"
          ],
          [
           0,
           "No",
           4,
           "yes",
           1,
           18,
           5,
           4,
           "rural",
           "yes",
           "Under 25000"
          ],
          [
           0,
           "No",
           15,
           "yes",
           4,
           17,
           5,
           3,
           "urban",
           "yes",
           "100000 - 150000"
          ],
          [
           0,
           "No",
           1.5,
           "no",
           2,
           14,
           4,
           5,
           "rural",
           "no",
           "75,000 - 100000"
          ],
          [
           0,
           "No",
           15,
           "yes",
           4,
           14,
           6,
           2,
           "urban",
           "no",
           "200000 or more"
          ],
          [
           0,
           "No",
           1.5,
           "no",
           4,
           17,
           5,
           5,
           "rural",
           "yes",
           "75,000 - 100000"
          ],
          [
           0,
           "No",
           4,
           "yes",
           5,
           14,
           3,
           5,
           "urban",
           "no",
           "75,000 - 100000"
          ],
          [
           0,
           "No",
           4,
           "yes",
           2,
           14,
           3,
           5,
           "rural",
           "yes",
           "100000 - 150000"
          ],
          [
           0,
           "No",
           1.5,
           "no",
           3,
           16,
           6,
           5,
           "urban",
           "no",
           "200000 or more"
          ],
          [
           0,
           "No",
           0.75,
           "no",
           2,
           18,
           3,
           3,
           "urban",
           "yes",
           "75,000 - 100000"
          ],
          [
           0,
           "No",
           7,
           "yes",
           2,
           14,
           5,
           2,
           "urban",
           "yes",
           "Under 25000"
          ],
          [
           0,
           "No",
           0.75,
           "no",
           2,
           17,
           5,
           3,
           "rural",
           "no",
           "150000 - 200,000"
          ],
          [
           0,
           "No",
           15,
           "yes",
           4,
           12,
           1,
           2,
           "urban",
           "yes",
           "50000 - 75000"
          ],
          [
           0,
           "No",
           1.5,
           "no",
           1,
           14,
           1,
           5,
           "urban",
           "yes",
           "Under 25000"
          ],
          [
           0,
           "No",
           10,
           "no",
           2,
           12,
           4,
           4,
           "rural",
           "yes",
           "200000 or more"
          ],
          [
           0,
           "No",
           15,
           "yes",
           4,
           18,
           5,
           3,
           "urban",
           "no",
           "75,000 - 100000"
          ],
          [
           0,
           "No",
           15,
           "yes",
           3,
           12,
           3,
           3,
           "rural",
           "no",
           "Under 25000"
          ],
          [
           0,
           "No",
           4,
           "no",
           2,
           18,
           5,
           5,
           "rural",
           "yes",
           "Under 25000"
          ],
          [
           0,
           "No",
           7,
           "yes",
           2,
           20,
           6,
           2,
           "urban",
           "yes",
           "100000 - 150000"
          ],
          [
           0,
           "No",
           0.75,
           "no",
           2,
           17,
           5,
           5,
           "rural",
           "no",
           "100000 - 150000"
          ],
          [
           0,
           "No",
           4,
           "no",
           2,
           17,
           4,
           5,
           "rural",
           "yes",
           "Under 25000"
          ],
          [
           0,
           "No",
           1.5,
           "no",
           5,
           20,
           6,
           5,
           "urban",
           "no",
           "50000 - 75000"
          ],
          [
           0,
           "No",
           1.5,
           "no",
           4,
           17,
           6,
           5,
           "urban",
           "yes",
           "25000 - 50000"
          ],
          [
           0,
           "No",
           4,
           "no",
           4,
           17,
           5,
           3,
           "urban",
           "yes",
           "Under 25000"
          ],
          [
           0,
           "No",
           4,
           "yes",
           1,
           14,
           5,
           4,
           "rural",
           "yes",
           "150000 - 200,000"
          ],
          [
           0,
           "No",
           15,
           "yes",
           5,
           20,
           4,
           5,
           "rural",
           "no",
           "Under 25000"
          ],
          [
           0,
           "No",
           10,
           "yes",
           3,
           16,
           6,
           3,
           "rural",
           "yes",
           "200000 or more"
          ],
          [
           0,
           "No",
           15,
           "yes",
           4,
           17,
           6,
           5,
           "urban",
           "no",
           "25000 - 50000"
          ],
          [
           0,
           "No",
           15,
           "yes",
           4,
           17,
           5,
           5,
           "rural",
           "no",
           "150000 - 200,000"
          ],
          [
           0,
           "No",
           1.5,
           "no",
           4,
           16,
           5,
           4,
           "rural",
           "yes",
           "75,000 - 100000"
          ],
          [
           0,
           "No",
           10,
           "yes",
           3,
           12,
           1,
           4,
           "rural",
           "yes",
           "50000 - 75000"
          ],
          [
           0,
           "No",
           7,
           "yes",
           1,
           14,
           3,
           5,
           "urban",
           "no",
           "200000 or more"
          ],
          [
           0,
           "No",
           10,
           "yes",
           4,
           17,
           5,
           4,
           "rural",
           "yes",
           "Under 25000"
          ],
          [
           0,
           "No",
           1.5,
           "yes",
           2,
           16,
           2,
           4,
           "urban",
           "no",
           "200000 or more"
          ],
          [
           0,
           "No",
           15,
           "yes",
           4,
           14,
           5,
           5,
           "rural",
           "yes",
           "200000 or more"
          ],
          [
           0,
           "No",
           4,
           "yes",
           3,
           14,
           4,
           5,
           "urban",
           "yes",
           "200000 or more"
          ],
          [
           0,
           "No",
           15,
           "yes",
           5,
           14,
           5,
           4,
           "urban",
           "yes",
           "75,000 - 100000"
          ],
          [
           0,
           "No",
           7,
           "yes",
           4,
           17,
           5,
           5,
           "rural",
           "no",
           "200000 or more"
          ],
          [
           0,
           "No",
           15,
           "yes",
           4,
           18,
           6,
           5,
           "urban",
           "yes",
           "25000 - 50000"
          ],
          [
           0,
           "No",
           4,
           "no",
           4,
           18,
           6,
           4,
           "rural",
           "no",
           "25000 - 50000"
          ],
          [
           0,
           "No",
           0.75,
           "no",
           4,
           18,
           6,
           5,
           "urban",
           "yes",
           "Under 25000"
          ],
          [
           0,
           "No",
           4,
           "yes",
           4,
           14,
           5,
           3,
           "urban",
           "no",
           "50000 - 75000"
          ],
          [
           0,
           "No",
           0.75,
           "no",
           5,
           18,
           1,
           5,
           "urban",
           "yes",
           "25000 - 50000"
          ],
          [
           0,
           "No",
           15,
           "yes",
           5,
           9,
           5,
           5,
           "urban",
           "no",
           "150000 - 200,000"
          ],
          [
           0,
           "No",
           10,
           "yes",
           3,
           14,
           5,
           5,
           "urban",
           "no",
           "50000 - 75000"
          ],
          [
           0,
           "No",
           15,
           "yes",
           4,
           16,
           4,
           4,
           "urban",
           "yes",
           "Under 25000"
          ],
          [
           0,
           "No",
           7,
           "yes",
           2,
           20,
           5,
           4,
           "rural",
           "yes",
           "150000 - 200,000"
          ],
          [
           0,
           "No",
           15,
           "yes",
           3,
           18,
           1,
           4,
           "urban",
           "no",
           "100000 - 150000"
          ],
          [
           0,
           "No",
           15,
           "yes",
           1,
           16,
           5,
           5,
           "rural",
           "no",
           "200000 or more"
          ],
          [
           0,
           "No",
           4,
           "yes",
           3,
           18,
           5,
           5,
           "rural",
           "no",
           "75,000 - 100000"
          ],
          [
           0,
           "No",
           15,
           "yes",
           4,
           12,
           3,
           4,
           "rural",
           "no",
           "150000 - 200,000"
          ],
          [
           0,
           "No",
           0.75,
           "yes",
           3,
           14,
           2,
           4,
           "urban",
           "yes",
           "50000 - 75000"
          ],
          [
           0,
           "No",
           1.5,
           "no",
           3,
           16,
           5,
           3,
           "urban",
           "no",
           "100000 - 150000"
          ],
          [
           0,
           "No",
           15,
           "yes",
           4,
           14,
           3,
           5,
           "rural",
           "yes",
           "Under 25000"
          ],
          [
           0,
           "No",
           15,
           "yes",
           3,
           16,
           5,
           4,
           "urban",
           "yes",
           "25000 - 50000"
          ],
          [
           0,
           "No",
           15,
           "yes",
           5,
           20,
           6,
           4,
           "urban",
           "yes",
           "50000 - 75000"
          ],
          [
           0,
           "No",
           15,
           "yes",
           4,
           12,
           2,
           3,
           "rural",
           "yes",
           "50000 - 75000"
          ],
          [
           0,
           "No",
           15,
           "yes",
           2,
           20,
           6,
           4,
           "urban",
           "yes",
           "75,000 - 100000"
          ],
          [
           0,
           "No",
           7,
           "yes",
           4,
           17,
           5,
           5,
           "urban",
           "yes",
           "25000 - 50000"
          ],
          [
           0,
           "No",
           7,
           "yes",
           4,
           17,
           1,
           4,
           "urban",
           "no",
           "200000 or more"
          ],
          [
           0,
           "No",
           1.5,
           "no",
           1,
           18,
           6,
           5,
           "rural",
           "yes",
           "25000 - 50000"
          ],
          [
           0,
           "No",
           4,
           "yes",
           3,
           9,
           1,
           4,
           "urban",
           "yes",
           "100000 - 150000"
          ],
          [
           0,
           "No",
           1.5,
           "no",
           2,
           14,
           1,
           5,
           "rural",
           "no",
           "75,000 - 100000"
          ],
          [
           0,
           "No",
           15,
           "yes",
           2,
           20,
           6,
           4,
           "urban",
           "no",
           "100000 - 150000"
          ],
          [
           0,
           "No",
           15,
           "yes",
           4,
           9,
           2,
           4,
           "rural",
           "yes",
           "Under 25000"
          ],
          [
           0,
           "No",
           7,
           "yes",
           2,
           18,
           1,
           5,
           "urban",
           "no",
           "Under 25000"
          ],
          [
           0,
           "No",
           4,
           "yes",
           3,
           14,
           1,
           5,
           "rural",
           "no",
           "25000 - 50000"
          ],
          [
           0,
           "No",
           15,
           "yes",
           4,
           14,
           5,
           3,
           "rural",
           "yes",
           "200000 or more"
          ],
          [
           0,
           "No",
           7,
           "yes",
           1,
           18,
           6,
           4,
           "urban",
           "yes",
           "200000 or more"
          ],
          [
           0,
           "No",
           1.5,
           "no",
           2,
           14,
           5,
           5,
           "urban",
           "no",
           "50000 - 75000"
          ],
          [
           0,
           "No",
           1.5,
           "yes",
           3,
           12,
           1,
           3,
           "urban",
           "no",
           "100000 - 150000"
          ],
          [
           0,
           "No",
           15,
           "yes",
           2,
           14,
           5,
           5,
           "rural",
           "yes",
           "200000 or more"
          ],
          [
           0,
           "No",
           15,
           "yes",
           2,
           14,
           1,
           1,
           "rural",
           "yes",
           "50000 - 75000"
          ],
          [
           0,
           "No",
           10,
           "yes",
           2,
           14,
           5,
           5,
           "rural",
           "yes",
           "75,000 - 100000"
          ],
          [
           0,
           "No",
           15,
           "yes",
           4,
           20,
           4,
           5,
           "rural",
           "no",
           "50000 - 75000"
          ],
          [
           0,
           "No",
           4,
           "yes",
           3,
           18,
           4,
           5,
           "urban",
           "no",
           "25000 - 50000"
          ],
          [
           0,
           "No",
           15,
           "yes",
           4,
           20,
           6,
           5,
           "rural",
           "yes",
           "Under 25000"
          ],
          [
           0,
           "No",
           1.5,
           "no",
           3,
           18,
           5,
           5,
           "rural",
           "no",
           "Under 25000"
          ],
          [
           0,
           "No",
           0.125,
           "no",
           2,
           16,
           6,
           3,
           "urban",
           "yes",
           "25000 - 50000"
          ],
          [
           0,
           "No",
           10,
           "yes",
           2,
           20,
           6,
           3,
           "rural",
           "yes",
           "Under 25000"
          ],
          [
           0,
           "No",
           4,
           "no",
           4,
           18,
           5,
           4,
           "urban",
           "no",
           "200000 or more"
          ],
          [
           0,
           "No",
           7,
           "yes",
           2,
           12,
           5,
           1,
           "rural",
           "yes",
           "75,000 - 100000"
          ],
          [
           0,
           "No",
           4,
           "yes",
           5,
           18,
           6,
           3,
           "rural",
           "yes",
           "75,000 - 100000"
          ],
          [
           0,
           "No",
           15,
           "yes",
           2,
           17,
           5,
           5,
           "rural",
           "yes",
           "50000 - 75000"
          ],
          [
           0,
           "No",
           15,
           "no",
           4,
           20,
           6,
           4,
           "urban",
           "no",
           "50000 - 75000"
          ],
          [
           0,
           "No",
           1.5,
           "no",
           1,
           18,
           5,
           5,
           "rural",
           "yes",
           "25000 - 50000"
          ],
          [
           0,
           "No",
           15,
           "yes",
           4,
           20,
           6,
           4,
           "rural",
           "no",
           "Under 25000"
          ],
          [
           0,
           "No",
           15,
           "yes",
           4,
           18,
           1,
           4,
           "rural",
           "no",
           "50000 - 75000"
          ],
          [
           0,
           "No",
           7,
           "yes",
           4,
           17,
           5,
           4,
           "urban",
           "yes",
           "50000 - 75000"
          ],
          [
           0,
           "No",
           15,
           "yes",
           3,
           14,
           1,
           3,
           "rural",
           "no",
           "25000 - 50000"
          ],
          [
           0,
           "No",
           7,
           "yes",
           3,
           16,
           1,
           4,
           "urban",
           "no",
           "25000 - 50000"
          ],
          [
           0,
           "No",
           1.5,
           "no",
           3,
           16,
           4,
           2,
           "urban",
           "yes",
           "200000 or more"
          ],
          [
           0,
           "No",
           1.5,
           "no",
           3,
           16,
           3,
           5,
           "urban",
           "yes",
           "50000 - 75000"
          ],
          [
           0,
           "No",
           4,
           "yes",
           3,
           16,
           4,
           2,
           "urban",
           "no",
           "150000 - 200,000"
          ],
          [
           0,
           "No",
           7,
           "yes",
           3,
           12,
           1,
           2,
           "urban",
           "no",
           "75,000 - 100000"
          ],
          [
           0,
           "No",
           15,
           "yes",
           2,
           18,
           5,
           4,
           "urban",
           "yes",
           "75,000 - 100000"
          ],
          [
           0,
           "No",
           7,
           "yes",
           3,
           14,
           4,
           4,
           "rural",
           "yes",
           "150000 - 200,000"
          ],
          [
           0,
           "No",
           1.5,
           "no",
           2,
           16,
           5,
           5,
           "urban",
           "yes",
           "25000 - 50000"
          ],
          [
           0,
           "No",
           15,
           "yes",
           5,
           20,
           5,
           4,
           "rural",
           "no",
           "100000 - 150000"
          ],
          [
           0,
           "No",
           1.5,
           "no",
           4,
           16,
           5,
           3,
           "urban",
           "no",
           "50000 - 75000"
          ],
          [
           0,
           "No",
           10,
           "yes",
           4,
           16,
           1,
           5,
           "rural",
           "no",
           "Under 25000"
          ],
          [
           0,
           "No",
           4,
           "no",
           2,
           17,
           5,
           3,
           "rural",
           "yes",
           "25000 - 50000"
          ],
          [
           0,
           "No",
           0.417,
           "no",
           4,
           14,
           5,
           5,
           "urban",
           "yes",
           "75,000 - 100000"
          ],
          [
           0,
           "No",
           4,
           "no",
           2,
           18,
           5,
           5,
           "rural",
           "yes",
           "75,000 - 100000"
          ],
          [
           0,
           "No",
           15,
           "yes",
           4,
           18,
           5,
           3,
           "urban",
           "no",
           "50000 - 75000"
          ],
          [
           0,
           "No",
           10,
           "yes",
           5,
           20,
           7,
           4,
           "urban",
           "yes",
           "50000 - 75000"
          ],
          [
           0,
           "No",
           7,
           "yes",
           2,
           14,
           4,
           2,
           "urban",
           "yes",
           "50000 - 75000"
          ],
          [
           0,
           "No",
           4,
           "yes",
           2,
           16,
           5,
           5,
           "urban",
           "yes",
           "25000 - 50000"
          ],
          [
           0,
           "No",
           4,
           "yes",
           2,
           16,
           6,
           4,
           "rural",
           "yes",
           "25000 - 50000"
          ],
          [
           0,
           "No",
           1.5,
           "no",
           3,
           18,
           4,
           5,
           "rural",
           "yes",
           "25000 - 50000"
          ],
          [
           0,
           "No",
           4,
           "yes",
           4,
           14,
           3,
           4,
           "rural",
           "yes",
           "150000 - 200,000"
          ],
          [
           0,
           "No",
           10,
           "yes",
           4,
           20,
           4,
           5,
           "urban",
           "no",
           "Under 25000"
          ],
          [
           0,
           "No",
           0.75,
           "no",
           5,
           14,
           3,
           3,
           "urban",
           "no",
           "75,000 - 100000"
          ],
          [
           0,
           "No",
           15,
           "yes",
           4,
           17,
           5,
           3,
           "urban",
           "no",
           "100000 - 150000"
          ],
          [
           0,
           "No",
           4,
           "no",
           3,
           14,
           4,
           5,
           "urban",
           "no",
           "50000 - 75000"
          ],
          [
           0,
           "No",
           1.5,
           "no",
           2,
           17,
           3,
           2,
           "rural",
           "yes",
           "25000 - 50000"
          ],
          [
           0,
           "No",
           7,
           "yes",
           4,
           14,
           1,
           5,
           "urban",
           "yes",
           "150000 - 200,000"
          ],
          [
           0,
           "No",
           15,
           "yes",
           5,
           14,
           6,
           5,
           "rural",
           "no",
           "50000 - 75000"
          ],
          [
           0,
           "No",
           4,
           "yes",
           1,
           16,
           4,
           4,
           "rural",
           "no",
           "25000 - 50000"
          ],
          [
           0,
           "No",
           15,
           "yes",
           5,
           14,
           1,
           3,
           "urban",
           "no",
           "50000 - 75000"
          ],
          [
           0,
           "No",
           4,
           "yes",
           4,
           18,
           5,
           5,
           "rural",
           "no",
           "200000 or more"
          ],
          [
           0,
           "No",
           4,
           "yes",
           2,
           14,
           1,
           5,
           "rural",
           "yes",
           "Under 25000"
          ],
          [
           0,
           "No",
           15,
           "yes",
           2,
           14,
           7,
           4,
           "urban",
           "yes",
           "75,000 - 100000"
          ],
          [
           0,
           "No",
           1.5,
           "no",
           2,
           16,
           1,
           4,
           "urban",
           "yes",
           "100000 - 150000"
          ],
          [
           0,
           "No",
           15,
           "yes",
           4,
           12,
           2,
           4,
           "rural",
           "yes",
           "25000 - 50000"
          ],
          [
           0,
           "No",
           0.417,
           "no",
           3,
           17,
           1,
           5,
           "rural",
           "yes",
           "50000 - 75000"
          ],
          [
           0,
           "No",
           1.5,
           "no",
           2,
           16,
           5,
           5,
           "rural",
           "yes",
           "75,000 - 100000"
          ],
          [
           0,
           "No",
           4,
           "yes",
           4,
           20,
           6,
           4,
           "rural",
           "yes",
           "50000 - 75000"
          ],
          [
           0,
           "No",
           15,
           "yes",
           4,
           14,
           1,
           5,
           "urban",
           "no",
           "200000 or more"
          ],
          [
           0,
           "No",
           1.5,
           "no",
           2,
           16,
           3,
           5,
           "rural",
           "no",
           "75,000 - 100000"
          ],
          [
           0,
           "No",
           4,
           "no",
           1,
           20,
           6,
           5,
           "rural",
           "yes",
           "50000 - 75000"
          ],
          [
           0,
           "No",
           15,
           "yes",
           3,
           20,
           6,
           4,
           "urban",
           "yes",
           "50000 - 75000"
          ],
          [
           0,
           "No",
           10,
           "no",
           2,
           16,
           6,
           5,
           "urban",
           "no",
           "150000 - 200,000"
          ],
          [
           0,
           "No",
           10,
           "yes",
           5,
           14,
           5,
           5,
           "rural",
           "yes",
           "100000 - 150000"
          ],
          [
           0,
           "No",
           1.5,
           "yes",
           4,
           18,
           5,
           3,
           "rural",
           "no",
           "50000 - 75000"
          ],
          [
           0,
           "No",
           1.5,
           "no",
           2,
           18,
           4,
           4,
           "rural",
           "yes",
           "200000 or more"
          ],
          [
           0,
           "No",
           10,
           "yes",
           4,
           14,
           1,
           4,
           "rural",
           "no",
           "50000 - 75000"
          ],
          [
           0,
           "No",
           15,
           "yes",
           4,
           18,
           5,
           4,
           "rural",
           "no",
           "50000 - 75000"
          ],
          [
           0,
           "No",
           10,
           "yes",
           5,
           12,
           1,
           5,
           "rural",
           "yes",
           "100000 - 150000"
          ],
          [
           0,
           "No",
           4,
           "yes",
           3,
           16,
           4,
           5,
           "urban",
           "yes",
           "100000 - 150000"
          ],
          [
           0,
           "No",
           15,
           "yes",
           4,
           12,
           4,
           2,
           "rural",
           "no",
           "50000 - 75000"
          ],
          [
           0,
           "No",
           0.75,
           "no",
           4,
           16,
           5,
           5,
           "urban",
           "no",
           "50000 - 75000"
          ],
          [
           0,
           "No",
           15,
           "yes",
           4,
           16,
           1,
           5,
           "urban",
           "no",
           "100000 - 150000"
          ],
          [
           0,
           "No",
           15,
           "yes",
           3,
           16,
           1,
           5,
           "rural",
           "yes",
           "200000 or more"
          ],
          [
           0,
           "No",
           10,
           "yes",
           2,
           16,
           1,
           5,
           "rural",
           "no",
           "50000 - 75000"
          ],
          [
           0,
           "No",
           7,
           "no",
           2,
           20,
           6,
           5,
           "rural",
           "no",
           "25000 - 50000"
          ],
          [
           0,
           "No",
           15,
           "yes",
           2,
           14,
           1,
           3,
           "rural",
           "yes",
           "Under 25000"
          ],
          [
           0,
           "No",
           1.5,
           "yes",
           2,
           17,
           4,
           4,
           "rural",
           "yes",
           "75,000 - 100000"
          ],
          [
           0,
           "No",
           0.75,
           "yes",
           2,
           14,
           1,
           5,
           "rural",
           "no",
           "100000 - 150000"
          ],
          [
           0,
           "No",
           4,
           "yes",
           4,
           14,
           2,
           4,
           "urban",
           "yes",
           "150000 - 200,000"
          ],
          [
           0,
           "No",
           0.125,
           "no",
           4,
           17,
           6,
           4,
           "urban",
           "yes",
           "25000 - 50000"
          ],
          [
           0,
           "No",
           1.5,
           "yes",
           4,
           18,
           6,
           5,
           "rural",
           "yes",
           "150000 - 200,000"
          ],
          [
           0,
           "No",
           7,
           "yes",
           3,
           16,
           6,
           3,
           "rural",
           "no",
           "25000 - 50000"
          ],
          [
           0,
           "No",
           15,
           "yes",
           4,
           14,
           1,
           3,
           "rural",
           "no",
           "25000 - 50000"
          ],
          [
           0,
           "No",
           1.5,
           "no",
           5,
           20,
           5,
           2,
           "urban",
           "no",
           "50000 - 75000"
          ],
          [
           0,
           "No",
           1.5,
           "no",
           2,
           16,
           5,
           5,
           "rural",
           "yes",
           "100000 - 150000"
          ],
          [
           0,
           "No",
           1.5,
           "no",
           3,
           17,
           5,
           5,
           "urban",
           "no",
           "Under 25000"
          ],
          [
           0,
           "No",
           0.125,
           "no",
           5,
           16,
           4,
           4,
           "rural",
           "no",
           "200000 or more"
          ],
          [
           0,
           "No",
           4,
           "yes",
           4,
           16,
           1,
           5,
           "rural",
           "no",
           "200000 or more"
          ],
          [
           0,
           "No",
           4,
           "yes",
           4,
           12,
           1,
           5,
           "urban",
           "yes",
           "50000 - 75000"
          ],
          [
           0,
           "No",
           15,
           "yes",
           2,
           14,
           5,
           5,
           "urban",
           "no",
           "75,000 - 100000"
          ],
          [
           0,
           "No",
           15,
           "yes",
           3,
           14,
           5,
           3,
           "rural",
           "no",
           "25000 - 50000"
          ],
          [
           0,
           "No",
           7,
           "yes",
           2,
           16,
           5,
           5,
           "rural",
           "yes",
           "Under 25000"
          ],
          [
           0,
           "No",
           0.75,
           "no",
           4,
           16,
           6,
           4,
           "rural",
           "no",
           "75,000 - 100000"
          ],
          [
           0,
           "No",
           0.125,
           "no",
           3,
           20,
           6,
           5,
           "rural",
           "no",
           "75,000 - 100000"
          ],
          [
           0,
           "No",
           10,
           "yes",
           3,
           20,
           6,
           5,
           "urban",
           "no",
           "50000 - 75000"
          ],
          [
           0,
           "No",
           0.417,
           "no",
           5,
           14,
           4,
           5,
           "rural",
           "yes",
           "200000 or more"
          ],
          [
           0,
           "No",
           15,
           "yes",
           5,
           14,
           1,
           4,
           "rural",
           "yes",
           "100000 - 150000"
          ],
          [
           0,
           "No",
           10,
           "yes",
           3,
           14,
           1,
           5,
           "rural",
           "yes",
           "75,000 - 100000"
          ],
          [
           0,
           "No",
           15,
           "yes",
           4,
           17,
           5,
           5,
           "rural",
           "yes",
           "Under 25000"
          ],
          [
           0,
           "No",
           4,
           "yes",
           3,
           20,
           6,
           5,
           "rural",
           "no",
           "150000 - 200,000"
          ],
          [
           0,
           "No",
           7,
           "yes",
           4,
           17,
           1,
           5,
           "rural",
           "no",
           "50000 - 75000"
          ],
          [
           0,
           "No",
           10,
           "yes",
           4,
           16,
           1,
           5,
           "urban",
           "yes",
           "75,000 - 100000"
          ],
          [
           0,
           "No",
           10,
           "yes",
           1,
           18,
           1,
           4,
           "rural",
           "no",
           "150000 - 200,000"
          ],
          [
           0,
           "No",
           4,
           "no",
           3,
           14,
           1,
           4,
           "urban",
           "no",
           "150000 - 200,000"
          ],
          [
           0,
           "No",
           7,
           "yes",
           4,
           14,
           3,
           2,
           "urban",
           "no",
           "200000 or more"
          ],
          [
           0,
           "No",
           15,
           "yes",
           5,
           18,
           5,
           2,
           "rural",
           "yes",
           "25000 - 50000"
          ],
          [
           0,
           "No",
           7,
           "yes",
           2,
           18,
           5,
           5,
           "rural",
           "no",
           "25000 - 50000"
          ],
          [
           0,
           "No",
           1.5,
           "no",
           4,
           17,
           1,
           3,
           "urban",
           "yes",
           "25000 - 50000"
          ],
          [
           0,
           "No",
           1.5,
           "no",
           4,
           14,
           5,
           5,
           "rural",
           "yes",
           "50000 - 75000"
          ],
          [
           0,
           "No",
           1.5,
           "yes",
           4,
           14,
           5,
           4,
           "urban",
           "yes",
           "Under 25000"
          ],
          [
           0,
           "No",
           7,
           "yes",
           3,
           16,
           1,
           5,
           "urban",
           "yes",
           "200000 or more"
          ],
          [
           0,
           "No",
           15,
           "yes",
           3,
           16,
           5,
           4,
           "rural",
           "yes",
           "75,000 - 100000"
          ],
          [
           0,
           "No",
           0.75,
           "no",
           3,
           16,
           1,
           5,
           "urban",
           "no",
           "150000 - 200,000"
          ],
          [
           0,
           "No",
           1.5,
           "yes",
           2,
           14,
           5,
           5,
           "rural",
           "no",
           "100000 - 150000"
          ],
          [
           0,
           "No",
           4,
           "yes",
           1,
           16,
           5,
           5,
           "rural",
           "yes",
           "200000 or more"
          ],
          [
           0,
           "No",
           15,
           "yes",
           4,
           16,
           5,
           5,
           "urban",
           "yes",
           "Under 25000"
          ],
          [
           0,
           "No",
           10,
           "yes",
           4,
           20,
           6,
           5,
           "urban",
           "no",
           "75,000 - 100000"
          ],
          [
           0,
           "No",
           15,
           "yes",
           4,
           16,
           6,
           4,
           "urban",
           "no",
           "Under 25000"
          ],
          [
           0,
           "No",
           7,
           "yes",
           2,
           14,
           1,
           2,
           "urban",
           "yes",
           "100000 - 150000"
          ],
          [
           0,
           "No",
           1.5,
           "no",
           4,
           14,
           4,
           5,
           "urban",
           "yes",
           "100000 - 150000"
          ],
          [
           0,
           "No",
           10,
           "yes",
           2,
           16,
           5,
           4,
           "urban",
           "yes",
           "100000 - 150000"
          ],
          [
           0,
           "No",
           0.75,
           "no",
           2,
           16,
           5,
           4,
           "rural",
           "no",
           "25000 - 50000"
          ],
          [
           0,
           "No",
           1.5,
           "no",
           2,
           16,
           5,
           5,
           "rural",
           "no",
           "25000 - 50000"
          ],
          [
           0,
           "No",
           15,
           "yes",
           3,
           18,
           6,
           4,
           "urban",
           "no",
           "Under 25000"
          ],
          [
           0,
           "No",
           7,
           "yes",
           5,
           14,
           4,
           5,
           "rural",
           "yes",
           "25000 - 50000"
          ],
          [
           0,
           "No",
           15,
           "yes",
           4,
           16,
           4,
           4,
           "urban",
           "no",
           "25000 - 50000"
          ],
          [
           0,
           "No",
           15,
           "yes",
           3,
           18,
           5,
           2,
           "rural",
           "yes",
           "150000 - 200,000"
          ],
          [
           0,
           "No",
           15,
           "yes",
           3,
           18,
           6,
           2,
           "urban",
           "yes",
           "100000 - 150000"
          ],
          [
           0,
           "No",
           7,
           "yes",
           2,
           14,
           1,
           2,
           "rural",
           "no",
           "200000 or more"
          ],
          [
           0,
           "No",
           4,
           "no",
           5,
           12,
           4,
           5,
           "urban",
           "yes",
           "50000 - 75000"
          ],
          [
           0,
           "No",
           1.5,
           "no",
           1,
           16,
           6,
           5,
           "urban",
           "no",
           "150000 - 200,000"
          ],
          [
           0,
           "No",
           0.75,
           "no",
           1,
           14,
           4,
           5,
           "rural",
           "no",
           "Under 25000"
          ],
          [
           0,
           "No",
           15,
           "yes",
           4,
           12,
           1,
           5,
           "rural",
           "no",
           "50000 - 75000"
          ],
          [
           0,
           "No",
           1.5,
           "no",
           2,
           18,
           5,
           3,
           "rural",
           "no",
           "150000 - 200,000"
          ],
          [
           0,
           "No",
           4,
           "yes",
           5,
           17,
           2,
           5,
           "urban",
           "yes",
           "50000 - 75000"
          ],
          [
           0,
           "No",
           4,
           "yes",
           4,
           12,
           1,
           5,
           "rural",
           "yes",
           "75,000 - 100000"
          ],
          [
           0,
           "No",
           15,
           "yes",
           5,
           18,
           5,
           4,
           "rural",
           "yes",
           "200000 or more"
          ],
          [
           0,
           "No",
           1.5,
           "no",
           2,
           20,
           7,
           3,
           "rural",
           "no",
           "200000 or more"
          ],
          [
           0,
           "No",
           15,
           "no",
           4,
           9,
           3,
           1,
           "urban",
           "yes",
           "75,000 - 100000"
          ],
          [
           0,
           "No",
           7,
           "no",
           4,
           18,
           5,
           5,
           "rural",
           "yes",
           "50000 - 75000"
          ],
          [
           0,
           "No",
           15,
           "yes",
           2,
           17,
           5,
           4,
           "rural",
           "no",
           "25000 - 50000"
          ],
          [
           0,
           "No",
           15,
           "yes",
           4,
           17,
           6,
           5,
           "rural",
           "no",
           "75,000 - 100000"
          ],
          [
           0,
           "No",
           7,
           "no",
           2,
           17,
           5,
           4,
           "rural",
           "no",
           "150000 - 200,000"
          ],
          [
           0,
           "No",
           7,
           "yes",
           4,
           14,
           5,
           5,
           "urban",
           "no",
           "Under 25000"
          ],
          [
           0,
           "No",
           4,
           "no",
           2,
           14,
           3,
           3,
           "urban",
           "yes",
           "25000 - 50000"
          ],
          [
           0,
           "No",
           7,
           "yes",
           2,
           20,
           6,
           5,
           "urban",
           "yes",
           "25000 - 50000"
          ],
          [
           0,
           "No",
           7,
           "no",
           4,
           12,
           4,
           3,
           "urban",
           "yes",
           "25000 - 50000"
          ],
          [
           0,
           "No",
           10,
           "yes",
           4,
           18,
           6,
           4,
           "rural",
           "no",
           "150000 - 200,000"
          ],
          [
           0,
           "No",
           1.5,
           "no",
           3,
           14,
           1,
           5,
           "rural",
           "yes",
           "200000 or more"
          ],
          [
           0,
           "No",
           4,
           "yes",
           2,
           14,
           1,
           3,
           "rural",
           "no",
           "100000 - 150000"
          ],
          [
           0,
           "No",
           15,
           "no",
           4,
           20,
           6,
           5,
           "urban",
           "no",
           "Under 25000"
          ],
          [
           0,
           "No",
           15,
           "yes",
           4,
           14,
           4,
           3,
           "rural",
           "yes",
           "150000 - 200,000"
          ],
          [
           0,
           "No",
           7,
           "yes",
           3,
           18,
           5,
           5,
           "rural",
           "yes",
           "75,000 - 100000"
          ],
          [
           0,
           "No",
           4,
           "yes",
           4,
           16,
           5,
           5,
           "rural",
           "yes",
           "100000 - 150000"
          ],
          [
           0,
           "No",
           4,
           "yes",
           2,
           16,
           1,
           4,
           "urban",
           "yes",
           "50000 - 75000"
          ],
          [
           0,
           "No",
           15,
           "yes",
           2,
           14,
           5,
           1,
           "rural",
           "yes",
           "50000 - 75000"
          ],
          [
           0,
           "No",
           1.5,
           "no",
           5,
           14,
           1,
           4,
           "urban",
           "no",
           "75,000 - 100000"
          ],
          [
           0,
           "No",
           7,
           "yes",
           2,
           20,
           5,
           4,
           "rural",
           "yes",
           "200000 or more"
          ],
          [
           0,
           "No",
           4,
           "yes",
           4,
           14,
           5,
           5,
           "rural",
           "yes",
           "75,000 - 100000"
          ],
          [
           0,
           "No",
           0.125,
           "no",
           1,
           16,
           3,
           5,
           "urban",
           "no",
           "100000 - 150000"
          ],
          [
           0,
           "No",
           7,
           "yes",
           4,
           14,
           1,
           4,
           "rural",
           "no",
           "100000 - 150000"
          ],
          [
           0,
           "No",
           15,
           "yes",
           5,
           16,
           5,
           3,
           "rural",
           "no",
           "150000 - 200,000"
          ],
          [
           0,
           "No",
           10,
           "yes",
           4,
           18,
           5,
           4,
           "urban",
           "no",
           "100000 - 150000"
          ],
          [
           0,
           "No",
           15,
           "yes",
           2,
           14,
           3,
           4,
           "rural",
           "yes",
           "200000 or more"
          ],
          [
           0,
           "No",
           1.5,
           "no",
           3,
           17,
           5,
           5,
           "rural",
           "no",
           "200000 or more"
          ],
          [
           0,
           "No",
           4,
           "yes",
           4,
           17,
           4,
           4,
           "rural",
           "yes",
           "25000 - 50000"
          ],
          [
           0,
           "No",
           15,
           "yes",
           5,
           14,
           1,
           5,
           "urban",
           "yes",
           "100000 - 150000"
          ],
          [
           0,
           "No",
           7,
           "yes",
           2,
           12,
           1,
           2,
           "urban",
           "no",
           "50000 - 75000"
          ],
          [
           0,
           "No",
           7,
           "yes",
           3,
           12,
           1,
           4,
           "urban",
           "yes",
           "50000 - 75000"
          ],
          [
           0,
           "No",
           15,
           "yes",
           2,
           14,
           1,
           4,
           "rural",
           "no",
           "200000 or more"
          ],
          [
           0,
           "No",
           15,
           "yes",
           4,
           14,
           5,
           4,
           "rural",
           "no",
           "75,000 - 100000"
          ],
          [
           0,
           "No",
           7,
           "yes",
           4,
           14,
           3,
           3,
           "rural",
           "no",
           "200000 or more"
          ],
          [
           0,
           "No",
           7,
           "yes",
           2,
           20,
           6,
           2,
           "rural",
           "yes",
           "150000 - 200,000"
          ],
          [
           0,
           "No",
           15,
           "yes",
           3,
           12,
           3,
           3,
           "rural",
           "yes",
           "Under 25000"
          ],
          [
           0,
           "No",
           4,
           "yes",
           3,
           16,
           3,
           5,
           "urban",
           "yes",
           "75,000 - 100000"
          ],
          [
           0,
           "No",
           7,
           "yes",
           3,
           14,
           1,
           4,
           "urban",
           "yes",
           "75,000 - 100000"
          ],
          [
           0,
           "No",
           1.5,
           "no",
           2,
           14,
           4,
           5,
           "rural",
           "no",
           "75,000 - 100000"
          ],
          [
           0,
           "No",
           4,
           "yes",
           4,
           14,
           1,
           4,
           "rural",
           "yes",
           "Under 25000"
          ],
          [
           0,
           "No",
           4,
           "no",
           4,
           14,
           5,
           5,
           "urban",
           "yes",
           "75,000 - 100000"
          ],
          [
           0,
           "No",
           1.5,
           "no",
           2,
           16,
           4,
           5,
           "rural",
           "yes",
           "150000 - 200,000"
          ],
          [
           0,
           "No",
           15,
           "no",
           4,
           14,
           5,
           4,
           "rural",
           "no",
           "25000 - 50000"
          ],
          [
           0,
           "No",
           10,
           "yes",
           2,
           18,
           6,
           2,
           "rural",
           "no",
           "150000 - 200,000"
          ],
          [
           0,
           "No",
           15,
           "yes",
           3,
           17,
           5,
           4,
           "rural",
           "no",
           "75,000 - 100000"
          ],
          [
           0,
           "No",
           4,
           "yes",
           2,
           16,
           1,
           4,
           "rural",
           "yes",
           "50000 - 75000"
          ],
          [
           0,
           "No",
           2,
           "no",
           2,
           17,
           4,
           5,
           "urban",
           "no",
           "75,000 - 100000"
          ],
          [
           7,
           "No",
           5,
           "yes",
           2,
           13,
           4,
           3,
           "urban",
           "yes",
           "25000 - 50000"
          ],
          [
           0,
           "No",
           0,
           "yes",
           1,
           14,
           4,
           4,
           "rural",
           "yes",
           "Under 25000"
          ],
          [
           3,
           "No",
           8,
           "no",
           2,
           13,
           5,
           5,
           "urban",
           "yes",
           "75,000 - 100000"
          ],
          [
           2,
           "No",
           2,
           "yes",
           3,
           18,
           3,
           2,
           "urban",
           "no",
           "200000 or more"
          ],
          [
           2,
           "No",
           12,
           "yes",
           4,
           14,
           3,
           4,
           "rural",
           "no",
           "50000 - 75000"
          ],
          [
           2,
           "No",
           3,
           "yes",
           2,
           16,
           3,
           2,
           "rural",
           "yes",
           "Under 25000"
          ],
          [
           3,
           "No",
           9,
           "no",
           2,
           17,
           3,
           2,
           "rural",
           "yes",
           "100000 - 150000"
          ],
          [
           0,
           "No",
           13,
           "yes",
           2,
           17,
           4,
           3,
           "rural",
           "yes",
           "100000 - 150000"
          ],
          [
           1,
           "No",
           2,
           "no",
           2,
           12,
           5,
           3,
           "rural",
           "no",
           "100000 - 150000"
          ],
          [
           5,
           "No",
           19,
           "yes",
           3,
           16,
           1,
           2,
           "rural",
           "no",
           "25000 - 50000"
          ],
          [
           0,
           "No",
           6,
           "no",
           2,
           18,
           3,
           2,
           "rural",
           "no",
           "75,000 - 100000"
          ],
          [
           3,
           "No",
           5,
           "yes",
           2,
           17,
           3,
           4,
           "rural",
           "no",
           "25000 - 50000"
          ],
          [
           3,
           "No",
           13,
           "yes",
           0,
           12,
           6,
           5,
           "urban",
           "yes",
           "75,000 - 100000"
          ],
          [
           8,
           "No",
           16,
           "yes",
           2,
           14,
           3,
           3,
           "rural",
           "no",
           "25000 - 50000"
          ],
          [
           7,
           "No",
           10,
           "no",
           2,
           20,
           6,
           2,
           "rural",
           "yes",
           "150000 - 200,000"
          ],
          [
           3,
           "No",
           8,
           "no",
           2,
           17,
           6,
           5,
           "urban",
           "yes",
           "150000 - 200,000"
          ],
          [
           1,
           "No",
           3,
           "yes",
           1,
           17,
           4,
           3,
           "rural",
           "yes",
           "50000 - 75000"
          ],
          [
           1,
           "No",
           15,
           "no",
           2,
           14,
           5,
           4,
           "urban",
           "yes",
           "50000 - 75000"
          ],
          [
           4,
           "No",
           11,
           "yes",
           1,
           16,
           4,
           2,
           "urban",
           "yes",
           "150000 - 200,000"
          ],
          [
           0,
           "No",
           7,
           "yes",
           1,
           18,
           4,
           5,
           "rural",
           "yes",
           "100000 - 150000"
          ],
          [
           4,
           "No",
           6,
           "yes",
           2,
           15,
           7,
           4,
           "rural",
           "yes",
           "Under 25000"
          ],
          [
           2,
           "No",
           7,
           "yes",
           1,
           19,
           4,
           2,
           "rural",
           "yes",
           "75,000 - 100000"
          ],
          [
           2,
           "No",
           1,
           "yes",
           2,
           15,
           1,
           3,
           "urban",
           "yes",
           "Under 25000"
          ],
          [
           8,
           "No",
           12,
           "yes",
           2,
           20,
           4,
           5,
           "rural",
           "yes",
           "200000 or more"
          ],
          [
           2,
           "No",
           2,
           "no",
           1,
           20,
           5,
           3,
           "urban",
           "no",
           "25000 - 50000"
          ],
          [
           3,
           "No",
           10,
           "yes",
           3,
           10,
           0,
           4,
           "urban",
           "no",
           "Under 25000"
          ],
          [
           8,
           "No",
           18,
           "yes",
           2,
           14,
           6,
           4,
           "urban",
           "no",
           "150000 - 200,000"
          ],
          [
           5,
           "No",
           11,
           "yes",
           2,
           11,
           2,
           3,
           "rural",
           "no",
           "200000 or more"
          ],
          [
           1,
           "No",
           9,
           "no",
           3,
           16,
           2,
           4,
           "urban",
           "yes",
           "100000 - 150000"
          ],
          [
           0,
           "No",
           1,
           "yes",
           2,
           18,
           3,
           2,
           "rural",
           "yes",
           "75,000 - 100000"
          ],
          [
           1,
           "No",
           5,
           "yes",
           3,
           15,
           5,
           3,
           "rural",
           "yes",
           "Under 25000"
          ],
          [
           6,
           "No",
           5,
           "yes",
           2,
           14,
           1,
           4,
           "rural",
           "no",
           "Under 25000"
          ],
          [
           4,
           "No",
           5,
           "yes",
           2,
           18,
           3,
           3,
           "urban",
           "no",
           "25000 - 50000"
          ],
          [
           2,
           "No",
           3,
           "yes",
           0,
           14,
           5,
           4,
           "urban",
           "no",
           "25000 - 50000"
          ],
          [
           0,
           "No",
           11,
           "no",
           1,
           15,
           4,
           3,
           "urban",
           "no",
           "Under 25000"
          ],
          [
           0,
           "No",
           12,
           "yes",
           0,
           13,
           2,
           3,
           "rural",
           "no",
           "Under 25000"
          ],
          [
           3,
           "No",
           13,
           "yes",
           3,
           14,
           3,
           5,
           "urban",
           "yes",
           "150000 - 200,000"
          ],
          [
           5,
           "No",
           5,
           "no",
           3,
           14,
           8,
           4,
           "urban",
           "yes",
           "50000 - 75000"
          ],
          [
           5,
           "No",
           11,
           "no",
           2,
           16,
           3,
           2,
           "urban",
           "no",
           "150000 - 200,000"
          ],
          [
           1,
           "No",
           13,
           "yes",
           2,
           17,
           1,
           3,
           "urban",
           "no",
           "50000 - 75000"
          ],
          [
           4,
           "No",
           17,
           "yes",
           2,
           15,
           3,
           2,
           "urban",
           "no",
           "25000 - 50000"
          ],
          [
           4,
           "No",
           8,
           "yes",
           3,
           17,
           4,
           4,
           "rural",
           "no",
           "150000 - 200,000"
          ],
          [
           2,
           "No",
           15,
           "yes",
           4,
           12,
           3,
           1,
           "urban",
           "no",
           "100000 - 150000"
          ],
          [
           1,
           "No",
           12,
           "yes",
           3,
           15,
           3,
           5,
           "rural",
           "no",
           "200000 or more"
          ],
          [
           1,
           "No",
           11,
           "yes",
           1,
           15,
           6,
           4,
           "urban",
           "no",
           "150000 - 200,000"
          ],
          [
           0,
           "No",
           7,
           "yes",
           3,
           16,
           7,
           2,
           "urban",
           "yes",
           "100000 - 150000"
          ],
          [
           3,
           "No",
           9,
           "yes",
           2,
           20,
           3,
           2,
           "urban",
           "no",
           "75,000 - 100000"
          ],
          [
           1,
           "No",
           12,
           "yes",
           3,
           20,
           6,
           3,
           "rural",
           "no",
           "150000 - 200,000"
          ],
          [
           5,
           "No",
           7,
           "yes",
           4,
           12,
           6,
           4,
           "urban",
           "no",
           "200000 or more"
          ],
          [
           2,
           "No",
           11,
           "yes",
           3,
           14,
           7,
           3,
           "urban",
           "no",
           "150000 - 200,000"
          ],
          [
           4,
           "No",
           13,
           "yes",
           3,
           16,
           0,
           5,
           "urban",
           "no",
           "50000 - 75000"
          ],
          [
           1,
           "No",
           0,
           "yes",
           3,
           20,
           5,
           4,
           "rural",
           "yes",
           "200000 or more"
          ],
          [
           3,
           "No",
           5,
           "yes",
           2,
           14,
           3,
           4,
           "rural",
           "no",
           "25000 - 50000"
          ],
          [
           0,
           "No",
           0,
           "yes",
           4,
           19,
           4,
           3,
           "urban",
           "no",
           "Under 25000"
          ],
          [
           3,
           "No",
           4,
           "yes",
           3,
           16,
           5,
           2,
           "urban",
           "yes",
           "100000 - 150000"
          ],
          [
           0,
           "No",
           8,
           "yes",
           2,
           16,
           4,
           3,
           "urban",
           "no",
           "200000 or more"
          ],
          [
           4,
           "No",
           4,
           "no",
           3,
           12,
           4,
           2,
           "rural",
           "no",
           "25000 - 50000"
          ],
          [
           2,
           "No",
           10,
           "yes",
           3,
           20,
           4,
           5,
           "urban",
           "no",
           "75,000 - 100000"
          ],
          [
           3,
           "No",
           9,
           "yes",
           2,
           14,
           4,
           5,
           "urban",
           "yes",
           "Under 25000"
          ],
          [
           4,
           "No",
           4,
           "yes",
           4,
           16,
           2,
           2,
           "urban",
           "no",
           "25000 - 50000"
          ],
          [
           6,
           "No",
           18,
           "no",
           0,
           12,
           5,
           3,
           "rural",
           "no",
           "75,000 - 100000"
          ],
          [
           1,
           "No",
           12,
           "yes",
           4,
           14,
           4,
           5,
           "urban",
           "no",
           "25000 - 50000"
          ],
          [
           0,
           "No",
           14,
           "yes",
           1,
           17,
           3,
           2,
           "rural",
           "yes",
           "Under 25000"
          ],
          [
           1,
           "No",
           7,
           "yes",
           4,
           16,
           5,
           3,
           "rural",
           "yes",
           "100000 - 150000"
          ],
          [
           1,
           "No",
           2,
           "yes",
           1,
           18,
           4,
           4,
           "rural",
           "yes",
           "Under 25000"
          ],
          [
           8,
           "No",
           10,
           "yes",
           2,
           20,
           3,
           6,
           "urban",
           "no",
           "100000 - 150000"
          ],
          [
           2,
           "No",
           8,
           "yes",
           1,
           13,
           6,
           2,
           "urban",
           "no",
           "25000 - 50000"
          ],
          [
           2,
           "No",
           8,
           "yes",
           2,
           17,
           3,
           3,
           "urban",
           "yes",
           "150000 - 200,000"
          ],
          [
           3,
           "No",
           7,
           "yes",
           2,
           14,
           2,
           4,
           "rural",
           "no",
           "50000 - 75000"
          ],
          [
           4,
           "No",
           13,
           "no",
           3,
           16,
           4,
           3,
           "urban",
           "no",
           "Under 25000"
          ],
          [
           3,
           "No",
           3,
           "no",
           5,
           19,
           4,
           4,
           "rural",
           "no",
           "50000 - 75000"
          ],
          [
           0,
           "No",
           4,
           "yes",
           2,
           10,
           6,
           4,
           "urban",
           "no",
           "50000 - 75000"
          ],
          [
           2,
           "No",
           15,
           "yes",
           2,
           15,
           5,
           3,
           "rural",
           "no",
           "50000 - 75000"
          ],
          [
           1,
           "No",
           10,
           "yes",
           0,
           14,
           6,
           4,
           "rural",
           "yes",
           "75,000 - 100000"
          ],
          [
           2,
           "No",
           11,
           "yes",
           1,
           14,
           5,
           2,
           "urban",
           "yes",
           "25000 - 50000"
          ],
          [
           2,
           "No",
           11,
           "yes",
           4,
           15,
           2,
           3,
           "urban",
           "yes",
           "200000 or more"
          ],
          [
           6,
           "No",
           6,
           "yes",
           4,
           21,
           4,
           5,
           "urban",
           "yes",
           "75,000 - 100000"
          ],
          [
           3,
           "No",
           12,
           "yes",
           2,
           15,
           4,
           5,
           "rural",
           "yes",
           "100000 - 150000"
          ],
          [
           10,
           "No",
           0,
           "no",
           2,
           16,
           2,
           4,
           "urban",
           "no",
           "75,000 - 100000"
          ],
          [
           8,
           "No",
           15,
           "yes",
           3,
           16,
           4,
           5,
           "rural",
           "no",
           "150000 - 200,000"
          ],
          [
           0,
           "No",
           2,
           "no",
           3,
           18,
           1,
           5,
           "urban",
           "yes",
           "150000 - 200,000"
          ],
          [
           4,
           "No",
           1,
           "no",
           0,
           14,
           3,
           3,
           "rural",
           "no",
           "200000 or more"
          ],
          [
           4,
           "No",
           6,
           "yes",
           2,
           16,
           5,
           3,
           "urban",
           "yes",
           "Under 25000"
          ],
          [
           3,
           "No",
           8,
           "yes",
           3,
           14,
           4,
           2,
           "rural",
           "yes",
           "150000 - 200,000"
          ],
          [
           2,
           "No",
           10,
           "no",
           3,
           19,
           3,
           4,
           "urban",
           "yes",
           "200000 or more"
          ],
          [
           1,
           "No",
           12,
           "yes",
           0,
           18,
           2,
           3,
           "urban",
           "yes",
           "Under 25000"
          ],
          [
           4,
           "No",
           2,
           "yes",
           3,
           13,
           3,
           4,
           "rural",
           "no",
           "25000 - 50000"
          ],
          [
           2,
           "No",
           10,
           "yes",
           2,
           14,
           1,
           5,
           "urban",
           "yes",
           "200000 or more"
          ],
          [
           1,
           "No",
           8,
           "no",
           3,
           15,
           4,
           4,
           "rural",
           "no",
           "200000 or more"
          ],
          [
           4,
           "No",
           12,
           "yes",
           3,
           18,
           5,
           4,
           "urban",
           "yes",
           "50000 - 75000"
          ],
          [
           0,
           "No",
           6,
           "no",
           1,
           15,
           2,
           4,
           "urban",
           "yes",
           "50000 - 75000"
          ],
          [
           2,
           "No",
           14,
           "no",
           2,
           13,
           2,
           6,
           "urban",
           "no",
           "50000 - 75000"
          ],
          [
           4,
           "No",
           9,
           "yes",
           3,
           19,
           3,
           4,
           "urban",
           "yes",
           "200000 or more"
          ],
          [
           2,
           "No",
           3,
           "yes",
           1,
           15,
           4,
           3,
           "rural",
           "yes",
           "75,000 - 100000"
          ],
          [
           3,
           "No",
           2,
           "yes",
           0,
           9,
           3,
           4,
           "urban",
           "yes",
           "50000 - 75000"
          ],
          [
           0,
           "No",
           9,
           "yes",
           1,
           16,
           2,
           3,
           "urban",
           "yes",
           "75,000 - 100000"
          ],
          [
           5,
           "No",
           5,
           "yes",
           4,
           15,
           4,
           4,
           "rural",
           "yes",
           "50000 - 75000"
          ],
          [
           2,
           "No",
           9,
           "yes",
           4,
           18,
           1,
           3,
           "rural",
           "no",
           "25000 - 50000"
          ],
          [
           5,
           "No",
           1,
           "yes",
           0,
           19,
           7,
           1,
           "urban",
           "no",
           "150000 - 200,000"
          ],
          [
           4,
           "No",
           9,
           "no",
           3,
           19,
           6,
           5,
           "urban",
           "no",
           "25000 - 50000"
          ],
          [
           2,
           "No",
           5,
           "no",
           2,
           15,
           6,
           5,
           "rural",
           "yes",
           "200000 or more"
          ],
          [
           4,
           "No",
           1,
           "no",
           3,
           17,
           4,
           3,
           "urban",
           "yes",
           "100000 - 150000"
          ],
          [
           4,
           "No",
           16,
           "yes",
           6,
           18,
           5,
           4,
           "rural",
           "no",
           "100000 - 150000"
          ],
          [
           4,
           "No",
           1,
           "yes",
           4,
           17,
           0,
           2,
           "rural",
           "yes",
           "200000 or more"
          ],
          [
           4,
           "No",
           11,
           "no",
           2,
           11,
           5,
           4,
           "urban",
           "yes",
           "200000 or more"
          ],
          [
           0,
           "No",
           10,
           "yes",
           3,
           11,
           4,
           2,
           "urban",
           "yes",
           "Under 25000"
          ],
          [
           3,
           "No",
           9,
           "no",
           6,
           16,
           3,
           4,
           "rural",
           "no",
           "150000 - 200,000"
          ],
          [
           1,
           "No",
           7,
           "no",
           4,
           15,
           4,
           3,
           "urban",
           "yes",
           "100000 - 150000"
          ],
          [
           0,
           "No",
           0,
           "yes",
           2,
           18,
           3,
           3,
           "urban",
           "no",
           "200000 or more"
          ],
          [
           8,
           "No",
           4,
           "yes",
           4,
           16,
           3,
           3,
           "urban",
           "yes",
           "Under 25000"
          ],
          [
           1,
           "No",
           4,
           "yes",
           2,
           15,
           3,
           4,
           "urban",
           "no",
           "50000 - 75000"
          ],
          [
           4,
           "No",
           7,
           "no",
           2,
           18,
           4,
           4,
           "urban",
           "no",
           "75,000 - 100000"
          ],
          [
           2,
           "No",
           6,
           "yes",
           4,
           12,
           5,
           6,
           "urban",
           "no",
           "50000 - 75000"
          ],
          [
           2,
           "No",
           15,
           "yes",
           3,
           16,
           7,
           3,
           "urban",
           "yes",
           "150000 - 200,000"
          ],
          [
           5,
           "No",
           16,
           "yes",
           2,
           16,
           3,
           4,
           "urban",
           "no",
           "75,000 - 100000"
          ],
          [
           0,
           "No",
           14,
           "yes",
           2,
           16,
           3,
           2,
           "rural",
           "no",
           "150000 - 200,000"
          ],
          [
           5,
           "No",
           3,
           "yes",
           2,
           14,
           4,
           3,
           "urban",
           "yes",
           "200000 or more"
          ],
          [
           1,
           "No",
           3,
           "no",
           2,
           15,
           3,
           3,
           "rural",
           "yes",
           "Under 25000"
          ],
          [
           2,
           "No",
           0,
           "yes",
           2,
           20,
           2,
           3,
           "rural",
           "yes",
           "150000 - 200,000"
          ],
          [
           2,
           "No",
           16,
           "yes",
           0,
           16,
           6,
           2,
           "rural",
           "yes",
           "75,000 - 100000"
          ],
          [
           5,
           "No",
           5,
           "yes",
           4,
           14,
           6,
           5,
           "urban",
           "no",
           "50000 - 75000"
          ],
          [
           4,
           "No",
           6,
           "yes",
           3,
           20,
           4,
           2,
           "urban",
           "no",
           "75,000 - 100000"
          ],
          [
           2,
           "No",
           9,
           "yes",
           3,
           19,
           4,
           2,
           "rural",
           "yes",
           "Under 25000"
          ],
          [
           2,
           "No",
           5,
           "yes",
           2,
           16,
           3,
           2,
           "urban",
           "no",
           "50000 - 75000"
          ],
          [
           8,
           "No",
           9,
           "yes",
           4,
           15,
           7,
           2,
           "urban",
           "no",
           "75,000 - 100000"
          ],
          [
           3,
           "No",
           8,
           "yes",
           2,
           13,
           2,
           3,
           "rural",
           "no",
           "25000 - 50000"
          ],
          [
           1,
           "No",
           0,
           "yes",
           2,
           15,
           5,
           5,
           "rural",
           "no",
           "50000 - 75000"
          ],
          [
           5,
           "No",
           11,
           "no",
           3,
           14,
           3,
           2,
           "rural",
           "no",
           "75,000 - 100000"
          ],
          [
           1,
           "No",
           6,
           "no",
           2,
           15,
           5,
           4,
           "rural",
           "no",
           "25000 - 50000"
          ],
          [
           1,
           "No",
           8,
           "yes",
           2,
           17,
           3,
           5,
           "urban",
           "no",
           "75,000 - 100000"
          ],
          [
           2,
           "No",
           1,
           "yes",
           3,
           15,
           6,
           2,
           "urban",
           "no",
           "75,000 - 100000"
          ],
          [
           7,
           "No",
           10,
           "yes",
           4,
           17,
           1,
           4,
           "urban",
           "yes",
           "75,000 - 100000"
          ],
          [
           0,
           "No",
           5,
           "yes",
           4,
           13,
           3,
           4,
           "urban",
           "no",
           "Under 25000"
          ],
          [
           2,
           "No",
           11,
           "yes",
           4,
           18,
           1,
           1,
           "urban",
           "no",
           "150000 - 200,000"
          ],
          [
           0,
           "No",
           1,
           "yes",
           4,
           16,
           3,
           4,
           "urban",
           "yes",
           "25000 - 50000"
          ],
          [
           3,
           "No",
           17,
           "yes",
           2,
           19,
           2,
           3,
           "urban",
           "yes",
           "150000 - 200,000"
          ],
          [
           1,
           "No",
           15,
           "yes",
           4,
           17,
           6,
           3,
           "urban",
           "no",
           "25000 - 50000"
          ],
          [
           0,
           "No",
           5,
           "no",
           3,
           11,
           4,
           3,
           "rural",
           "yes",
           "50000 - 75000"
          ],
          [
           0,
           "No",
           1,
           "no",
           1,
           18,
           2,
           2,
           "rural",
           "yes",
           "Under 25000"
          ],
          [
           2,
           "No",
           9,
           "yes",
           1,
           18,
           6,
           4,
           "rural",
           "yes",
           "200000 or more"
          ],
          [
           1,
           "No",
           5,
           "yes",
           4,
           19,
           5,
           4,
           "urban",
           "yes",
           "75,000 - 100000"
          ],
          [
           6,
           "No",
           3,
           "no",
           2,
           15,
           2,
           4,
           "rural",
           "yes",
           "50000 - 75000"
          ],
          [
           2,
           "No",
           2,
           "yes",
           2,
           18,
           4,
           2,
           "rural",
           "yes",
           "100000 - 150000"
          ],
          [
           2,
           "No",
           1,
           "yes",
           4,
           14,
           5,
           3,
           "urban",
           "no",
           "150000 - 200,000"
          ],
          [
           1,
           "No",
           2,
           "yes",
           4,
           13,
           0,
           4,
           "rural",
           "yes",
           "Under 25000"
          ],
          [
           3,
           "No",
           11,
           "no",
           3,
           17,
           2,
           6,
           "urban",
           "yes",
           "200000 or more"
          ],
          [
           0,
           "No",
           15,
           "no",
           3,
           16,
           6,
           3,
           "urban",
           "no",
           "100000 - 150000"
          ],
          [
           4,
           "No",
           3,
           "yes",
           2,
           18,
           3,
           4,
           "rural",
           "no",
           "Under 25000"
          ],
          [
           5,
           "No",
           11,
           "yes",
           4,
           20,
           6,
           3,
           "urban",
           "yes",
           "75,000 - 100000"
          ],
          [
           9,
           "No",
           4,
           "no",
           2,
           15,
           4,
           3,
           "urban",
           "no",
           "25000 - 50000"
          ],
          [
           4,
           "No",
           7,
           "yes",
           3,
           15,
           5,
           2,
           "rural",
           "no",
           "50000 - 75000"
          ],
          [
           3,
           "No",
           6,
           "no",
           4,
           18,
           2,
           3,
           "rural",
           "no",
           "25000 - 50000"
          ],
          [
           2,
           "No",
           18,
           "yes",
           3,
           16,
           5,
           3,
           "rural",
           "yes",
           "50000 - 75000"
          ],
          [
           6,
           "No",
           10,
           "yes",
           1,
           13,
           3,
           3,
           "rural",
           "no",
           "Under 25000"
          ],
          [
           2,
           "No",
           9,
           "no",
           2,
           13,
           2,
           3,
           "urban",
           "yes",
           "75,000 - 100000"
          ],
          [
           0,
           "No",
           2,
           "yes",
           1,
           19,
           5,
           3,
           "urban",
           "yes",
           "100000 - 150000"
          ],
          [
           5,
           "No",
           10,
           "yes",
           3,
           15,
           2,
           5,
           "urban",
           "yes",
           "75,000 - 100000"
          ],
          [
           3,
           "No",
           8,
           "yes",
           2,
           18,
           6,
           4,
           "urban",
           "no",
           "Under 25000"
          ],
          [
           2,
           "No",
           18,
           "no",
           2,
           17,
           4,
           3,
           "urban",
           "no",
           "50000 - 75000"
          ],
          [
           4,
           "No",
           3,
           "no",
           2,
           11,
           7,
           2,
           "urban",
           "no",
           "200000 or more"
          ],
          [
           2,
           "No",
           9,
           "yes",
           2,
           17,
           1,
           3,
           "urban",
           "yes",
           "75,000 - 100000"
          ],
          [
           5,
           "No",
           6,
           "no",
           2,
           15,
           2,
           5,
           "urban",
           "yes",
           "150000 - 200,000"
          ],
          [
           2,
           "No",
           6,
           "yes",
           3,
           16,
           3,
           2,
           "urban",
           "no",
           "150000 - 200,000"
          ],
          [
           2,
           "No",
           14,
           "no",
           4,
           18,
           4,
           5,
           "urban",
           "no",
           "200000 or more"
          ],
          [
           0,
           "No",
           2,
           "yes",
           3,
           15,
           6,
           3,
           "rural",
           "no",
           "Under 25000"
          ],
          [
           8,
           "No",
           10,
           "yes",
           3,
           16,
           5,
           2,
           "urban",
           "no",
           "100000 - 150000"
          ],
          [
           5,
           "No",
           11,
           "yes",
           2,
           19,
           6,
           5,
           "urban",
           "no",
           "150000 - 200,000"
          ],
          [
           2,
           "No",
           10,
           "no",
           2,
           16,
           1,
           4,
           "rural",
           "no",
           "25000 - 50000"
          ],
          [
           1,
           "No",
           8,
           "yes",
           3,
           10,
           5,
           3,
           "rural",
           "no",
           "75,000 - 100000"
          ],
          [
           1,
           "No",
           9,
           "yes",
           2,
           16,
           3,
           4,
           "rural",
           "yes",
           "100000 - 150000"
          ],
          [
           2,
           "No",
           4,
           "no",
           1,
           16,
           2,
           4,
           "urban",
           "yes",
           "150000 - 200,000"
          ],
          [
           6,
           "No",
           4,
           "yes",
           0,
           13,
           0,
           3,
           "urban",
           "yes",
           "100000 - 150000"
          ],
          [
           2,
           "No",
           11,
           "yes",
           0,
           13,
           6,
           1,
           "urban",
           "yes",
           "75,000 - 100000"
          ],
          [
           2,
           "No",
           18,
           "yes",
           1,
           14,
           5,
           5,
           "rural",
           "yes",
           "25000 - 50000"
          ],
          [
           3,
           "No",
           8,
           "yes",
           2,
           14,
           5,
           4,
           "urban",
           "no",
           "Under 25000"
          ],
          [
           0,
           "No",
           10,
           "no",
           4,
           16,
           2,
           2,
           "rural",
           "no",
           "25000 - 50000"
          ],
          [
           4,
           "No",
           11,
           "no",
           2,
           16,
           5,
           4,
           "rural",
           "no",
           "150000 - 200,000"
          ],
          [
           3,
           "No",
           11,
           "yes",
           3,
           16,
           3,
           2,
           "rural",
           "yes",
           "200000 or more"
          ],
          [
           0,
           "No",
           10,
           "no",
           3,
           15,
           4,
           4,
           "urban",
           "yes",
           "Under 25000"
          ],
          [
           0,
           "No",
           8,
           "no",
           2,
           12,
           5,
           4,
           "rural",
           "yes",
           "150000 - 200,000"
          ],
          [
           3,
           "No",
           16,
           "yes",
           4,
           17,
           2,
           2,
           "urban",
           "yes",
           "Under 25000"
          ],
          [
           0,
           "No",
           1,
           "yes",
           2,
           16,
           1,
           3,
           "urban",
           "yes",
           "100000 - 150000"
          ],
          [
           5,
           "No",
           11,
           "yes",
           5,
           11,
           3,
           3,
           "rural",
           "yes",
           "200000 or more"
          ],
          [
           0,
           "No",
           9,
           "yes",
           2,
           17,
           6,
           2,
           "urban",
           "no",
           "100000 - 150000"
          ],
          [
           1,
           "No",
           12,
           "yes",
           4,
           13,
           2,
           4,
           "urban",
           "no",
           "Under 25000"
          ],
          [
           4,
           "No",
           12,
           "yes",
           4,
           11,
           3,
           4,
           "urban",
           "no",
           "150000 - 200,000"
          ],
          [
           2,
           "No",
           7,
           "yes",
           0,
           13,
           4,
           3,
           "rural",
           "no",
           "25000 - 50000"
          ],
          [
           4,
           "No",
           6,
           "no",
           4,
           18,
           4,
           3,
           "rural",
           "yes",
           "50000 - 75000"
          ],
          [
           0,
           "No",
           14,
           "yes",
           1,
           17,
           4,
           3,
           "rural",
           "yes",
           "150000 - 200,000"
          ],
          [
           0,
           "No",
           4,
           "yes",
           2,
           16,
           4,
           3,
           "rural",
           "no",
           "200000 or more"
          ],
          [
           6,
           "No",
           9,
           "yes",
           2,
           15,
           6,
           4,
           "rural",
           "no",
           "100000 - 150000"
          ],
          [
           2,
           "No",
           16,
           "yes",
           2,
           15,
           4,
           4,
           "rural",
           "no",
           "25000 - 50000"
          ],
          [
           0,
           "No",
           6,
           "yes",
           3,
           14,
           5,
           4,
           "rural",
           "no",
           "25000 - 50000"
          ],
          [
           2,
           "No",
           8,
           "yes",
           1,
           20,
           7,
           3,
           "urban",
           "yes",
           "100000 - 150000"
          ],
          [
           2,
           "No",
           13,
           "yes",
           2,
           16,
           2,
           2,
           "urban",
           "no",
           "200000 or more"
          ],
          [
           4,
           "No",
           8,
           "yes",
           0,
           18,
           2,
           3,
           "rural",
           "no",
           "75,000 - 100000"
          ],
          [
           8,
           "No",
           11,
           "no",
           3,
           17,
           6,
           3,
           "urban",
           "no",
           "150000 - 200,000"
          ],
          [
           4,
           "No",
           8,
           "no",
           3,
           16,
           2,
           3,
           "rural",
           "no",
           "25000 - 50000"
          ],
          [
           1,
           "No",
           7,
           "yes",
           4,
           12,
           2,
           4,
           "rural",
           "no",
           "50000 - 75000"
          ],
          [
           4,
           "No",
           9,
           "yes",
           3,
           16,
           2,
           4,
           "urban",
           "no",
           "100000 - 150000"
          ],
          [
           4,
           "No",
           17,
           "no",
           4,
           17,
           7,
           3,
           "urban",
           "no",
           "100000 - 150000"
          ],
          [
           3,
           "No",
           7,
           "no",
           3,
           16,
           3,
           2,
           "rural",
           "yes",
           "50000 - 75000"
          ],
          [
           1,
           "No",
           1,
           "yes",
           4,
           18,
           6,
           6,
           "urban",
           "no",
           "25000 - 50000"
          ],
          [
           0,
           "No",
           4,
           "yes",
           3,
           14,
           6,
           4,
           "rural",
           "no",
           "200000 or more"
          ],
          [
           3,
           "No",
           9,
           "yes",
           2,
           18,
           2,
           5,
           "rural",
           "yes",
           "25000 - 50000"
          ],
          [
           4,
           "No",
           1,
           "yes",
           1,
           18,
           3,
           4,
           "rural",
           "no",
           "100000 - 150000"
          ],
          [
           2,
           "No",
           8,
           "no",
           2,
           18,
           4,
           4,
           "urban",
           "yes",
           "Under 25000"
          ],
          [
           0,
           "No",
           1,
           "yes",
           2,
           16,
           1,
           4,
           "urban",
           "no",
           "Under 25000"
          ],
          [
           1,
           "No",
           7,
           "yes",
           1,
           18,
           5,
           3,
           "urban",
           "yes",
           "50000 - 75000"
          ],
          [
           0,
           "No",
           0,
           "yes",
           3,
           18,
           8,
           3,
           "urban",
           "no",
           "Under 25000"
          ],
          [
           4,
           "No",
           16,
           "yes",
           4,
           16,
           1,
           2,
           "rural",
           "yes",
           "200000 or more"
          ],
          [
           4,
           "No",
           4,
           "yes",
           3,
           18,
           7,
           4,
           "rural",
           "yes",
           "Under 25000"
          ],
          [
           2,
           "No",
           13,
           "yes",
           3,
           16,
           3,
           3,
           "urban",
           "yes",
           "Under 25000"
          ],
          [
           0,
           "No",
           13,
           "no",
           4,
           15,
           4,
           2,
           "rural",
           "yes",
           "100000 - 150000"
          ],
          [
           2,
           "No",
           6,
           "yes",
           3,
           18,
           6,
           4,
           "urban",
           "yes",
           "150000 - 200,000"
          ],
          [
           2,
           "No",
           5,
           "yes",
           4,
           13,
           3,
           4,
           "urban",
           "no",
           "25000 - 50000"
          ],
          [
           5,
           "No",
           2,
           "no",
           3,
           15,
           3,
           4,
           "urban",
           "yes",
           "Under 25000"
          ],
          [
           2,
           "No",
           0,
           "yes",
           5,
           18,
           4,
           2,
           "rural",
           "no",
           "Under 25000"
          ],
          [
           0,
           "No",
           1,
           "no",
           5,
           19,
           6,
           6,
           "rural",
           "yes",
           "25000 - 50000"
          ],
          [
           0,
           "No",
           9,
           "yes",
           3,
           15,
           2,
           2,
           "rural",
           "yes",
           "200000 or more"
          ],
          [
           6,
           "No",
           12,
           "yes",
           4,
           17,
           1,
           4,
           "urban",
           "no",
           "100000 - 150000"
          ],
          [
           7,
           "No",
           5,
           "no",
           2,
           12,
           6,
           4,
           "urban",
           "yes",
           "Under 25000"
          ],
          [
           0,
           "No",
           7,
           "yes",
           3,
           17,
           6,
           4,
           "urban",
           "no",
           "50000 - 75000"
          ],
          [
           2,
           "No",
           7,
           "yes",
           2,
           15,
           3,
           4,
           "urban",
           "no",
           "200000 or more"
          ],
          [
           2,
           "No",
           3,
           "yes",
           3,
           13,
           3,
           3,
           "urban",
           "no",
           "150000 - 200,000"
          ],
          [
           2,
           "No",
           3,
           "yes",
           1,
           15,
           5,
           4,
           "rural",
           "yes",
           "25000 - 50000"
          ],
          [
           4,
           "No",
           4,
           "yes",
           1,
           12,
           4,
           3,
           "rural",
           "yes",
           "25000 - 50000"
          ],
          [
           7,
           "No",
           17,
           "yes",
           2,
           16,
           5,
           4,
           "urban",
           "no",
           "200000 or more"
          ],
          [
           6,
           "No",
           6,
           "no",
           2,
           18,
           5,
           4,
           "urban",
           "yes",
           "25000 - 50000"
          ],
          [
           3,
           "No",
           8,
           "yes",
           3,
           17,
           3,
           5,
           "rural",
           "yes",
           "25000 - 50000"
          ],
          [
           2,
           "No",
           10,
           "yes",
           3,
           15,
           3,
           3,
           "urban",
           "no",
           "75,000 - 100000"
          ],
          [
           9,
           "No",
           13,
           "no",
           4,
           17,
           3,
           4,
           "urban",
           "no",
           "100000 - 150000"
          ],
          [
           2,
           "No",
           10,
           "yes",
           3,
           12,
           5,
           4,
           "rural",
           "yes",
           "75,000 - 100000"
          ],
          [
           0,
           "No",
           3,
           "no",
           3,
           13,
           1,
           3,
           "urban",
           "yes",
           "75,000 - 100000"
          ],
          [
           1,
           "No",
           8,
           "no",
           3,
           15,
           2,
           4,
           "rural",
           "no",
           "200000 or more"
          ],
          [
           3,
           "No",
           10,
           "yes",
           0,
           19,
           4,
           2,
           "urban",
           "yes",
           "75,000 - 100000"
          ],
          [
           0,
           "No",
           13,
           "yes",
           4,
           16,
           7,
           2,
           "urban",
           "yes",
           "75,000 - 100000"
          ],
          [
           1,
           "No",
           2,
           "no",
           3,
           16,
           5,
           3,
           "urban",
           "no",
           "200000 or more"
          ],
          [
           1,
           "No",
           1,
           "yes",
           1,
           20,
           3,
           3,
           "urban",
           "no",
           "100000 - 150000"
          ],
          [
           0,
           "No",
           4,
           "no",
           1,
           14,
           7,
           4,
           "urban",
           "no",
           "100000 - 150000"
          ],
          [
           4,
           "No",
           11,
           "yes",
           1,
           15,
           4,
           2,
           "urban",
           "no",
           "Under 25000"
          ],
          [
           1,
           "No",
           12,
           "yes",
           2,
           17,
           2,
           0,
           "urban",
           "no",
           "50000 - 75000"
          ],
          [
           3,
           "No",
           9,
           "yes",
           3,
           17,
           3,
           4,
           "rural",
           "no",
           "150000 - 200,000"
          ],
          [
           1,
           "No",
           2,
           "yes",
           3,
           21,
           2,
           3,
           "rural",
           "yes",
           "Under 25000"
          ],
          [
           0,
           "No",
           5,
           "yes",
           4,
           18,
           4,
           4,
           "urban",
           "no",
           "Under 25000"
          ],
          [
           0,
           "No",
           7,
           "no",
           2,
           14,
           1,
           3,
           "rural",
           "yes",
           "50000 - 75000"
          ],
          [
           1,
           "No",
           11,
           "yes",
           3,
           11,
           3,
           3,
           "urban",
           "yes",
           "75,000 - 100000"
          ],
          [
           1,
           "No",
           9,
           "yes",
           4,
           14,
           2,
           3,
           "rural",
           "no",
           "200000 or more"
          ],
          [
           2,
           "No",
           10,
           "yes",
           3,
           14,
           1,
           1,
           "urban",
           "yes",
           "Under 25000"
          ],
          [
           0,
           "No",
           9,
           "yes",
           3,
           17,
           3,
           2,
           "rural",
           "no",
           "100000 - 150000"
          ],
          [
           2,
           "No",
           12,
           "yes",
           2,
           14,
           5,
           5,
           "urban",
           "no",
           "200000 or more"
          ],
          [
           1,
           "No",
           10,
           "yes",
           5,
           14,
           4,
           4,
           "urban",
           "no",
           "200000 or more"
          ],
          [
           3,
           "No",
           11,
           "yes",
           0,
           15,
           6,
           2,
           "urban",
           "yes",
           "25000 - 50000"
          ],
          [
           2,
           "No",
           4,
           "yes",
           2,
           16,
           2,
           5,
           "rural",
           "yes",
           "25000 - 50000"
          ],
          [
           3,
           "No",
           11,
           "no",
           4,
           16,
           3,
           4,
           "urban",
           "yes",
           "Under 25000"
          ],
          [
           1,
           "No",
           8,
           "yes",
           3,
           13,
           3,
           3,
           "rural",
           "no",
           "150000 - 200,000"
          ],
          [
           0,
           "No",
           10,
           "no",
           3,
           15,
           4,
           1,
           "urban",
           "no",
           "150000 - 200,000"
          ],
          [
           3,
           "No",
           1,
           "yes",
           3,
           16,
           4,
           4,
           "rural",
           "yes",
           "25000 - 50000"
          ],
          [
           0,
           "No",
           4,
           "yes",
           3,
           14,
           4,
           3,
           "urban",
           "yes",
           "Under 25000"
          ],
          [
           5,
           "No",
           0,
           "no",
           2,
           12,
           6,
           4,
           "urban",
           "yes",
           "75,000 - 100000"
          ],
          [
           0,
           "No",
           8,
           "no",
           2,
           19,
           0,
           4,
           "rural",
           "yes",
           "25000 - 50000"
          ],
          [
           1,
           "No",
           7,
           "no",
           3,
           15,
           4,
           4,
           "rural",
           "no",
           "25000 - 50000"
          ],
          [
           6,
           "No",
           3,
           "yes",
           4,
           17,
           6,
           3,
           "rural",
           "no",
           "100000 - 150000"
          ],
          [
           3,
           "No",
           5,
           "yes",
           2,
           15,
           5,
           4,
           "urban",
           "no",
           "75,000 - 100000"
          ],
          [
           2,
           "No",
           3,
           "yes",
           1,
           18,
           2,
           4,
           "urban",
           "no",
           "100000 - 150000"
          ],
          [
           1,
           "No",
           17,
           "yes",
           3,
           17,
           2,
           6,
           "rural",
           "no",
           "100000 - 150000"
          ],
          [
           2,
           "No",
           10,
           "no",
           3,
           18,
           5,
           5,
           "rural",
           "no",
           "200000 or more"
          ],
          [
           2,
           "No",
           2,
           "no",
           3,
           14,
           6,
           4,
           "rural",
           "no",
           "200000 or more"
          ],
          [
           0,
           "No",
           11,
           "yes",
           3,
           15,
           0,
           5,
           "urban",
           "yes",
           "50000 - 75000"
          ],
          [
           3,
           "No",
           11,
           "yes",
           4,
           11,
           2,
           3,
           "urban",
           "no",
           "200000 or more"
          ]
         ],
         "hovertemplate": "affair_status=%{customdata[1]}<br>gender=%{x}<br>age=%{y}<br>affairs=%{customdata[0]}<br>yearsmarried=%{customdata[2]}<br>children=%{customdata[3]}<br>religiousness=%{customdata[4]}<br>education=%{customdata[5]}<br>occupation=%{customdata[6]}<br>rating=%{customdata[7]}<br>region=%{customdata[8]}<br>frequentflyer=%{customdata[9]}<br>income_level=%{customdata[10]}<extra></extra>",
         "legendgroup": "No",
         "marker": {
          "color": "#636efa"
         },
         "name": "No",
         "offsetgroup": "No",
         "orientation": "v",
         "points": "all",
         "scalegroup": "True",
         "showlegend": true,
         "type": "violin",
         "x": [
          "male",
          "female",
          "female",
          "male",
          "male",
          "female",
          "female",
          "male",
          "female",
          "male",
          "male",
          "male",
          "male",
          "female",
          "female",
          "female",
          "female",
          "female",
          "female",
          "female",
          "female",
          "female",
          "female",
          "female",
          "male",
          "female",
          "female",
          "male",
          "male",
          "female",
          "male",
          "female",
          "male",
          "female",
          "male",
          "female",
          "female",
          "female",
          "male",
          "female",
          "male",
          "male",
          "female",
          "female",
          "female",
          "male",
          "female",
          "female",
          "male",
          "male",
          "female",
          "male",
          "male",
          "male",
          "male",
          "female",
          "male",
          "female",
          "female",
          "male",
          "female",
          "male",
          "female",
          "male",
          "male",
          "male",
          "male",
          "female",
          "female",
          "female",
          "female",
          "female",
          "female",
          "male",
          "male",
          "male",
          "female",
          "male",
          "female",
          "male",
          "male",
          "female",
          "male",
          "female",
          "female",
          "female",
          "female",
          "female",
          "female",
          "female",
          "male",
          "male",
          "male",
          "male",
          "female",
          "male",
          "male",
          "male",
          "male",
          "female",
          "male",
          "female",
          "male",
          "female",
          "male",
          "male",
          "male",
          "male",
          "female",
          "female",
          "female",
          "female",
          "male",
          "female",
          "male",
          "male",
          "male",
          "female",
          "female",
          "female",
          "female",
          "male",
          "female",
          "female",
          "male",
          "female",
          "male",
          "male",
          "male",
          "female",
          "male",
          "female",
          "male",
          "female",
          "female",
          "female",
          "female",
          "male",
          "male",
          "female",
          "female",
          "male",
          "male",
          "male",
          "male",
          "male",
          "female",
          "female",
          "male",
          "male",
          "male",
          "male",
          "male",
          "male",
          "male",
          "female",
          "female",
          "male",
          "male",
          "female",
          "female",
          "male",
          "female",
          "female",
          "female",
          "female",
          "female",
          "male",
          "male",
          "male",
          "female",
          "female",
          "female",
          "female",
          "male",
          "female",
          "female",
          "female",
          "female",
          "female",
          "male",
          "female",
          "female",
          "female",
          "female",
          "male",
          "male",
          "male",
          "male",
          "male",
          "female",
          "male",
          "male",
          "female",
          "male",
          "male",
          "female",
          "male",
          "female",
          "male",
          "male",
          "female",
          "male",
          "female",
          "female",
          "female",
          "female",
          "female",
          "female",
          "female",
          "male",
          "male",
          "male",
          "female",
          "male",
          "male",
          "male",
          "female",
          "male",
          "female",
          "male",
          "female",
          "male",
          "female",
          "female",
          "female",
          "male",
          "male",
          "male",
          "female",
          "female",
          "female",
          "male",
          "male",
          "male",
          "female",
          "female",
          "male",
          "female",
          "male",
          "female",
          "male",
          "male",
          "female",
          "male",
          "female",
          "female",
          "female",
          "male",
          "female",
          "male",
          "male",
          "female",
          "male",
          "female",
          "female",
          "male",
          "male",
          "female",
          "female",
          "male",
          "male",
          "female",
          "female",
          "male",
          "female",
          "female",
          "male",
          "female",
          "male",
          "male",
          "female",
          "male",
          "female",
          "female",
          "male",
          "female",
          "male",
          "male",
          "male",
          "female",
          "female",
          "female",
          "female",
          "male",
          "male",
          "male",
          "female",
          "female",
          "female",
          "male",
          "male",
          "female",
          "female",
          "male",
          "female",
          "female",
          "male",
          "male",
          "female",
          "male",
          "male",
          "male",
          "female",
          "male",
          "female",
          "male",
          "male",
          "female",
          "female",
          "male",
          "male",
          "female",
          "male",
          "female",
          "male",
          "female",
          "male",
          "female",
          "female",
          "male",
          "female",
          "female",
          "male",
          "male",
          "female",
          "female",
          "male",
          "male",
          "female",
          "female",
          "female",
          "male",
          "female",
          "female",
          "female",
          "female",
          "female",
          "male",
          "female",
          "male",
          "female",
          "male",
          "male",
          "male",
          "male",
          "female",
          "male",
          "female",
          "female",
          "male",
          "female",
          "female",
          "female",
          "female",
          "male",
          "male",
          "male",
          "male",
          "female",
          "female",
          "female",
          "male",
          "male",
          "female",
          "female",
          "female",
          "female",
          "female",
          "male",
          "male",
          "female",
          "male",
          "female",
          "female",
          "female",
          "female",
          "female",
          "female",
          "male",
          "male",
          "male",
          "female",
          "female",
          "female",
          "female",
          "female",
          "female",
          "female",
          "male",
          "female",
          "male",
          "female",
          "male",
          "female",
          "female",
          "female",
          "male",
          "male",
          "female",
          "male",
          "male",
          "male",
          "male",
          "male",
          "male",
          "female",
          "female",
          "female",
          "male",
          "male",
          "male",
          "female",
          "female",
          "female",
          "male",
          "female",
          "male",
          "female",
          "female",
          "female",
          "male",
          "male",
          "male",
          "female",
          "female",
          "male",
          "female",
          "female",
          "male",
          "female",
          "female",
          "female",
          "female",
          "female",
          "male",
          "male",
          "female",
          "male",
          "female",
          "female",
          "female",
          "female",
          "female",
          "male",
          "male",
          "male",
          "female",
          "male",
          "female",
          "male",
          "male",
          "female",
          "female",
          "male",
          "male",
          "female",
          "female",
          "female",
          "female",
          "female",
          "male",
          "male",
          "male",
          "male",
          "female",
          "female",
          "male",
          "female",
          "female",
          "female",
          "female",
          "male",
          "female",
          "female",
          "female",
          "female",
          "female",
          "female",
          "male",
          "male",
          "male",
          "male",
          "male",
          "male",
          "male",
          "male",
          "female",
          "female",
          "male",
          "male",
          "male",
          "male",
          "male",
          "male",
          "female",
          "male",
          "male",
          "male",
          "female",
          "female",
          "female",
          "female",
          "female",
          "female",
          "female",
          "female",
          "male",
          "female",
          "male",
          "female",
          "female",
          "female",
          "male",
          "female",
          "male",
          "male",
          "female",
          "male",
          "male",
          "female",
          "female",
          "female",
          "female",
          "female",
          "male",
          "male",
          "female",
          "male",
          "male",
          "female",
          "male",
          "male",
          "female",
          "male",
          "male",
          "male",
          "female",
          "female",
          "female",
          "male",
          "male",
          "female",
          "male",
          "female",
          "male",
          "female",
          "female",
          "female",
          "female",
          "female",
          "female",
          "male",
          "female",
          "female",
          "female",
          "male",
          "male",
          "female",
          "male",
          "male",
          "female",
          "female",
          "female",
          "male",
          "female",
          "female",
          "female",
          "male",
          "female",
          "male",
          "male",
          "male",
          "female",
          "male",
          "female",
          "male",
          "male",
          "male",
          "male",
          "female",
          "female",
          "female",
          "female",
          "female",
          "female",
          "male",
          "female",
          "female",
          "male",
          "female",
          "female",
          "male",
          "male",
          "female",
          "male",
          "female",
          "female",
          "female",
          "female",
          "male",
          "male",
          "female",
          "female",
          "male",
          "female",
          "male",
          "female",
          "female",
          "male",
          "female",
          "male",
          "female",
          "male",
          "female",
          "male",
          "female",
          "male",
          "female",
          "female",
          "female",
          "male",
          "male",
          "female",
          "female",
          "female",
          "male",
          "female",
          "female",
          "male",
          "female",
          "female",
          "female",
          "male",
          "male",
          "female",
          "female",
          "male",
          "female",
          "female",
          "male",
          "male",
          "male",
          "male",
          "female",
          "female",
          "female",
          "female",
          "female",
          "female",
          "male",
          "female",
          "female",
          "female",
          "female",
          "female",
          "female",
          "male",
          "male",
          "female",
          "male",
          "male",
          "male",
          "male",
          "female",
          "male",
          "female",
          "female",
          "female",
          "male",
          "male",
          "female",
          "female",
          "male",
          "male",
          "male",
          "female",
          "female",
          "female",
          "male",
          "male",
          "male",
          "female",
          "female",
          "male",
          "female",
          "male",
          "male",
          "male",
          "female",
          "female",
          "male",
          "male",
          "female",
          "female",
          "male",
          "male",
          "female",
          "male",
          "female",
          "male",
          "male",
          "female",
          "female",
          "female",
          "female",
          "male",
          "female",
          "male",
          "female",
          "female",
          "male",
          "female",
          "male",
          "female",
          "female",
          "male",
          "female",
          "female"
         ],
         "x0": " ",
         "xaxis": "x",
         "y": [
          37,
          27,
          32,
          57,
          22,
          32,
          22,
          57,
          32,
          22,
          37,
          27,
          47,
          22,
          27,
          37,
          37,
          22,
          22,
          27,
          22,
          22,
          27,
          32,
          37,
          22,
          27,
          42,
          27,
          27,
          42,
          22,
          27,
          42,
          32,
          22,
          42,
          22,
          22,
          22,
          32,
          52,
          22,
          27,
          32,
          22,
          27,
          42,
          27,
          42,
          22,
          32,
          27,
          27,
          22,
          37,
          22,
          37,
          27,
          32,
          47,
          37,
          22,
          27,
          32,
          42,
          37,
          47,
          22,
          27,
          27,
          32,
          22,
          47,
          32,
          27,
          22,
          27,
          22,
          57,
          57,
          22,
          42,
          22,
          22,
          32,
          27,
          22,
          37,
          32,
          37,
          37,
          57,
          27,
          42,
          57,
          37,
          37,
          37,
          27,
          37,
          22,
          57,
          37,
          22,
          27,
          57,
          32,
          22,
          32,
          37,
          32,
          42,
          27,
          37,
          37,
          32,
          22,
          27,
          27,
          42,
          42,
          27,
          22,
          37,
          22,
          27,
          32,
          27,
          27,
          42,
          27,
          27,
          32,
          32,
          22,
          37,
          27,
          27,
          27,
          32,
          27,
          52,
          27,
          37,
          27,
          52,
          57,
          27,
          37,
          22,
          32,
          37,
          22,
          42,
          52,
          37,
          27,
          32,
          27,
          27,
          37,
          47,
          32,
          27,
          57,
          22,
          42,
          57,
          57,
          22,
          32,
          42,
          27,
          32,
          27,
          27,
          32,
          37,
          42,
          32,
          32,
          37,
          22,
          27,
          27,
          27,
          32,
          32,
          22,
          27,
          27,
          37,
          37,
          22,
          37,
          22,
          52,
          22,
          32,
          32,
          22,
          27,
          22,
          27,
          37,
          22,
          37,
          37,
          42,
          22,
          52,
          27,
          27,
          42,
          22,
          22,
          22,
          37,
          37,
          42,
          47,
          22,
          32,
          22,
          32,
          27,
          37,
          42,
          37,
          32,
          42,
          27,
          22,
          27,
          22,
          52,
          32,
          37,
          32,
          42,
          32,
          27,
          32,
          22,
          22,
          42,
          52,
          37,
          47,
          57,
          32,
          27,
          22,
          22,
          22,
          42,
          57,
          27,
          22,
          37,
          32,
          22,
          22,
          52,
          37,
          32,
          42,
          27,
          37,
          27,
          22,
          32,
          27,
          27,
          32,
          37,
          47,
          27,
          37,
          32,
          32,
          42,
          27,
          27,
          22,
          27,
          27,
          37,
          37,
          22,
          37,
          22,
          32,
          27,
          22,
          27,
          37,
          37,
          27,
          32,
          32,
          22,
          22,
          32,
          32,
          37,
          32,
          27,
          22,
          47,
          27,
          37,
          42,
          32,
          52,
          22,
          52,
          22,
          22,
          27,
          32,
          27,
          32,
          37,
          32,
          32,
          37,
          32,
          32,
          47,
          27,
          27,
          37,
          27,
          37,
          32,
          27,
          27,
          37,
          27,
          22,
          22,
          42,
          27,
          27,
          52,
          27,
          27,
          27,
          22,
          27,
          27,
          47,
          32,
          42,
          22,
          27,
          32,
          22,
          47,
          32,
          57,
          27,
          32,
          37,
          32,
          22,
          27,
          57,
          32,
          27,
          22,
          22,
          32,
          47,
          22,
          22,
          27,
          52,
          32,
          47,
          27,
          22,
          32,
          22,
          22,
          42,
          27,
          42,
          57,
          42,
          32,
          22,
          22,
          22,
          32,
          22,
          27,
          27,
          42,
          32,
          57,
          37,
          52,
          47,
          27,
          27,
          22,
          37,
          27,
          42,
          22,
          22,
          57,
          37,
          27,
          22,
          27,
          37,
          22,
          27,
          27,
          22,
          27,
          32,
          32,
          32,
          22,
          27,
          52,
          27,
          27,
          42,
          42,
          27,
          27,
          42,
          27,
          27,
          22,
          27,
          22,
          22,
          47,
          37,
          37,
          27,
          32,
          38,
          32,
          33,
          39,
          23,
          30,
          34,
          34,
          36,
          34,
          25,
          32,
          38,
          46,
          39,
          40,
          38,
          29,
          40,
          32,
          29,
          28,
          30,
          26,
          33,
          38,
          31,
          39,
          24,
          31,
          38,
          34,
          45,
          40,
          26,
          28,
          33,
          28,
          23,
          40,
          25,
          31,
          29,
          38,
          33,
          41,
          41,
          35,
          26,
          26,
          28,
          28,
          36,
          35,
          35,
          42,
          26,
          26,
          47,
          23,
          22,
          19,
          32,
          23,
          26,
          31,
          40,
          36,
          35,
          23,
          24,
          27,
          39,
          32,
          25,
          43,
          23,
          44,
          41,
          40,
          23,
          35,
          45,
          33,
          26,
          39,
          26,
          31,
          29,
          31,
          36,
          51,
          42,
          39,
          37,
          25,
          21,
          38,
          30,
          43,
          23,
          28,
          51,
          42,
          29,
          35,
          34,
          20,
          36,
          23,
          21,
          29,
          30,
          43,
          33,
          35,
          28,
          35,
          29,
          43,
          27,
          32,
          34,
          23,
          41,
          30,
          30,
          33,
          52,
          24,
          23,
          36,
          32,
          22,
          25,
          24,
          37,
          36,
          33,
          28,
          30,
          31,
          42,
          42,
          33,
          40,
          29,
          41,
          26,
          25,
          39,
          23,
          30,
          46,
          44,
          36,
          45,
          49,
          43,
          19,
          35,
          34,
          25,
          33,
          46,
          25,
          25,
          30,
          20,
          33,
          53,
          22,
          22,
          32,
          25,
          22,
          33,
          31,
          32,
          49,
          39,
          38,
          26,
          34,
          37,
          57,
          23,
          31,
          34,
          34,
          35,
          47,
          19,
          41,
          26,
          25,
          38,
          25,
          26,
          37,
          41,
          34,
          38,
          27,
          48,
          47,
          28,
          24,
          50,
          43,
          40,
          45,
          33,
          31,
          29,
          34,
          34,
          32,
          32,
          42,
          29,
          35,
          27,
          25,
          37,
          31,
          28,
          23,
          50,
          33,
          20,
          30,
          29,
          21,
          45,
          32,
          44,
          29,
          29,
          39,
          20,
          26,
          46,
          49,
          49,
          35,
          23,
          21,
          22,
          24,
          35,
          42,
          21,
          38,
          26,
          34,
          46,
          38,
          34,
          26,
          35,
          39,
          32,
          43,
          21,
          51,
          50,
          32,
          19,
          35
         ],
         "y0": " ",
         "yaxis": "y"
        },
        {
         "alignmentgroup": "True",
         "box": {
          "visible": true
         },
         "customdata": [
          [
           3,
           "Yes",
           1.5,
           "no",
           3,
           18,
           4,
           4,
           "rural",
           "yes",
           "150000 - 200,000"
          ],
          [
           3,
           "Yes",
           4,
           "yes",
           3,
           17,
           1,
           5,
           "urban",
           "no",
           "200000 or more"
          ],
          [
           7,
           "Yes",
           15,
           "yes",
           5,
           18,
           6,
           2,
           "urban",
           "no",
           "150000 - 200,000"
          ],
          [
           12,
           "Yes",
           10,
           "yes",
           3,
           17,
           5,
           2,
           "rural",
           "yes",
           "150000 - 200,000"
          ],
          [
           1,
           "Yes",
           0.125,
           "no",
           4,
           16,
           5,
           5,
           "urban",
           "no",
           "100000 - 150000"
          ],
          [
           1,
           "Yes",
           1.5,
           "yes",
           2,
           14,
           1,
           5,
           "rural",
           "no",
           "150000 - 200,000"
          ],
          [
           12,
           "Yes",
           15,
           "yes",
           4,
           14,
           5,
           2,
           "urban",
           "no",
           "50000 - 75000"
          ],
          [
           7,
           "Yes",
           1.5,
           "no",
           2,
           14,
           3,
           4,
           "rural",
           "no",
           "75,000 - 100000"
          ],
          [
           2,
           "Yes",
           15,
           "yes",
           2,
           18,
           6,
           4,
           "rural",
           "yes",
           "50000 - 75000"
          ],
          [
           3,
           "Yes",
           15,
           "yes",
           4,
           12,
           3,
           2,
           "urban",
           "yes",
           "75,000 - 100000"
          ],
          [
           1,
           "Yes",
           15,
           "yes",
           4,
           14,
           4,
           2,
           "urban",
           "no",
           "25000 - 50000"
          ],
          [
           7,
           "Yes",
           15,
           "yes",
           3,
           17,
           1,
           4,
           "urban",
           "no",
           "50000 - 75000"
          ],
          [
           12,
           "Yes",
           15,
           "yes",
           5,
           9,
           4,
           1,
           "rural",
           "no",
           "150000 - 200,000"
          ],
          [
           12,
           "Yes",
           10,
           "yes",
           2,
           20,
           6,
           2,
           "rural",
           "no",
           "50000 - 75000"
          ],
          [
           12,
           "Yes",
           15,
           "yes",
           3,
           14,
           1,
           2,
           "rural",
           "no",
           "200000 or more"
          ],
          [
           3,
           "Yes",
           4,
           "no",
           1,
           18,
           6,
           5,
           "urban",
           "yes",
           "200000 or more"
          ],
          [
           7,
           "Yes",
           10,
           "yes",
           2,
           18,
           7,
           3,
           "urban",
           "no",
           "Under 25000"
          ],
          [
           7,
           "Yes",
           4,
           "no",
           3,
           17,
           5,
           5,
           "urban",
           "no",
           "50000 - 75000"
          ],
          [
           1,
           "Yes",
           15,
           "yes",
           4,
           16,
           5,
           5,
           "rural",
           "yes",
           "25000 - 50000"
          ],
          [
           1,
           "Yes",
           15,
           "yes",
           5,
           14,
           4,
           5,
           "urban",
           "no",
           "75,000 - 100000"
          ],
          [
           7,
           "Yes",
           4,
           "yes",
           3,
           18,
           5,
           4,
           "rural",
           "yes",
           "200000 or more"
          ],
          [
           1,
           "Yes",
           7,
           "yes",
           5,
           14,
           1,
           4,
           "urban",
           "yes",
           "100000 - 150000"
          ],
          [
           12,
           "Yes",
           1.5,
           "yes",
           3,
           17,
           5,
           4,
           "urban",
           "no",
           "25000 - 50000"
          ],
          [
           12,
           "Yes",
           7,
           "yes",
           4,
           14,
           6,
           2,
           "rural",
           "yes",
           "75,000 - 100000"
          ],
          [
           3,
           "Yes",
           15,
           "yes",
           4,
           16,
           5,
           4,
           "urban",
           "yes",
           "Under 25000"
          ],
          [
           7,
           "Yes",
           10,
           "yes",
           4,
           12,
           7,
           3,
           "urban",
           "yes",
           "200000 or more"
          ],
          [
           1,
           "Yes",
           1.5,
           "no",
           2,
           18,
           5,
           2,
           "rural",
           "yes",
           "Under 25000"
          ],
          [
           1,
           "Yes",
           4,
           "no",
           4,
           20,
           6,
           4,
           "rural",
           "yes",
           "75,000 - 100000"
          ],
          [
           1,
           "Yes",
           7,
           "yes",
           3,
           14,
           1,
           3,
           "rural",
           "yes",
           "150000 - 200,000"
          ],
          [
           3,
           "Yes",
           10,
           "yes",
           4,
           14,
           1,
           4,
           "urban",
           "yes",
           "75,000 - 100000"
          ],
          [
           3,
           "Yes",
           4,
           "yes",
           2,
           18,
           7,
           2,
           "urban",
           "yes",
           "50000 - 75000"
          ],
          [
           1,
           "Yes",
           10,
           "yes",
           4,
           18,
           1,
           5,
           "urban",
           "no",
           "200000 or more"
          ],
          [
           7,
           "Yes",
           7,
           "yes",
           2,
           17,
           6,
           4,
           "urban",
           "yes",
           "150000 - 200,000"
          ],
          [
           7,
           "Yes",
           15,
           "yes",
           2,
           20,
           6,
           4,
           "rural",
           "no",
           "100000 - 150000"
          ],
          [
           7,
           "Yes",
           10,
           "no",
           1,
           20,
           5,
           3,
           "urban",
           "yes",
           "25000 - 50000"
          ],
          [
           12,
           "Yes",
           10,
           "yes",
           2,
           16,
           5,
           5,
           "urban",
           "yes",
           "100000 - 150000"
          ],
          [
           7,
           "Yes",
           15,
           "yes",
           2,
           20,
           6,
           4,
           "rural",
           "yes",
           "100000 - 150000"
          ],
          [
           7,
           "Yes",
           15,
           "yes",
           1,
           12,
           1,
           3,
           "urban",
           "yes",
           "75,000 - 100000"
          ],
          [
           1,
           "Yes",
           15,
           "yes",
           2,
           20,
           6,
           3,
           "rural",
           "no",
           "25000 - 50000"
          ],
          [
           2,
           "Yes",
           15,
           "yes",
           3,
           18,
           6,
           5,
           "rural",
           "no",
           "150000 - 200,000"
          ],
          [
           12,
           "Yes",
           4,
           "no",
           3,
           12,
           3,
           4,
           "rural",
           "no",
           "100000 - 150000"
          ],
          [
           12,
           "Yes",
           7,
           "yes",
           1,
           18,
           6,
           2,
           "urban",
           "yes",
           "50000 - 75000"
          ],
          [
           1,
           "Yes",
           4,
           "yes",
           3,
           18,
           5,
           5,
           "urban",
           "no",
           "100000 - 150000"
          ],
          [
           12,
           "Yes",
           15,
           "yes",
           4,
           17,
           6,
           5,
           "urban",
           "yes",
           "150000 - 200,000"
          ],
          [
           12,
           "Yes",
           15,
           "yes",
           4,
           12,
           1,
           1,
           "rural",
           "yes",
           "25000 - 50000"
          ],
          [
           7,
           "Yes",
           4,
           "no",
           3,
           14,
           3,
           4,
           "rural",
           "yes",
           "50000 - 75000"
          ],
          [
           7,
           "Yes",
           7,
           "yes",
           4,
           18,
           4,
           5,
           "rural",
           "yes",
           "200000 or more"
          ],
          [
           1,
           "Yes",
           0.417,
           "yes",
           3,
           12,
           3,
           4,
           "urban",
           "no",
           "Under 25000"
          ],
          [
           3,
           "Yes",
           15,
           "yes",
           5,
           16,
           5,
           4,
           "urban",
           "no",
           "75,000 - 100000"
          ],
          [
           12,
           "Yes",
           15,
           "yes",
           2,
           20,
           5,
           4,
           "urban",
           "yes",
           "100000 - 150000"
          ],
          [
           7,
           "Yes",
           4,
           "yes",
           2,
           17,
           6,
           4,
           "rural",
           "no",
           "75,000 - 100000"
          ],
          [
           1,
           "Yes",
           4,
           "no",
           2,
           14,
           4,
           5,
           "urban",
           "no",
           "150000 - 200,000"
          ],
          [
           7,
           "Yes",
           15,
           "yes",
           5,
           16,
           1,
           3,
           "urban",
           "no",
           "150000 - 200,000"
          ],
          [
           1,
           "Yes",
           4,
           "no",
           3,
           14,
           3,
           3,
           "rural",
           "yes",
           "75,000 - 100000"
          ],
          [
           1,
           "Yes",
           10,
           "yes",
           4,
           16,
           1,
           4,
           "rural",
           "yes",
           "150000 - 200,000"
          ],
          [
           1,
           "Yes",
           7,
           "yes",
           3,
           14,
           7,
           4,
           "rural",
           "yes",
           "25000 - 50000"
          ],
          [
           7,
           "Yes",
           7,
           "yes",
           2,
           18,
           4,
           1,
           "rural",
           "yes",
           "Under 25000"
          ],
          [
           3,
           "Yes",
           1.5,
           "no",
           1,
           14,
           3,
           2,
           "urban",
           "no",
           "Under 25000"
          ],
          [
           7,
           "Yes",
           4,
           "yes",
           3,
           18,
           6,
           4,
           "rural",
           "no",
           "25000 - 50000"
          ],
          [
           7,
           "Yes",
           15,
           "yes",
           4,
           20,
           6,
           4,
           "rural",
           "yes",
           "25000 - 50000"
          ],
          [
           2,
           "Yes",
           15,
           "yes",
           1,
           18,
           5,
           4,
           "rural",
           "yes",
           "Under 25000"
          ],
          [
           7,
           "Yes",
           4,
           "yes",
           3,
           18,
           5,
           2,
           "rural",
           "yes",
           "50000 - 75000"
          ],
          [
           1,
           "Yes",
           4,
           "yes",
           1,
           16,
           4,
           4,
           "urban",
           "no",
           "25000 - 50000"
          ],
          [
           7,
           "Yes",
           7,
           "yes",
           4,
           16,
           1,
           4,
           "rural",
           "yes",
           "150000 - 200,000"
          ],
          [
           2,
           "Yes",
           15,
           "yes",
           1,
           17,
           4,
           4,
           "rural",
           "no",
           "50000 - 75000"
          ],
          [
           7,
           "Yes",
           15,
           "yes",
           4,
           14,
           5,
           2,
           "urban",
           "no",
           "200000 or more"
          ],
          [
           7,
           "Yes",
           10,
           "yes",
           1,
           18,
           5,
           3,
           "urban",
           "yes",
           "150000 - 200,000"
          ],
          [
           3,
           "Yes",
           15,
           "yes",
           3,
           17,
           6,
           1,
           "rural",
           "no",
           "150000 - 200,000"
          ],
          [
           1,
           "Yes",
           15,
           "yes",
           3,
           14,
           4,
           4,
           "urban",
           "yes",
           "Under 25000"
          ],
          [
           2,
           "Yes",
           7,
           "yes",
           3,
           17,
           5,
           3,
           "rural",
           "no",
           "Under 25000"
          ],
          [
           12,
           "Yes",
           7,
           "yes",
           2,
           12,
           4,
           2,
           "urban",
           "yes",
           "25000 - 50000"
          ],
          [
           1,
           "Yes",
           4,
           "no",
           4,
           14,
           2,
           5,
           "urban",
           "yes",
           "25000 - 50000"
          ],
          [
           3,
           "Yes",
           7,
           "yes",
           3,
           18,
           6,
           4,
           "rural",
           "yes",
           "150000 - 200,000"
          ],
          [
           12,
           "Yes",
           15,
           "yes",
           1,
           18,
           5,
           5,
           "rural",
           "yes",
           "50000 - 75000"
          ],
          [
           7,
           "Yes",
           15,
           "yes",
           3,
           17,
           1,
           3,
           "urban",
           "no",
           "Under 25000"
          ],
          [
           7,
           "Yes",
           7,
           "no",
           2,
           17,
           5,
           5,
           "urban",
           "no",
           "50000 - 75000"
          ],
          [
           1,
           "Yes",
           7,
           "yes",
           3,
           17,
           5,
           3,
           "rural",
           "yes",
           "150000 - 200,000"
          ],
          [
           1,
           "Yes",
           1.5,
           "yes",
           2,
           14,
           2,
           4,
           "rural",
           "yes",
           "200000 or more"
          ],
          [
           12,
           "Yes",
           15,
           "yes",
           4,
           14,
           1,
           2,
           "rural",
           "no",
           "150000 - 200,000"
          ],
          [
           7,
           "Yes",
           10,
           "yes",
           3,
           14,
           5,
           4,
           "urban",
           "yes",
           "25000 - 50000"
          ],
          [
           7,
           "Yes",
           4,
           "yes",
           1,
           20,
           6,
           3,
           "rural",
           "yes",
           "150000 - 200,000"
          ],
          [
           1,
           "Yes",
           4,
           "yes",
           2,
           16,
           5,
           3,
           "rural",
           "no",
           "50000 - 75000"
          ],
          [
           12,
           "Yes",
           15,
           "yes",
           3,
           14,
           4,
           3,
           "urban",
           "yes",
           "200000 or more"
          ],
          [
           1,
           "Yes",
           10,
           "yes",
           5,
           20,
           6,
           5,
           "rural",
           "yes",
           "200000 or more"
          ],
          [
           12,
           "Yes",
           10,
           "yes",
           2,
           20,
           6,
           2,
           "rural",
           "no",
           "75,000 - 100000"
          ],
          [
           12,
           "Yes",
           7,
           "yes",
           1,
           14,
           3,
           3,
           "rural",
           "yes",
           "75,000 - 100000"
          ],
          [
           3,
           "Yes",
           7,
           "yes",
           4,
           12,
           1,
           2,
           "rural",
           "no",
           "25000 - 50000"
          ],
          [
           3,
           "Yes",
           10,
           "yes",
           2,
           14,
           4,
           4,
           "rural",
           "no",
           "200000 or more"
          ],
          [
           12,
           "Yes",
           15,
           "yes",
           3,
           18,
           5,
           4,
           "urban",
           "no",
           "25000 - 50000"
          ],
          [
           2,
           "Yes",
           7,
           "no",
           4,
           14,
           4,
           3,
           "urban",
           "no",
           "25000 - 50000"
          ],
          [
           1,
           "Yes",
           7,
           "yes",
           4,
           20,
           6,
           5,
           "rural",
           "yes",
           "100000 - 150000"
          ],
          [
           7,
           "Yes",
           4,
           "yes",
           2,
           18,
           6,
           2,
           "urban",
           "yes",
           "200000 or more"
          ],
          [
           1,
           "Yes",
           1.5,
           "yes",
           5,
           14,
           5,
           3,
           "rural",
           "no",
           "25000 - 50000"
          ],
          [
           12,
           "Yes",
           15,
           "no",
           3,
           17,
           5,
           1,
           "rural",
           "yes",
           "150000 - 200,000"
          ],
          [
           12,
           "Yes",
           15,
           "yes",
           2,
           12,
           1,
           2,
           "urban",
           "yes",
           "50000 - 75000"
          ],
          [
           7,
           "Yes",
           15,
           "yes",
           3,
           20,
           5,
           4,
           "rural",
           "no",
           "25000 - 50000"
          ],
          [
           12,
           "Yes",
           10,
           "no",
           2,
           18,
           4,
           2,
           "urban",
           "no",
           "Under 25000"
          ],
          [
           12,
           "Yes",
           15,
           "yes",
           3,
           9,
           1,
           1,
           "rural",
           "no",
           "75,000 - 100000"
          ],
          [
           7,
           "Yes",
           15,
           "yes",
           5,
           20,
           4,
           5,
           "rural",
           "yes",
           "50000 - 75000"
          ],
          [
           12,
           "Yes",
           15,
           "yes",
           4,
           20,
           6,
           4,
           "rural",
           "yes",
           "75,000 - 100000"
          ],
          [
           2,
           "Yes",
           15,
           "yes",
           2,
           17,
           6,
           3,
           "urban",
           "yes",
           "Under 25000"
          ],
          [
           12,
           "Yes",
           15,
           "yes",
           3,
           17,
           6,
           3,
           "urban",
           "yes",
           "100000 - 150000"
          ],
          [
           12,
           "Yes",
           15,
           "yes",
           5,
           17,
           5,
           2,
           "rural",
           "no",
           "Under 25000"
          ],
          [
           7,
           "Yes",
           10,
           "yes",
           2,
           20,
           6,
           4,
           "urban",
           "no",
           "75,000 - 100000"
          ],
          [
           2,
           "Yes",
           15,
           "yes",
           2,
           16,
           5,
           4,
           "rural",
           "no",
           "25000 - 50000"
          ],
          [
           12,
           "Yes",
           15,
           "yes",
           1,
           14,
           5,
           2,
           "rural",
           "yes",
           "150000 - 200,000"
          ],
          [
           7,
           "Yes",
           10,
           "yes",
           3,
           17,
           6,
           3,
           "rural",
           "yes",
           "25000 - 50000"
          ],
          [
           2,
           "Yes",
           15,
           "yes",
           4,
           18,
           5,
           1,
           "urban",
           "yes",
           "Under 25000"
          ],
          [
           7,
           "Yes",
           1.5,
           "no",
           2,
           17,
           5,
           5,
           "urban",
           "no",
           "50000 - 75000"
          ],
          [
           3,
           "Yes",
           15,
           "yes",
           2,
           17,
           5,
           2,
           "rural",
           "yes",
           "100000 - 150000"
          ],
          [
           12,
           "Yes",
           15,
           "yes",
           2,
           17,
           5,
           4,
           "rural",
           "yes",
           "25000 - 50000"
          ],
          [
           12,
           "Yes",
           4,
           "no",
           2,
           14,
           5,
           5,
           "rural",
           "no",
           "Under 25000"
          ],
          [
           2,
           "Yes",
           10,
           "yes",
           4,
           14,
           1,
           5,
           "rural",
           "no",
           "Under 25000"
          ],
          [
           1,
           "Yes",
           4,
           "yes",
           3,
           16,
           1,
           3,
           "rural",
           "yes",
           "50000 - 75000"
          ],
          [
           12,
           "Yes",
           7,
           "no",
           4,
           16,
           5,
           5,
           "rural",
           "no",
           "200000 or more"
          ],
          [
           2,
           "Yes",
           4,
           "yes",
           1,
           16,
           3,
           5,
           "rural",
           "yes",
           "100000 - 150000"
          ],
          [
           7,
           "Yes",
           15,
           "yes",
           2,
           17,
           6,
           4,
           "urban",
           "no",
           "50000 - 75000"
          ],
          [
           2,
           "Yes",
           4,
           "no",
           1,
           17,
           3,
           1,
           "rural",
           "yes",
           "Under 25000"
          ],
          [
           7,
           "Yes",
           15,
           "yes",
           5,
           18,
           5,
           4,
           "urban",
           "no",
           "200000 or more"
          ],
          [
           7,
           "Yes",
           4,
           "no",
           1,
           16,
           3,
           5,
           "rural",
           "yes",
           "50000 - 75000"
          ],
          [
           2,
           "Yes",
           4,
           "yes",
           4,
           18,
           6,
           4,
           "urban",
           "yes",
           "200000 or more"
          ],
          [
           1,
           "Yes",
           1.5,
           "yes",
           3,
           18,
           5,
           2,
           "urban",
           "yes",
           "150000 - 200,000"
          ],
          [
           3,
           "Yes",
           15,
           "yes",
           2,
           17,
           5,
           4,
           "urban",
           "yes",
           "200000 or more"
          ],
          [
           1,
           "Yes",
           7,
           "yes",
           4,
           16,
           4,
           4,
           "urban",
           "yes",
           "75,000 - 100000"
          ],
          [
           12,
           "Yes",
           15,
           "no",
           3,
           14,
           6,
           2,
           "rural",
           "yes",
           "Under 25000"
          ],
          [
           1,
           "Yes",
           15,
           "yes",
           3,
           16,
           6,
           3,
           "rural",
           "no",
           "25000 - 50000"
          ],
          [
           1,
           "Yes",
           4,
           "yes",
           1,
           18,
           5,
           4,
           "urban",
           "no",
           "150000 - 200,000"
          ],
          [
           2,
           "Yes",
           15,
           "yes",
           4,
           20,
           7,
           3,
           "rural",
           "no",
           "Under 25000"
          ],
          [
           7,
           "Yes",
           15,
           "yes",
           3,
           20,
           6,
           4,
           "rural",
           "yes",
           "75,000 - 100000"
          ],
          [
           3,
           "Yes",
           1.5,
           "no",
           2,
           12,
           3,
           3,
           "rural",
           "yes",
           "Under 25000"
          ],
          [
           3,
           "Yes",
           4,
           "yes",
           3,
           20,
           6,
           2,
           "urban",
           "yes",
           "200000 or more"
          ],
          [
           2,
           "Yes",
           15,
           "yes",
           5,
           20,
           6,
           5,
           "urban",
           "yes",
           "75,000 - 100000"
          ],
          [
           12,
           "Yes",
           15,
           "yes",
           1,
           18,
           5,
           5,
           "urban",
           "no",
           "150000 - 200,000"
          ],
          [
           12,
           "Yes",
           15,
           "no",
           1,
           18,
           6,
           5,
           "urban",
           "yes",
           "50000 - 75000"
          ],
          [
           3,
           "Yes",
           15,
           "yes",
           4,
           16,
           4,
           4,
           "rural",
           "yes",
           "25000 - 50000"
          ],
          [
           7,
           "Yes",
           15,
           "yes",
           3,
           14,
           3,
           2,
           "urban",
           "yes",
           "100000 - 150000"
          ],
          [
           7,
           "Yes",
           7,
           "yes",
           4,
           16,
           1,
           2,
           "urban",
           "no",
           "200000 or more"
          ],
          [
           12,
           "Yes",
           15,
           "yes",
           3,
           18,
           6,
           2,
           "urban",
           "no",
           "50000 - 75000"
          ],
          [
           7,
           "Yes",
           15,
           "yes",
           2,
           14,
           3,
           2,
           "urban",
           "no",
           "25000 - 50000"
          ],
          [
           12,
           "Yes",
           7,
           "yes",
           2,
           17,
           5,
           4,
           "urban",
           "yes",
           "200000 or more"
          ],
          [
           3,
           "Yes",
           10,
           "yes",
           4,
           14,
           4,
           3,
           "rural",
           "yes",
           "75,000 - 100000"
          ],
          [
           7,
           "Yes",
           15,
           "yes",
           3,
           16,
           4,
           2,
           "rural",
           "no",
           "25000 - 50000"
          ],
          [
           1,
           "Yes",
           1.5,
           "yes",
           1,
           12,
           2,
           5,
           "rural",
           "no",
           "200000 or more"
          ],
          [
           7,
           "Yes",
           10,
           "yes",
           2,
           18,
           5,
           4,
           "urban",
           "no",
           "150000 - 200,000"
          ],
          [
           2,
           "Yes",
           10,
           "yes",
           2,
           17,
           6,
           5,
           "rural",
           "no",
           "150000 - 200,000"
          ],
          [
           2,
           "Yes",
           7,
           "yes",
           3,
           18,
           6,
           2,
           "urban",
           "yes",
           "50000 - 75000"
          ],
          [
           1,
           "Yes",
           15,
           "yes",
           3,
           14,
           1,
           5,
           "urban",
           "yes",
           "50000 - 75000"
          ],
          [
           3,
           "Yes",
           4,
           "yes",
           5,
           16,
           4,
           3,
           "rural",
           "no",
           "Under 25000"
          ],
          [
           0,
           "Yes",
           13,
           "no",
           4,
           15,
           3,
           3,
           "rural",
           "yes",
           "25000 - 50000"
          ],
          [
           6,
           "Yes",
           9,
           "yes",
           3,
           14,
           4,
           3,
           "urban",
           "yes",
           "50000 - 75000"
          ],
          [
           1,
           "Yes",
           4,
           "yes",
           2,
           13,
           2,
           4,
           "rural",
           "no",
           "75,000 - 100000"
          ],
          [
           1,
           "Yes",
           12,
           "yes",
           2,
           14,
           3,
           3,
           "urban",
           "yes",
           "150000 - 200,000"
          ],
          [
           5,
           "Yes",
           6,
           "yes",
           2,
           15,
           5,
           3,
           "rural",
           "no",
           "200000 or more"
          ],
          [
           0,
           "Yes",
           13,
           "yes",
           3,
           16,
           2,
           3,
           "rural",
           "yes",
           "150000 - 200,000"
          ],
          [
           0,
           "Yes",
           0,
           "no",
           1,
           18,
           5,
           1,
           "urban",
           "no",
           "200000 or more"
          ],
          [
           3,
           "Yes",
           12,
           "no",
           4,
           15,
           0,
           3,
           "rural",
           "yes",
           "75,000 - 100000"
          ],
          [
           3,
           "Yes",
           9,
           "yes",
           1,
           16,
           2,
           2,
           "urban",
           "yes",
           "200000 or more"
          ],
          [
           9,
           "Yes",
           1,
           "yes",
           2,
           18,
           2,
           4,
           "rural",
           "no",
           "200000 or more"
          ],
          [
           2,
           "Yes",
           10,
           "yes",
           3,
           21,
           2,
           1,
           "rural",
           "no",
           "150000 - 200,000"
          ],
          [
           2,
           "Yes",
           14,
           "yes",
           2,
           15,
           5,
           4,
           "rural",
           "yes",
           "200000 or more"
          ],
          [
           4,
           "Yes",
           5,
           "yes",
           0,
           17,
           4,
           3,
           "rural",
           "no",
           "50000 - 75000"
          ],
          [
           7,
           "Yes",
           15,
           "yes",
           3,
           19,
           2,
           5,
           "rural",
           "yes",
           "Under 25000"
          ],
          [
           4,
           "Yes",
           7,
           "yes",
           1,
           15,
           7,
           4,
           "rural",
           "yes",
           "50000 - 75000"
          ],
          [
           0,
           "Yes",
           1,
           "yes",
           5,
           16,
           5,
           4,
           "rural",
           "no",
           "Under 25000"
          ],
          [
           1,
           "Yes",
           5,
           "no",
           6,
           10,
           3,
           5,
           "rural",
           "no",
           "100000 - 150000"
          ],
          [
           1,
           "Yes",
           1,
           "yes",
           1,
           16,
           5,
           4,
           "urban",
           "no",
           "Under 25000"
          ],
          [
           1,
           "Yes",
           1,
           "yes",
           4,
           18,
           1,
           4,
           "rural",
           "no",
           "100000 - 150000"
          ],
          [
           0,
           "Yes",
           7,
           "no",
           4,
           17,
           3,
           3,
           "rural",
           "yes",
           "25000 - 50000"
          ],
          [
           6,
           "Yes",
           6,
           "no",
           3,
           13,
           1,
           4,
           "urban",
           "no",
           "Under 25000"
          ],
          [
           1,
           "Yes",
           6,
           "yes",
           1,
           15,
           3,
           2,
           "rural",
           "yes",
           "25000 - 50000"
          ],
          [
           2,
           "Yes",
           10,
           "yes",
           1,
           14,
           1,
           4,
           "rural",
           "no",
           "Under 25000"
          ],
          [
           0,
           "Yes",
           7,
           "yes",
           2,
           14,
           2,
           3,
           "urban",
           "yes",
           "Under 25000"
          ],
          [
           1,
           "Yes",
           3,
           "yes",
           1,
           10,
           3,
           1,
           "rural",
           "yes",
           "75,000 - 100000"
          ],
          [
           3,
           "Yes",
           9,
           "yes",
           3,
           11,
           3,
           4,
           "rural",
           "yes",
           "25000 - 50000"
          ],
          [
           2,
           "Yes",
           0,
           "no",
           1,
           14,
           3,
           3,
           "rural",
           "no",
           "25000 - 50000"
          ],
          [
           0,
           "Yes",
           18,
           "yes",
           4,
           13,
           1,
           3,
           "rural",
           "yes",
           "200000 or more"
          ],
          [
           2,
           "Yes",
           18,
           "yes",
           1,
           14,
           6,
           3,
           "rural",
           "yes",
           "50000 - 75000"
          ],
          [
           4,
           "Yes",
           0,
           "no",
           1,
           13,
           4,
           2,
           "rural",
           "no",
           "100000 - 150000"
          ],
          [
           5,
           "Yes",
           20,
           "yes",
           2,
           14,
           5,
           3,
           "rural",
           "yes",
           "150000 - 200,000"
          ],
          [
           0,
           "Yes",
           18,
           "yes",
           1,
           13,
           2,
           3,
           "rural",
           "no",
           "25000 - 50000"
          ],
          [
           5,
           "Yes",
           13,
           "no",
           2,
           18,
           5,
           3,
           "rural",
           "yes",
           "200000 or more"
          ],
          [
           2,
           "Yes",
           4,
           "no",
           1,
           16,
           2,
           2,
           "urban",
           "no",
           "25000 - 50000"
          ],
          [
           4,
           "Yes",
           6,
           "yes",
           4,
           14,
           3,
           3,
           "rural",
           "no",
           "75,000 - 100000"
          ],
          [
           1,
           "Yes",
           3,
           "yes",
           2,
           17,
           0,
           5,
           "urban",
           "no",
           "25000 - 50000"
          ],
          [
           0,
           "Yes",
           13,
           "yes",
           4,
           17,
           1,
           5,
           "urban",
           "no",
           "75,000 - 100000"
          ],
          [
           2,
           "Yes",
           13,
           "yes",
           2,
           15,
           5,
           3,
           "urban",
           "no",
           "25000 - 50000"
          ],
          [
           4,
           "Yes",
           1,
           "yes",
           1,
           14,
           4,
           3,
           "urban",
           "no",
           "75,000 - 100000"
          ],
          [
           4,
           "Yes",
           11,
           "yes",
           4,
           14,
           5,
           2,
           "urban",
           "yes",
           "200000 or more"
          ],
          [
           0,
           "Yes",
           13,
           "yes",
           0,
           20,
           6,
           4,
           "rural",
           "no",
           "75,000 - 100000"
          ],
          [
           3,
           "Yes",
           4,
           "yes",
           3,
           15,
           4,
           2,
           "rural",
           "yes",
           "100000 - 150000"
          ],
          [
           5,
           "Yes",
           2,
           "yes",
           3,
           14,
           2,
           3,
           "rural",
           "no",
           "100000 - 150000"
          ],
          [
           2,
           "Yes",
           4,
           "yes",
           2,
           15,
           4,
           1,
           "rural",
           "yes",
           "150000 - 200,000"
          ],
          [
           4,
           "Yes",
           13,
           "no",
           3,
           18,
           5,
           3,
           "urban",
           "no",
           "75,000 - 100000"
          ],
          [
           7,
           "Yes",
           1,
           "yes",
           3,
           15,
           4,
           4,
           "rural",
           "yes",
           "25000 - 50000"
          ],
          [
           7,
           "Yes",
           8,
           "yes",
           4,
           19,
           2,
           2,
           "rural",
           "yes",
           "200000 or more"
          ],
          [
           0,
           "Yes",
           2,
           "yes",
           3,
           14,
           3,
           3,
           "urban",
           "no",
           "25000 - 50000"
          ],
          [
           2,
           "Yes",
           14,
           "no",
           1,
           12,
           0,
           4,
           "rural",
           "yes",
           "150000 - 200,000"
          ],
          [
           1,
           "Yes",
           1,
           "no",
           1,
           10,
           4,
           1,
           "rural",
           "no",
           "75,000 - 100000"
          ],
          [
           1,
           "Yes",
           15,
           "yes",
           1,
           14,
           2,
           5,
           "rural",
           "no",
           "200000 or more"
          ],
          [
           1,
           "Yes",
           6,
           "yes",
           2,
           16,
           3,
           2,
           "rural",
           "no",
           "50000 - 75000"
          ],
          [
           4,
           "Yes",
           15,
           "no",
           3,
           14,
           2,
           2,
           "rural",
           "yes",
           "75,000 - 100000"
          ],
          [
           0,
           "Yes",
           7,
           "no",
           3,
           14,
           4,
           4,
           "rural",
           "yes",
           "75,000 - 100000"
          ],
          [
           3,
           "Yes",
           13,
           "yes",
           4,
           16,
           2,
           2,
           "rural",
           "no",
           "150000 - 200,000"
          ],
          [
           0,
           "Yes",
           16,
           "no",
           1,
           16,
           4,
           4,
           "urban",
           "yes",
           "50000 - 75000"
          ],
          [
           6,
           "Yes",
           1,
           "no",
           2,
           16,
           0,
           3,
           "rural",
           "no",
           "75,000 - 100000"
          ],
          [
           6,
           "Yes",
           12,
           "yes",
           2,
           19,
           6,
           3,
           "urban",
           "no",
           "150000 - 200,000"
          ],
          [
           3,
           "Yes",
           20,
           "yes",
           0,
           14,
           3,
           2,
           "urban",
           "yes",
           "25000 - 50000"
          ],
          [
           6,
           "Yes",
           5,
           "no",
           2,
           14,
           3,
           3,
           "rural",
           "no",
           "100000 - 150000"
          ],
          [
           2,
           "Yes",
           16,
           "yes",
           4,
           15,
           2,
           4,
           "urban",
           "no",
           "25000 - 50000"
          ],
          [
           1,
           "Yes",
           4,
           "no",
           2,
           13,
           3,
           5,
           "urban",
           "no",
           "150000 - 200,000"
          ],
          [
           0,
           "Yes",
           8,
           "yes",
           1,
           16,
           3,
           2,
           "urban",
           "yes",
           "200000 or more"
          ],
          [
           4,
           "Yes",
           11,
           "yes",
           1,
           13,
           4,
           3,
           "urban",
           "no",
           "Under 25000"
          ],
          [
           2,
           "Yes",
           0,
           "yes",
           1,
           17,
           3,
           3,
           "urban",
           "no",
           "100000 - 150000"
          ],
          [
           5,
           "Yes",
           7,
           "yes",
           7,
           17,
           4,
           3,
           "urban",
           "no",
           "75,000 - 100000"
          ],
          [
           1,
           "Yes",
           10,
           "yes",
           0,
           18,
           6,
           4,
           "rural",
           "yes",
           "100000 - 150000"
          ],
          [
           3,
           "Yes",
           4,
           "no",
           1,
           11,
           6,
           2,
           "rural",
           "yes",
           "100000 - 150000"
          ],
          [
           0,
           "Yes",
           16,
           "no",
           3,
           17,
           3,
           4,
           "urban",
           "no",
           "75,000 - 100000"
          ],
          [
           4,
           "Yes",
           11,
           "yes",
           4,
           16,
           4,
           3,
           "rural",
           "yes",
           "25000 - 50000"
          ],
          [
           9,
           "Yes",
           18,
           "no",
           1,
           11,
           3,
           4,
           "urban",
           "yes",
           "50000 - 75000"
          ],
          [
           3,
           "Yes",
           12,
           "no",
           3,
           17,
           4,
           4,
           "urban",
           "no",
           "150000 - 200,000"
          ],
          [
           3,
           "Yes",
           11,
           "yes",
           2,
           12,
           5,
           3,
           "urban",
           "yes",
           "Under 25000"
          ],
          [
           1,
           "Yes",
           10,
           "no",
           4,
           15,
           6,
           5,
           "rural",
           "yes",
           "150000 - 200,000"
          ],
          [
           0,
           "Yes",
           5,
           "yes",
           3,
           15,
           3,
           3,
           "rural",
           "no",
           "50000 - 75000"
          ],
          [
           1,
           "Yes",
           12,
           "yes",
           3,
           16,
           6,
           5,
           "urban",
           "no",
           "200000 or more"
          ],
          [
           2,
           "Yes",
           7,
           "no",
           3,
           15,
           4,
           4,
           "rural",
           "no",
           "100000 - 150000"
          ],
          [
           1,
           "Yes",
           6,
           "yes",
           4,
           16,
           4,
           4,
           "rural",
           "no",
           "75,000 - 100000"
          ],
          [
           1,
           "Yes",
           3,
           "yes",
           1,
           13,
           6,
           3,
           "urban",
           "no",
           "150000 - 200,000"
          ],
          [
           1,
           "Yes",
           13,
           "yes",
           4,
           13,
           4,
           3,
           "urban",
           "no",
           "50000 - 75000"
          ],
          [
           5,
           "Yes",
           7,
           "yes",
           4,
           16,
           5,
           3,
           "urban",
           "yes",
           "25000 - 50000"
          ],
          [
           1,
           "Yes",
           10,
           "no",
           4,
           12,
           5,
           2,
           "rural",
           "yes",
           "100000 - 150000"
          ],
          [
           6,
           "Yes",
           11,
           "yes",
           2,
           17,
           4,
           3,
           "urban",
           "yes",
           "Under 25000"
          ],
          [
           4,
           "Yes",
           14,
           "yes",
           3,
           14,
           3,
           3,
           "rural",
           "yes",
           "100000 - 150000"
          ],
          [
           2,
           "Yes",
           0,
           "no",
           2,
           16,
           4,
           4,
           "rural",
           "no",
           "200000 or more"
          ],
          [
           8,
           "Yes",
           5,
           "yes",
           1,
           16,
           3,
           3,
           "urban",
           "yes",
           "75,000 - 100000"
          ],
          [
           0,
           "Yes",
           6,
           "yes",
           2,
           14,
           5,
           3,
           "rural",
           "no",
           "25000 - 50000"
          ],
          [
           5,
           "Yes",
           5,
           "yes",
           3,
           17,
           4,
           3,
           "urban",
           "yes",
           "50000 - 75000"
          ],
          [
           0,
           "Yes",
           7,
           "yes",
           3,
           19,
           4,
           4,
           "urban",
           "no",
           "150000 - 200,000"
          ],
          [
           5,
           "Yes",
           11,
           "yes",
           4,
           18,
           3,
           4,
           "urban",
           "yes",
           "150000 - 200,000"
          ],
          [
           2,
           "Yes",
           18,
           "yes",
           4,
           15,
           2,
           2,
           "rural",
           "no",
           "25000 - 50000"
          ],
          [
           2,
           "Yes",
           14,
           "no",
           3,
           12,
           3,
           4,
           "urban",
           "no",
           "150000 - 200,000"
          ],
          [
           1,
           "Yes",
           0,
           "yes",
           4,
           18,
           3,
           4,
           "rural",
           "yes",
           "150000 - 200,000"
          ],
          [
           1,
           "Yes",
           2,
           "yes",
           3,
           13,
           0,
           4,
           "urban",
           "yes",
           "50000 - 75000"
          ]
         ],
         "hovertemplate": "affair_status=%{customdata[1]}<br>gender=%{x}<br>age=%{y}<br>affairs=%{customdata[0]}<br>yearsmarried=%{customdata[2]}<br>children=%{customdata[3]}<br>religiousness=%{customdata[4]}<br>education=%{customdata[5]}<br>occupation=%{customdata[6]}<br>rating=%{customdata[7]}<br>region=%{customdata[8]}<br>frequentflyer=%{customdata[9]}<br>income_level=%{customdata[10]}<extra></extra>",
         "legendgroup": "Yes",
         "marker": {
          "color": "#EF553B"
         },
         "name": "Yes",
         "offsetgroup": "Yes",
         "orientation": "v",
         "points": "all",
         "scalegroup": "True",
         "showlegend": true,
         "type": "violin",
         "x": [
          "male",
          "female",
          "male",
          "female",
          "male",
          "female",
          "male",
          "female",
          "male",
          "female",
          "female",
          "female",
          "female",
          "male",
          "female",
          "male",
          "male",
          "female",
          "male",
          "female",
          "female",
          "female",
          "male",
          "female",
          "female",
          "female",
          "male",
          "male",
          "female",
          "female",
          "male",
          "female",
          "female",
          "male",
          "female",
          "female",
          "male",
          "female",
          "male",
          "male",
          "female",
          "male",
          "male",
          "male",
          "female",
          "male",
          "female",
          "male",
          "male",
          "male",
          "male",
          "male",
          "female",
          "male",
          "female",
          "male",
          "male",
          "male",
          "male",
          "male",
          "female",
          "female",
          "male",
          "male",
          "male",
          "female",
          "male",
          "male",
          "female",
          "female",
          "male",
          "male",
          "male",
          "female",
          "female",
          "female",
          "female",
          "male",
          "female",
          "male",
          "male",
          "female",
          "female",
          "male",
          "male",
          "female",
          "female",
          "male",
          "female",
          "female",
          "male",
          "male",
          "female",
          "female",
          "female",
          "male",
          "male",
          "female",
          "male",
          "male",
          "female",
          "male",
          "male",
          "male",
          "male",
          "female",
          "male",
          "male",
          "female",
          "female",
          "male",
          "female",
          "female",
          "female",
          "male",
          "female",
          "female",
          "female",
          "female",
          "female",
          "male",
          "female",
          "female",
          "male",
          "male",
          "male",
          "male",
          "male",
          "male",
          "male",
          "male",
          "male",
          "female",
          "male",
          "female",
          "female",
          "female",
          "male",
          "female",
          "male",
          "male",
          "male",
          "male",
          "female",
          "male",
          "male",
          "female",
          "male",
          "male",
          "male",
          "female",
          "female",
          "female",
          "male",
          "female",
          "female",
          "male",
          "male",
          "female",
          "female",
          "male",
          "male",
          "female",
          "male",
          "female",
          "female",
          "female",
          "female",
          "female",
          "female",
          "male",
          "female",
          "female",
          "female",
          "female",
          "male",
          "female",
          "female",
          "male",
          "male",
          "female",
          "male",
          "male",
          "female",
          "male",
          "female",
          "female",
          "female",
          "female",
          "female",
          "female",
          "male",
          "male",
          "female",
          "male",
          "male",
          "female",
          "female",
          "female",
          "female",
          "female",
          "female",
          "male",
          "female",
          "male",
          "male",
          "male",
          "male",
          "male",
          "male",
          "female",
          "female",
          "female",
          "female",
          "female",
          "male",
          "female",
          "male",
          "female",
          "male",
          "female",
          "female",
          "male",
          "male",
          "female",
          "female",
          "male",
          "male",
          "female",
          "female",
          "female",
          "female",
          "male",
          "male",
          "male",
          "male",
          "female",
          "female",
          "female",
          "female",
          "male",
          "female"
         ],
         "x0": " ",
         "xaxis": "x",
         "y": [
          27,
          27,
          37,
          32,
          22,
          22,
          37,
          22,
          37,
          32,
          37,
          42,
          42,
          37,
          32,
          27,
          37,
          27,
          42,
          47,
          27,
          27,
          27,
          27,
          42,
          27,
          27,
          32,
          27,
          32,
          27,
          32,
          32,
          37,
          37,
          32,
          52,
          42,
          52,
          37,
          22,
          27,
          27,
          47,
          42,
          27,
          32,
          32,
          47,
          37,
          22,
          27,
          52,
          27,
          27,
          32,
          32,
          22,
          22,
          42,
          57,
          32,
          27,
          32,
          57,
          42,
          37,
          42,
          52,
          27,
          32,
          22,
          27,
          37,
          32,
          27,
          32,
          32,
          42,
          32,
          37,
          27,
          42,
          27,
          37,
          27,
          27,
          32,
          32,
          22,
          32,
          27,
          22,
          32,
          42,
          42,
          32,
          32,
          57,
          47,
          42,
          37,
          37,
          27,
          37,
          32,
          32,
          37,
          27,
          47,
          37,
          27,
          27,
          22,
          52,
          27,
          37,
          27,
          32,
          22,
          32,
          22,
          42,
          32,
          37,
          42,
          27,
          37,
          37,
          22,
          32,
          32,
          52,
          47,
          32,
          32,
          27,
          42,
          42,
          27,
          32,
          47,
          22,
          32,
          32,
          22,
          32,
          38,
          27,
          37,
          38,
          51,
          40,
          41,
          39,
          22,
          51,
          39,
          27,
          44,
          20,
          38,
          44,
          33,
          29,
          36,
          19,
          28,
          23,
          40,
          37,
          32,
          30,
          34,
          32,
          24,
          29,
          45,
          20,
          39,
          19,
          31,
          24,
          24,
          36,
          33,
          33,
          41,
          30,
          27,
          34,
          28,
          26,
          37,
          27,
          39,
          27,
          21,
          35,
          47,
          38,
          42,
          51,
          38,
          33,
          36,
          29,
          27,
          22,
          33,
          30,
          22,
          37,
          53,
          21,
          44,
          31,
          37,
          34,
          27,
          34,
          44,
          35,
          30,
          27,
          35,
          22,
          43,
          43,
          42,
          35,
          33,
          34,
          39,
          46,
          24,
          31,
          40,
          26,
          34,
          43,
          23
         ],
         "y0": " ",
         "yaxis": "y"
        }
       ],
       "layout": {
        "autosize": true,
        "legend": {
         "title": {
          "text": "affair_status"
         },
         "tracegroupgap": 0
        },
        "margin": {
         "t": 60
        },
        "template": {
         "data": {
          "bar": [
           {
            "error_x": {
             "color": "#2a3f5f"
            },
            "error_y": {
             "color": "#2a3f5f"
            },
            "marker": {
             "line": {
              "color": "#E5ECF6",
              "width": 0.5
             },
             "pattern": {
              "fillmode": "overlay",
              "size": 10,
              "solidity": 0.2
             }
            },
            "type": "bar"
           }
          ],
          "barpolar": [
           {
            "marker": {
             "line": {
              "color": "#E5ECF6",
              "width": 0.5
             },
             "pattern": {
              "fillmode": "overlay",
              "size": 10,
              "solidity": 0.2
             }
            },
            "type": "barpolar"
           }
          ],
          "carpet": [
           {
            "aaxis": {
             "endlinecolor": "#2a3f5f",
             "gridcolor": "white",
             "linecolor": "white",
             "minorgridcolor": "white",
             "startlinecolor": "#2a3f5f"
            },
            "baxis": {
             "endlinecolor": "#2a3f5f",
             "gridcolor": "white",
             "linecolor": "white",
             "minorgridcolor": "white",
             "startlinecolor": "#2a3f5f"
            },
            "type": "carpet"
           }
          ],
          "choropleth": [
           {
            "colorbar": {
             "outlinewidth": 0,
             "ticks": ""
            },
            "type": "choropleth"
           }
          ],
          "contour": [
           {
            "colorbar": {
             "outlinewidth": 0,
             "ticks": ""
            },
            "colorscale": [
             [
              0,
              "#0d0887"
             ],
             [
              0.1111111111111111,
              "#46039f"
             ],
             [
              0.2222222222222222,
              "#7201a8"
             ],
             [
              0.3333333333333333,
              "#9c179e"
             ],
             [
              0.4444444444444444,
              "#bd3786"
             ],
             [
              0.5555555555555556,
              "#d8576b"
             ],
             [
              0.6666666666666666,
              "#ed7953"
             ],
             [
              0.7777777777777778,
              "#fb9f3a"
             ],
             [
              0.8888888888888888,
              "#fdca26"
             ],
             [
              1,
              "#f0f921"
             ]
            ],
            "type": "contour"
           }
          ],
          "contourcarpet": [
           {
            "colorbar": {
             "outlinewidth": 0,
             "ticks": ""
            },
            "type": "contourcarpet"
           }
          ],
          "heatmap": [
           {
            "colorbar": {
             "outlinewidth": 0,
             "ticks": ""
            },
            "colorscale": [
             [
              0,
              "#0d0887"
             ],
             [
              0.1111111111111111,
              "#46039f"
             ],
             [
              0.2222222222222222,
              "#7201a8"
             ],
             [
              0.3333333333333333,
              "#9c179e"
             ],
             [
              0.4444444444444444,
              "#bd3786"
             ],
             [
              0.5555555555555556,
              "#d8576b"
             ],
             [
              0.6666666666666666,
              "#ed7953"
             ],
             [
              0.7777777777777778,
              "#fb9f3a"
             ],
             [
              0.8888888888888888,
              "#fdca26"
             ],
             [
              1,
              "#f0f921"
             ]
            ],
            "type": "heatmap"
           }
          ],
          "heatmapgl": [
           {
            "colorbar": {
             "outlinewidth": 0,
             "ticks": ""
            },
            "colorscale": [
             [
              0,
              "#0d0887"
             ],
             [
              0.1111111111111111,
              "#46039f"
             ],
             [
              0.2222222222222222,
              "#7201a8"
             ],
             [
              0.3333333333333333,
              "#9c179e"
             ],
             [
              0.4444444444444444,
              "#bd3786"
             ],
             [
              0.5555555555555556,
              "#d8576b"
             ],
             [
              0.6666666666666666,
              "#ed7953"
             ],
             [
              0.7777777777777778,
              "#fb9f3a"
             ],
             [
              0.8888888888888888,
              "#fdca26"
             ],
             [
              1,
              "#f0f921"
             ]
            ],
            "type": "heatmapgl"
           }
          ],
          "histogram": [
           {
            "marker": {
             "pattern": {
              "fillmode": "overlay",
              "size": 10,
              "solidity": 0.2
             }
            },
            "type": "histogram"
           }
          ],
          "histogram2d": [
           {
            "colorbar": {
             "outlinewidth": 0,
             "ticks": ""
            },
            "colorscale": [
             [
              0,
              "#0d0887"
             ],
             [
              0.1111111111111111,
              "#46039f"
             ],
             [
              0.2222222222222222,
              "#7201a8"
             ],
             [
              0.3333333333333333,
              "#9c179e"
             ],
             [
              0.4444444444444444,
              "#bd3786"
             ],
             [
              0.5555555555555556,
              "#d8576b"
             ],
             [
              0.6666666666666666,
              "#ed7953"
             ],
             [
              0.7777777777777778,
              "#fb9f3a"
             ],
             [
              0.8888888888888888,
              "#fdca26"
             ],
             [
              1,
              "#f0f921"
             ]
            ],
            "type": "histogram2d"
           }
          ],
          "histogram2dcontour": [
           {
            "colorbar": {
             "outlinewidth": 0,
             "ticks": ""
            },
            "colorscale": [
             [
              0,
              "#0d0887"
             ],
             [
              0.1111111111111111,
              "#46039f"
             ],
             [
              0.2222222222222222,
              "#7201a8"
             ],
             [
              0.3333333333333333,
              "#9c179e"
             ],
             [
              0.4444444444444444,
              "#bd3786"
             ],
             [
              0.5555555555555556,
              "#d8576b"
             ],
             [
              0.6666666666666666,
              "#ed7953"
             ],
             [
              0.7777777777777778,
              "#fb9f3a"
             ],
             [
              0.8888888888888888,
              "#fdca26"
             ],
             [
              1,
              "#f0f921"
             ]
            ],
            "type": "histogram2dcontour"
           }
          ],
          "mesh3d": [
           {
            "colorbar": {
             "outlinewidth": 0,
             "ticks": ""
            },
            "type": "mesh3d"
           }
          ],
          "parcoords": [
           {
            "line": {
             "colorbar": {
              "outlinewidth": 0,
              "ticks": ""
             }
            },
            "type": "parcoords"
           }
          ],
          "pie": [
           {
            "automargin": true,
            "type": "pie"
           }
          ],
          "scatter": [
           {
            "fillpattern": {
             "fillmode": "overlay",
             "size": 10,
             "solidity": 0.2
            },
            "type": "scatter"
           }
          ],
          "scatter3d": [
           {
            "line": {
             "colorbar": {
              "outlinewidth": 0,
              "ticks": ""
             }
            },
            "marker": {
             "colorbar": {
              "outlinewidth": 0,
              "ticks": ""
             }
            },
            "type": "scatter3d"
           }
          ],
          "scattercarpet": [
           {
            "marker": {
             "colorbar": {
              "outlinewidth": 0,
              "ticks": ""
             }
            },
            "type": "scattercarpet"
           }
          ],
          "scattergeo": [
           {
            "marker": {
             "colorbar": {
              "outlinewidth": 0,
              "ticks": ""
             }
            },
            "type": "scattergeo"
           }
          ],
          "scattergl": [
           {
            "marker": {
             "colorbar": {
              "outlinewidth": 0,
              "ticks": ""
             }
            },
            "type": "scattergl"
           }
          ],
          "scattermapbox": [
           {
            "marker": {
             "colorbar": {
              "outlinewidth": 0,
              "ticks": ""
             }
            },
            "type": "scattermapbox"
           }
          ],
          "scatterpolar": [
           {
            "marker": {
             "colorbar": {
              "outlinewidth": 0,
              "ticks": ""
             }
            },
            "type": "scatterpolar"
           }
          ],
          "scatterpolargl": [
           {
            "marker": {
             "colorbar": {
              "outlinewidth": 0,
              "ticks": ""
             }
            },
            "type": "scatterpolargl"
           }
          ],
          "scatterternary": [
           {
            "marker": {
             "colorbar": {
              "outlinewidth": 0,
              "ticks": ""
             }
            },
            "type": "scatterternary"
           }
          ],
          "surface": [
           {
            "colorbar": {
             "outlinewidth": 0,
             "ticks": ""
            },
            "colorscale": [
             [
              0,
              "#0d0887"
             ],
             [
              0.1111111111111111,
              "#46039f"
             ],
             [
              0.2222222222222222,
              "#7201a8"
             ],
             [
              0.3333333333333333,
              "#9c179e"
             ],
             [
              0.4444444444444444,
              "#bd3786"
             ],
             [
              0.5555555555555556,
              "#d8576b"
             ],
             [
              0.6666666666666666,
              "#ed7953"
             ],
             [
              0.7777777777777778,
              "#fb9f3a"
             ],
             [
              0.8888888888888888,
              "#fdca26"
             ],
             [
              1,
              "#f0f921"
             ]
            ],
            "type": "surface"
           }
          ],
          "table": [
           {
            "cells": {
             "fill": {
              "color": "#EBF0F8"
             },
             "line": {
              "color": "white"
             }
            },
            "header": {
             "fill": {
              "color": "#C8D4E3"
             },
             "line": {
              "color": "white"
             }
            },
            "type": "table"
           }
          ]
         },
         "layout": {
          "annotationdefaults": {
           "arrowcolor": "#2a3f5f",
           "arrowhead": 0,
           "arrowwidth": 1
          },
          "autotypenumbers": "strict",
          "coloraxis": {
           "colorbar": {
            "outlinewidth": 0,
            "ticks": ""
           }
          },
          "colorscale": {
           "diverging": [
            [
             0,
             "#8e0152"
            ],
            [
             0.1,
             "#c51b7d"
            ],
            [
             0.2,
             "#de77ae"
            ],
            [
             0.3,
             "#f1b6da"
            ],
            [
             0.4,
             "#fde0ef"
            ],
            [
             0.5,
             "#f7f7f7"
            ],
            [
             0.6,
             "#e6f5d0"
            ],
            [
             0.7,
             "#b8e186"
            ],
            [
             0.8,
             "#7fbc41"
            ],
            [
             0.9,
             "#4d9221"
            ],
            [
             1,
             "#276419"
            ]
           ],
           "sequential": [
            [
             0,
             "#0d0887"
            ],
            [
             0.1111111111111111,
             "#46039f"
            ],
            [
             0.2222222222222222,
             "#7201a8"
            ],
            [
             0.3333333333333333,
             "#9c179e"
            ],
            [
             0.4444444444444444,
             "#bd3786"
            ],
            [
             0.5555555555555556,
             "#d8576b"
            ],
            [
             0.6666666666666666,
             "#ed7953"
            ],
            [
             0.7777777777777778,
             "#fb9f3a"
            ],
            [
             0.8888888888888888,
             "#fdca26"
            ],
            [
             1,
             "#f0f921"
            ]
           ],
           "sequentialminus": [
            [
             0,
             "#0d0887"
            ],
            [
             0.1111111111111111,
             "#46039f"
            ],
            [
             0.2222222222222222,
             "#7201a8"
            ],
            [
             0.3333333333333333,
             "#9c179e"
            ],
            [
             0.4444444444444444,
             "#bd3786"
            ],
            [
             0.5555555555555556,
             "#d8576b"
            ],
            [
             0.6666666666666666,
             "#ed7953"
            ],
            [
             0.7777777777777778,
             "#fb9f3a"
            ],
            [
             0.8888888888888888,
             "#fdca26"
            ],
            [
             1,
             "#f0f921"
            ]
           ]
          },
          "colorway": [
           "#636efa",
           "#EF553B",
           "#00cc96",
           "#ab63fa",
           "#FFA15A",
           "#19d3f3",
           "#FF6692",
           "#B6E880",
           "#FF97FF",
           "#FECB52"
          ],
          "font": {
           "color": "#2a3f5f"
          },
          "geo": {
           "bgcolor": "white",
           "lakecolor": "white",
           "landcolor": "#E5ECF6",
           "showlakes": true,
           "showland": true,
           "subunitcolor": "white"
          },
          "hoverlabel": {
           "align": "left"
          },
          "hovermode": "closest",
          "mapbox": {
           "style": "light"
          },
          "paper_bgcolor": "white",
          "plot_bgcolor": "#E5ECF6",
          "polar": {
           "angularaxis": {
            "gridcolor": "white",
            "linecolor": "white",
            "ticks": ""
           },
           "bgcolor": "#E5ECF6",
           "radialaxis": {
            "gridcolor": "white",
            "linecolor": "white",
            "ticks": ""
           }
          },
          "scene": {
           "xaxis": {
            "backgroundcolor": "#E5ECF6",
            "gridcolor": "white",
            "gridwidth": 2,
            "linecolor": "white",
            "showbackground": true,
            "ticks": "",
            "zerolinecolor": "white"
           },
           "yaxis": {
            "backgroundcolor": "#E5ECF6",
            "gridcolor": "white",
            "gridwidth": 2,
            "linecolor": "white",
            "showbackground": true,
            "ticks": "",
            "zerolinecolor": "white"
           },
           "zaxis": {
            "backgroundcolor": "#E5ECF6",
            "gridcolor": "white",
            "gridwidth": 2,
            "linecolor": "white",
            "showbackground": true,
            "ticks": "",
            "zerolinecolor": "white"
           }
          },
          "shapedefaults": {
           "line": {
            "color": "#2a3f5f"
           }
          },
          "ternary": {
           "aaxis": {
            "gridcolor": "white",
            "linecolor": "white",
            "ticks": ""
           },
           "baxis": {
            "gridcolor": "white",
            "linecolor": "white",
            "ticks": ""
           },
           "bgcolor": "#E5ECF6",
           "caxis": {
            "gridcolor": "white",
            "linecolor": "white",
            "ticks": ""
           }
          },
          "title": {
           "x": 0.05
          },
          "xaxis": {
           "automargin": true,
           "gridcolor": "white",
           "linecolor": "white",
           "ticks": "",
           "title": {
            "standoff": 15
           },
           "zerolinecolor": "white",
           "zerolinewidth": 2
          },
          "yaxis": {
           "automargin": true,
           "gridcolor": "white",
           "linecolor": "white",
           "ticks": "",
           "title": {
            "standoff": 15
           },
           "zerolinecolor": "white",
           "zerolinewidth": 2
          }
         }
        },
        "violinmode": "group",
        "xaxis": {
         "anchor": "y",
         "autorange": true,
         "domain": [
          0,
          1
         ],
         "range": [
          -0.6599394820295983,
          1.613681025369979
         ],
         "title": {
          "text": "gender"
         },
         "type": "category"
        },
        "yaxis": {
         "anchor": "x",
         "autorange": true,
         "domain": [
          0,
          1
         ],
         "range": [
          9.557982201894658,
          66.44201779810534
         ],
         "title": {
          "text": "age"
         },
         "type": "linear"
        }
       }
      },
      "image/png": "[encoded data removed]",
      "text/html": [
       "<div>                            <div id=\"8b668f2f-1e2e-4383-99d0-921c82d37c55\" class=\"plotly-graph-div\" style=\"height:525px; width:100%;\"></div>            <script type=\"text/javascript\">                require([\"plotly\"], function(Plotly) {                    window.PLOTLYENV=window.PLOTLYENV || {};                                    if (document.getElementById(\"8b668f2f-1e2e-4383-99d0-921c82d37c55\")) {                    Plotly.newPlot(                        \"8b668f2f-1e2e-4383-99d0-921c82d37c55\",                        [{\"alignmentgroup\":\"True\",\"box\":{\"visible\":true},\"customdata\":[[0.0,\"No\",10.0,\"no\",3.0,18.0,7.0,4.0,\"urban\",\"yes\",\"150000 - 200,000\"],[0.0,\"No\",4.0,\"no\",4.0,14.0,6.0,4.0,\"rural\",\"no\",\"150000 - 200,000\"],[0.0,\"No\",15.0,\"yes\",1.0,12.0,1.0,4.0,\"rural\",\"no\",\"Under 25000\"],[0.0,\"No\",15.0,\"yes\",5.0,18.0,6.0,5.0,\"rural\",\"yes\",\"75,000 - 100000\"],[0.0,\"No\",0.75,\"no\",2.0,17.0,6.0,3.0,\"rural\",\"yes\",\"75,000 - 100000\"],[0.0,\"No\",1.5,\"no\",2.0,17.0,5.0,5.0,\"urban\",\"no\",\"50000 - 75000\"],[0.0,\"No\",0.75,\"no\",2.0,12.0,1.0,3.0,\"urban\",\"yes\",\"50000 - 75000\"],[0.0,\"No\",15.0,\"yes\",2.0,14.0,4.0,4.0,\"rural\",\"yes\",\"200000 or more\"],[0.0,\"No\",15.0,\"yes\",4.0,16.0,1.0,2.0,\"rural\",\"no\",\"50000 - 75000\"],[0.0,\"No\",1.5,\"no\",4.0,14.0,4.0,5.0,\"urban\",\"yes\",\"75,000 - 100000\"],[0.0,\"No\",15.0,\"yes\",2.0,20.0,7.0,2.0,\"rural\",\"no\",\"200000 or more\"],[0.0,\"No\",4.0,\"yes\",4.0,18.0,6.0,4.0,\"rural\",\"yes\",\"150000 - 200,000\"],[0.0,\"No\",15.0,\"yes\",5.0,17.0,6.0,4.0,\"urban\",\"no\",\"100000 - 150000\"],[0.0,\"No\",1.5,\"no\",2.0,17.0,5.0,4.0,\"urban\",\"no\",\"150000 - 200,000\"],[0.0,\"No\",4.0,\"no\",4.0,14.0,5.0,4.0,\"rural\",\"yes\",\"200000 or more\"],[0.0,\"No\",15.0,\"yes\",1.0,17.0,5.0,5.0,\"urban\",\"no\",\"150000 - 200,000\"],[0.0,\"No\",15.0,\"yes\",2.0,18.0,4.0,3.0,\"rural\",\"yes\",\"50000 - 75000\"],[0.0,\"No\",0.75,\"no\",3.0,16.0,5.0,4.0,\"rural\",\"no\",\"Under 25000\"],[0.0,\"No\",1.5,\"no\",2.0,16.0,5.0,5.0,\"rural\",\"yes\",\"Under 25000\"],[0.0,\"No\",10.0,\"yes\",2.0,14.0,1.0,5.0,\"urban\",\"yes\",\"Under 25000\"],[0.0,\"No\",1.5,\"no\",2.0,16.0,5.0,5.0,\"urban\",\"no\",\"100000 - 150000\"],[0.0,\"No\",1.5,\"no\",2.0,16.0,5.0,5.0,\"urban\",\"no\",\"50000 - 75000\"],[0.0,\"No\",10.0,\"yes\",4.0,16.0,5.0,4.0,\"rural\",\"no\",\"75,000 - 100000\"],[0.0,\"No\",10.0,\"yes\",3.0,14.0,1.0,5.0,\"urban\",\"no\",\"50000 - 75000\"],[0.0,\"No\",4.0,\"yes\",2.0,20.0,6.0,4.0,\"urban\",\"no\",\"Under 25000\"],[0.0,\"No\",1.5,\"no\",2.0,18.0,5.0,5.0,\"rural\",\"no\",\"75,000 - 100000\"],[0.0,\"No\",7.0,\"no\",4.0,16.0,1.0,5.0,\"urban\",\"no\",\"25000 - 50000\"],[0.0,\"No\",15.0,\"yes\",5.0,20.0,6.0,4.0,\"urban\",\"yes\",\"100000 - 150000\"],[0.0,\"No\",4.0,\"yes\",3.0,16.0,5.0,5.0,\"rural\",\"yes\",\"200000 or more\"],[0.0,\"No\",4.0,\"yes\",3.0,17.0,5.0,4.0,\"urban\",\"yes\",\"75,000 - 100000\"],[0.0,\"No\",15.0,\"yes\",4.0,20.0,6.0,3.0,\"urban\",\"yes\",\"25000 - 50000\"],[0.0,\"No\",1.5,\"no\",3.0,16.0,5.0,5.0,\"rural\",\"no\",\"75,000 - 100000\"],[0.0,\"No\",0.417,\"no\",4.0,17.0,6.0,4.0,\"urban\",\"yes\",\"200000 or more\"],[0.0,\"No\",15.0,\"yes\",5.0,14.0,5.0,4.0,\"rural\",\"yes\",\"50000 - 75000\"],[0.0,\"No\",4.0,\"yes\",1.0,18.0,6.0,4.0,\"rural\",\"yes\",\"150000 - 200,000\"],[0.0,\"No\",1.5,\"no\",4.0,16.0,5.0,3.0,\"rural\",\"no\",\"50000 - 75000\"],[0.0,\"No\",15.0,\"yes\",3.0,12.0,1.0,4.0,\"rural\",\"no\",\"200000 or more\"],[0.0,\"No\",4.0,\"no\",4.0,17.0,5.0,5.0,\"urban\",\"yes\",\"150000 - 200,000\"],[0.0,\"No\",1.5,\"yes\",1.0,14.0,3.0,5.0,\"rural\",\"yes\",\"75,000 - 100000\"],[0.0,\"No\",0.75,\"no\",3.0,16.0,1.0,5.0,\"rural\",\"no\",\"100000 - 150000\"],[0.0,\"No\",10.0,\"yes\",5.0,20.0,6.0,5.0,\"urban\",\"yes\",\"100000 - 150000\"],[0.0,\"No\",15.0,\"yes\",5.0,18.0,6.0,3.0,\"rural\",\"no\",\"50000 - 75000\"],[0.0,\"No\",0.417,\"no\",5.0,14.0,1.0,4.0,\"rural\",\"no\",\"200000 or more\"],[0.0,\"No\",4.0,\"yes\",2.0,18.0,6.0,1.0,\"urban\",\"yes\",\"75,000 - 100000\"],[0.0,\"No\",7.0,\"yes\",5.0,17.0,5.0,3.0,\"urban\",\"yes\",\"150000 - 200,000\"],[0.0,\"No\",4.0,\"no\",3.0,16.0,5.0,5.0,\"urban\",\"yes\",\"100000 - 150000\"],[0.0,\"No\",7.0,\"yes\",4.0,18.0,6.0,5.0,\"rural\",\"no\",\"25000 - 50000\"],[0.0,\"No\",15.0,\"yes\",2.0,18.0,5.0,4.0,\"urban\",\"no\",\"25000 - 50000\"],[0.0,\"No\",1.5,\"yes\",4.0,16.0,3.0,5.0,\"rural\",\"yes\",\"25000 - 50000\"],[0.0,\"No\",15.0,\"yes\",2.0,20.0,6.0,4.0,\"urban\",\"yes\",\"25000 - 50000\"],[0.0,\"No\",0.75,\"no\",5.0,14.0,3.0,5.0,\"rural\",\"yes\",\"50000 - 75000\"],[0.0,\"No\",7.0,\"yes\",2.0,20.0,6.0,4.0,\"rural\",\"yes\",\"100000 - 150000\"],[0.0,\"No\",4.0,\"yes\",5.0,20.0,6.0,5.0,\"rural\",\"yes\",\"75,000 - 100000\"],[0.0,\"No\",10.0,\"yes\",4.0,20.0,6.0,4.0,\"urban\",\"yes\",\"75,000 - 100000\"],[0.0,\"No\",4.0,\"no\",1.0,18.0,5.0,5.0,\"urban\",\"no\",\"Under 25000\"],[0.0,\"No\",15.0,\"yes\",4.0,14.0,3.0,1.0,\"urban\",\"no\",\"100000 - 150000\"],[0.0,\"No\",1.5,\"yes\",5.0,16.0,4.0,4.0,\"rural\",\"no\",\"Under 25000\"],[0.0,\"No\",15.0,\"yes\",4.0,17.0,1.0,5.0,\"rural\",\"no\",\"100000 - 150000\"],[0.0,\"No\",0.75,\"no\",4.0,17.0,5.0,4.0,\"urban\",\"yes\",\"100000 - 150000\"],[0.0,\"No\",10.0,\"yes\",4.0,20.0,6.0,4.0,\"rural\",\"no\",\"50000 - 75000\"],[0.0,\"No\",15.0,\"yes\",5.0,14.0,7.0,2.0,\"rural\",\"no\",\"100000 - 150000\"],[0.0,\"No\",10.0,\"yes\",3.0,20.0,6.0,4.0,\"rural\",\"no\",\"Under 25000\"],[0.0,\"No\",0.75,\"no\",2.0,16.0,5.0,5.0,\"rural\",\"no\",\"50000 - 75000\"],[0.0,\"No\",4.0,\"no\",2.0,18.0,4.0,5.0,\"urban\",\"yes\",\"25000 - 50000\"],[0.0,\"No\",7.0,\"no\",4.0,20.0,6.0,4.0,\"urban\",\"no\",\"25000 - 50000\"],[0.0,\"No\",15.0,\"yes\",2.0,17.0,3.0,5.0,\"rural\",\"yes\",\"150000 - 200,000\"],[0.0,\"No\",10.0,\"yes\",4.0,20.0,6.0,4.0,\"urban\",\"yes\",\"75,000 - 100000\"],[0.0,\"No\",15.0,\"yes\",3.0,17.0,6.0,5.0,\"urban\",\"no\",\"Under 25000\"],[0.0,\"No\",1.5,\"no\",5.0,16.0,5.0,5.0,\"urban\",\"no\",\"100000 - 150000\"],[0.0,\"No\",1.5,\"no\",2.0,16.0,6.0,4.0,\"urban\",\"no\",\"Under 25000\"],[0.0,\"No\",4.0,\"no\",3.0,17.0,5.0,5.0,\"rural\",\"no\",\"100000 - 150000\"],[0.0,\"No\",10.0,\"yes\",5.0,14.0,4.0,5.0,\"urban\",\"no\",\"100000 - 150000\"],[0.0,\"No\",0.125,\"no\",2.0,12.0,5.0,5.0,\"rural\",\"yes\",\"100000 - 150000\"],[0.0,\"No\",15.0,\"yes\",4.0,14.0,4.0,3.0,\"rural\",\"no\",\"50000 - 75000\"],[0.0,\"No\",15.0,\"yes\",1.0,14.0,5.0,5.0,\"urban\",\"no\",\"100000 - 150000\"],[0.0,\"No\",7.0,\"yes\",4.0,16.0,5.0,5.0,\"rural\",\"yes\",\"50000 - 75000\"],[0.0,\"No\",1.5,\"yes\",3.0,16.0,5.0,5.0,\"rural\",\"no\",\"25000 - 50000\"],[0.0,\"No\",4.0,\"yes\",3.0,17.0,6.0,5.0,\"rural\",\"no\",\"50000 - 75000\"],[0.0,\"No\",1.5,\"no\",3.0,16.0,5.0,5.0,\"rural\",\"yes\",\"150000 - 200,000\"],[0.0,\"No\",15.0,\"yes\",2.0,14.0,7.0,2.0,\"urban\",\"no\",\"25000 - 50000\"],[0.0,\"No\",15.0,\"yes\",4.0,20.0,6.0,5.0,\"rural\",\"yes\",\"25000 - 50000\"],[0.0,\"No\",0.75,\"no\",2.0,16.0,3.0,4.0,\"rural\",\"no\",\"200000 or more\"],[0.0,\"No\",4.0,\"no\",4.0,17.0,3.0,3.0,\"rural\",\"no\",\"200000 or more\"],[0.0,\"No\",1.5,\"yes\",4.0,12.0,1.0,5.0,\"urban\",\"yes\",\"75,000 - 100000\"],[0.0,\"No\",0.417,\"no\",1.0,17.0,6.0,4.0,\"rural\",\"no\",\"Under 25000\"],[0.0,\"No\",15.0,\"yes\",4.0,17.0,5.0,5.0,\"urban\",\"yes\",\"50000 - 75000\"],[0.0,\"No\",1.5,\"no\",3.0,18.0,5.0,2.0,\"rural\",\"no\",\"150000 - 200,000\"],[0.0,\"No\",1.5,\"yes\",3.0,14.0,1.0,5.0,\"urban\",\"no\",\"Under 25000\"],[0.0,\"No\",15.0,\"yes\",3.0,14.0,1.0,4.0,\"urban\",\"yes\",\"Under 25000\"],[0.0,\"No\",15.0,\"yes\",4.0,14.0,3.0,4.0,\"urban\",\"no\",\"25000 - 50000\"],[0.0,\"No\",10.0,\"yes\",2.0,14.0,5.0,3.0,\"rural\",\"no\",\"50000 - 75000\"],[0.0,\"No\",10.0,\"yes\",4.0,16.0,5.0,4.0,\"rural\",\"yes\",\"200000 or more\"],[0.0,\"No\",15.0,\"yes\",5.0,20.0,5.0,3.0,\"urban\",\"yes\",\"150000 - 200,000\"],[0.0,\"No\",0.417,\"no\",1.0,16.0,3.0,4.0,\"rural\",\"yes\",\"200000 or more\"],[0.0,\"No\",15.0,\"yes\",5.0,14.0,1.0,5.0,\"urban\",\"yes\",\"200000 or more\"],[0.0,\"No\",15.0,\"yes\",3.0,16.0,6.0,1.0,\"rural\",\"yes\",\"Under 25000\"],[0.0,\"No\",10.0,\"yes\",1.0,16.0,6.0,4.0,\"urban\",\"yes\",\"150000 - 200,000\"],[0.0,\"No\",15.0,\"yes\",3.0,17.0,5.0,5.0,\"urban\",\"no\",\"100000 - 150000\"],[0.0,\"No\",15.0,\"yes\",4.0,20.0,6.0,5.0,\"rural\",\"no\",\"150000 - 200,000\"],[0.0,\"No\",10.0,\"yes\",5.0,14.0,1.0,5.0,\"rural\",\"no\",\"200000 or more\"],[0.0,\"No\",10.0,\"yes\",2.0,18.0,6.0,4.0,\"rural\",\"no\",\"Under 25000\"],[0.0,\"No\",0.125,\"no\",4.0,12.0,4.0,5.0,\"urban\",\"yes\",\"150000 - 200,000\"],[0.0,\"No\",15.0,\"yes\",5.0,20.0,6.0,5.0,\"urban\",\"yes\",\"100000 - 150000\"],[0.0,\"No\",15.0,\"yes\",4.0,18.0,6.0,4.0,\"rural\",\"yes\",\"100000 - 150000\"],[0.0,\"No\",4.0,\"yes\",4.0,14.0,6.0,4.0,\"urban\",\"yes\",\"150000 - 200,000\"],[0.0,\"No\",7.0,\"yes\",4.0,18.0,5.0,4.0,\"urban\",\"no\",\"200000 or more\"],[0.0,\"No\",15.0,\"yes\",4.0,20.0,5.0,4.0,\"rural\",\"yes\",\"150000 - 200,000\"],[0.0,\"No\",15.0,\"yes\",3.0,14.0,6.0,3.0,\"rural\",\"no\",\"75,000 - 100000\"],[0.0,\"No\",1.5,\"no\",2.0,14.0,5.0,4.0,\"rural\",\"no\",\"150000 - 200,000\"],[0.0,\"No\",7.0,\"yes\",4.0,17.0,1.0,5.0,\"rural\",\"no\",\"150000 - 200,000\"],[0.0,\"No\",15.0,\"yes\",4.0,17.0,6.0,5.0,\"rural\",\"yes\",\"75,000 - 100000\"],[0.0,\"No\",1.5,\"no\",5.0,18.0,5.0,5.0,\"rural\",\"yes\",\"25000 - 50000\"],[0.0,\"No\",10.0,\"yes\",5.0,20.0,7.0,4.0,\"urban\",\"yes\",\"25000 - 50000\"],[0.0,\"No\",7.0,\"no\",3.0,16.0,5.0,4.0,\"urban\",\"yes\",\"50000 - 75000\"],[0.0,\"No\",15.0,\"no\",4.0,20.0,6.0,5.0,\"urban\",\"no\",\"150000 - 200,000\"],[0.0,\"No\",15.0,\"yes\",4.0,14.0,3.0,2.0,\"rural\",\"yes\",\"75,000 - 100000\"],[0.0,\"No\",10.0,\"no\",5.0,18.0,6.0,4.0,\"rural\",\"yes\",\"75,000 - 100000\"],[0.0,\"No\",0.75,\"no\",4.0,16.0,1.0,5.0,\"urban\",\"no\",\"100000 - 150000\"],[0.0,\"No\",7.0,\"yes\",4.0,12.0,2.0,4.0,\"rural\",\"yes\",\"150000 - 200,000\"],[0.0,\"No\",7.0,\"yes\",2.0,16.0,2.0,5.0,\"rural\",\"yes\",\"75,000 - 100000\"],[0.0,\"No\",15.0,\"yes\",5.0,18.0,5.0,4.0,\"urban\",\"no\",\"50000 - 75000\"],[0.0,\"No\",15.0,\"yes\",4.0,17.0,5.0,3.0,\"rural\",\"no\",\"75,000 - 100000\"],[0.0,\"No\",7.0,\"yes\",2.0,16.0,1.0,2.0,\"rural\",\"no\",\"150000 - 200,000\"],[0.0,\"No\",1.5,\"no\",3.0,16.0,5.0,5.0,\"rural\",\"yes\",\"75,000 - 100000\"],[0.0,\"No\",15.0,\"yes\",5.0,20.0,6.0,5.0,\"rural\",\"yes\",\"100000 - 150000\"],[0.0,\"No\",0.125,\"no\",2.0,14.0,4.0,5.0,\"urban\",\"yes\",\"100000 - 150000\"],[0.0,\"No\",1.5,\"no\",4.0,16.0,5.0,5.0,\"rural\",\"yes\",\"150000 - 200,000\"],[0.0,\"No\",1.5,\"no\",2.0,18.0,6.0,5.0,\"urban\",\"no\",\"25000 - 50000\"],[0.0,\"No\",1.5,\"no\",2.0,17.0,6.0,5.0,\"urban\",\"yes\",\"50000 - 75000\"],[0.0,\"No\",10.0,\"yes\",4.0,16.0,1.0,3.0,\"rural\",\"yes\",\"100000 - 150000\"],[0.0,\"No\",15.0,\"yes\",4.0,18.0,6.0,5.0,\"urban\",\"no\",\"Under 25000\"],[0.0,\"No\",1.5,\"no\",2.0,16.0,6.0,5.0,\"rural\",\"yes\",\"200000 or more\"],[0.0,\"No\",4.0,\"no\",2.0,18.0,6.0,3.0,\"urban\",\"yes\",\"150000 - 200,000\"],[0.0,\"No\",10.0,\"yes\",3.0,14.0,5.0,3.0,\"urban\",\"yes\",\"25000 - 50000\"],[0.0,\"No\",15.0,\"yes\",3.0,18.0,5.0,4.0,\"urban\",\"yes\",\"50000 - 75000\"],[0.0,\"No\",0.75,\"no\",2.0,18.0,6.0,5.0,\"urban\",\"yes\",\"200000 or more\"],[0.0,\"No\",15.0,\"yes\",2.0,16.0,1.0,4.0,\"urban\",\"no\",\"50000 - 75000\"],[0.0,\"No\",4.0,\"yes\",4.0,20.0,5.0,5.0,\"urban\",\"yes\",\"100000 - 150000\"],[0.0,\"No\",4.0,\"no\",1.0,20.0,5.0,4.0,\"urban\",\"no\",\"150000 - 200,000\"],[0.0,\"No\",10.0,\"yes\",2.0,12.0,1.0,4.0,\"rural\",\"yes\",\"Under 25000\"],[0.0,\"No\",15.0,\"yes\",5.0,18.0,6.0,4.0,\"rural\",\"no\",\"25000 - 50000\"],[0.0,\"No\",7.0,\"yes\",5.0,12.0,5.0,3.0,\"rural\",\"yes\",\"25000 - 50000\"],[0.0,\"No\",15.0,\"yes\",2.0,18.0,5.0,4.0,\"rural\",\"no\",\"75,000 - 100000\"],[0.0,\"No\",4.0,\"no\",3.0,20.0,6.0,3.0,\"rural\",\"yes\",\"100000 - 150000\"],[0.0,\"No\",4.0,\"yes\",1.0,18.0,5.0,4.0,\"rural\",\"yes\",\"50000 - 75000\"],[0.0,\"No\",4.0,\"yes\",4.0,14.0,5.0,4.0,\"urban\",\"yes\",\"Under 25000\"],[0.0,\"No\",15.0,\"yes\",5.0,12.0,1.0,3.0,\"urban\",\"no\",\"100000 - 150000\"],[0.0,\"No\",15.0,\"yes\",4.0,16.0,6.0,4.0,\"urban\",\"yes\",\"25000 - 50000\"],[0.0,\"No\",7.0,\"yes\",1.0,16.0,5.0,4.0,\"rural\",\"yes\",\"50000 - 75000\"],[0.0,\"No\",7.0,\"yes\",4.0,20.0,6.0,3.0,\"urban\",\"no\",\"75,000 - 100000\"],[0.0,\"No\",0.75,\"no\",2.0,14.0,4.0,3.0,\"urban\",\"yes\",\"100000 - 150000\"],[0.0,\"No\",4.0,\"yes\",2.0,18.0,5.0,3.0,\"rural\",\"no\",\"50000 - 75000\"],[0.0,\"No\",15.0,\"yes\",4.0,20.0,6.0,3.0,\"rural\",\"no\",\"200000 or more\"],[0.0,\"No\",0.75,\"yes\",2.0,14.0,4.0,3.0,\"urban\",\"no\",\"200000 or more\"],[0.0,\"No\",15.0,\"yes\",4.0,20.0,6.0,3.0,\"urban\",\"no\",\"25000 - 50000\"],[0.0,\"No\",15.0,\"yes\",5.0,17.0,1.0,1.0,\"rural\",\"yes\",\"100000 - 150000\"],[0.0,\"No\",15.0,\"yes\",4.0,14.0,1.0,2.0,\"rural\",\"yes\",\"25000 - 50000\"],[0.0,\"No\",7.0,\"yes\",4.0,14.0,5.0,3.0,\"urban\",\"yes\",\"200000 or more\"],[0.0,\"No\",4.0,\"yes\",2.0,16.0,5.0,5.0,\"urban\",\"no\",\"150000 - 200,000\"],[0.0,\"No\",4.0,\"yes\",2.0,18.0,6.0,5.0,\"urban\",\"no\",\"25000 - 50000\"],[0.0,\"No\",4.0,\"yes\",2.0,18.0,5.0,5.0,\"rural\",\"no\",\"150000 - 200,000\"],[0.0,\"No\",15.0,\"yes\",5.0,18.0,6.0,5.0,\"urban\",\"no\",\"Under 25000\"],[0.0,\"No\",15.0,\"yes\",5.0,12.0,5.0,4.0,\"urban\",\"no\",\"100000 - 150000\"],[0.0,\"No\",10.0,\"yes\",3.0,17.0,1.0,4.0,\"urban\",\"yes\",\"75,000 - 100000\"],[0.0,\"No\",1.5,\"yes\",4.0,17.0,1.0,2.0,\"urban\",\"yes\",\"100000 - 150000\"],[0.0,\"No\",15.0,\"yes\",2.0,18.0,5.0,2.0,\"urban\",\"yes\",\"200000 or more\"],[0.0,\"No\",1.5,\"no\",4.0,14.0,5.0,4.0,\"urban\",\"yes\",\"200000 or more\"],[0.0,\"No\",15.0,\"yes\",3.0,14.0,3.0,4.0,\"urban\",\"yes\",\"50000 - 75000\"],[0.0,\"No\",15.0,\"yes\",4.0,9.0,2.0,2.0,\"urban\",\"no\",\"75,000 - 100000\"],[0.0,\"No\",15.0,\"yes\",4.0,20.0,6.0,5.0,\"urban\",\"yes\",\"25000 - 50000\"],[0.0,\"No\",0.125,\"no\",4.0,14.0,4.0,5.0,\"rural\",\"no\",\"50000 - 75000\"],[0.0,\"No\",10.0,\"yes\",4.0,14.0,1.0,5.0,\"rural\",\"yes\",\"50000 - 75000\"],[0.0,\"No\",15.0,\"yes\",3.0,18.0,5.0,4.0,\"urban\",\"no\",\"50000 - 75000\"],[0.0,\"No\",1.5,\"no\",2.0,18.0,6.0,5.0,\"rural\",\"no\",\"25000 - 50000\"],[0.0,\"No\",0.125,\"yes\",2.0,18.0,5.0,2.0,\"urban\",\"yes\",\"Under 25000\"],[0.0,\"No\",4.0,\"no\",3.0,16.0,5.0,4.0,\"rural\",\"no\",\"Under 25000\"],[0.0,\"No\",10.0,\"yes\",2.0,16.0,1.0,4.0,\"rural\",\"yes\",\"75,000 - 100000\"],[0.0,\"No\",7.0,\"yes\",4.0,16.0,1.0,3.0,\"rural\",\"yes\",\"50000 - 75000\"],[0.0,\"No\",15.0,\"yes\",4.0,14.0,5.0,4.0,\"rural\",\"yes\",\"100000 - 150000\"],[0.0,\"No\",15.0,\"yes\",5.0,17.0,6.0,2.0,\"rural\",\"no\",\"75,000 - 100000\"],[0.0,\"No\",1.5,\"yes\",4.0,14.0,6.0,5.0,\"rural\",\"yes\",\"75,000 - 100000\"],[0.0,\"No\",4.0,\"yes\",3.0,17.0,5.0,3.0,\"rural\",\"no\",\"200000 or more\"],[0.0,\"No\",7.0,\"no\",4.0,18.0,5.0,5.0,\"urban\",\"yes\",\"Under 25000\"],[0.0,\"No\",0.417,\"yes\",3.0,14.0,3.0,5.0,\"urban\",\"no\",\"50000 - 75000\"],[0.0,\"No\",7.0,\"yes\",4.0,14.0,1.0,5.0,\"urban\",\"no\",\"150000 - 200,000\"],[0.0,\"No\",0.75,\"no\",3.0,16.0,5.0,5.0,\"rural\",\"yes\",\"Under 25000\"],[0.0,\"No\",4.0,\"yes\",2.0,20.0,5.0,5.0,\"rural\",\"no\",\"200000 or more\"],[0.0,\"No\",10.0,\"yes\",4.0,16.0,4.0,5.0,\"rural\",\"no\",\"100000 - 150000\"],[0.0,\"No\",15.0,\"yes\",1.0,14.0,5.0,5.0,\"urban\",\"no\",\"Under 25000\"],[0.0,\"No\",0.75,\"no\",3.0,17.0,4.0,5.0,\"rural\",\"no\",\"75,000 - 100000\"],[0.0,\"No\",7.0,\"yes\",4.0,17.0,1.0,4.0,\"rural\",\"yes\",\"75,000 - 100000\"],[0.0,\"No\",0.417,\"yes\",4.0,20.0,5.0,4.0,\"urban\",\"yes\",\"75,000 - 100000\"],[0.0,\"No\",15.0,\"yes\",4.0,20.0,5.0,4.0,\"urban\",\"yes\",\"150000 - 200,000\"],[0.0,\"No\",15.0,\"yes\",2.0,14.0,1.0,3.0,\"rural\",\"yes\",\"Under 25000\"],[0.0,\"No\",4.0,\"yes\",1.0,18.0,5.0,4.0,\"rural\",\"yes\",\"Under 25000\"],[0.0,\"No\",15.0,\"yes\",4.0,17.0,5.0,3.0,\"urban\",\"yes\",\"100000 - 150000\"],[0.0,\"No\",1.5,\"no\",2.0,14.0,4.0,5.0,\"rural\",\"no\",\"75,000 - 100000\"],[0.0,\"No\",15.0,\"yes\",4.0,14.0,6.0,2.0,\"urban\",\"no\",\"200000 or more\"],[0.0,\"No\",1.5,\"no\",4.0,17.0,5.0,5.0,\"rural\",\"yes\",\"75,000 - 100000\"],[0.0,\"No\",4.0,\"yes\",5.0,14.0,3.0,5.0,\"urban\",\"no\",\"75,000 - 100000\"],[0.0,\"No\",4.0,\"yes\",2.0,14.0,3.0,5.0,\"rural\",\"yes\",\"100000 - 150000\"],[0.0,\"No\",1.5,\"no\",3.0,16.0,6.0,5.0,\"urban\",\"no\",\"200000 or more\"],[0.0,\"No\",0.75,\"no\",2.0,18.0,3.0,3.0,\"urban\",\"yes\",\"75,000 - 100000\"],[0.0,\"No\",7.0,\"yes\",2.0,14.0,5.0,2.0,\"urban\",\"yes\",\"Under 25000\"],[0.0,\"No\",0.75,\"no\",2.0,17.0,5.0,3.0,\"rural\",\"no\",\"150000 - 200,000\"],[0.0,\"No\",15.0,\"yes\",4.0,12.0,1.0,2.0,\"urban\",\"yes\",\"50000 - 75000\"],[0.0,\"No\",1.5,\"no\",1.0,14.0,1.0,5.0,\"urban\",\"yes\",\"Under 25000\"],[0.0,\"No\",10.0,\"no\",2.0,12.0,4.0,4.0,\"rural\",\"yes\",\"200000 or more\"],[0.0,\"No\",15.0,\"yes\",4.0,18.0,5.0,3.0,\"urban\",\"no\",\"75,000 - 100000\"],[0.0,\"No\",15.0,\"yes\",3.0,12.0,3.0,3.0,\"rural\",\"no\",\"Under 25000\"],[0.0,\"No\",4.0,\"no\",2.0,18.0,5.0,5.0,\"rural\",\"yes\",\"Under 25000\"],[0.0,\"No\",7.0,\"yes\",2.0,20.0,6.0,2.0,\"urban\",\"yes\",\"100000 - 150000\"],[0.0,\"No\",0.75,\"no\",2.0,17.0,5.0,5.0,\"rural\",\"no\",\"100000 - 150000\"],[0.0,\"No\",4.0,\"no\",2.0,17.0,4.0,5.0,\"rural\",\"yes\",\"Under 25000\"],[0.0,\"No\",1.5,\"no\",5.0,20.0,6.0,5.0,\"urban\",\"no\",\"50000 - 75000\"],[0.0,\"No\",1.5,\"no\",4.0,17.0,6.0,5.0,\"urban\",\"yes\",\"25000 - 50000\"],[0.0,\"No\",4.0,\"no\",4.0,17.0,5.0,3.0,\"urban\",\"yes\",\"Under 25000\"],[0.0,\"No\",4.0,\"yes\",1.0,14.0,5.0,4.0,\"rural\",\"yes\",\"150000 - 200,000\"],[0.0,\"No\",15.0,\"yes\",5.0,20.0,4.0,5.0,\"rural\",\"no\",\"Under 25000\"],[0.0,\"No\",10.0,\"yes\",3.0,16.0,6.0,3.0,\"rural\",\"yes\",\"200000 or more\"],[0.0,\"No\",15.0,\"yes\",4.0,17.0,6.0,5.0,\"urban\",\"no\",\"25000 - 50000\"],[0.0,\"No\",15.0,\"yes\",4.0,17.0,5.0,5.0,\"rural\",\"no\",\"150000 - 200,000\"],[0.0,\"No\",1.5,\"no\",4.0,16.0,5.0,4.0,\"rural\",\"yes\",\"75,000 - 100000\"],[0.0,\"No\",10.0,\"yes\",3.0,12.0,1.0,4.0,\"rural\",\"yes\",\"50000 - 75000\"],[0.0,\"No\",7.0,\"yes\",1.0,14.0,3.0,5.0,\"urban\",\"no\",\"200000 or more\"],[0.0,\"No\",10.0,\"yes\",4.0,17.0,5.0,4.0,\"rural\",\"yes\",\"Under 25000\"],[0.0,\"No\",1.5,\"yes\",2.0,16.0,2.0,4.0,\"urban\",\"no\",\"200000 or more\"],[0.0,\"No\",15.0,\"yes\",4.0,14.0,5.0,5.0,\"rural\",\"yes\",\"200000 or more\"],[0.0,\"No\",4.0,\"yes\",3.0,14.0,4.0,5.0,\"urban\",\"yes\",\"200000 or more\"],[0.0,\"No\",15.0,\"yes\",5.0,14.0,5.0,4.0,\"urban\",\"yes\",\"75,000 - 100000\"],[0.0,\"No\",7.0,\"yes\",4.0,17.0,5.0,5.0,\"rural\",\"no\",\"200000 or more\"],[0.0,\"No\",15.0,\"yes\",4.0,18.0,6.0,5.0,\"urban\",\"yes\",\"25000 - 50000\"],[0.0,\"No\",4.0,\"no\",4.0,18.0,6.0,4.0,\"rural\",\"no\",\"25000 - 50000\"],[0.0,\"No\",0.75,\"no\",4.0,18.0,6.0,5.0,\"urban\",\"yes\",\"Under 25000\"],[0.0,\"No\",4.0,\"yes\",4.0,14.0,5.0,3.0,\"urban\",\"no\",\"50000 - 75000\"],[0.0,\"No\",0.75,\"no\",5.0,18.0,1.0,5.0,\"urban\",\"yes\",\"25000 - 50000\"],[0.0,\"No\",15.0,\"yes\",5.0,9.0,5.0,5.0,\"urban\",\"no\",\"150000 - 200,000\"],[0.0,\"No\",10.0,\"yes\",3.0,14.0,5.0,5.0,\"urban\",\"no\",\"50000 - 75000\"],[0.0,\"No\",15.0,\"yes\",4.0,16.0,4.0,4.0,\"urban\",\"yes\",\"Under 25000\"],[0.0,\"No\",7.0,\"yes\",2.0,20.0,5.0,4.0,\"rural\",\"yes\",\"150000 - 200,000\"],[0.0,\"No\",15.0,\"yes\",3.0,18.0,1.0,4.0,\"urban\",\"no\",\"100000 - 150000\"],[0.0,\"No\",15.0,\"yes\",1.0,16.0,5.0,5.0,\"rural\",\"no\",\"200000 or more\"],[0.0,\"No\",4.0,\"yes\",3.0,18.0,5.0,5.0,\"rural\",\"no\",\"75,000 - 100000\"],[0.0,\"No\",15.0,\"yes\",4.0,12.0,3.0,4.0,\"rural\",\"no\",\"150000 - 200,000\"],[0.0,\"No\",0.75,\"yes\",3.0,14.0,2.0,4.0,\"urban\",\"yes\",\"50000 - 75000\"],[0.0,\"No\",1.5,\"no\",3.0,16.0,5.0,3.0,\"urban\",\"no\",\"100000 - 150000\"],[0.0,\"No\",15.0,\"yes\",4.0,14.0,3.0,5.0,\"rural\",\"yes\",\"Under 25000\"],[0.0,\"No\",15.0,\"yes\",3.0,16.0,5.0,4.0,\"urban\",\"yes\",\"25000 - 50000\"],[0.0,\"No\",15.0,\"yes\",5.0,20.0,6.0,4.0,\"urban\",\"yes\",\"50000 - 75000\"],[0.0,\"No\",15.0,\"yes\",4.0,12.0,2.0,3.0,\"rural\",\"yes\",\"50000 - 75000\"],[0.0,\"No\",15.0,\"yes\",2.0,20.0,6.0,4.0,\"urban\",\"yes\",\"75,000 - 100000\"],[0.0,\"No\",7.0,\"yes\",4.0,17.0,5.0,5.0,\"urban\",\"yes\",\"25000 - 50000\"],[0.0,\"No\",7.0,\"yes\",4.0,17.0,1.0,4.0,\"urban\",\"no\",\"200000 or more\"],[0.0,\"No\",1.5,\"no\",1.0,18.0,6.0,5.0,\"rural\",\"yes\",\"25000 - 50000\"],[0.0,\"No\",4.0,\"yes\",3.0,9.0,1.0,4.0,\"urban\",\"yes\",\"100000 - 150000\"],[0.0,\"No\",1.5,\"no\",2.0,14.0,1.0,5.0,\"rural\",\"no\",\"75,000 - 100000\"],[0.0,\"No\",15.0,\"yes\",2.0,20.0,6.0,4.0,\"urban\",\"no\",\"100000 - 150000\"],[0.0,\"No\",15.0,\"yes\",4.0,9.0,2.0,4.0,\"rural\",\"yes\",\"Under 25000\"],[0.0,\"No\",7.0,\"yes\",2.0,18.0,1.0,5.0,\"urban\",\"no\",\"Under 25000\"],[0.0,\"No\",4.0,\"yes\",3.0,14.0,1.0,5.0,\"rural\",\"no\",\"25000 - 50000\"],[0.0,\"No\",15.0,\"yes\",4.0,14.0,5.0,3.0,\"rural\",\"yes\",\"200000 or more\"],[0.0,\"No\",7.0,\"yes\",1.0,18.0,6.0,4.0,\"urban\",\"yes\",\"200000 or more\"],[0.0,\"No\",1.5,\"no\",2.0,14.0,5.0,5.0,\"urban\",\"no\",\"50000 - 75000\"],[0.0,\"No\",1.5,\"yes\",3.0,12.0,1.0,3.0,\"urban\",\"no\",\"100000 - 150000\"],[0.0,\"No\",15.0,\"yes\",2.0,14.0,5.0,5.0,\"rural\",\"yes\",\"200000 or more\"],[0.0,\"No\",15.0,\"yes\",2.0,14.0,1.0,1.0,\"rural\",\"yes\",\"50000 - 75000\"],[0.0,\"No\",10.0,\"yes\",2.0,14.0,5.0,5.0,\"rural\",\"yes\",\"75,000 - 100000\"],[0.0,\"No\",15.0,\"yes\",4.0,20.0,4.0,5.0,\"rural\",\"no\",\"50000 - 75000\"],[0.0,\"No\",4.0,\"yes\",3.0,18.0,4.0,5.0,\"urban\",\"no\",\"25000 - 50000\"],[0.0,\"No\",15.0,\"yes\",4.0,20.0,6.0,5.0,\"rural\",\"yes\",\"Under 25000\"],[0.0,\"No\",1.5,\"no\",3.0,18.0,5.0,5.0,\"rural\",\"no\",\"Under 25000\"],[0.0,\"No\",0.125,\"no\",2.0,16.0,6.0,3.0,\"urban\",\"yes\",\"25000 - 50000\"],[0.0,\"No\",10.0,\"yes\",2.0,20.0,6.0,3.0,\"rural\",\"yes\",\"Under 25000\"],[0.0,\"No\",4.0,\"no\",4.0,18.0,5.0,4.0,\"urban\",\"no\",\"200000 or more\"],[0.0,\"No\",7.0,\"yes\",2.0,12.0,5.0,1.0,\"rural\",\"yes\",\"75,000 - 100000\"],[0.0,\"No\",4.0,\"yes\",5.0,18.0,6.0,3.0,\"rural\",\"yes\",\"75,000 - 100000\"],[0.0,\"No\",15.0,\"yes\",2.0,17.0,5.0,5.0,\"rural\",\"yes\",\"50000 - 75000\"],[0.0,\"No\",15.0,\"no\",4.0,20.0,6.0,4.0,\"urban\",\"no\",\"50000 - 75000\"],[0.0,\"No\",1.5,\"no\",1.0,18.0,5.0,5.0,\"rural\",\"yes\",\"25000 - 50000\"],[0.0,\"No\",15.0,\"yes\",4.0,20.0,6.0,4.0,\"rural\",\"no\",\"Under 25000\"],[0.0,\"No\",15.0,\"yes\",4.0,18.0,1.0,4.0,\"rural\",\"no\",\"50000 - 75000\"],[0.0,\"No\",7.0,\"yes\",4.0,17.0,5.0,4.0,\"urban\",\"yes\",\"50000 - 75000\"],[0.0,\"No\",15.0,\"yes\",3.0,14.0,1.0,3.0,\"rural\",\"no\",\"25000 - 50000\"],[0.0,\"No\",7.0,\"yes\",3.0,16.0,1.0,4.0,\"urban\",\"no\",\"25000 - 50000\"],[0.0,\"No\",1.5,\"no\",3.0,16.0,4.0,2.0,\"urban\",\"yes\",\"200000 or more\"],[0.0,\"No\",1.5,\"no\",3.0,16.0,3.0,5.0,\"urban\",\"yes\",\"50000 - 75000\"],[0.0,\"No\",4.0,\"yes\",3.0,16.0,4.0,2.0,\"urban\",\"no\",\"150000 - 200,000\"],[0.0,\"No\",7.0,\"yes\",3.0,12.0,1.0,2.0,\"urban\",\"no\",\"75,000 - 100000\"],[0.0,\"No\",15.0,\"yes\",2.0,18.0,5.0,4.0,\"urban\",\"yes\",\"75,000 - 100000\"],[0.0,\"No\",7.0,\"yes\",3.0,14.0,4.0,4.0,\"rural\",\"yes\",\"150000 - 200,000\"],[0.0,\"No\",1.5,\"no\",2.0,16.0,5.0,5.0,\"urban\",\"yes\",\"25000 - 50000\"],[0.0,\"No\",15.0,\"yes\",5.0,20.0,5.0,4.0,\"rural\",\"no\",\"100000 - 150000\"],[0.0,\"No\",1.5,\"no\",4.0,16.0,5.0,3.0,\"urban\",\"no\",\"50000 - 75000\"],[0.0,\"No\",10.0,\"yes\",4.0,16.0,1.0,5.0,\"rural\",\"no\",\"Under 25000\"],[0.0,\"No\",4.0,\"no\",2.0,17.0,5.0,3.0,\"rural\",\"yes\",\"25000 - 50000\"],[0.0,\"No\",0.417,\"no\",4.0,14.0,5.0,5.0,\"urban\",\"yes\",\"75,000 - 100000\"],[0.0,\"No\",4.0,\"no\",2.0,18.0,5.0,5.0,\"rural\",\"yes\",\"75,000 - 100000\"],[0.0,\"No\",15.0,\"yes\",4.0,18.0,5.0,3.0,\"urban\",\"no\",\"50000 - 75000\"],[0.0,\"No\",10.0,\"yes\",5.0,20.0,7.0,4.0,\"urban\",\"yes\",\"50000 - 75000\"],[0.0,\"No\",7.0,\"yes\",2.0,14.0,4.0,2.0,\"urban\",\"yes\",\"50000 - 75000\"],[0.0,\"No\",4.0,\"yes\",2.0,16.0,5.0,5.0,\"urban\",\"yes\",\"25000 - 50000\"],[0.0,\"No\",4.0,\"yes\",2.0,16.0,6.0,4.0,\"rural\",\"yes\",\"25000 - 50000\"],[0.0,\"No\",1.5,\"no\",3.0,18.0,4.0,5.0,\"rural\",\"yes\",\"25000 - 50000\"],[0.0,\"No\",4.0,\"yes\",4.0,14.0,3.0,4.0,\"rural\",\"yes\",\"150000 - 200,000\"],[0.0,\"No\",10.0,\"yes\",4.0,20.0,4.0,5.0,\"urban\",\"no\",\"Under 25000\"],[0.0,\"No\",0.75,\"no\",5.0,14.0,3.0,3.0,\"urban\",\"no\",\"75,000 - 100000\"],[0.0,\"No\",15.0,\"yes\",4.0,17.0,5.0,3.0,\"urban\",\"no\",\"100000 - 150000\"],[0.0,\"No\",4.0,\"no\",3.0,14.0,4.0,5.0,\"urban\",\"no\",\"50000 - 75000\"],[0.0,\"No\",1.5,\"no\",2.0,17.0,3.0,2.0,\"rural\",\"yes\",\"25000 - 50000\"],[0.0,\"No\",7.0,\"yes\",4.0,14.0,1.0,5.0,\"urban\",\"yes\",\"150000 - 200,000\"],[0.0,\"No\",15.0,\"yes\",5.0,14.0,6.0,5.0,\"rural\",\"no\",\"50000 - 75000\"],[0.0,\"No\",4.0,\"yes\",1.0,16.0,4.0,4.0,\"rural\",\"no\",\"25000 - 50000\"],[0.0,\"No\",15.0,\"yes\",5.0,14.0,1.0,3.0,\"urban\",\"no\",\"50000 - 75000\"],[0.0,\"No\",4.0,\"yes\",4.0,18.0,5.0,5.0,\"rural\",\"no\",\"200000 or more\"],[0.0,\"No\",4.0,\"yes\",2.0,14.0,1.0,5.0,\"rural\",\"yes\",\"Under 25000\"],[0.0,\"No\",15.0,\"yes\",2.0,14.0,7.0,4.0,\"urban\",\"yes\",\"75,000 - 100000\"],[0.0,\"No\",1.5,\"no\",2.0,16.0,1.0,4.0,\"urban\",\"yes\",\"100000 - 150000\"],[0.0,\"No\",15.0,\"yes\",4.0,12.0,2.0,4.0,\"rural\",\"yes\",\"25000 - 50000\"],[0.0,\"No\",0.417,\"no\",3.0,17.0,1.0,5.0,\"rural\",\"yes\",\"50000 - 75000\"],[0.0,\"No\",1.5,\"no\",2.0,16.0,5.0,5.0,\"rural\",\"yes\",\"75,000 - 100000\"],[0.0,\"No\",4.0,\"yes\",4.0,20.0,6.0,4.0,\"rural\",\"yes\",\"50000 - 75000\"],[0.0,\"No\",15.0,\"yes\",4.0,14.0,1.0,5.0,\"urban\",\"no\",\"200000 or more\"],[0.0,\"No\",1.5,\"no\",2.0,16.0,3.0,5.0,\"rural\",\"no\",\"75,000 - 100000\"],[0.0,\"No\",4.0,\"no\",1.0,20.0,6.0,5.0,\"rural\",\"yes\",\"50000 - 75000\"],[0.0,\"No\",15.0,\"yes\",3.0,20.0,6.0,4.0,\"urban\",\"yes\",\"50000 - 75000\"],[0.0,\"No\",10.0,\"no\",2.0,16.0,6.0,5.0,\"urban\",\"no\",\"150000 - 200,000\"],[0.0,\"No\",10.0,\"yes\",5.0,14.0,5.0,5.0,\"rural\",\"yes\",\"100000 - 150000\"],[0.0,\"No\",1.5,\"yes\",4.0,18.0,5.0,3.0,\"rural\",\"no\",\"50000 - 75000\"],[0.0,\"No\",1.5,\"no\",2.0,18.0,4.0,4.0,\"rural\",\"yes\",\"200000 or more\"],[0.0,\"No\",10.0,\"yes\",4.0,14.0,1.0,4.0,\"rural\",\"no\",\"50000 - 75000\"],[0.0,\"No\",15.0,\"yes\",4.0,18.0,5.0,4.0,\"rural\",\"no\",\"50000 - 75000\"],[0.0,\"No\",10.0,\"yes\",5.0,12.0,1.0,5.0,\"rural\",\"yes\",\"100000 - 150000\"],[0.0,\"No\",4.0,\"yes\",3.0,16.0,4.0,5.0,\"urban\",\"yes\",\"100000 - 150000\"],[0.0,\"No\",15.0,\"yes\",4.0,12.0,4.0,2.0,\"rural\",\"no\",\"50000 - 75000\"],[0.0,\"No\",0.75,\"no\",4.0,16.0,5.0,5.0,\"urban\",\"no\",\"50000 - 75000\"],[0.0,\"No\",15.0,\"yes\",4.0,16.0,1.0,5.0,\"urban\",\"no\",\"100000 - 150000\"],[0.0,\"No\",15.0,\"yes\",3.0,16.0,1.0,5.0,\"rural\",\"yes\",\"200000 or more\"],[0.0,\"No\",10.0,\"yes\",2.0,16.0,1.0,5.0,\"rural\",\"no\",\"50000 - 75000\"],[0.0,\"No\",7.0,\"no\",2.0,20.0,6.0,5.0,\"rural\",\"no\",\"25000 - 50000\"],[0.0,\"No\",15.0,\"yes\",2.0,14.0,1.0,3.0,\"rural\",\"yes\",\"Under 25000\"],[0.0,\"No\",1.5,\"yes\",2.0,17.0,4.0,4.0,\"rural\",\"yes\",\"75,000 - 100000\"],[0.0,\"No\",0.75,\"yes\",2.0,14.0,1.0,5.0,\"rural\",\"no\",\"100000 - 150000\"],[0.0,\"No\",4.0,\"yes\",4.0,14.0,2.0,4.0,\"urban\",\"yes\",\"150000 - 200,000\"],[0.0,\"No\",0.125,\"no\",4.0,17.0,6.0,4.0,\"urban\",\"yes\",\"25000 - 50000\"],[0.0,\"No\",1.5,\"yes\",4.0,18.0,6.0,5.0,\"rural\",\"yes\",\"150000 - 200,000\"],[0.0,\"No\",7.0,\"yes\",3.0,16.0,6.0,3.0,\"rural\",\"no\",\"25000 - 50000\"],[0.0,\"No\",15.0,\"yes\",4.0,14.0,1.0,3.0,\"rural\",\"no\",\"25000 - 50000\"],[0.0,\"No\",1.5,\"no\",5.0,20.0,5.0,2.0,\"urban\",\"no\",\"50000 - 75000\"],[0.0,\"No\",1.5,\"no\",2.0,16.0,5.0,5.0,\"rural\",\"yes\",\"100000 - 150000\"],[0.0,\"No\",1.5,\"no\",3.0,17.0,5.0,5.0,\"urban\",\"no\",\"Under 25000\"],[0.0,\"No\",0.125,\"no\",5.0,16.0,4.0,4.0,\"rural\",\"no\",\"200000 or more\"],[0.0,\"No\",4.0,\"yes\",4.0,16.0,1.0,5.0,\"rural\",\"no\",\"200000 or more\"],[0.0,\"No\",4.0,\"yes\",4.0,12.0,1.0,5.0,\"urban\",\"yes\",\"50000 - 75000\"],[0.0,\"No\",15.0,\"yes\",2.0,14.0,5.0,5.0,\"urban\",\"no\",\"75,000 - 100000\"],[0.0,\"No\",15.0,\"yes\",3.0,14.0,5.0,3.0,\"rural\",\"no\",\"25000 - 50000\"],[0.0,\"No\",7.0,\"yes\",2.0,16.0,5.0,5.0,\"rural\",\"yes\",\"Under 25000\"],[0.0,\"No\",0.75,\"no\",4.0,16.0,6.0,4.0,\"rural\",\"no\",\"75,000 - 100000\"],[0.0,\"No\",0.125,\"no\",3.0,20.0,6.0,5.0,\"rural\",\"no\",\"75,000 - 100000\"],[0.0,\"No\",10.0,\"yes\",3.0,20.0,6.0,5.0,\"urban\",\"no\",\"50000 - 75000\"],[0.0,\"No\",0.417,\"no\",5.0,14.0,4.0,5.0,\"rural\",\"yes\",\"200000 or more\"],[0.0,\"No\",15.0,\"yes\",5.0,14.0,1.0,4.0,\"rural\",\"yes\",\"100000 - 150000\"],[0.0,\"No\",10.0,\"yes\",3.0,14.0,1.0,5.0,\"rural\",\"yes\",\"75,000 - 100000\"],[0.0,\"No\",15.0,\"yes\",4.0,17.0,5.0,5.0,\"rural\",\"yes\",\"Under 25000\"],[0.0,\"No\",4.0,\"yes\",3.0,20.0,6.0,5.0,\"rural\",\"no\",\"150000 - 200,000\"],[0.0,\"No\",7.0,\"yes\",4.0,17.0,1.0,5.0,\"rural\",\"no\",\"50000 - 75000\"],[0.0,\"No\",10.0,\"yes\",4.0,16.0,1.0,5.0,\"urban\",\"yes\",\"75,000 - 100000\"],[0.0,\"No\",10.0,\"yes\",1.0,18.0,1.0,4.0,\"rural\",\"no\",\"150000 - 200,000\"],[0.0,\"No\",4.0,\"no\",3.0,14.0,1.0,4.0,\"urban\",\"no\",\"150000 - 200,000\"],[0.0,\"No\",7.0,\"yes\",4.0,14.0,3.0,2.0,\"urban\",\"no\",\"200000 or more\"],[0.0,\"No\",15.0,\"yes\",5.0,18.0,5.0,2.0,\"rural\",\"yes\",\"25000 - 50000\"],[0.0,\"No\",7.0,\"yes\",2.0,18.0,5.0,5.0,\"rural\",\"no\",\"25000 - 50000\"],[0.0,\"No\",1.5,\"no\",4.0,17.0,1.0,3.0,\"urban\",\"yes\",\"25000 - 50000\"],[0.0,\"No\",1.5,\"no\",4.0,14.0,5.0,5.0,\"rural\",\"yes\",\"50000 - 75000\"],[0.0,\"No\",1.5,\"yes\",4.0,14.0,5.0,4.0,\"urban\",\"yes\",\"Under 25000\"],[0.0,\"No\",7.0,\"yes\",3.0,16.0,1.0,5.0,\"urban\",\"yes\",\"200000 or more\"],[0.0,\"No\",15.0,\"yes\",3.0,16.0,5.0,4.0,\"rural\",\"yes\",\"75,000 - 100000\"],[0.0,\"No\",0.75,\"no\",3.0,16.0,1.0,5.0,\"urban\",\"no\",\"150000 - 200,000\"],[0.0,\"No\",1.5,\"yes\",2.0,14.0,5.0,5.0,\"rural\",\"no\",\"100000 - 150000\"],[0.0,\"No\",4.0,\"yes\",1.0,16.0,5.0,5.0,\"rural\",\"yes\",\"200000 or more\"],[0.0,\"No\",15.0,\"yes\",4.0,16.0,5.0,5.0,\"urban\",\"yes\",\"Under 25000\"],[0.0,\"No\",10.0,\"yes\",4.0,20.0,6.0,5.0,\"urban\",\"no\",\"75,000 - 100000\"],[0.0,\"No\",15.0,\"yes\",4.0,16.0,6.0,4.0,\"urban\",\"no\",\"Under 25000\"],[0.0,\"No\",7.0,\"yes\",2.0,14.0,1.0,2.0,\"urban\",\"yes\",\"100000 - 150000\"],[0.0,\"No\",1.5,\"no\",4.0,14.0,4.0,5.0,\"urban\",\"yes\",\"100000 - 150000\"],[0.0,\"No\",10.0,\"yes\",2.0,16.0,5.0,4.0,\"urban\",\"yes\",\"100000 - 150000\"],[0.0,\"No\",0.75,\"no\",2.0,16.0,5.0,4.0,\"rural\",\"no\",\"25000 - 50000\"],[0.0,\"No\",1.5,\"no\",2.0,16.0,5.0,5.0,\"rural\",\"no\",\"25000 - 50000\"],[0.0,\"No\",15.0,\"yes\",3.0,18.0,6.0,4.0,\"urban\",\"no\",\"Under 25000\"],[0.0,\"No\",7.0,\"yes\",5.0,14.0,4.0,5.0,\"rural\",\"yes\",\"25000 - 50000\"],[0.0,\"No\",15.0,\"yes\",4.0,16.0,4.0,4.0,\"urban\",\"no\",\"25000 - 50000\"],[0.0,\"No\",15.0,\"yes\",3.0,18.0,5.0,2.0,\"rural\",\"yes\",\"150000 - 200,000\"],[0.0,\"No\",15.0,\"yes\",3.0,18.0,6.0,2.0,\"urban\",\"yes\",\"100000 - 150000\"],[0.0,\"No\",7.0,\"yes\",2.0,14.0,1.0,2.0,\"rural\",\"no\",\"200000 or more\"],[0.0,\"No\",4.0,\"no\",5.0,12.0,4.0,5.0,\"urban\",\"yes\",\"50000 - 75000\"],[0.0,\"No\",1.5,\"no\",1.0,16.0,6.0,5.0,\"urban\",\"no\",\"150000 - 200,000\"],[0.0,\"No\",0.75,\"no\",1.0,14.0,4.0,5.0,\"rural\",\"no\",\"Under 25000\"],[0.0,\"No\",15.0,\"yes\",4.0,12.0,1.0,5.0,\"rural\",\"no\",\"50000 - 75000\"],[0.0,\"No\",1.5,\"no\",2.0,18.0,5.0,3.0,\"rural\",\"no\",\"150000 - 200,000\"],[0.0,\"No\",4.0,\"yes\",5.0,17.0,2.0,5.0,\"urban\",\"yes\",\"50000 - 75000\"],[0.0,\"No\",4.0,\"yes\",4.0,12.0,1.0,5.0,\"rural\",\"yes\",\"75,000 - 100000\"],[0.0,\"No\",15.0,\"yes\",5.0,18.0,5.0,4.0,\"rural\",\"yes\",\"200000 or more\"],[0.0,\"No\",1.5,\"no\",2.0,20.0,7.0,3.0,\"rural\",\"no\",\"200000 or more\"],[0.0,\"No\",15.0,\"no\",4.0,9.0,3.0,1.0,\"urban\",\"yes\",\"75,000 - 100000\"],[0.0,\"No\",7.0,\"no\",4.0,18.0,5.0,5.0,\"rural\",\"yes\",\"50000 - 75000\"],[0.0,\"No\",15.0,\"yes\",2.0,17.0,5.0,4.0,\"rural\",\"no\",\"25000 - 50000\"],[0.0,\"No\",15.0,\"yes\",4.0,17.0,6.0,5.0,\"rural\",\"no\",\"75,000 - 100000\"],[0.0,\"No\",7.0,\"no\",2.0,17.0,5.0,4.0,\"rural\",\"no\",\"150000 - 200,000\"],[0.0,\"No\",7.0,\"yes\",4.0,14.0,5.0,5.0,\"urban\",\"no\",\"Under 25000\"],[0.0,\"No\",4.0,\"no\",2.0,14.0,3.0,3.0,\"urban\",\"yes\",\"25000 - 50000\"],[0.0,\"No\",7.0,\"yes\",2.0,20.0,6.0,5.0,\"urban\",\"yes\",\"25000 - 50000\"],[0.0,\"No\",7.0,\"no\",4.0,12.0,4.0,3.0,\"urban\",\"yes\",\"25000 - 50000\"],[0.0,\"No\",10.0,\"yes\",4.0,18.0,6.0,4.0,\"rural\",\"no\",\"150000 - 200,000\"],[0.0,\"No\",1.5,\"no\",3.0,14.0,1.0,5.0,\"rural\",\"yes\",\"200000 or more\"],[0.0,\"No\",4.0,\"yes\",2.0,14.0,1.0,3.0,\"rural\",\"no\",\"100000 - 150000\"],[0.0,\"No\",15.0,\"no\",4.0,20.0,6.0,5.0,\"urban\",\"no\",\"Under 25000\"],[0.0,\"No\",15.0,\"yes\",4.0,14.0,4.0,3.0,\"rural\",\"yes\",\"150000 - 200,000\"],[0.0,\"No\",7.0,\"yes\",3.0,18.0,5.0,5.0,\"rural\",\"yes\",\"75,000 - 100000\"],[0.0,\"No\",4.0,\"yes\",4.0,16.0,5.0,5.0,\"rural\",\"yes\",\"100000 - 150000\"],[0.0,\"No\",4.0,\"yes\",2.0,16.0,1.0,4.0,\"urban\",\"yes\",\"50000 - 75000\"],[0.0,\"No\",15.0,\"yes\",2.0,14.0,5.0,1.0,\"rural\",\"yes\",\"50000 - 75000\"],[0.0,\"No\",1.5,\"no\",5.0,14.0,1.0,4.0,\"urban\",\"no\",\"75,000 - 100000\"],[0.0,\"No\",7.0,\"yes\",2.0,20.0,5.0,4.0,\"rural\",\"yes\",\"200000 or more\"],[0.0,\"No\",4.0,\"yes\",4.0,14.0,5.0,5.0,\"rural\",\"yes\",\"75,000 - 100000\"],[0.0,\"No\",0.125,\"no\",1.0,16.0,3.0,5.0,\"urban\",\"no\",\"100000 - 150000\"],[0.0,\"No\",7.0,\"yes\",4.0,14.0,1.0,4.0,\"rural\",\"no\",\"100000 - 150000\"],[0.0,\"No\",15.0,\"yes\",5.0,16.0,5.0,3.0,\"rural\",\"no\",\"150000 - 200,000\"],[0.0,\"No\",10.0,\"yes\",4.0,18.0,5.0,4.0,\"urban\",\"no\",\"100000 - 150000\"],[0.0,\"No\",15.0,\"yes\",2.0,14.0,3.0,4.0,\"rural\",\"yes\",\"200000 or more\"],[0.0,\"No\",1.5,\"no\",3.0,17.0,5.0,5.0,\"rural\",\"no\",\"200000 or more\"],[0.0,\"No\",4.0,\"yes\",4.0,17.0,4.0,4.0,\"rural\",\"yes\",\"25000 - 50000\"],[0.0,\"No\",15.0,\"yes\",5.0,14.0,1.0,5.0,\"urban\",\"yes\",\"100000 - 150000\"],[0.0,\"No\",7.0,\"yes\",2.0,12.0,1.0,2.0,\"urban\",\"no\",\"50000 - 75000\"],[0.0,\"No\",7.0,\"yes\",3.0,12.0,1.0,4.0,\"urban\",\"yes\",\"50000 - 75000\"],[0.0,\"No\",15.0,\"yes\",2.0,14.0,1.0,4.0,\"rural\",\"no\",\"200000 or more\"],[0.0,\"No\",15.0,\"yes\",4.0,14.0,5.0,4.0,\"rural\",\"no\",\"75,000 - 100000\"],[0.0,\"No\",7.0,\"yes\",4.0,14.0,3.0,3.0,\"rural\",\"no\",\"200000 or more\"],[0.0,\"No\",7.0,\"yes\",2.0,20.0,6.0,2.0,\"rural\",\"yes\",\"150000 - 200,000\"],[0.0,\"No\",15.0,\"yes\",3.0,12.0,3.0,3.0,\"rural\",\"yes\",\"Under 25000\"],[0.0,\"No\",4.0,\"yes\",3.0,16.0,3.0,5.0,\"urban\",\"yes\",\"75,000 - 100000\"],[0.0,\"No\",7.0,\"yes\",3.0,14.0,1.0,4.0,\"urban\",\"yes\",\"75,000 - 100000\"],[0.0,\"No\",1.5,\"no\",2.0,14.0,4.0,5.0,\"rural\",\"no\",\"75,000 - 100000\"],[0.0,\"No\",4.0,\"yes\",4.0,14.0,1.0,4.0,\"rural\",\"yes\",\"Under 25000\"],[0.0,\"No\",4.0,\"no\",4.0,14.0,5.0,5.0,\"urban\",\"yes\",\"75,000 - 100000\"],[0.0,\"No\",1.5,\"no\",2.0,16.0,4.0,5.0,\"rural\",\"yes\",\"150000 - 200,000\"],[0.0,\"No\",15.0,\"no\",4.0,14.0,5.0,4.0,\"rural\",\"no\",\"25000 - 50000\"],[0.0,\"No\",10.0,\"yes\",2.0,18.0,6.0,2.0,\"rural\",\"no\",\"150000 - 200,000\"],[0.0,\"No\",15.0,\"yes\",3.0,17.0,5.0,4.0,\"rural\",\"no\",\"75,000 - 100000\"],[0.0,\"No\",4.0,\"yes\",2.0,16.0,1.0,4.0,\"rural\",\"yes\",\"50000 - 75000\"],[0.0,\"No\",2.0,\"no\",2.0,17.0,4.0,5.0,\"urban\",\"no\",\"75,000 - 100000\"],[7.0,\"No\",5.0,\"yes\",2.0,13.0,4.0,3.0,\"urban\",\"yes\",\"25000 - 50000\"],[0.0,\"No\",0.0,\"yes\",1.0,14.0,4.0,4.0,\"rural\",\"yes\",\"Under 25000\"],[3.0,\"No\",8.0,\"no\",2.0,13.0,5.0,5.0,\"urban\",\"yes\",\"75,000 - 100000\"],[2.0,\"No\",2.0,\"yes\",3.0,18.0,3.0,2.0,\"urban\",\"no\",\"200000 or more\"],[2.0,\"No\",12.0,\"yes\",4.0,14.0,3.0,4.0,\"rural\",\"no\",\"50000 - 75000\"],[2.0,\"No\",3.0,\"yes\",2.0,16.0,3.0,2.0,\"rural\",\"yes\",\"Under 25000\"],[3.0,\"No\",9.0,\"no\",2.0,17.0,3.0,2.0,\"rural\",\"yes\",\"100000 - 150000\"],[0.0,\"No\",13.0,\"yes\",2.0,17.0,4.0,3.0,\"rural\",\"yes\",\"100000 - 150000\"],[1.0,\"No\",2.0,\"no\",2.0,12.0,5.0,3.0,\"rural\",\"no\",\"100000 - 150000\"],[5.0,\"No\",19.0,\"yes\",3.0,16.0,1.0,2.0,\"rural\",\"no\",\"25000 - 50000\"],[0.0,\"No\",6.0,\"no\",2.0,18.0,3.0,2.0,\"rural\",\"no\",\"75,000 - 100000\"],[3.0,\"No\",5.0,\"yes\",2.0,17.0,3.0,4.0,\"rural\",\"no\",\"25000 - 50000\"],[3.0,\"No\",13.0,\"yes\",0.0,12.0,6.0,5.0,\"urban\",\"yes\",\"75,000 - 100000\"],[8.0,\"No\",16.0,\"yes\",2.0,14.0,3.0,3.0,\"rural\",\"no\",\"25000 - 50000\"],[7.0,\"No\",10.0,\"no\",2.0,20.0,6.0,2.0,\"rural\",\"yes\",\"150000 - 200,000\"],[3.0,\"No\",8.0,\"no\",2.0,17.0,6.0,5.0,\"urban\",\"yes\",\"150000 - 200,000\"],[1.0,\"No\",3.0,\"yes\",1.0,17.0,4.0,3.0,\"rural\",\"yes\",\"50000 - 75000\"],[1.0,\"No\",15.0,\"no\",2.0,14.0,5.0,4.0,\"urban\",\"yes\",\"50000 - 75000\"],[4.0,\"No\",11.0,\"yes\",1.0,16.0,4.0,2.0,\"urban\",\"yes\",\"150000 - 200,000\"],[0.0,\"No\",7.0,\"yes\",1.0,18.0,4.0,5.0,\"rural\",\"yes\",\"100000 - 150000\"],[4.0,\"No\",6.0,\"yes\",2.0,15.0,7.0,4.0,\"rural\",\"yes\",\"Under 25000\"],[2.0,\"No\",7.0,\"yes\",1.0,19.0,4.0,2.0,\"rural\",\"yes\",\"75,000 - 100000\"],[2.0,\"No\",1.0,\"yes\",2.0,15.0,1.0,3.0,\"urban\",\"yes\",\"Under 25000\"],[8.0,\"No\",12.0,\"yes\",2.0,20.0,4.0,5.0,\"rural\",\"yes\",\"200000 or more\"],[2.0,\"No\",2.0,\"no\",1.0,20.0,5.0,3.0,\"urban\",\"no\",\"25000 - 50000\"],[3.0,\"No\",10.0,\"yes\",3.0,10.0,0.0,4.0,\"urban\",\"no\",\"Under 25000\"],[8.0,\"No\",18.0,\"yes\",2.0,14.0,6.0,4.0,\"urban\",\"no\",\"150000 - 200,000\"],[5.0,\"No\",11.0,\"yes\",2.0,11.0,2.0,3.0,\"rural\",\"no\",\"200000 or more\"],[1.0,\"No\",9.0,\"no\",3.0,16.0,2.0,4.0,\"urban\",\"yes\",\"100000 - 150000\"],[0.0,\"No\",1.0,\"yes\",2.0,18.0,3.0,2.0,\"rural\",\"yes\",\"75,000 - 100000\"],[1.0,\"No\",5.0,\"yes\",3.0,15.0,5.0,3.0,\"rural\",\"yes\",\"Under 25000\"],[6.0,\"No\",5.0,\"yes\",2.0,14.0,1.0,4.0,\"rural\",\"no\",\"Under 25000\"],[4.0,\"No\",5.0,\"yes\",2.0,18.0,3.0,3.0,\"urban\",\"no\",\"25000 - 50000\"],[2.0,\"No\",3.0,\"yes\",0.0,14.0,5.0,4.0,\"urban\",\"no\",\"25000 - 50000\"],[0.0,\"No\",11.0,\"no\",1.0,15.0,4.0,3.0,\"urban\",\"no\",\"Under 25000\"],[0.0,\"No\",12.0,\"yes\",0.0,13.0,2.0,3.0,\"rural\",\"no\",\"Under 25000\"],[3.0,\"No\",13.0,\"yes\",3.0,14.0,3.0,5.0,\"urban\",\"yes\",\"150000 - 200,000\"],[5.0,\"No\",5.0,\"no\",3.0,14.0,8.0,4.0,\"urban\",\"yes\",\"50000 - 75000\"],[5.0,\"No\",11.0,\"no\",2.0,16.0,3.0,2.0,\"urban\",\"no\",\"150000 - 200,000\"],[1.0,\"No\",13.0,\"yes\",2.0,17.0,1.0,3.0,\"urban\",\"no\",\"50000 - 75000\"],[4.0,\"No\",17.0,\"yes\",2.0,15.0,3.0,2.0,\"urban\",\"no\",\"25000 - 50000\"],[4.0,\"No\",8.0,\"yes\",3.0,17.0,4.0,4.0,\"rural\",\"no\",\"150000 - 200,000\"],[2.0,\"No\",15.0,\"yes\",4.0,12.0,3.0,1.0,\"urban\",\"no\",\"100000 - 150000\"],[1.0,\"No\",12.0,\"yes\",3.0,15.0,3.0,5.0,\"rural\",\"no\",\"200000 or more\"],[1.0,\"No\",11.0,\"yes\",1.0,15.0,6.0,4.0,\"urban\",\"no\",\"150000 - 200,000\"],[0.0,\"No\",7.0,\"yes\",3.0,16.0,7.0,2.0,\"urban\",\"yes\",\"100000 - 150000\"],[3.0,\"No\",9.0,\"yes\",2.0,20.0,3.0,2.0,\"urban\",\"no\",\"75,000 - 100000\"],[1.0,\"No\",12.0,\"yes\",3.0,20.0,6.0,3.0,\"rural\",\"no\",\"150000 - 200,000\"],[5.0,\"No\",7.0,\"yes\",4.0,12.0,6.0,4.0,\"urban\",\"no\",\"200000 or more\"],[2.0,\"No\",11.0,\"yes\",3.0,14.0,7.0,3.0,\"urban\",\"no\",\"150000 - 200,000\"],[4.0,\"No\",13.0,\"yes\",3.0,16.0,0.0,5.0,\"urban\",\"no\",\"50000 - 75000\"],[1.0,\"No\",0.0,\"yes\",3.0,20.0,5.0,4.0,\"rural\",\"yes\",\"200000 or more\"],[3.0,\"No\",5.0,\"yes\",2.0,14.0,3.0,4.0,\"rural\",\"no\",\"25000 - 50000\"],[0.0,\"No\",0.0,\"yes\",4.0,19.0,4.0,3.0,\"urban\",\"no\",\"Under 25000\"],[3.0,\"No\",4.0,\"yes\",3.0,16.0,5.0,2.0,\"urban\",\"yes\",\"100000 - 150000\"],[0.0,\"No\",8.0,\"yes\",2.0,16.0,4.0,3.0,\"urban\",\"no\",\"200000 or more\"],[4.0,\"No\",4.0,\"no\",3.0,12.0,4.0,2.0,\"rural\",\"no\",\"25000 - 50000\"],[2.0,\"No\",10.0,\"yes\",3.0,20.0,4.0,5.0,\"urban\",\"no\",\"75,000 - 100000\"],[3.0,\"No\",9.0,\"yes\",2.0,14.0,4.0,5.0,\"urban\",\"yes\",\"Under 25000\"],[4.0,\"No\",4.0,\"yes\",4.0,16.0,2.0,2.0,\"urban\",\"no\",\"25000 - 50000\"],[6.0,\"No\",18.0,\"no\",0.0,12.0,5.0,3.0,\"rural\",\"no\",\"75,000 - 100000\"],[1.0,\"No\",12.0,\"yes\",4.0,14.0,4.0,5.0,\"urban\",\"no\",\"25000 - 50000\"],[0.0,\"No\",14.0,\"yes\",1.0,17.0,3.0,2.0,\"rural\",\"yes\",\"Under 25000\"],[1.0,\"No\",7.0,\"yes\",4.0,16.0,5.0,3.0,\"rural\",\"yes\",\"100000 - 150000\"],[1.0,\"No\",2.0,\"yes\",1.0,18.0,4.0,4.0,\"rural\",\"yes\",\"Under 25000\"],[8.0,\"No\",10.0,\"yes\",2.0,20.0,3.0,6.0,\"urban\",\"no\",\"100000 - 150000\"],[2.0,\"No\",8.0,\"yes\",1.0,13.0,6.0,2.0,\"urban\",\"no\",\"25000 - 50000\"],[2.0,\"No\",8.0,\"yes\",2.0,17.0,3.0,3.0,\"urban\",\"yes\",\"150000 - 200,000\"],[3.0,\"No\",7.0,\"yes\",2.0,14.0,2.0,4.0,\"rural\",\"no\",\"50000 - 75000\"],[4.0,\"No\",13.0,\"no\",3.0,16.0,4.0,3.0,\"urban\",\"no\",\"Under 25000\"],[3.0,\"No\",3.0,\"no\",5.0,19.0,4.0,4.0,\"rural\",\"no\",\"50000 - 75000\"],[0.0,\"No\",4.0,\"yes\",2.0,10.0,6.0,4.0,\"urban\",\"no\",\"50000 - 75000\"],[2.0,\"No\",15.0,\"yes\",2.0,15.0,5.0,3.0,\"rural\",\"no\",\"50000 - 75000\"],[1.0,\"No\",10.0,\"yes\",0.0,14.0,6.0,4.0,\"rural\",\"yes\",\"75,000 - 100000\"],[2.0,\"No\",11.0,\"yes\",1.0,14.0,5.0,2.0,\"urban\",\"yes\",\"25000 - 50000\"],[2.0,\"No\",11.0,\"yes\",4.0,15.0,2.0,3.0,\"urban\",\"yes\",\"200000 or more\"],[6.0,\"No\",6.0,\"yes\",4.0,21.0,4.0,5.0,\"urban\",\"yes\",\"75,000 - 100000\"],[3.0,\"No\",12.0,\"yes\",2.0,15.0,4.0,5.0,\"rural\",\"yes\",\"100000 - 150000\"],[10.0,\"No\",0.0,\"no\",2.0,16.0,2.0,4.0,\"urban\",\"no\",\"75,000 - 100000\"],[8.0,\"No\",15.0,\"yes\",3.0,16.0,4.0,5.0,\"rural\",\"no\",\"150000 - 200,000\"],[0.0,\"No\",2.0,\"no\",3.0,18.0,1.0,5.0,\"urban\",\"yes\",\"150000 - 200,000\"],[4.0,\"No\",1.0,\"no\",0.0,14.0,3.0,3.0,\"rural\",\"no\",\"200000 or more\"],[4.0,\"No\",6.0,\"yes\",2.0,16.0,5.0,3.0,\"urban\",\"yes\",\"Under 25000\"],[3.0,\"No\",8.0,\"yes\",3.0,14.0,4.0,2.0,\"rural\",\"yes\",\"150000 - 200,000\"],[2.0,\"No\",10.0,\"no\",3.0,19.0,3.0,4.0,\"urban\",\"yes\",\"200000 or more\"],[1.0,\"No\",12.0,\"yes\",0.0,18.0,2.0,3.0,\"urban\",\"yes\",\"Under 25000\"],[4.0,\"No\",2.0,\"yes\",3.0,13.0,3.0,4.0,\"rural\",\"no\",\"25000 - 50000\"],[2.0,\"No\",10.0,\"yes\",2.0,14.0,1.0,5.0,\"urban\",\"yes\",\"200000 or more\"],[1.0,\"No\",8.0,\"no\",3.0,15.0,4.0,4.0,\"rural\",\"no\",\"200000 or more\"],[4.0,\"No\",12.0,\"yes\",3.0,18.0,5.0,4.0,\"urban\",\"yes\",\"50000 - 75000\"],[0.0,\"No\",6.0,\"no\",1.0,15.0,2.0,4.0,\"urban\",\"yes\",\"50000 - 75000\"],[2.0,\"No\",14.0,\"no\",2.0,13.0,2.0,6.0,\"urban\",\"no\",\"50000 - 75000\"],[4.0,\"No\",9.0,\"yes\",3.0,19.0,3.0,4.0,\"urban\",\"yes\",\"200000 or more\"],[2.0,\"No\",3.0,\"yes\",1.0,15.0,4.0,3.0,\"rural\",\"yes\",\"75,000 - 100000\"],[3.0,\"No\",2.0,\"yes\",0.0,9.0,3.0,4.0,\"urban\",\"yes\",\"50000 - 75000\"],[0.0,\"No\",9.0,\"yes\",1.0,16.0,2.0,3.0,\"urban\",\"yes\",\"75,000 - 100000\"],[5.0,\"No\",5.0,\"yes\",4.0,15.0,4.0,4.0,\"rural\",\"yes\",\"50000 - 75000\"],[2.0,\"No\",9.0,\"yes\",4.0,18.0,1.0,3.0,\"rural\",\"no\",\"25000 - 50000\"],[5.0,\"No\",1.0,\"yes\",0.0,19.0,7.0,1.0,\"urban\",\"no\",\"150000 - 200,000\"],[4.0,\"No\",9.0,\"no\",3.0,19.0,6.0,5.0,\"urban\",\"no\",\"25000 - 50000\"],[2.0,\"No\",5.0,\"no\",2.0,15.0,6.0,5.0,\"rural\",\"yes\",\"200000 or more\"],[4.0,\"No\",1.0,\"no\",3.0,17.0,4.0,3.0,\"urban\",\"yes\",\"100000 - 150000\"],[4.0,\"No\",16.0,\"yes\",6.0,18.0,5.0,4.0,\"rural\",\"no\",\"100000 - 150000\"],[4.0,\"No\",1.0,\"yes\",4.0,17.0,0.0,2.0,\"rural\",\"yes\",\"200000 or more\"],[4.0,\"No\",11.0,\"no\",2.0,11.0,5.0,4.0,\"urban\",\"yes\",\"200000 or more\"],[0.0,\"No\",10.0,\"yes\",3.0,11.0,4.0,2.0,\"urban\",\"yes\",\"Under 25000\"],[3.0,\"No\",9.0,\"no\",6.0,16.0,3.0,4.0,\"rural\",\"no\",\"150000 - 200,000\"],[1.0,\"No\",7.0,\"no\",4.0,15.0,4.0,3.0,\"urban\",\"yes\",\"100000 - 150000\"],[0.0,\"No\",0.0,\"yes\",2.0,18.0,3.0,3.0,\"urban\",\"no\",\"200000 or more\"],[8.0,\"No\",4.0,\"yes\",4.0,16.0,3.0,3.0,\"urban\",\"yes\",\"Under 25000\"],[1.0,\"No\",4.0,\"yes\",2.0,15.0,3.0,4.0,\"urban\",\"no\",\"50000 - 75000\"],[4.0,\"No\",7.0,\"no\",2.0,18.0,4.0,4.0,\"urban\",\"no\",\"75,000 - 100000\"],[2.0,\"No\",6.0,\"yes\",4.0,12.0,5.0,6.0,\"urban\",\"no\",\"50000 - 75000\"],[2.0,\"No\",15.0,\"yes\",3.0,16.0,7.0,3.0,\"urban\",\"yes\",\"150000 - 200,000\"],[5.0,\"No\",16.0,\"yes\",2.0,16.0,3.0,4.0,\"urban\",\"no\",\"75,000 - 100000\"],[0.0,\"No\",14.0,\"yes\",2.0,16.0,3.0,2.0,\"rural\",\"no\",\"150000 - 200,000\"],[5.0,\"No\",3.0,\"yes\",2.0,14.0,4.0,3.0,\"urban\",\"yes\",\"200000 or more\"],[1.0,\"No\",3.0,\"no\",2.0,15.0,3.0,3.0,\"rural\",\"yes\",\"Under 25000\"],[2.0,\"No\",0.0,\"yes\",2.0,20.0,2.0,3.0,\"rural\",\"yes\",\"150000 - 200,000\"],[2.0,\"No\",16.0,\"yes\",0.0,16.0,6.0,2.0,\"rural\",\"yes\",\"75,000 - 100000\"],[5.0,\"No\",5.0,\"yes\",4.0,14.0,6.0,5.0,\"urban\",\"no\",\"50000 - 75000\"],[4.0,\"No\",6.0,\"yes\",3.0,20.0,4.0,2.0,\"urban\",\"no\",\"75,000 - 100000\"],[2.0,\"No\",9.0,\"yes\",3.0,19.0,4.0,2.0,\"rural\",\"yes\",\"Under 25000\"],[2.0,\"No\",5.0,\"yes\",2.0,16.0,3.0,2.0,\"urban\",\"no\",\"50000 - 75000\"],[8.0,\"No\",9.0,\"yes\",4.0,15.0,7.0,2.0,\"urban\",\"no\",\"75,000 - 100000\"],[3.0,\"No\",8.0,\"yes\",2.0,13.0,2.0,3.0,\"rural\",\"no\",\"25000 - 50000\"],[1.0,\"No\",0.0,\"yes\",2.0,15.0,5.0,5.0,\"rural\",\"no\",\"50000 - 75000\"],[5.0,\"No\",11.0,\"no\",3.0,14.0,3.0,2.0,\"rural\",\"no\",\"75,000 - 100000\"],[1.0,\"No\",6.0,\"no\",2.0,15.0,5.0,4.0,\"rural\",\"no\",\"25000 - 50000\"],[1.0,\"No\",8.0,\"yes\",2.0,17.0,3.0,5.0,\"urban\",\"no\",\"75,000 - 100000\"],[2.0,\"No\",1.0,\"yes\",3.0,15.0,6.0,2.0,\"urban\",\"no\",\"75,000 - 100000\"],[7.0,\"No\",10.0,\"yes\",4.0,17.0,1.0,4.0,\"urban\",\"yes\",\"75,000 - 100000\"],[0.0,\"No\",5.0,\"yes\",4.0,13.0,3.0,4.0,\"urban\",\"no\",\"Under 25000\"],[2.0,\"No\",11.0,\"yes\",4.0,18.0,1.0,1.0,\"urban\",\"no\",\"150000 - 200,000\"],[0.0,\"No\",1.0,\"yes\",4.0,16.0,3.0,4.0,\"urban\",\"yes\",\"25000 - 50000\"],[3.0,\"No\",17.0,\"yes\",2.0,19.0,2.0,3.0,\"urban\",\"yes\",\"150000 - 200,000\"],[1.0,\"No\",15.0,\"yes\",4.0,17.0,6.0,3.0,\"urban\",\"no\",\"25000 - 50000\"],[0.0,\"No\",5.0,\"no\",3.0,11.0,4.0,3.0,\"rural\",\"yes\",\"50000 - 75000\"],[0.0,\"No\",1.0,\"no\",1.0,18.0,2.0,2.0,\"rural\",\"yes\",\"Under 25000\"],[2.0,\"No\",9.0,\"yes\",1.0,18.0,6.0,4.0,\"rural\",\"yes\",\"200000 or more\"],[1.0,\"No\",5.0,\"yes\",4.0,19.0,5.0,4.0,\"urban\",\"yes\",\"75,000 - 100000\"],[6.0,\"No\",3.0,\"no\",2.0,15.0,2.0,4.0,\"rural\",\"yes\",\"50000 - 75000\"],[2.0,\"No\",2.0,\"yes\",2.0,18.0,4.0,2.0,\"rural\",\"yes\",\"100000 - 150000\"],[2.0,\"No\",1.0,\"yes\",4.0,14.0,5.0,3.0,\"urban\",\"no\",\"150000 - 200,000\"],[1.0,\"No\",2.0,\"yes\",4.0,13.0,0.0,4.0,\"rural\",\"yes\",\"Under 25000\"],[3.0,\"No\",11.0,\"no\",3.0,17.0,2.0,6.0,\"urban\",\"yes\",\"200000 or more\"],[0.0,\"No\",15.0,\"no\",3.0,16.0,6.0,3.0,\"urban\",\"no\",\"100000 - 150000\"],[4.0,\"No\",3.0,\"yes\",2.0,18.0,3.0,4.0,\"rural\",\"no\",\"Under 25000\"],[5.0,\"No\",11.0,\"yes\",4.0,20.0,6.0,3.0,\"urban\",\"yes\",\"75,000 - 100000\"],[9.0,\"No\",4.0,\"no\",2.0,15.0,4.0,3.0,\"urban\",\"no\",\"25000 - 50000\"],[4.0,\"No\",7.0,\"yes\",3.0,15.0,5.0,2.0,\"rural\",\"no\",\"50000 - 75000\"],[3.0,\"No\",6.0,\"no\",4.0,18.0,2.0,3.0,\"rural\",\"no\",\"25000 - 50000\"],[2.0,\"No\",18.0,\"yes\",3.0,16.0,5.0,3.0,\"rural\",\"yes\",\"50000 - 75000\"],[6.0,\"No\",10.0,\"yes\",1.0,13.0,3.0,3.0,\"rural\",\"no\",\"Under 25000\"],[2.0,\"No\",9.0,\"no\",2.0,13.0,2.0,3.0,\"urban\",\"yes\",\"75,000 - 100000\"],[0.0,\"No\",2.0,\"yes\",1.0,19.0,5.0,3.0,\"urban\",\"yes\",\"100000 - 150000\"],[5.0,\"No\",10.0,\"yes\",3.0,15.0,2.0,5.0,\"urban\",\"yes\",\"75,000 - 100000\"],[3.0,\"No\",8.0,\"yes\",2.0,18.0,6.0,4.0,\"urban\",\"no\",\"Under 25000\"],[2.0,\"No\",18.0,\"no\",2.0,17.0,4.0,3.0,\"urban\",\"no\",\"50000 - 75000\"],[4.0,\"No\",3.0,\"no\",2.0,11.0,7.0,2.0,\"urban\",\"no\",\"200000 or more\"],[2.0,\"No\",9.0,\"yes\",2.0,17.0,1.0,3.0,\"urban\",\"yes\",\"75,000 - 100000\"],[5.0,\"No\",6.0,\"no\",2.0,15.0,2.0,5.0,\"urban\",\"yes\",\"150000 - 200,000\"],[2.0,\"No\",6.0,\"yes\",3.0,16.0,3.0,2.0,\"urban\",\"no\",\"150000 - 200,000\"],[2.0,\"No\",14.0,\"no\",4.0,18.0,4.0,5.0,\"urban\",\"no\",\"200000 or more\"],[0.0,\"No\",2.0,\"yes\",3.0,15.0,6.0,3.0,\"rural\",\"no\",\"Under 25000\"],[8.0,\"No\",10.0,\"yes\",3.0,16.0,5.0,2.0,\"urban\",\"no\",\"100000 - 150000\"],[5.0,\"No\",11.0,\"yes\",2.0,19.0,6.0,5.0,\"urban\",\"no\",\"150000 - 200,000\"],[2.0,\"No\",10.0,\"no\",2.0,16.0,1.0,4.0,\"rural\",\"no\",\"25000 - 50000\"],[1.0,\"No\",8.0,\"yes\",3.0,10.0,5.0,3.0,\"rural\",\"no\",\"75,000 - 100000\"],[1.0,\"No\",9.0,\"yes\",2.0,16.0,3.0,4.0,\"rural\",\"yes\",\"100000 - 150000\"],[2.0,\"No\",4.0,\"no\",1.0,16.0,2.0,4.0,\"urban\",\"yes\",\"150000 - 200,000\"],[6.0,\"No\",4.0,\"yes\",0.0,13.0,0.0,3.0,\"urban\",\"yes\",\"100000 - 150000\"],[2.0,\"No\",11.0,\"yes\",0.0,13.0,6.0,1.0,\"urban\",\"yes\",\"75,000 - 100000\"],[2.0,\"No\",18.0,\"yes\",1.0,14.0,5.0,5.0,\"rural\",\"yes\",\"25000 - 50000\"],[3.0,\"No\",8.0,\"yes\",2.0,14.0,5.0,4.0,\"urban\",\"no\",\"Under 25000\"],[0.0,\"No\",10.0,\"no\",4.0,16.0,2.0,2.0,\"rural\",\"no\",\"25000 - 50000\"],[4.0,\"No\",11.0,\"no\",2.0,16.0,5.0,4.0,\"rural\",\"no\",\"150000 - 200,000\"],[3.0,\"No\",11.0,\"yes\",3.0,16.0,3.0,2.0,\"rural\",\"yes\",\"200000 or more\"],[0.0,\"No\",10.0,\"no\",3.0,15.0,4.0,4.0,\"urban\",\"yes\",\"Under 25000\"],[0.0,\"No\",8.0,\"no\",2.0,12.0,5.0,4.0,\"rural\",\"yes\",\"150000 - 200,000\"],[3.0,\"No\",16.0,\"yes\",4.0,17.0,2.0,2.0,\"urban\",\"yes\",\"Under 25000\"],[0.0,\"No\",1.0,\"yes\",2.0,16.0,1.0,3.0,\"urban\",\"yes\",\"100000 - 150000\"],[5.0,\"No\",11.0,\"yes\",5.0,11.0,3.0,3.0,\"rural\",\"yes\",\"200000 or more\"],[0.0,\"No\",9.0,\"yes\",2.0,17.0,6.0,2.0,\"urban\",\"no\",\"100000 - 150000\"],[1.0,\"No\",12.0,\"yes\",4.0,13.0,2.0,4.0,\"urban\",\"no\",\"Under 25000\"],[4.0,\"No\",12.0,\"yes\",4.0,11.0,3.0,4.0,\"urban\",\"no\",\"150000 - 200,000\"],[2.0,\"No\",7.0,\"yes\",0.0,13.0,4.0,3.0,\"rural\",\"no\",\"25000 - 50000\"],[4.0,\"No\",6.0,\"no\",4.0,18.0,4.0,3.0,\"rural\",\"yes\",\"50000 - 75000\"],[0.0,\"No\",14.0,\"yes\",1.0,17.0,4.0,3.0,\"rural\",\"yes\",\"150000 - 200,000\"],[0.0,\"No\",4.0,\"yes\",2.0,16.0,4.0,3.0,\"rural\",\"no\",\"200000 or more\"],[6.0,\"No\",9.0,\"yes\",2.0,15.0,6.0,4.0,\"rural\",\"no\",\"100000 - 150000\"],[2.0,\"No\",16.0,\"yes\",2.0,15.0,4.0,4.0,\"rural\",\"no\",\"25000 - 50000\"],[0.0,\"No\",6.0,\"yes\",3.0,14.0,5.0,4.0,\"rural\",\"no\",\"25000 - 50000\"],[2.0,\"No\",8.0,\"yes\",1.0,20.0,7.0,3.0,\"urban\",\"yes\",\"100000 - 150000\"],[2.0,\"No\",13.0,\"yes\",2.0,16.0,2.0,2.0,\"urban\",\"no\",\"200000 or more\"],[4.0,\"No\",8.0,\"yes\",0.0,18.0,2.0,3.0,\"rural\",\"no\",\"75,000 - 100000\"],[8.0,\"No\",11.0,\"no\",3.0,17.0,6.0,3.0,\"urban\",\"no\",\"150000 - 200,000\"],[4.0,\"No\",8.0,\"no\",3.0,16.0,2.0,3.0,\"rural\",\"no\",\"25000 - 50000\"],[1.0,\"No\",7.0,\"yes\",4.0,12.0,2.0,4.0,\"rural\",\"no\",\"50000 - 75000\"],[4.0,\"No\",9.0,\"yes\",3.0,16.0,2.0,4.0,\"urban\",\"no\",\"100000 - 150000\"],[4.0,\"No\",17.0,\"no\",4.0,17.0,7.0,3.0,\"urban\",\"no\",\"100000 - 150000\"],[3.0,\"No\",7.0,\"no\",3.0,16.0,3.0,2.0,\"rural\",\"yes\",\"50000 - 75000\"],[1.0,\"No\",1.0,\"yes\",4.0,18.0,6.0,6.0,\"urban\",\"no\",\"25000 - 50000\"],[0.0,\"No\",4.0,\"yes\",3.0,14.0,6.0,4.0,\"rural\",\"no\",\"200000 or more\"],[3.0,\"No\",9.0,\"yes\",2.0,18.0,2.0,5.0,\"rural\",\"yes\",\"25000 - 50000\"],[4.0,\"No\",1.0,\"yes\",1.0,18.0,3.0,4.0,\"rural\",\"no\",\"100000 - 150000\"],[2.0,\"No\",8.0,\"no\",2.0,18.0,4.0,4.0,\"urban\",\"yes\",\"Under 25000\"],[0.0,\"No\",1.0,\"yes\",2.0,16.0,1.0,4.0,\"urban\",\"no\",\"Under 25000\"],[1.0,\"No\",7.0,\"yes\",1.0,18.0,5.0,3.0,\"urban\",\"yes\",\"50000 - 75000\"],[0.0,\"No\",0.0,\"yes\",3.0,18.0,8.0,3.0,\"urban\",\"no\",\"Under 25000\"],[4.0,\"No\",16.0,\"yes\",4.0,16.0,1.0,2.0,\"rural\",\"yes\",\"200000 or more\"],[4.0,\"No\",4.0,\"yes\",3.0,18.0,7.0,4.0,\"rural\",\"yes\",\"Under 25000\"],[2.0,\"No\",13.0,\"yes\",3.0,16.0,3.0,3.0,\"urban\",\"yes\",\"Under 25000\"],[0.0,\"No\",13.0,\"no\",4.0,15.0,4.0,2.0,\"rural\",\"yes\",\"100000 - 150000\"],[2.0,\"No\",6.0,\"yes\",3.0,18.0,6.0,4.0,\"urban\",\"yes\",\"150000 - 200,000\"],[2.0,\"No\",5.0,\"yes\",4.0,13.0,3.0,4.0,\"urban\",\"no\",\"25000 - 50000\"],[5.0,\"No\",2.0,\"no\",3.0,15.0,3.0,4.0,\"urban\",\"yes\",\"Under 25000\"],[2.0,\"No\",0.0,\"yes\",5.0,18.0,4.0,2.0,\"rural\",\"no\",\"Under 25000\"],[0.0,\"No\",1.0,\"no\",5.0,19.0,6.0,6.0,\"rural\",\"yes\",\"25000 - 50000\"],[0.0,\"No\",9.0,\"yes\",3.0,15.0,2.0,2.0,\"rural\",\"yes\",\"200000 or more\"],[6.0,\"No\",12.0,\"yes\",4.0,17.0,1.0,4.0,\"urban\",\"no\",\"100000 - 150000\"],[7.0,\"No\",5.0,\"no\",2.0,12.0,6.0,4.0,\"urban\",\"yes\",\"Under 25000\"],[0.0,\"No\",7.0,\"yes\",3.0,17.0,6.0,4.0,\"urban\",\"no\",\"50000 - 75000\"],[2.0,\"No\",7.0,\"yes\",2.0,15.0,3.0,4.0,\"urban\",\"no\",\"200000 or more\"],[2.0,\"No\",3.0,\"yes\",3.0,13.0,3.0,3.0,\"urban\",\"no\",\"150000 - 200,000\"],[2.0,\"No\",3.0,\"yes\",1.0,15.0,5.0,4.0,\"rural\",\"yes\",\"25000 - 50000\"],[4.0,\"No\",4.0,\"yes\",1.0,12.0,4.0,3.0,\"rural\",\"yes\",\"25000 - 50000\"],[7.0,\"No\",17.0,\"yes\",2.0,16.0,5.0,4.0,\"urban\",\"no\",\"200000 or more\"],[6.0,\"No\",6.0,\"no\",2.0,18.0,5.0,4.0,\"urban\",\"yes\",\"25000 - 50000\"],[3.0,\"No\",8.0,\"yes\",3.0,17.0,3.0,5.0,\"rural\",\"yes\",\"25000 - 50000\"],[2.0,\"No\",10.0,\"yes\",3.0,15.0,3.0,3.0,\"urban\",\"no\",\"75,000 - 100000\"],[9.0,\"No\",13.0,\"no\",4.0,17.0,3.0,4.0,\"urban\",\"no\",\"100000 - 150000\"],[2.0,\"No\",10.0,\"yes\",3.0,12.0,5.0,4.0,\"rural\",\"yes\",\"75,000 - 100000\"],[0.0,\"No\",3.0,\"no\",3.0,13.0,1.0,3.0,\"urban\",\"yes\",\"75,000 - 100000\"],[1.0,\"No\",8.0,\"no\",3.0,15.0,2.0,4.0,\"rural\",\"no\",\"200000 or more\"],[3.0,\"No\",10.0,\"yes\",0.0,19.0,4.0,2.0,\"urban\",\"yes\",\"75,000 - 100000\"],[0.0,\"No\",13.0,\"yes\",4.0,16.0,7.0,2.0,\"urban\",\"yes\",\"75,000 - 100000\"],[1.0,\"No\",2.0,\"no\",3.0,16.0,5.0,3.0,\"urban\",\"no\",\"200000 or more\"],[1.0,\"No\",1.0,\"yes\",1.0,20.0,3.0,3.0,\"urban\",\"no\",\"100000 - 150000\"],[0.0,\"No\",4.0,\"no\",1.0,14.0,7.0,4.0,\"urban\",\"no\",\"100000 - 150000\"],[4.0,\"No\",11.0,\"yes\",1.0,15.0,4.0,2.0,\"urban\",\"no\",\"Under 25000\"],[1.0,\"No\",12.0,\"yes\",2.0,17.0,2.0,0.0,\"urban\",\"no\",\"50000 - 75000\"],[3.0,\"No\",9.0,\"yes\",3.0,17.0,3.0,4.0,\"rural\",\"no\",\"150000 - 200,000\"],[1.0,\"No\",2.0,\"yes\",3.0,21.0,2.0,3.0,\"rural\",\"yes\",\"Under 25000\"],[0.0,\"No\",5.0,\"yes\",4.0,18.0,4.0,4.0,\"urban\",\"no\",\"Under 25000\"],[0.0,\"No\",7.0,\"no\",2.0,14.0,1.0,3.0,\"rural\",\"yes\",\"50000 - 75000\"],[1.0,\"No\",11.0,\"yes\",3.0,11.0,3.0,3.0,\"urban\",\"yes\",\"75,000 - 100000\"],[1.0,\"No\",9.0,\"yes\",4.0,14.0,2.0,3.0,\"rural\",\"no\",\"200000 or more\"],[2.0,\"No\",10.0,\"yes\",3.0,14.0,1.0,1.0,\"urban\",\"yes\",\"Under 25000\"],[0.0,\"No\",9.0,\"yes\",3.0,17.0,3.0,2.0,\"rural\",\"no\",\"100000 - 150000\"],[2.0,\"No\",12.0,\"yes\",2.0,14.0,5.0,5.0,\"urban\",\"no\",\"200000 or more\"],[1.0,\"No\",10.0,\"yes\",5.0,14.0,4.0,4.0,\"urban\",\"no\",\"200000 or more\"],[3.0,\"No\",11.0,\"yes\",0.0,15.0,6.0,2.0,\"urban\",\"yes\",\"25000 - 50000\"],[2.0,\"No\",4.0,\"yes\",2.0,16.0,2.0,5.0,\"rural\",\"yes\",\"25000 - 50000\"],[3.0,\"No\",11.0,\"no\",4.0,16.0,3.0,4.0,\"urban\",\"yes\",\"Under 25000\"],[1.0,\"No\",8.0,\"yes\",3.0,13.0,3.0,3.0,\"rural\",\"no\",\"150000 - 200,000\"],[0.0,\"No\",10.0,\"no\",3.0,15.0,4.0,1.0,\"urban\",\"no\",\"150000 - 200,000\"],[3.0,\"No\",1.0,\"yes\",3.0,16.0,4.0,4.0,\"rural\",\"yes\",\"25000 - 50000\"],[0.0,\"No\",4.0,\"yes\",3.0,14.0,4.0,3.0,\"urban\",\"yes\",\"Under 25000\"],[5.0,\"No\",0.0,\"no\",2.0,12.0,6.0,4.0,\"urban\",\"yes\",\"75,000 - 100000\"],[0.0,\"No\",8.0,\"no\",2.0,19.0,0.0,4.0,\"rural\",\"yes\",\"25000 - 50000\"],[1.0,\"No\",7.0,\"no\",3.0,15.0,4.0,4.0,\"rural\",\"no\",\"25000 - 50000\"],[6.0,\"No\",3.0,\"yes\",4.0,17.0,6.0,3.0,\"rural\",\"no\",\"100000 - 150000\"],[3.0,\"No\",5.0,\"yes\",2.0,15.0,5.0,4.0,\"urban\",\"no\",\"75,000 - 100000\"],[2.0,\"No\",3.0,\"yes\",1.0,18.0,2.0,4.0,\"urban\",\"no\",\"100000 - 150000\"],[1.0,\"No\",17.0,\"yes\",3.0,17.0,2.0,6.0,\"rural\",\"no\",\"100000 - 150000\"],[2.0,\"No\",10.0,\"no\",3.0,18.0,5.0,5.0,\"rural\",\"no\",\"200000 or more\"],[2.0,\"No\",2.0,\"no\",3.0,14.0,6.0,4.0,\"rural\",\"no\",\"200000 or more\"],[0.0,\"No\",11.0,\"yes\",3.0,15.0,0.0,5.0,\"urban\",\"yes\",\"50000 - 75000\"],[3.0,\"No\",11.0,\"yes\",4.0,11.0,2.0,3.0,\"urban\",\"no\",\"200000 or more\"]],\"hovertemplate\":\"affair_status=%{customdata[1]}<br>gender=%{x}<br>age=%{y}<br>affairs=%{customdata[0]}<br>yearsmarried=%{customdata[2]}<br>children=%{customdata[3]}<br>religiousness=%{customdata[4]}<br>education=%{customdata[5]}<br>occupation=%{customdata[6]}<br>rating=%{customdata[7]}<br>region=%{customdata[8]}<br>frequentflyer=%{customdata[9]}<br>income_level=%{customdata[10]}<extra></extra>\",\"legendgroup\":\"No\",\"marker\":{\"color\":\"#636efa\"},\"name\":\"No\",\"offsetgroup\":\"No\",\"orientation\":\"v\",\"points\":\"all\",\"scalegroup\":\"True\",\"showlegend\":true,\"x\":[\"male\",\"female\",\"female\",\"male\",\"male\",\"female\",\"female\",\"male\",\"female\",\"male\",\"male\",\"male\",\"male\",\"female\",\"female\",\"female\",\"female\",\"female\",\"female\",\"female\",\"female\",\"female\",\"female\",\"female\",\"male\",\"female\",\"female\",\"male\",\"male\",\"female\",\"male\",\"female\",\"male\",\"female\",\"male\",\"female\",\"female\",\"female\",\"male\",\"female\",\"male\",\"male\",\"female\",\"female\",\"female\",\"male\",\"female\",\"female\",\"male\",\"male\",\"female\",\"male\",\"male\",\"male\",\"male\",\"female\",\"male\",\"female\",\"female\",\"male\",\"female\",\"male\",\"female\",\"male\",\"male\",\"male\",\"male\",\"female\",\"female\",\"female\",\"female\",\"female\",\"female\",\"male\",\"male\",\"male\",\"female\",\"male\",\"female\",\"male\",\"male\",\"female\",\"male\",\"female\",\"female\",\"female\",\"female\",\"female\",\"female\",\"female\",\"male\",\"male\",\"male\",\"male\",\"female\",\"male\",\"male\",\"male\",\"male\",\"female\",\"male\",\"female\",\"male\",\"female\",\"male\",\"male\",\"male\",\"male\",\"female\",\"female\",\"female\",\"female\",\"male\",\"female\",\"male\",\"male\",\"male\",\"female\",\"female\",\"female\",\"female\",\"male\",\"female\",\"female\",\"male\",\"female\",\"male\",\"male\",\"male\",\"female\",\"male\",\"female\",\"male\",\"female\",\"female\",\"female\",\"female\",\"male\",\"male\",\"female\",\"female\",\"male\",\"male\",\"male\",\"male\",\"male\",\"female\",\"female\",\"male\",\"male\",\"male\",\"male\",\"male\",\"male\",\"male\",\"female\",\"female\",\"male\",\"male\",\"female\",\"female\",\"male\",\"female\",\"female\",\"female\",\"female\",\"female\",\"male\",\"male\",\"male\",\"female\",\"female\",\"female\",\"female\",\"male\",\"female\",\"female\",\"female\",\"female\",\"female\",\"male\",\"female\",\"female\",\"female\",\"female\",\"male\",\"male\",\"male\",\"male\",\"male\",\"female\",\"male\",\"male\",\"female\",\"male\",\"male\",\"female\",\"male\",\"female\",\"male\",\"male\",\"female\",\"male\",\"female\",\"female\",\"female\",\"female\",\"female\",\"female\",\"female\",\"male\",\"male\",\"male\",\"female\",\"male\",\"male\",\"male\",\"female\",\"male\",\"female\",\"male\",\"female\",\"male\",\"female\",\"female\",\"female\",\"male\",\"male\",\"male\",\"female\",\"female\",\"female\",\"male\",\"male\",\"male\",\"female\",\"female\",\"male\",\"female\",\"male\",\"female\",\"male\",\"male\",\"female\",\"male\",\"female\",\"female\",\"female\",\"male\",\"female\",\"male\",\"male\",\"female\",\"male\",\"female\",\"female\",\"male\",\"male\",\"female\",\"female\",\"male\",\"male\",\"female\",\"female\",\"male\",\"female\",\"female\",\"male\",\"female\",\"male\",\"male\",\"female\",\"male\",\"female\",\"female\",\"male\",\"female\",\"male\",\"male\",\"male\",\"female\",\"female\",\"female\",\"female\",\"male\",\"male\",\"male\",\"female\",\"female\",\"female\",\"male\",\"male\",\"female\",\"female\",\"male\",\"female\",\"female\",\"male\",\"male\",\"female\",\"male\",\"male\",\"male\",\"female\",\"male\",\"female\",\"male\",\"male\",\"female\",\"female\",\"male\",\"male\",\"female\",\"male\",\"female\",\"male\",\"female\",\"male\",\"female\",\"female\",\"male\",\"female\",\"female\",\"male\",\"male\",\"female\",\"female\",\"male\",\"male\",\"female\",\"female\",\"female\",\"male\",\"female\",\"female\",\"female\",\"female\",\"female\",\"male\",\"female\",\"male\",\"female\",\"male\",\"male\",\"male\",\"male\",\"female\",\"male\",\"female\",\"female\",\"male\",\"female\",\"female\",\"female\",\"female\",\"male\",\"male\",\"male\",\"male\",\"female\",\"female\",\"female\",\"male\",\"male\",\"female\",\"female\",\"female\",\"female\",\"female\",\"male\",\"male\",\"female\",\"male\",\"female\",\"female\",\"female\",\"female\",\"female\",\"female\",\"male\",\"male\",\"male\",\"female\",\"female\",\"female\",\"female\",\"female\",\"female\",\"female\",\"male\",\"female\",\"male\",\"female\",\"male\",\"female\",\"female\",\"female\",\"male\",\"male\",\"female\",\"male\",\"male\",\"male\",\"male\",\"male\",\"male\",\"female\",\"female\",\"female\",\"male\",\"male\",\"male\",\"female\",\"female\",\"female\",\"male\",\"female\",\"male\",\"female\",\"female\",\"female\",\"male\",\"male\",\"male\",\"female\",\"female\",\"male\",\"female\",\"female\",\"male\",\"female\",\"female\",\"female\",\"female\",\"female\",\"male\",\"male\",\"female\",\"male\",\"female\",\"female\",\"female\",\"female\",\"female\",\"male\",\"male\",\"male\",\"female\",\"male\",\"female\",\"male\",\"male\",\"female\",\"female\",\"male\",\"male\",\"female\",\"female\",\"female\",\"female\",\"female\",\"male\",\"male\",\"male\",\"male\",\"female\",\"female\",\"male\",\"female\",\"female\",\"female\",\"female\",\"male\",\"female\",\"female\",\"female\",\"female\",\"female\",\"female\",\"male\",\"male\",\"male\",\"male\",\"male\",\"male\",\"male\",\"male\",\"female\",\"female\",\"male\",\"male\",\"male\",\"male\",\"male\",\"male\",\"female\",\"male\",\"male\",\"male\",\"female\",\"female\",\"female\",\"female\",\"female\",\"female\",\"female\",\"female\",\"male\",\"female\",\"male\",\"female\",\"female\",\"female\",\"male\",\"female\",\"male\",\"male\",\"female\",\"male\",\"male\",\"female\",\"female\",\"female\",\"female\",\"female\",\"male\",\"male\",\"female\",\"male\",\"male\",\"female\",\"male\",\"male\",\"female\",\"male\",\"male\",\"male\",\"female\",\"female\",\"female\",\"male\",\"male\",\"female\",\"male\",\"female\",\"male\",\"female\",\"female\",\"female\",\"female\",\"female\",\"female\",\"male\",\"female\",\"female\",\"female\",\"male\",\"male\",\"female\",\"male\",\"male\",\"female\",\"female\",\"female\",\"male\",\"female\",\"female\",\"female\",\"male\",\"female\",\"male\",\"male\",\"male\",\"female\",\"male\",\"female\",\"male\",\"male\",\"male\",\"male\",\"female\",\"female\",\"female\",\"female\",\"female\",\"female\",\"male\",\"female\",\"female\",\"male\",\"female\",\"female\",\"male\",\"male\",\"female\",\"male\",\"female\",\"female\",\"female\",\"female\",\"male\",\"male\",\"female\",\"female\",\"male\",\"female\",\"male\",\"female\",\"female\",\"male\",\"female\",\"male\",\"female\",\"male\",\"female\",\"male\",\"female\",\"male\",\"female\",\"female\",\"female\",\"male\",\"male\",\"female\",\"female\",\"female\",\"male\",\"female\",\"female\",\"male\",\"female\",\"female\",\"female\",\"male\",\"male\",\"female\",\"female\",\"male\",\"female\",\"female\",\"male\",\"male\",\"male\",\"male\",\"female\",\"female\",\"female\",\"female\",\"female\",\"female\",\"male\",\"female\",\"female\",\"female\",\"female\",\"female\",\"female\",\"male\",\"male\",\"female\",\"male\",\"male\",\"male\",\"male\",\"female\",\"male\",\"female\",\"female\",\"female\",\"male\",\"male\",\"female\",\"female\",\"male\",\"male\",\"male\",\"female\",\"female\",\"female\",\"male\",\"male\",\"male\",\"female\",\"female\",\"male\",\"female\",\"male\",\"male\",\"male\",\"female\",\"female\",\"male\",\"male\",\"female\",\"female\",\"male\",\"male\",\"female\",\"male\",\"female\",\"male\",\"male\",\"female\",\"female\",\"female\",\"female\",\"male\",\"female\",\"male\",\"female\",\"female\",\"male\",\"female\",\"male\",\"female\",\"female\",\"male\",\"female\",\"female\"],\"x0\":\" \",\"xaxis\":\"x\",\"y\":[37,27,32,57,22,32,22,57,32,22,37,27,47,22,27,37,37,22,22,27,22,22,27,32,37,22,27,42,27,27,42,22,27,42,32,22,42,22,22,22,32,52,22,27,32,22,27,42,27,42,22,32,27,27,22,37,22,37,27,32,47,37,22,27,32,42,37,47,22,27,27,32,22,47,32,27,22,27,22,57,57,22,42,22,22,32,27,22,37,32,37,37,57,27,42,57,37,37,37,27,37,22,57,37,22,27,57,32,22,32,37,32,42,27,37,37,32,22,27,27,42,42,27,22,37,22,27,32,27,27,42,27,27,32,32,22,37,27,27,27,32,27,52,27,37,27,52,57,27,37,22,32,37,22,42,52,37,27,32,27,27,37,47,32,27,57,22,42,57,57,22,32,42,27,32,27,27,32,37,42,32,32,37,22,27,27,27,32,32,22,27,27,37,37,22,37,22,52,22,32,32,22,27,22,27,37,22,37,37,42,22,52,27,27,42,22,22,22,37,37,42,47,22,32,22,32,27,37,42,37,32,42,27,22,27,22,52,32,37,32,42,32,27,32,22,22,42,52,37,47,57,32,27,22,22,22,42,57,27,22,37,32,22,22,52,37,32,42,27,37,27,22,32,27,27,32,37,47,27,37,32,32,42,27,27,22,27,27,37,37,22,37,22,32,27,22,27,37,37,27,32,32,22,22,32,32,37,32,27,22,47,27,37,42,32,52,22,52,22,22,27,32,27,32,37,32,32,37,32,32,47,27,27,37,27,37,32,27,27,37,27,22,22,42,27,27,52,27,27,27,22,27,27,47,32,42,22,27,32,22,47,32,57,27,32,37,32,22,27,57,32,27,22,22,32,47,22,22,27,52,32,47,27,22,32,22,22,42,27,42,57,42,32,22,22,22,32,22,27,27,42,32,57,37,52,47,27,27,22,37,27,42,22,22,57,37,27,22,27,37,22,27,27,22,27,32,32,32,22,27,52,27,27,42,42,27,27,42,27,27,22,27,22,22,47,37,37,27,32,38,32,33,39,23,30,34,34,36,34,25,32,38,46,39,40,38,29,40,32,29,28,30,26,33,38,31,39,24,31,38,34,45,40,26,28,33,28,23,40,25,31,29,38,33,41,41,35,26,26,28,28,36,35,35,42,26,26,47,23,22,19,32,23,26,31,40,36,35,23,24,27,39,32,25,43,23,44,41,40,23,35,45,33,26,39,26,31,29,31,36,51,42,39,37,25,21,38,30,43,23,28,51,42,29,35,34,20,36,23,21,29,30,43,33,35,28,35,29,43,27,32,34,23,41,30,30,33,52,24,23,36,32,22,25,24,37,36,33,28,30,31,42,42,33,40,29,41,26,25,39,23,30,46,44,36,45,49,43,19,35,34,25,33,46,25,25,30,20,33,53,22,22,32,25,22,33,31,32,49,39,38,26,34,37,57,23,31,34,34,35,47,19,41,26,25,38,25,26,37,41,34,38,27,48,47,28,24,50,43,40,45,33,31,29,34,34,32,32,42,29,35,27,25,37,31,28,23,50,33,20,30,29,21,45,32,44,29,29,39,20,26,46,49,49,35,23,21,22,24,35,42,21,38,26,34,46,38,34,26,35,39,32,43,21,51,50,32,19,35],\"y0\":\" \",\"yaxis\":\"y\",\"type\":\"violin\"},{\"alignmentgroup\":\"True\",\"box\":{\"visible\":true},\"customdata\":[[3.0,\"Yes\",1.5,\"no\",3.0,18.0,4.0,4.0,\"rural\",\"yes\",\"150000 - 200,000\"],[3.0,\"Yes\",4.0,\"yes\",3.0,17.0,1.0,5.0,\"urban\",\"no\",\"200000 or more\"],[7.0,\"Yes\",15.0,\"yes\",5.0,18.0,6.0,2.0,\"urban\",\"no\",\"150000 - 200,000\"],[12.0,\"Yes\",10.0,\"yes\",3.0,17.0,5.0,2.0,\"rural\",\"yes\",\"150000 - 200,000\"],[1.0,\"Yes\",0.125,\"no\",4.0,16.0,5.0,5.0,\"urban\",\"no\",\"100000 - 150000\"],[1.0,\"Yes\",1.5,\"yes\",2.0,14.0,1.0,5.0,\"rural\",\"no\",\"150000 - 200,000\"],[12.0,\"Yes\",15.0,\"yes\",4.0,14.0,5.0,2.0,\"urban\",\"no\",\"50000 - 75000\"],[7.0,\"Yes\",1.5,\"no\",2.0,14.0,3.0,4.0,\"rural\",\"no\",\"75,000 - 100000\"],[2.0,\"Yes\",15.0,\"yes\",2.0,18.0,6.0,4.0,\"rural\",\"yes\",\"50000 - 75000\"],[3.0,\"Yes\",15.0,\"yes\",4.0,12.0,3.0,2.0,\"urban\",\"yes\",\"75,000 - 100000\"],[1.0,\"Yes\",15.0,\"yes\",4.0,14.0,4.0,2.0,\"urban\",\"no\",\"25000 - 50000\"],[7.0,\"Yes\",15.0,\"yes\",3.0,17.0,1.0,4.0,\"urban\",\"no\",\"50000 - 75000\"],[12.0,\"Yes\",15.0,\"yes\",5.0,9.0,4.0,1.0,\"rural\",\"no\",\"150000 - 200,000\"],[12.0,\"Yes\",10.0,\"yes\",2.0,20.0,6.0,2.0,\"rural\",\"no\",\"50000 - 75000\"],[12.0,\"Yes\",15.0,\"yes\",3.0,14.0,1.0,2.0,\"rural\",\"no\",\"200000 or more\"],[3.0,\"Yes\",4.0,\"no\",1.0,18.0,6.0,5.0,\"urban\",\"yes\",\"200000 or more\"],[7.0,\"Yes\",10.0,\"yes\",2.0,18.0,7.0,3.0,\"urban\",\"no\",\"Under 25000\"],[7.0,\"Yes\",4.0,\"no\",3.0,17.0,5.0,5.0,\"urban\",\"no\",\"50000 - 75000\"],[1.0,\"Yes\",15.0,\"yes\",4.0,16.0,5.0,5.0,\"rural\",\"yes\",\"25000 - 50000\"],[1.0,\"Yes\",15.0,\"yes\",5.0,14.0,4.0,5.0,\"urban\",\"no\",\"75,000 - 100000\"],[7.0,\"Yes\",4.0,\"yes\",3.0,18.0,5.0,4.0,\"rural\",\"yes\",\"200000 or more\"],[1.0,\"Yes\",7.0,\"yes\",5.0,14.0,1.0,4.0,\"urban\",\"yes\",\"100000 - 150000\"],[12.0,\"Yes\",1.5,\"yes\",3.0,17.0,5.0,4.0,\"urban\",\"no\",\"25000 - 50000\"],[12.0,\"Yes\",7.0,\"yes\",4.0,14.0,6.0,2.0,\"rural\",\"yes\",\"75,000 - 100000\"],[3.0,\"Yes\",15.0,\"yes\",4.0,16.0,5.0,4.0,\"urban\",\"yes\",\"Under 25000\"],[7.0,\"Yes\",10.0,\"yes\",4.0,12.0,7.0,3.0,\"urban\",\"yes\",\"200000 or more\"],[1.0,\"Yes\",1.5,\"no\",2.0,18.0,5.0,2.0,\"rural\",\"yes\",\"Under 25000\"],[1.0,\"Yes\",4.0,\"no\",4.0,20.0,6.0,4.0,\"rural\",\"yes\",\"75,000 - 100000\"],[1.0,\"Yes\",7.0,\"yes\",3.0,14.0,1.0,3.0,\"rural\",\"yes\",\"150000 - 200,000\"],[3.0,\"Yes\",10.0,\"yes\",4.0,14.0,1.0,4.0,\"urban\",\"yes\",\"75,000 - 100000\"],[3.0,\"Yes\",4.0,\"yes\",2.0,18.0,7.0,2.0,\"urban\",\"yes\",\"50000 - 75000\"],[1.0,\"Yes\",10.0,\"yes\",4.0,18.0,1.0,5.0,\"urban\",\"no\",\"200000 or more\"],[7.0,\"Yes\",7.0,\"yes\",2.0,17.0,6.0,4.0,\"urban\",\"yes\",\"150000 - 200,000\"],[7.0,\"Yes\",15.0,\"yes\",2.0,20.0,6.0,4.0,\"rural\",\"no\",\"100000 - 150000\"],[7.0,\"Yes\",10.0,\"no\",1.0,20.0,5.0,3.0,\"urban\",\"yes\",\"25000 - 50000\"],[12.0,\"Yes\",10.0,\"yes\",2.0,16.0,5.0,5.0,\"urban\",\"yes\",\"100000 - 150000\"],[7.0,\"Yes\",15.0,\"yes\",2.0,20.0,6.0,4.0,\"rural\",\"yes\",\"100000 - 150000\"],[7.0,\"Yes\",15.0,\"yes\",1.0,12.0,1.0,3.0,\"urban\",\"yes\",\"75,000 - 100000\"],[1.0,\"Yes\",15.0,\"yes\",2.0,20.0,6.0,3.0,\"rural\",\"no\",\"25000 - 50000\"],[2.0,\"Yes\",15.0,\"yes\",3.0,18.0,6.0,5.0,\"rural\",\"no\",\"150000 - 200,000\"],[12.0,\"Yes\",4.0,\"no\",3.0,12.0,3.0,4.0,\"rural\",\"no\",\"100000 - 150000\"],[12.0,\"Yes\",7.0,\"yes\",1.0,18.0,6.0,2.0,\"urban\",\"yes\",\"50000 - 75000\"],[1.0,\"Yes\",4.0,\"yes\",3.0,18.0,5.0,5.0,\"urban\",\"no\",\"100000 - 150000\"],[12.0,\"Yes\",15.0,\"yes\",4.0,17.0,6.0,5.0,\"urban\",\"yes\",\"150000 - 200,000\"],[12.0,\"Yes\",15.0,\"yes\",4.0,12.0,1.0,1.0,\"rural\",\"yes\",\"25000 - 50000\"],[7.0,\"Yes\",4.0,\"no\",3.0,14.0,3.0,4.0,\"rural\",\"yes\",\"50000 - 75000\"],[7.0,\"Yes\",7.0,\"yes\",4.0,18.0,4.0,5.0,\"rural\",\"yes\",\"200000 or more\"],[1.0,\"Yes\",0.417,\"yes\",3.0,12.0,3.0,4.0,\"urban\",\"no\",\"Under 25000\"],[3.0,\"Yes\",15.0,\"yes\",5.0,16.0,5.0,4.0,\"urban\",\"no\",\"75,000 - 100000\"],[12.0,\"Yes\",15.0,\"yes\",2.0,20.0,5.0,4.0,\"urban\",\"yes\",\"100000 - 150000\"],[7.0,\"Yes\",4.0,\"yes\",2.0,17.0,6.0,4.0,\"rural\",\"no\",\"75,000 - 100000\"],[1.0,\"Yes\",4.0,\"no\",2.0,14.0,4.0,5.0,\"urban\",\"no\",\"150000 - 200,000\"],[7.0,\"Yes\",15.0,\"yes\",5.0,16.0,1.0,3.0,\"urban\",\"no\",\"150000 - 200,000\"],[1.0,\"Yes\",4.0,\"no\",3.0,14.0,3.0,3.0,\"rural\",\"yes\",\"75,000 - 100000\"],[1.0,\"Yes\",10.0,\"yes\",4.0,16.0,1.0,4.0,\"rural\",\"yes\",\"150000 - 200,000\"],[1.0,\"Yes\",7.0,\"yes\",3.0,14.0,7.0,4.0,\"rural\",\"yes\",\"25000 - 50000\"],[7.0,\"Yes\",7.0,\"yes\",2.0,18.0,4.0,1.0,\"rural\",\"yes\",\"Under 25000\"],[3.0,\"Yes\",1.5,\"no\",1.0,14.0,3.0,2.0,\"urban\",\"no\",\"Under 25000\"],[7.0,\"Yes\",4.0,\"yes\",3.0,18.0,6.0,4.0,\"rural\",\"no\",\"25000 - 50000\"],[7.0,\"Yes\",15.0,\"yes\",4.0,20.0,6.0,4.0,\"rural\",\"yes\",\"25000 - 50000\"],[2.0,\"Yes\",15.0,\"yes\",1.0,18.0,5.0,4.0,\"rural\",\"yes\",\"Under 25000\"],[7.0,\"Yes\",4.0,\"yes\",3.0,18.0,5.0,2.0,\"rural\",\"yes\",\"50000 - 75000\"],[1.0,\"Yes\",4.0,\"yes\",1.0,16.0,4.0,4.0,\"urban\",\"no\",\"25000 - 50000\"],[7.0,\"Yes\",7.0,\"yes\",4.0,16.0,1.0,4.0,\"rural\",\"yes\",\"150000 - 200,000\"],[2.0,\"Yes\",15.0,\"yes\",1.0,17.0,4.0,4.0,\"rural\",\"no\",\"50000 - 75000\"],[7.0,\"Yes\",15.0,\"yes\",4.0,14.0,5.0,2.0,\"urban\",\"no\",\"200000 or more\"],[7.0,\"Yes\",10.0,\"yes\",1.0,18.0,5.0,3.0,\"urban\",\"yes\",\"150000 - 200,000\"],[3.0,\"Yes\",15.0,\"yes\",3.0,17.0,6.0,1.0,\"rural\",\"no\",\"150000 - 200,000\"],[1.0,\"Yes\",15.0,\"yes\",3.0,14.0,4.0,4.0,\"urban\",\"yes\",\"Under 25000\"],[2.0,\"Yes\",7.0,\"yes\",3.0,17.0,5.0,3.0,\"rural\",\"no\",\"Under 25000\"],[12.0,\"Yes\",7.0,\"yes\",2.0,12.0,4.0,2.0,\"urban\",\"yes\",\"25000 - 50000\"],[1.0,\"Yes\",4.0,\"no\",4.0,14.0,2.0,5.0,\"urban\",\"yes\",\"25000 - 50000\"],[3.0,\"Yes\",7.0,\"yes\",3.0,18.0,6.0,4.0,\"rural\",\"yes\",\"150000 - 200,000\"],[12.0,\"Yes\",15.0,\"yes\",1.0,18.0,5.0,5.0,\"rural\",\"yes\",\"50000 - 75000\"],[7.0,\"Yes\",15.0,\"yes\",3.0,17.0,1.0,3.0,\"urban\",\"no\",\"Under 25000\"],[7.0,\"Yes\",7.0,\"no\",2.0,17.0,5.0,5.0,\"urban\",\"no\",\"50000 - 75000\"],[1.0,\"Yes\",7.0,\"yes\",3.0,17.0,5.0,3.0,\"rural\",\"yes\",\"150000 - 200,000\"],[1.0,\"Yes\",1.5,\"yes\",2.0,14.0,2.0,4.0,\"rural\",\"yes\",\"200000 or more\"],[12.0,\"Yes\",15.0,\"yes\",4.0,14.0,1.0,2.0,\"rural\",\"no\",\"150000 - 200,000\"],[7.0,\"Yes\",10.0,\"yes\",3.0,14.0,5.0,4.0,\"urban\",\"yes\",\"25000 - 50000\"],[7.0,\"Yes\",4.0,\"yes\",1.0,20.0,6.0,3.0,\"rural\",\"yes\",\"150000 - 200,000\"],[1.0,\"Yes\",4.0,\"yes\",2.0,16.0,5.0,3.0,\"rural\",\"no\",\"50000 - 75000\"],[12.0,\"Yes\",15.0,\"yes\",3.0,14.0,4.0,3.0,\"urban\",\"yes\",\"200000 or more\"],[1.0,\"Yes\",10.0,\"yes\",5.0,20.0,6.0,5.0,\"rural\",\"yes\",\"200000 or more\"],[12.0,\"Yes\",10.0,\"yes\",2.0,20.0,6.0,2.0,\"rural\",\"no\",\"75,000 - 100000\"],[12.0,\"Yes\",7.0,\"yes\",1.0,14.0,3.0,3.0,\"rural\",\"yes\",\"75,000 - 100000\"],[3.0,\"Yes\",7.0,\"yes\",4.0,12.0,1.0,2.0,\"rural\",\"no\",\"25000 - 50000\"],[3.0,\"Yes\",10.0,\"yes\",2.0,14.0,4.0,4.0,\"rural\",\"no\",\"200000 or more\"],[12.0,\"Yes\",15.0,\"yes\",3.0,18.0,5.0,4.0,\"urban\",\"no\",\"25000 - 50000\"],[2.0,\"Yes\",7.0,\"no\",4.0,14.0,4.0,3.0,\"urban\",\"no\",\"25000 - 50000\"],[1.0,\"Yes\",7.0,\"yes\",4.0,20.0,6.0,5.0,\"rural\",\"yes\",\"100000 - 150000\"],[7.0,\"Yes\",4.0,\"yes\",2.0,18.0,6.0,2.0,\"urban\",\"yes\",\"200000 or more\"],[1.0,\"Yes\",1.5,\"yes\",5.0,14.0,5.0,3.0,\"rural\",\"no\",\"25000 - 50000\"],[12.0,\"Yes\",15.0,\"no\",3.0,17.0,5.0,1.0,\"rural\",\"yes\",\"150000 - 200,000\"],[12.0,\"Yes\",15.0,\"yes\",2.0,12.0,1.0,2.0,\"urban\",\"yes\",\"50000 - 75000\"],[7.0,\"Yes\",15.0,\"yes\",3.0,20.0,5.0,4.0,\"rural\",\"no\",\"25000 - 50000\"],[12.0,\"Yes\",10.0,\"no\",2.0,18.0,4.0,2.0,\"urban\",\"no\",\"Under 25000\"],[12.0,\"Yes\",15.0,\"yes\",3.0,9.0,1.0,1.0,\"rural\",\"no\",\"75,000 - 100000\"],[7.0,\"Yes\",15.0,\"yes\",5.0,20.0,4.0,5.0,\"rural\",\"yes\",\"50000 - 75000\"],[12.0,\"Yes\",15.0,\"yes\",4.0,20.0,6.0,4.0,\"rural\",\"yes\",\"75,000 - 100000\"],[2.0,\"Yes\",15.0,\"yes\",2.0,17.0,6.0,3.0,\"urban\",\"yes\",\"Under 25000\"],[12.0,\"Yes\",15.0,\"yes\",3.0,17.0,6.0,3.0,\"urban\",\"yes\",\"100000 - 150000\"],[12.0,\"Yes\",15.0,\"yes\",5.0,17.0,5.0,2.0,\"rural\",\"no\",\"Under 25000\"],[7.0,\"Yes\",10.0,\"yes\",2.0,20.0,6.0,4.0,\"urban\",\"no\",\"75,000 - 100000\"],[2.0,\"Yes\",15.0,\"yes\",2.0,16.0,5.0,4.0,\"rural\",\"no\",\"25000 - 50000\"],[12.0,\"Yes\",15.0,\"yes\",1.0,14.0,5.0,2.0,\"rural\",\"yes\",\"150000 - 200,000\"],[7.0,\"Yes\",10.0,\"yes\",3.0,17.0,6.0,3.0,\"rural\",\"yes\",\"25000 - 50000\"],[2.0,\"Yes\",15.0,\"yes\",4.0,18.0,5.0,1.0,\"urban\",\"yes\",\"Under 25000\"],[7.0,\"Yes\",1.5,\"no\",2.0,17.0,5.0,5.0,\"urban\",\"no\",\"50000 - 75000\"],[3.0,\"Yes\",15.0,\"yes\",2.0,17.0,5.0,2.0,\"rural\",\"yes\",\"100000 - 150000\"],[12.0,\"Yes\",15.0,\"yes\",2.0,17.0,5.0,4.0,\"rural\",\"yes\",\"25000 - 50000\"],[12.0,\"Yes\",4.0,\"no\",2.0,14.0,5.0,5.0,\"rural\",\"no\",\"Under 25000\"],[2.0,\"Yes\",10.0,\"yes\",4.0,14.0,1.0,5.0,\"rural\",\"no\",\"Under 25000\"],[1.0,\"Yes\",4.0,\"yes\",3.0,16.0,1.0,3.0,\"rural\",\"yes\",\"50000 - 75000\"],[12.0,\"Yes\",7.0,\"no\",4.0,16.0,5.0,5.0,\"rural\",\"no\",\"200000 or more\"],[2.0,\"Yes\",4.0,\"yes\",1.0,16.0,3.0,5.0,\"rural\",\"yes\",\"100000 - 150000\"],[7.0,\"Yes\",15.0,\"yes\",2.0,17.0,6.0,4.0,\"urban\",\"no\",\"50000 - 75000\"],[2.0,\"Yes\",4.0,\"no\",1.0,17.0,3.0,1.0,\"rural\",\"yes\",\"Under 25000\"],[7.0,\"Yes\",15.0,\"yes\",5.0,18.0,5.0,4.0,\"urban\",\"no\",\"200000 or more\"],[7.0,\"Yes\",4.0,\"no\",1.0,16.0,3.0,5.0,\"rural\",\"yes\",\"50000 - 75000\"],[2.0,\"Yes\",4.0,\"yes\",4.0,18.0,6.0,4.0,\"urban\",\"yes\",\"200000 or more\"],[1.0,\"Yes\",1.5,\"yes\",3.0,18.0,5.0,2.0,\"urban\",\"yes\",\"150000 - 200,000\"],[3.0,\"Yes\",15.0,\"yes\",2.0,17.0,5.0,4.0,\"urban\",\"yes\",\"200000 or more\"],[1.0,\"Yes\",7.0,\"yes\",4.0,16.0,4.0,4.0,\"urban\",\"yes\",\"75,000 - 100000\"],[12.0,\"Yes\",15.0,\"no\",3.0,14.0,6.0,2.0,\"rural\",\"yes\",\"Under 25000\"],[1.0,\"Yes\",15.0,\"yes\",3.0,16.0,6.0,3.0,\"rural\",\"no\",\"25000 - 50000\"],[1.0,\"Yes\",4.0,\"yes\",1.0,18.0,5.0,4.0,\"urban\",\"no\",\"150000 - 200,000\"],[2.0,\"Yes\",15.0,\"yes\",4.0,20.0,7.0,3.0,\"rural\",\"no\",\"Under 25000\"],[7.0,\"Yes\",15.0,\"yes\",3.0,20.0,6.0,4.0,\"rural\",\"yes\",\"75,000 - 100000\"],[3.0,\"Yes\",1.5,\"no\",2.0,12.0,3.0,3.0,\"rural\",\"yes\",\"Under 25000\"],[3.0,\"Yes\",4.0,\"yes\",3.0,20.0,6.0,2.0,\"urban\",\"yes\",\"200000 or more\"],[2.0,\"Yes\",15.0,\"yes\",5.0,20.0,6.0,5.0,\"urban\",\"yes\",\"75,000 - 100000\"],[12.0,\"Yes\",15.0,\"yes\",1.0,18.0,5.0,5.0,\"urban\",\"no\",\"150000 - 200,000\"],[12.0,\"Yes\",15.0,\"no\",1.0,18.0,6.0,5.0,\"urban\",\"yes\",\"50000 - 75000\"],[3.0,\"Yes\",15.0,\"yes\",4.0,16.0,4.0,4.0,\"rural\",\"yes\",\"25000 - 50000\"],[7.0,\"Yes\",15.0,\"yes\",3.0,14.0,3.0,2.0,\"urban\",\"yes\",\"100000 - 150000\"],[7.0,\"Yes\",7.0,\"yes\",4.0,16.0,1.0,2.0,\"urban\",\"no\",\"200000 or more\"],[12.0,\"Yes\",15.0,\"yes\",3.0,18.0,6.0,2.0,\"urban\",\"no\",\"50000 - 75000\"],[7.0,\"Yes\",15.0,\"yes\",2.0,14.0,3.0,2.0,\"urban\",\"no\",\"25000 - 50000\"],[12.0,\"Yes\",7.0,\"yes\",2.0,17.0,5.0,4.0,\"urban\",\"yes\",\"200000 or more\"],[3.0,\"Yes\",10.0,\"yes\",4.0,14.0,4.0,3.0,\"rural\",\"yes\",\"75,000 - 100000\"],[7.0,\"Yes\",15.0,\"yes\",3.0,16.0,4.0,2.0,\"rural\",\"no\",\"25000 - 50000\"],[1.0,\"Yes\",1.5,\"yes\",1.0,12.0,2.0,5.0,\"rural\",\"no\",\"200000 or more\"],[7.0,\"Yes\",10.0,\"yes\",2.0,18.0,5.0,4.0,\"urban\",\"no\",\"150000 - 200,000\"],[2.0,\"Yes\",10.0,\"yes\",2.0,17.0,6.0,5.0,\"rural\",\"no\",\"150000 - 200,000\"],[2.0,\"Yes\",7.0,\"yes\",3.0,18.0,6.0,2.0,\"urban\",\"yes\",\"50000 - 75000\"],[1.0,\"Yes\",15.0,\"yes\",3.0,14.0,1.0,5.0,\"urban\",\"yes\",\"50000 - 75000\"],[3.0,\"Yes\",4.0,\"yes\",5.0,16.0,4.0,3.0,\"rural\",\"no\",\"Under 25000\"],[0.0,\"Yes\",13.0,\"no\",4.0,15.0,3.0,3.0,\"rural\",\"yes\",\"25000 - 50000\"],[6.0,\"Yes\",9.0,\"yes\",3.0,14.0,4.0,3.0,\"urban\",\"yes\",\"50000 - 75000\"],[1.0,\"Yes\",4.0,\"yes\",2.0,13.0,2.0,4.0,\"rural\",\"no\",\"75,000 - 100000\"],[1.0,\"Yes\",12.0,\"yes\",2.0,14.0,3.0,3.0,\"urban\",\"yes\",\"150000 - 200,000\"],[5.0,\"Yes\",6.0,\"yes\",2.0,15.0,5.0,3.0,\"rural\",\"no\",\"200000 or more\"],[0.0,\"Yes\",13.0,\"yes\",3.0,16.0,2.0,3.0,\"rural\",\"yes\",\"150000 - 200,000\"],[0.0,\"Yes\",0.0,\"no\",1.0,18.0,5.0,1.0,\"urban\",\"no\",\"200000 or more\"],[3.0,\"Yes\",12.0,\"no\",4.0,15.0,0.0,3.0,\"rural\",\"yes\",\"75,000 - 100000\"],[3.0,\"Yes\",9.0,\"yes\",1.0,16.0,2.0,2.0,\"urban\",\"yes\",\"200000 or more\"],[9.0,\"Yes\",1.0,\"yes\",2.0,18.0,2.0,4.0,\"rural\",\"no\",\"200000 or more\"],[2.0,\"Yes\",10.0,\"yes\",3.0,21.0,2.0,1.0,\"rural\",\"no\",\"150000 - 200,000\"],[2.0,\"Yes\",14.0,\"yes\",2.0,15.0,5.0,4.0,\"rural\",\"yes\",\"200000 or more\"],[4.0,\"Yes\",5.0,\"yes\",0.0,17.0,4.0,3.0,\"rural\",\"no\",\"50000 - 75000\"],[7.0,\"Yes\",15.0,\"yes\",3.0,19.0,2.0,5.0,\"rural\",\"yes\",\"Under 25000\"],[4.0,\"Yes\",7.0,\"yes\",1.0,15.0,7.0,4.0,\"rural\",\"yes\",\"50000 - 75000\"],[0.0,\"Yes\",1.0,\"yes\",5.0,16.0,5.0,4.0,\"rural\",\"no\",\"Under 25000\"],[1.0,\"Yes\",5.0,\"no\",6.0,10.0,3.0,5.0,\"rural\",\"no\",\"100000 - 150000\"],[1.0,\"Yes\",1.0,\"yes\",1.0,16.0,5.0,4.0,\"urban\",\"no\",\"Under 25000\"],[1.0,\"Yes\",1.0,\"yes\",4.0,18.0,1.0,4.0,\"rural\",\"no\",\"100000 - 150000\"],[0.0,\"Yes\",7.0,\"no\",4.0,17.0,3.0,3.0,\"rural\",\"yes\",\"25000 - 50000\"],[6.0,\"Yes\",6.0,\"no\",3.0,13.0,1.0,4.0,\"urban\",\"no\",\"Under 25000\"],[1.0,\"Yes\",6.0,\"yes\",1.0,15.0,3.0,2.0,\"rural\",\"yes\",\"25000 - 50000\"],[2.0,\"Yes\",10.0,\"yes\",1.0,14.0,1.0,4.0,\"rural\",\"no\",\"Under 25000\"],[0.0,\"Yes\",7.0,\"yes\",2.0,14.0,2.0,3.0,\"urban\",\"yes\",\"Under 25000\"],[1.0,\"Yes\",3.0,\"yes\",1.0,10.0,3.0,1.0,\"rural\",\"yes\",\"75,000 - 100000\"],[3.0,\"Yes\",9.0,\"yes\",3.0,11.0,3.0,4.0,\"rural\",\"yes\",\"25000 - 50000\"],[2.0,\"Yes\",0.0,\"no\",1.0,14.0,3.0,3.0,\"rural\",\"no\",\"25000 - 50000\"],[0.0,\"Yes\",18.0,\"yes\",4.0,13.0,1.0,3.0,\"rural\",\"yes\",\"200000 or more\"],[2.0,\"Yes\",18.0,\"yes\",1.0,14.0,6.0,3.0,\"rural\",\"yes\",\"50000 - 75000\"],[4.0,\"Yes\",0.0,\"no\",1.0,13.0,4.0,2.0,\"rural\",\"no\",\"100000 - 150000\"],[5.0,\"Yes\",20.0,\"yes\",2.0,14.0,5.0,3.0,\"rural\",\"yes\",\"150000 - 200,000\"],[0.0,\"Yes\",18.0,\"yes\",1.0,13.0,2.0,3.0,\"rural\",\"no\",\"25000 - 50000\"],[5.0,\"Yes\",13.0,\"no\",2.0,18.0,5.0,3.0,\"rural\",\"yes\",\"200000 or more\"],[2.0,\"Yes\",4.0,\"no\",1.0,16.0,2.0,2.0,\"urban\",\"no\",\"25000 - 50000\"],[4.0,\"Yes\",6.0,\"yes\",4.0,14.0,3.0,3.0,\"rural\",\"no\",\"75,000 - 100000\"],[1.0,\"Yes\",3.0,\"yes\",2.0,17.0,0.0,5.0,\"urban\",\"no\",\"25000 - 50000\"],[0.0,\"Yes\",13.0,\"yes\",4.0,17.0,1.0,5.0,\"urban\",\"no\",\"75,000 - 100000\"],[2.0,\"Yes\",13.0,\"yes\",2.0,15.0,5.0,3.0,\"urban\",\"no\",\"25000 - 50000\"],[4.0,\"Yes\",1.0,\"yes\",1.0,14.0,4.0,3.0,\"urban\",\"no\",\"75,000 - 100000\"],[4.0,\"Yes\",11.0,\"yes\",4.0,14.0,5.0,2.0,\"urban\",\"yes\",\"200000 or more\"],[0.0,\"Yes\",13.0,\"yes\",0.0,20.0,6.0,4.0,\"rural\",\"no\",\"75,000 - 100000\"],[3.0,\"Yes\",4.0,\"yes\",3.0,15.0,4.0,2.0,\"rural\",\"yes\",\"100000 - 150000\"],[5.0,\"Yes\",2.0,\"yes\",3.0,14.0,2.0,3.0,\"rural\",\"no\",\"100000 - 150000\"],[2.0,\"Yes\",4.0,\"yes\",2.0,15.0,4.0,1.0,\"rural\",\"yes\",\"150000 - 200,000\"],[4.0,\"Yes\",13.0,\"no\",3.0,18.0,5.0,3.0,\"urban\",\"no\",\"75,000 - 100000\"],[7.0,\"Yes\",1.0,\"yes\",3.0,15.0,4.0,4.0,\"rural\",\"yes\",\"25000 - 50000\"],[7.0,\"Yes\",8.0,\"yes\",4.0,19.0,2.0,2.0,\"rural\",\"yes\",\"200000 or more\"],[0.0,\"Yes\",2.0,\"yes\",3.0,14.0,3.0,3.0,\"urban\",\"no\",\"25000 - 50000\"],[2.0,\"Yes\",14.0,\"no\",1.0,12.0,0.0,4.0,\"rural\",\"yes\",\"150000 - 200,000\"],[1.0,\"Yes\",1.0,\"no\",1.0,10.0,4.0,1.0,\"rural\",\"no\",\"75,000 - 100000\"],[1.0,\"Yes\",15.0,\"yes\",1.0,14.0,2.0,5.0,\"rural\",\"no\",\"200000 or more\"],[1.0,\"Yes\",6.0,\"yes\",2.0,16.0,3.0,2.0,\"rural\",\"no\",\"50000 - 75000\"],[4.0,\"Yes\",15.0,\"no\",3.0,14.0,2.0,2.0,\"rural\",\"yes\",\"75,000 - 100000\"],[0.0,\"Yes\",7.0,\"no\",3.0,14.0,4.0,4.0,\"rural\",\"yes\",\"75,000 - 100000\"],[3.0,\"Yes\",13.0,\"yes\",4.0,16.0,2.0,2.0,\"rural\",\"no\",\"150000 - 200,000\"],[0.0,\"Yes\",16.0,\"no\",1.0,16.0,4.0,4.0,\"urban\",\"yes\",\"50000 - 75000\"],[6.0,\"Yes\",1.0,\"no\",2.0,16.0,0.0,3.0,\"rural\",\"no\",\"75,000 - 100000\"],[6.0,\"Yes\",12.0,\"yes\",2.0,19.0,6.0,3.0,\"urban\",\"no\",\"150000 - 200,000\"],[3.0,\"Yes\",20.0,\"yes\",0.0,14.0,3.0,2.0,\"urban\",\"yes\",\"25000 - 50000\"],[6.0,\"Yes\",5.0,\"no\",2.0,14.0,3.0,3.0,\"rural\",\"no\",\"100000 - 150000\"],[2.0,\"Yes\",16.0,\"yes\",4.0,15.0,2.0,4.0,\"urban\",\"no\",\"25000 - 50000\"],[1.0,\"Yes\",4.0,\"no\",2.0,13.0,3.0,5.0,\"urban\",\"no\",\"150000 - 200,000\"],[0.0,\"Yes\",8.0,\"yes\",1.0,16.0,3.0,2.0,\"urban\",\"yes\",\"200000 or more\"],[4.0,\"Yes\",11.0,\"yes\",1.0,13.0,4.0,3.0,\"urban\",\"no\",\"Under 25000\"],[2.0,\"Yes\",0.0,\"yes\",1.0,17.0,3.0,3.0,\"urban\",\"no\",\"100000 - 150000\"],[5.0,\"Yes\",7.0,\"yes\",7.0,17.0,4.0,3.0,\"urban\",\"no\",\"75,000 - 100000\"],[1.0,\"Yes\",10.0,\"yes\",0.0,18.0,6.0,4.0,\"rural\",\"yes\",\"100000 - 150000\"],[3.0,\"Yes\",4.0,\"no\",1.0,11.0,6.0,2.0,\"rural\",\"yes\",\"100000 - 150000\"],[0.0,\"Yes\",16.0,\"no\",3.0,17.0,3.0,4.0,\"urban\",\"no\",\"75,000 - 100000\"],[4.0,\"Yes\",11.0,\"yes\",4.0,16.0,4.0,3.0,\"rural\",\"yes\",\"25000 - 50000\"],[9.0,\"Yes\",18.0,\"no\",1.0,11.0,3.0,4.0,\"urban\",\"yes\",\"50000 - 75000\"],[3.0,\"Yes\",12.0,\"no\",3.0,17.0,4.0,4.0,\"urban\",\"no\",\"150000 - 200,000\"],[3.0,\"Yes\",11.0,\"yes\",2.0,12.0,5.0,3.0,\"urban\",\"yes\",\"Under 25000\"],[1.0,\"Yes\",10.0,\"no\",4.0,15.0,6.0,5.0,\"rural\",\"yes\",\"150000 - 200,000\"],[0.0,\"Yes\",5.0,\"yes\",3.0,15.0,3.0,3.0,\"rural\",\"no\",\"50000 - 75000\"],[1.0,\"Yes\",12.0,\"yes\",3.0,16.0,6.0,5.0,\"urban\",\"no\",\"200000 or more\"],[2.0,\"Yes\",7.0,\"no\",3.0,15.0,4.0,4.0,\"rural\",\"no\",\"100000 - 150000\"],[1.0,\"Yes\",6.0,\"yes\",4.0,16.0,4.0,4.0,\"rural\",\"no\",\"75,000 - 100000\"],[1.0,\"Yes\",3.0,\"yes\",1.0,13.0,6.0,3.0,\"urban\",\"no\",\"150000 - 200,000\"],[1.0,\"Yes\",13.0,\"yes\",4.0,13.0,4.0,3.0,\"urban\",\"no\",\"50000 - 75000\"],[5.0,\"Yes\",7.0,\"yes\",4.0,16.0,5.0,3.0,\"urban\",\"yes\",\"25000 - 50000\"],[1.0,\"Yes\",10.0,\"no\",4.0,12.0,5.0,2.0,\"rural\",\"yes\",\"100000 - 150000\"],[6.0,\"Yes\",11.0,\"yes\",2.0,17.0,4.0,3.0,\"urban\",\"yes\",\"Under 25000\"],[4.0,\"Yes\",14.0,\"yes\",3.0,14.0,3.0,3.0,\"rural\",\"yes\",\"100000 - 150000\"],[2.0,\"Yes\",0.0,\"no\",2.0,16.0,4.0,4.0,\"rural\",\"no\",\"200000 or more\"],[8.0,\"Yes\",5.0,\"yes\",1.0,16.0,3.0,3.0,\"urban\",\"yes\",\"75,000 - 100000\"],[0.0,\"Yes\",6.0,\"yes\",2.0,14.0,5.0,3.0,\"rural\",\"no\",\"25000 - 50000\"],[5.0,\"Yes\",5.0,\"yes\",3.0,17.0,4.0,3.0,\"urban\",\"yes\",\"50000 - 75000\"],[0.0,\"Yes\",7.0,\"yes\",3.0,19.0,4.0,4.0,\"urban\",\"no\",\"150000 - 200,000\"],[5.0,\"Yes\",11.0,\"yes\",4.0,18.0,3.0,4.0,\"urban\",\"yes\",\"150000 - 200,000\"],[2.0,\"Yes\",18.0,\"yes\",4.0,15.0,2.0,2.0,\"rural\",\"no\",\"25000 - 50000\"],[2.0,\"Yes\",14.0,\"no\",3.0,12.0,3.0,4.0,\"urban\",\"no\",\"150000 - 200,000\"],[1.0,\"Yes\",0.0,\"yes\",4.0,18.0,3.0,4.0,\"rural\",\"yes\",\"150000 - 200,000\"],[1.0,\"Yes\",2.0,\"yes\",3.0,13.0,0.0,4.0,\"urban\",\"yes\",\"50000 - 75000\"]],\"hovertemplate\":\"affair_status=%{customdata[1]}<br>gender=%{x}<br>age=%{y}<br>affairs=%{customdata[0]}<br>yearsmarried=%{customdata[2]}<br>children=%{customdata[3]}<br>religiousness=%{customdata[4]}<br>education=%{customdata[5]}<br>occupation=%{customdata[6]}<br>rating=%{customdata[7]}<br>region=%{customdata[8]}<br>frequentflyer=%{customdata[9]}<br>income_level=%{customdata[10]}<extra></extra>\",\"legendgroup\":\"Yes\",\"marker\":{\"color\":\"#EF553B\"},\"name\":\"Yes\",\"offsetgroup\":\"Yes\",\"orientation\":\"v\",\"points\":\"all\",\"scalegroup\":\"True\",\"showlegend\":true,\"x\":[\"male\",\"female\",\"male\",\"female\",\"male\",\"female\",\"male\",\"female\",\"male\",\"female\",\"female\",\"female\",\"female\",\"male\",\"female\",\"male\",\"male\",\"female\",\"male\",\"female\",\"female\",\"female\",\"male\",\"female\",\"female\",\"female\",\"male\",\"male\",\"female\",\"female\",\"male\",\"female\",\"female\",\"male\",\"female\",\"female\",\"male\",\"female\",\"male\",\"male\",\"female\",\"male\",\"male\",\"male\",\"female\",\"male\",\"female\",\"male\",\"male\",\"male\",\"male\",\"male\",\"female\",\"male\",\"female\",\"male\",\"male\",\"male\",\"male\",\"male\",\"female\",\"female\",\"male\",\"male\",\"male\",\"female\",\"male\",\"male\",\"female\",\"female\",\"male\",\"male\",\"male\",\"female\",\"female\",\"female\",\"female\",\"male\",\"female\",\"male\",\"male\",\"female\",\"female\",\"male\",\"male\",\"female\",\"female\",\"male\",\"female\",\"female\",\"male\",\"male\",\"female\",\"female\",\"female\",\"male\",\"male\",\"female\",\"male\",\"male\",\"female\",\"male\",\"male\",\"male\",\"male\",\"female\",\"male\",\"male\",\"female\",\"female\",\"male\",\"female\",\"female\",\"female\",\"male\",\"female\",\"female\",\"female\",\"female\",\"female\",\"male\",\"female\",\"female\",\"male\",\"male\",\"male\",\"male\",\"male\",\"male\",\"male\",\"male\",\"male\",\"female\",\"male\",\"female\",\"female\",\"female\",\"male\",\"female\",\"male\",\"male\",\"male\",\"male\",\"female\",\"male\",\"male\",\"female\",\"male\",\"male\",\"male\",\"female\",\"female\",\"female\",\"male\",\"female\",\"female\",\"male\",\"male\",\"female\",\"female\",\"male\",\"male\",\"female\",\"male\",\"female\",\"female\",\"female\",\"female\",\"female\",\"female\",\"male\",\"female\",\"female\",\"female\",\"female\",\"male\",\"female\",\"female\",\"male\",\"male\",\"female\",\"male\",\"male\",\"female\",\"male\",\"female\",\"female\",\"female\",\"female\",\"female\",\"female\",\"male\",\"male\",\"female\",\"male\",\"male\",\"female\",\"female\",\"female\",\"female\",\"female\",\"female\",\"male\",\"female\",\"male\",\"male\",\"male\",\"male\",\"male\",\"male\",\"female\",\"female\",\"female\",\"female\",\"female\",\"male\",\"female\",\"male\",\"female\",\"male\",\"female\",\"female\",\"male\",\"male\",\"female\",\"female\",\"male\",\"male\",\"female\",\"female\",\"female\",\"female\",\"male\",\"male\",\"male\",\"male\",\"female\",\"female\",\"female\",\"female\",\"male\",\"female\"],\"x0\":\" \",\"xaxis\":\"x\",\"y\":[27,27,37,32,22,22,37,22,37,32,37,42,42,37,32,27,37,27,42,47,27,27,27,27,42,27,27,32,27,32,27,32,32,37,37,32,52,42,52,37,22,27,27,47,42,27,32,32,47,37,22,27,52,27,27,32,32,22,22,42,57,32,27,32,57,42,37,42,52,27,32,22,27,37,32,27,32,32,42,32,37,27,42,27,37,27,27,32,32,22,32,27,22,32,42,42,32,32,57,47,42,37,37,27,37,32,32,37,27,47,37,27,27,22,52,27,37,27,32,22,32,22,42,32,37,42,27,37,37,22,32,32,52,47,32,32,27,42,42,27,32,47,22,32,32,22,32,38,27,37,38,51,40,41,39,22,51,39,27,44,20,38,44,33,29,36,19,28,23,40,37,32,30,34,32,24,29,45,20,39,19,31,24,24,36,33,33,41,30,27,34,28,26,37,27,39,27,21,35,47,38,42,51,38,33,36,29,27,22,33,30,22,37,53,21,44,31,37,34,27,34,44,35,30,27,35,22,43,43,42,35,33,34,39,46,24,31,40,26,34,43,23],\"y0\":\" \",\"yaxis\":\"y\",\"type\":\"violin\"}],                        {\"template\":{\"data\":{\"histogram2dcontour\":[{\"type\":\"histogram2dcontour\",\"colorbar\":{\"outlinewidth\":0,\"ticks\":\"\"},\"colorscale\":[[0.0,\"#0d0887\"],[0.1111111111111111,\"#46039f\"],[0.2222222222222222,\"#7201a8\"],[0.3333333333333333,\"#9c179e\"],[0.4444444444444444,\"#bd3786\"],[0.5555555555555556,\"#d8576b\"],[0.6666666666666666,\"#ed7953\"],[0.7777777777777778,\"#fb9f3a\"],[0.8888888888888888,\"#fdca26\"],[1.0,\"#f0f921\"]]}],\"choropleth\":[{\"type\":\"choropleth\",\"colorbar\":{\"outlinewidth\":0,\"ticks\":\"\"}}],\"histogram2d\":[{\"type\":\"histogram2d\",\"colorbar\":{\"outlinewidth\":0,\"ticks\":\"\"},\"colorscale\":[[0.0,\"#0d0887\"],[0.1111111111111111,\"#46039f\"],[0.2222222222222222,\"#7201a8\"],[0.3333333333333333,\"#9c179e\"],[0.4444444444444444,\"#bd3786\"],[0.5555555555555556,\"#d8576b\"],[0.6666666666666666,\"#ed7953\"],[0.7777777777777778,\"#fb9f3a\"],[0.8888888888888888,\"#fdca26\"],[1.0,\"#f0f921\"]]}],\"heatmap\":[{\"type\":\"heatmap\",\"colorbar\":{\"outlinewidth\":0,\"ticks\":\"\"},\"colorscale\":[[0.0,\"#0d0887\"],[0.1111111111111111,\"#46039f\"],[0.2222222222222222,\"#7201a8\"],[0.3333333333333333,\"#9c179e\"],[0.4444444444444444,\"#bd3786\"],[0.5555555555555556,\"#d8576b\"],[0.6666666666666666,\"#ed7953\"],[0.7777777777777778,\"#fb9f3a\"],[0.8888888888888888,\"#fdca26\"],[1.0,\"#f0f921\"]]}],\"heatmapgl\":[{\"type\":\"heatmapgl\",\"colorbar\":{\"outlinewidth\":0,\"ticks\":\"\"},\"colorscale\":[[0.0,\"#0d0887\"],[0.1111111111111111,\"#46039f\"],[0.2222222222222222,\"#7201a8\"],[0.3333333333333333,\"#9c179e\"],[0.4444444444444444,\"#bd3786\"],[0.5555555555555556,\"#d8576b\"],[0.6666666666666666,\"#ed7953\"],[0.7777777777777778,\"#fb9f3a\"],[0.8888888888888888,\"#fdca26\"],[1.0,\"#f0f921\"]]}],\"contourcarpet\":[{\"type\":\"contourcarpet\",\"colorbar\":{\"outlinewidth\":0,\"ticks\":\"\"}}],\"contour\":[{\"type\":\"contour\",\"colorbar\":{\"outlinewidth\":0,\"ticks\":\"\"},\"colorscale\":[[0.0,\"#0d0887\"],[0.1111111111111111,\"#46039f\"],[0.2222222222222222,\"#7201a8\"],[0.3333333333333333,\"#9c179e\"],[0.4444444444444444,\"#bd3786\"],[0.5555555555555556,\"#d8576b\"],[0.6666666666666666,\"#ed7953\"],[0.7777777777777778,\"#fb9f3a\"],[0.8888888888888888,\"#fdca26\"],[1.0,\"#f0f921\"]]}],\"surface\":[{\"type\":\"surface\",\"colorbar\":{\"outlinewidth\":0,\"ticks\":\"\"},\"colorscale\":[[0.0,\"#0d0887\"],[0.1111111111111111,\"#46039f\"],[0.2222222222222222,\"#7201a8\"],[0.3333333333333333,\"#9c179e\"],[0.4444444444444444,\"#bd3786\"],[0.5555555555555556,\"#d8576b\"],[0.6666666666666666,\"#ed7953\"],[0.7777777777777778,\"#fb9f3a\"],[0.8888888888888888,\"#fdca26\"],[1.0,\"#f0f921\"]]}],\"mesh3d\":[{\"type\":\"mesh3d\",\"colorbar\":{\"outlinewidth\":0,\"ticks\":\"\"}}],\"scatter\":[{\"fillpattern\":{\"fillmode\":\"overlay\",\"size\":10,\"solidity\":0.2},\"type\":\"scatter\"}],\"parcoords\":[{\"type\":\"parcoords\",\"line\":{\"colorbar\":{\"outlinewidth\":0,\"ticks\":\"\"}}}],\"scatterpolargl\":[{\"type\":\"scatterpolargl\",\"marker\":{\"colorbar\":{\"outlinewidth\":0,\"ticks\":\"\"}}}],\"bar\":[{\"error_x\":{\"color\":\"#2a3f5f\"},\"error_y\":{\"color\":\"#2a3f5f\"},\"marker\":{\"line\":{\"color\":\"#E5ECF6\",\"width\":0.5},\"pattern\":{\"fillmode\":\"overlay\",\"size\":10,\"solidity\":0.2}},\"type\":\"bar\"}],\"scattergeo\":[{\"type\":\"scattergeo\",\"marker\":{\"colorbar\":{\"outlinewidth\":0,\"ticks\":\"\"}}}],\"scatterpolar\":[{\"type\":\"scatterpolar\",\"marker\":{\"colorbar\":{\"outlinewidth\":0,\"ticks\":\"\"}}}],\"histogram\":[{\"marker\":{\"pattern\":{\"fillmode\":\"overlay\",\"size\":10,\"solidity\":0.2}},\"type\":\"histogram\"}],\"scattergl\":[{\"type\":\"scattergl\",\"marker\":{\"colorbar\":{\"outlinewidth\":0,\"ticks\":\"\"}}}],\"scatter3d\":[{\"type\":\"scatter3d\",\"line\":{\"colorbar\":{\"outlinewidth\":0,\"ticks\":\"\"}},\"marker\":{\"colorbar\":{\"outlinewidth\":0,\"ticks\":\"\"}}}],\"scattermapbox\":[{\"type\":\"scattermapbox\",\"marker\":{\"colorbar\":{\"outlinewidth\":0,\"ticks\":\"\"}}}],\"scatterternary\":[{\"type\":\"scatterternary\",\"marker\":{\"colorbar\":{\"outlinewidth\":0,\"ticks\":\"\"}}}],\"scattercarpet\":[{\"type\":\"scattercarpet\",\"marker\":{\"colorbar\":{\"outlinewidth\":0,\"ticks\":\"\"}}}],\"carpet\":[{\"aaxis\":{\"endlinecolor\":\"#2a3f5f\",\"gridcolor\":\"white\",\"linecolor\":\"white\",\"minorgridcolor\":\"white\",\"startlinecolor\":\"#2a3f5f\"},\"baxis\":{\"endlinecolor\":\"#2a3f5f\",\"gridcolor\":\"white\",\"linecolor\":\"white\",\"minorgridcolor\":\"white\",\"startlinecolor\":\"#2a3f5f\"},\"type\":\"carpet\"}],\"table\":[{\"cells\":{\"fill\":{\"color\":\"#EBF0F8\"},\"line\":{\"color\":\"white\"}},\"header\":{\"fill\":{\"color\":\"#C8D4E3\"},\"line\":{\"color\":\"white\"}},\"type\":\"table\"}],\"barpolar\":[{\"marker\":{\"line\":{\"color\":\"#E5ECF6\",\"width\":0.5},\"pattern\":{\"fillmode\":\"overlay\",\"size\":10,\"solidity\":0.2}},\"type\":\"barpolar\"}],\"pie\":[{\"automargin\":true,\"type\":\"pie\"}]},\"layout\":{\"autotypenumbers\":\"strict\",\"colorway\":[\"#636efa\",\"#EF553B\",\"#00cc96\",\"#ab63fa\",\"#FFA15A\",\"#19d3f3\",\"#FF6692\",\"#B6E880\",\"#FF97FF\",\"#FECB52\"],\"font\":{\"color\":\"#2a3f5f\"},\"hovermode\":\"closest\",\"hoverlabel\":{\"align\":\"left\"},\"paper_bgcolor\":\"white\",\"plot_bgcolor\":\"#E5ECF6\",\"polar\":{\"bgcolor\":\"#E5ECF6\",\"angularaxis\":{\"gridcolor\":\"white\",\"linecolor\":\"white\",\"ticks\":\"\"},\"radialaxis\":{\"gridcolor\":\"white\",\"linecolor\":\"white\",\"ticks\":\"\"}},\"ternary\":{\"bgcolor\":\"#E5ECF6\",\"aaxis\":{\"gridcolor\":\"white\",\"linecolor\":\"white\",\"ticks\":\"\"},\"baxis\":{\"gridcolor\":\"white\",\"linecolor\":\"white\",\"ticks\":\"\"},\"caxis\":{\"gridcolor\":\"white\",\"linecolor\":\"white\",\"ticks\":\"\"}},\"coloraxis\":{\"colorbar\":{\"outlinewidth\":0,\"ticks\":\"\"}},\"colorscale\":{\"sequential\":[[0.0,\"#0d0887\"],[0.1111111111111111,\"#46039f\"],[0.2222222222222222,\"#7201a8\"],[0.3333333333333333,\"#9c179e\"],[0.4444444444444444,\"#bd3786\"],[0.5555555555555556,\"#d8576b\"],[0.6666666666666666,\"#ed7953\"],[0.7777777777777778,\"#fb9f3a\"],[0.8888888888888888,\"#fdca26\"],[1.0,\"#f0f921\"]],\"sequentialminus\":[[0.0,\"#0d0887\"],[0.1111111111111111,\"#46039f\"],[0.2222222222222222,\"#7201a8\"],[0.3333333333333333,\"#9c179e\"],[0.4444444444444444,\"#bd3786\"],[0.5555555555555556,\"#d8576b\"],[0.6666666666666666,\"#ed7953\"],[0.7777777777777778,\"#fb9f3a\"],[0.8888888888888888,\"#fdca26\"],[1.0,\"#f0f921\"]],\"diverging\":[[0,\"#8e0152\"],[0.1,\"#c51b7d\"],[0.2,\"#de77ae\"],[0.3,\"#f1b6da\"],[0.4,\"#fde0ef\"],[0.5,\"#f7f7f7\"],[0.6,\"#e6f5d0\"],[0.7,\"#b8e186\"],[0.8,\"#7fbc41\"],[0.9,\"#4d9221\"],[1,\"#276419\"]]},\"xaxis\":{\"gridcolor\":\"white\",\"linecolor\":\"white\",\"ticks\":\"\",\"title\":{\"standoff\":15},\"zerolinecolor\":\"white\",\"automargin\":true,\"zerolinewidth\":2},\"yaxis\":{\"gridcolor\":\"white\",\"linecolor\":\"white\",\"ticks\":\"\",\"title\":{\"standoff\":15},\"zerolinecolor\":\"white\",\"automargin\":true,\"zerolinewidth\":2},\"scene\":{\"xaxis\":{\"backgroundcolor\":\"#E5ECF6\",\"gridcolor\":\"white\",\"linecolor\":\"white\",\"showbackground\":true,\"ticks\":\"\",\"zerolinecolor\":\"white\",\"gridwidth\":2},\"yaxis\":{\"backgroundcolor\":\"#E5ECF6\",\"gridcolor\":\"white\",\"linecolor\":\"white\",\"showbackground\":true,\"ticks\":\"\",\"zerolinecolor\":\"white\",\"gridwidth\":2},\"zaxis\":{\"backgroundcolor\":\"#E5ECF6\",\"gridcolor\":\"white\",\"linecolor\":\"white\",\"showbackground\":true,\"ticks\":\"\",\"zerolinecolor\":\"white\",\"gridwidth\":2}},\"shapedefaults\":{\"line\":{\"color\":\"#2a3f5f\"}},\"annotationdefaults\":{\"arrowcolor\":\"#2a3f5f\",\"arrowhead\":0,\"arrowwidth\":1},\"geo\":{\"bgcolor\":\"white\",\"landcolor\":\"#E5ECF6\",\"subunitcolor\":\"white\",\"showland\":true,\"showlakes\":true,\"lakecolor\":\"white\"},\"title\":{\"x\":0.05},\"mapbox\":{\"style\":\"light\"}}},\"xaxis\":{\"anchor\":\"y\",\"domain\":[0.0,1.0],\"title\":{\"text\":\"gender\"}},\"yaxis\":{\"anchor\":\"x\",\"domain\":[0.0,1.0],\"title\":{\"text\":\"age\"}},\"legend\":{\"title\":{\"text\":\"affair_status\"},\"tracegroupgap\":0},\"margin\":{\"t\":60},\"violinmode\":\"group\"},                        {\"responsive\": true}                    ).then(function(){\n",
       "                            \n",
       "var gd = document.getElementById('8b668f2f-1e2e-4383-99d0-921c82d37c55');\n",
       "var x = new MutationObserver(function (mutations, observer) {{\n",
       "        var display = window.getComputedStyle(gd).display;\n",
       "        if (!display || display === 'none') {{\n",
       "            console.log([gd, 'removed!']);\n",
       "            Plotly.purge(gd);\n",
       "            observer.disconnect();\n",
       "        }}\n",
       "}});\n",
       "\n",
       "// Listen for the removal of the full notebook cells\n",
       "var notebookContainer = gd.closest('#notebook-container');\n",
       "if (notebookContainer) {{\n",
       "    x.observe(notebookContainer, {childList: true});\n",
       "}}\n",
       "\n",
       "// Listen for the clearing of the current output cell\n",
       "var outputEl = gd.closest('.output');\n",
       "if (outputEl) {{\n",
       "    x.observe(outputEl, {childList: true});\n",
       "}}\n",
       "\n",
       "                        })                };                });            </script>        </div>"
      ]
     },
     "metadata": {},
     "output_type": "display_data"
    }
   ],
   "source": [
    "# Multiple plots\n",
    "l = px.violin(df, y=\"age\", x=\"gender\", color=\"affair_status\", box=True, points=\"all\",\n",
    "          hover_data=df.columns)\n",
    "\n",
    "l"
   ]
  },
  {
   "cell_type": "code",
   "execution_count": 25,
   "id": "88cce300-3656-4257-9b42-8518aa9f1b61",
   "metadata": {},
   "outputs": [
    {
     "data": {
      "application/vnd.plotly.v1+json": {
       "config": {
        "plotlyServerURL": "https://plot.ly"
       },
       "data": [
        {
         "legendgroup": "Yes",
         "line": {
          "color": "blue"
         },
         "name": "Yes",
         "scalegroup": "Yes",
         "side": "negative",
         "type": "violin",
         "x": [
          "male",
          "female",
          "male",
          "female",
          "male",
          "female",
          "male",
          "female",
          "male",
          "female",
          "female",
          "female",
          "female",
          "male",
          "female",
          "male",
          "male",
          "female",
          "male",
          "female",
          "female",
          "female",
          "male",
          "female",
          "female",
          "female",
          "male",
          "male",
          "female",
          "female",
          "male",
          "female",
          "female",
          "male",
          "female",
          "female",
          "male",
          "female",
          "male",
          "male",
          "female",
          "male",
          "male",
          "male",
          "female",
          "male",
          "female",
          "male",
          "male",
          "male",
          "male",
          "male",
          "female",
          "male",
          "female",
          "male",
          "male",
          "male",
          "male",
          "male",
          "female",
          "female",
          "male",
          "male",
          "male",
          "female",
          "male",
          "male",
          "female",
          "female",
          "male",
          "male",
          "male",
          "female",
          "female",
          "female",
          "female",
          "male",
          "female",
          "male",
          "male",
          "female",
          "female",
          "male",
          "male",
          "female",
          "female",
          "male",
          "female",
          "female",
          "male",
          "male",
          "female",
          "female",
          "female",
          "male",
          "male",
          "female",
          "male",
          "male",
          "female",
          "male",
          "male",
          "male",
          "male",
          "female",
          "male",
          "male",
          "female",
          "female",
          "male",
          "female",
          "female",
          "female",
          "male",
          "female",
          "female",
          "female",
          "female",
          "female",
          "male",
          "female",
          "female",
          "male",
          "male",
          "male",
          "male",
          "male",
          "male",
          "male",
          "male",
          "male",
          "female",
          "male",
          "female",
          "female",
          "female",
          "male",
          "female",
          "male",
          "male",
          "male",
          "male",
          "female",
          "male",
          "male",
          "female",
          "male",
          "male",
          "male",
          "female",
          "female",
          "female",
          "male",
          "female",
          "female",
          "male",
          "male",
          "female",
          "female",
          "male",
          "male",
          "female",
          "male",
          "female",
          "female",
          "female",
          "female",
          "female",
          "female",
          "male",
          "female",
          "female",
          "female",
          "female",
          "male",
          "female",
          "female",
          "male",
          "male",
          "female",
          "male",
          "male",
          "female",
          "male",
          "female",
          "female",
          "female",
          "female",
          "female",
          "female",
          "male",
          "male",
          "female",
          "male",
          "male",
          "female",
          "female",
          "female",
          "female",
          "female",
          "female",
          "male",
          "female",
          "male",
          "male",
          "male",
          "male",
          "male",
          "male",
          "female",
          "female",
          "female",
          "female",
          "female",
          "male",
          "female",
          "male",
          "female",
          "male",
          "female",
          "female",
          "male",
          "male",
          "female",
          "female",
          "male",
          "male",
          "female",
          "female",
          "female",
          "female",
          "male",
          "male",
          "male",
          "male",
          "female",
          "female",
          "female",
          "female",
          "male",
          "female"
         ],
         "y": [
          27,
          27,
          37,
          32,
          22,
          22,
          37,
          22,
          37,
          32,
          37,
          42,
          42,
          37,
          32,
          27,
          37,
          27,
          42,
          47,
          27,
          27,
          27,
          27,
          42,
          27,
          27,
          32,
          27,
          32,
          27,
          32,
          32,
          37,
          37,
          32,
          52,
          42,
          52,
          37,
          22,
          27,
          27,
          47,
          42,
          27,
          32,
          32,
          47,
          37,
          22,
          27,
          52,
          27,
          27,
          32,
          32,
          22,
          22,
          42,
          57,
          32,
          27,
          32,
          57,
          42,
          37,
          42,
          52,
          27,
          32,
          22,
          27,
          37,
          32,
          27,
          32,
          32,
          42,
          32,
          37,
          27,
          42,
          27,
          37,
          27,
          27,
          32,
          32,
          22,
          32,
          27,
          22,
          32,
          42,
          42,
          32,
          32,
          57,
          47,
          42,
          37,
          37,
          27,
          37,
          32,
          32,
          37,
          27,
          47,
          37,
          27,
          27,
          22,
          52,
          27,
          37,
          27,
          32,
          22,
          32,
          22,
          42,
          32,
          37,
          42,
          27,
          37,
          37,
          22,
          32,
          32,
          52,
          47,
          32,
          32,
          27,
          42,
          42,
          27,
          32,
          47,
          22,
          32,
          32,
          22,
          32,
          38,
          27,
          37,
          38,
          51,
          40,
          41,
          39,
          22,
          51,
          39,
          27,
          44,
          20,
          38,
          44,
          33,
          29,
          36,
          19,
          28,
          23,
          40,
          37,
          32,
          30,
          34,
          32,
          24,
          29,
          45,
          20,
          39,
          19,
          31,
          24,
          24,
          36,
          33,
          33,
          41,
          30,
          27,
          34,
          28,
          26,
          37,
          27,
          39,
          27,
          21,
          35,
          47,
          38,
          42,
          51,
          38,
          33,
          36,
          29,
          27,
          22,
          33,
          30,
          22,
          37,
          53,
          21,
          44,
          31,
          37,
          34,
          27,
          34,
          44,
          35,
          30,
          27,
          35,
          22,
          43,
          43,
          42,
          35,
          33,
          34,
          39,
          46,
          24,
          31,
          40,
          26,
          34,
          43,
          23
         ]
        },
        {
         "legendgroup": "Yes",
         "line": {
          "color": "red"
         },
         "name": "No",
         "scalegroup": "Yes",
         "side": "positive",
         "type": "violin",
         "x": [
          "male",
          "female",
          "female",
          "male",
          "male",
          "female",
          "female",
          "male",
          "female",
          "male",
          "male",
          "male",
          "male",
          "female",
          "female",
          "female",
          "female",
          "female",
          "female",
          "female",
          "female",
          "female",
          "female",
          "female",
          "male",
          "female",
          "female",
          "male",
          "male",
          "female",
          "male",
          "female",
          "male",
          "female",
          "male",
          "female",
          "female",
          "female",
          "male",
          "female",
          "male",
          "male",
          "female",
          "female",
          "female",
          "male",
          "female",
          "female",
          "male",
          "male",
          "female",
          "male",
          "male",
          "male",
          "male",
          "female",
          "male",
          "female",
          "female",
          "male",
          "female",
          "male",
          "female",
          "male",
          "male",
          "male",
          "male",
          "female",
          "female",
          "female",
          "female",
          "female",
          "female",
          "male",
          "male",
          "male",
          "female",
          "male",
          "female",
          "male",
          "male",
          "female",
          "male",
          "female",
          "female",
          "female",
          "female",
          "female",
          "female",
          "female",
          "male",
          "male",
          "male",
          "male",
          "female",
          "male",
          "male",
          "male",
          "male",
          "female",
          "male",
          "female",
          "male",
          "female",
          "male",
          "male",
          "male",
          "male",
          "female",
          "female",
          "female",
          "female",
          "male",
          "female",
          "male",
          "male",
          "male",
          "female",
          "female",
          "female",
          "female",
          "male",
          "female",
          "female",
          "male",
          "female",
          "male",
          "male",
          "male",
          "female",
          "male",
          "female",
          "male",
          "female",
          "female",
          "female",
          "female",
          "male",
          "male",
          "female",
          "female",
          "male",
          "male",
          "male",
          "male",
          "male",
          "female",
          "female",
          "male",
          "male",
          "male",
          "male",
          "male",
          "male",
          "male",
          "female",
          "female",
          "male",
          "male",
          "female",
          "female",
          "male",
          "female",
          "female",
          "female",
          "female",
          "female",
          "male",
          "male",
          "male",
          "female",
          "female",
          "female",
          "female",
          "male",
          "female",
          "female",
          "female",
          "female",
          "female",
          "male",
          "female",
          "female",
          "female",
          "female",
          "male",
          "male",
          "male",
          "male",
          "male",
          "female",
          "male",
          "male",
          "female",
          "male",
          "male",
          "female",
          "male",
          "female",
          "male",
          "male",
          "female",
          "male",
          "female",
          "female",
          "female",
          "female",
          "female",
          "female",
          "female",
          "male",
          "male",
          "male",
          "female",
          "male",
          "male",
          "male",
          "female",
          "male",
          "female",
          "male",
          "female",
          "male",
          "female",
          "female",
          "female",
          "male",
          "male",
          "male",
          "female",
          "female",
          "female",
          "male",
          "male",
          "male",
          "female",
          "female",
          "male",
          "female",
          "male",
          "female",
          "male",
          "male",
          "female",
          "male",
          "female",
          "female",
          "female",
          "male",
          "female",
          "male",
          "male",
          "female",
          "male",
          "female",
          "female",
          "male",
          "male",
          "female",
          "female",
          "male",
          "male",
          "female",
          "female",
          "male",
          "female",
          "female",
          "male",
          "female",
          "male",
          "male",
          "female",
          "male",
          "female",
          "female",
          "male",
          "female",
          "male",
          "male",
          "male",
          "female",
          "female",
          "female",
          "female",
          "male",
          "male",
          "male",
          "female",
          "female",
          "female",
          "male",
          "male",
          "female",
          "female",
          "male",
          "female",
          "female",
          "male",
          "male",
          "female",
          "male",
          "male",
          "male",
          "female",
          "male",
          "female",
          "male",
          "male",
          "female",
          "female",
          "male",
          "male",
          "female",
          "male",
          "female",
          "male",
          "female",
          "male",
          "female",
          "female",
          "male",
          "female",
          "female",
          "male",
          "male",
          "female",
          "female",
          "male",
          "male",
          "female",
          "female",
          "female",
          "male",
          "female",
          "female",
          "female",
          "female",
          "female",
          "male",
          "female",
          "male",
          "female",
          "male",
          "male",
          "male",
          "male",
          "female",
          "male",
          "female",
          "female",
          "male",
          "female",
          "female",
          "female",
          "female",
          "male",
          "male",
          "male",
          "male",
          "female",
          "female",
          "female",
          "male",
          "male",
          "female",
          "female",
          "female",
          "female",
          "female",
          "male",
          "male",
          "female",
          "male",
          "female",
          "female",
          "female",
          "female",
          "female",
          "female",
          "male",
          "male",
          "male",
          "female",
          "female",
          "female",
          "female",
          "female",
          "female",
          "female",
          "male",
          "female",
          "male",
          "female",
          "male",
          "female",
          "female",
          "female",
          "male",
          "male",
          "female",
          "male",
          "male",
          "male",
          "male",
          "male",
          "male",
          "female",
          "female",
          "female",
          "male",
          "male",
          "male",
          "female",
          "female",
          "female",
          "male",
          "female",
          "male",
          "female",
          "female",
          "female",
          "male",
          "male",
          "male",
          "female",
          "female",
          "male",
          "female",
          "female",
          "male",
          "female",
          "female",
          "female",
          "female",
          "female",
          "male",
          "male",
          "female",
          "male",
          "female",
          "female",
          "female",
          "female",
          "female",
          "male",
          "male",
          "male",
          "female",
          "male",
          "female",
          "male",
          "male",
          "female",
          "female",
          "male",
          "male",
          "female",
          "female",
          "female",
          "female",
          "female",
          "male",
          "male",
          "male",
          "male",
          "female",
          "female",
          "male",
          "female",
          "female",
          "female",
          "female",
          "male",
          "female",
          "female",
          "female",
          "female",
          "female",
          "female",
          "male",
          "male",
          "male",
          "male",
          "male",
          "male",
          "male",
          "male",
          "female",
          "female",
          "male",
          "male",
          "male",
          "male",
          "male",
          "male",
          "female",
          "male",
          "male",
          "male",
          "female",
          "female",
          "female",
          "female",
          "female",
          "female",
          "female",
          "female",
          "male",
          "female",
          "male",
          "female",
          "female",
          "female",
          "male",
          "female",
          "male",
          "male",
          "female",
          "male",
          "male",
          "female",
          "female",
          "female",
          "female",
          "female",
          "male",
          "male",
          "female",
          "male",
          "male",
          "female",
          "male",
          "male",
          "female",
          "male",
          "male",
          "male",
          "female",
          "female",
          "female",
          "male",
          "male",
          "female",
          "male",
          "female",
          "male",
          "female",
          "female",
          "female",
          "female",
          "female",
          "female",
          "male",
          "female",
          "female",
          "female",
          "male",
          "male",
          "female",
          "male",
          "male",
          "female",
          "female",
          "female",
          "male",
          "female",
          "female",
          "female",
          "male",
          "female",
          "male",
          "male",
          "male",
          "female",
          "male",
          "female",
          "male",
          "male",
          "male",
          "male",
          "female",
          "female",
          "female",
          "female",
          "female",
          "female",
          "male",
          "female",
          "female",
          "male",
          "female",
          "female",
          "male",
          "male",
          "female",
          "male",
          "female",
          "female",
          "female",
          "female",
          "male",
          "male",
          "female",
          "female",
          "male",
          "female",
          "male",
          "female",
          "female",
          "male",
          "female",
          "male",
          "female",
          "male",
          "female",
          "male",
          "female",
          "male",
          "female",
          "female",
          "female",
          "male",
          "male",
          "female",
          "female",
          "female",
          "male",
          "female",
          "female",
          "male",
          "female",
          "female",
          "female",
          "male",
          "male",
          "female",
          "female",
          "male",
          "female",
          "female",
          "male",
          "male",
          "male",
          "male",
          "female",
          "female",
          "female",
          "female",
          "female",
          "female",
          "male",
          "female",
          "female",
          "female",
          "female",
          "female",
          "female",
          "male",
          "male",
          "female",
          "male",
          "male",
          "male",
          "male",
          "female",
          "male",
          "female",
          "female",
          "female",
          "male",
          "male",
          "female",
          "female",
          "male",
          "male",
          "male",
          "female",
          "female",
          "female",
          "male",
          "male",
          "male",
          "female",
          "female",
          "male",
          "female",
          "male",
          "male",
          "male",
          "female",
          "female",
          "male",
          "male",
          "female",
          "female",
          "male",
          "male",
          "female",
          "male",
          "female",
          "male",
          "male",
          "female",
          "female",
          "female",
          "female",
          "male",
          "female",
          "male",
          "female",
          "female",
          "male",
          "female",
          "male",
          "female",
          "female",
          "male",
          "female",
          "female"
         ],
         "y": [
          37,
          27,
          32,
          57,
          22,
          32,
          22,
          57,
          32,
          22,
          37,
          27,
          47,
          22,
          27,
          37,
          37,
          22,
          22,
          27,
          22,
          22,
          27,
          32,
          37,
          22,
          27,
          42,
          27,
          27,
          42,
          22,
          27,
          42,
          32,
          22,
          42,
          22,
          22,
          22,
          32,
          52,
          22,
          27,
          32,
          22,
          27,
          42,
          27,
          42,
          22,
          32,
          27,
          27,
          22,
          37,
          22,
          37,
          27,
          32,
          47,
          37,
          22,
          27,
          32,
          42,
          37,
          47,
          22,
          27,
          27,
          32,
          22,
          47,
          32,
          27,
          22,
          27,
          22,
          57,
          57,
          22,
          42,
          22,
          22,
          32,
          27,
          22,
          37,
          32,
          37,
          37,
          57,
          27,
          42,
          57,
          37,
          37,
          37,
          27,
          37,
          22,
          57,
          37,
          22,
          27,
          57,
          32,
          22,
          32,
          37,
          32,
          42,
          27,
          37,
          37,
          32,
          22,
          27,
          27,
          42,
          42,
          27,
          22,
          37,
          22,
          27,
          32,
          27,
          27,
          42,
          27,
          27,
          32,
          32,
          22,
          37,
          27,
          27,
          27,
          32,
          27,
          52,
          27,
          37,
          27,
          52,
          57,
          27,
          37,
          22,
          32,
          37,
          22,
          42,
          52,
          37,
          27,
          32,
          27,
          27,
          37,
          47,
          32,
          27,
          57,
          22,
          42,
          57,
          57,
          22,
          32,
          42,
          27,
          32,
          27,
          27,
          32,
          37,
          42,
          32,
          32,
          37,
          22,
          27,
          27,
          27,
          32,
          32,
          22,
          27,
          27,
          37,
          37,
          22,
          37,
          22,
          52,
          22,
          32,
          32,
          22,
          27,
          22,
          27,
          37,
          22,
          37,
          37,
          42,
          22,
          52,
          27,
          27,
          42,
          22,
          22,
          22,
          37,
          37,
          42,
          47,
          22,
          32,
          22,
          32,
          27,
          37,
          42,
          37,
          32,
          42,
          27,
          22,
          27,
          22,
          52,
          32,
          37,
          32,
          42,
          32,
          27,
          32,
          22,
          22,
          42,
          52,
          37,
          47,
          57,
          32,
          27,
          22,
          22,
          22,
          42,
          57,
          27,
          22,
          37,
          32,
          22,
          22,
          52,
          37,
          32,
          42,
          27,
          37,
          27,
          22,
          32,
          27,
          27,
          32,
          37,
          47,
          27,
          37,
          32,
          32,
          42,
          27,
          27,
          22,
          27,
          27,
          37,
          37,
          22,
          37,
          22,
          32,
          27,
          22,
          27,
          37,
          37,
          27,
          32,
          32,
          22,
          22,
          32,
          32,
          37,
          32,
          27,
          22,
          47,
          27,
          37,
          42,
          32,
          52,
          22,
          52,
          22,
          22,
          27,
          32,
          27,
          32,
          37,
          32,
          32,
          37,
          32,
          32,
          47,
          27,
          27,
          37,
          27,
          37,
          32,
          27,
          27,
          37,
          27,
          22,
          22,
          42,
          27,
          27,
          52,
          27,
          27,
          27,
          22,
          27,
          27,
          47,
          32,
          42,
          22,
          27,
          32,
          22,
          47,
          32,
          57,
          27,
          32,
          37,
          32,
          22,
          27,
          57,
          32,
          27,
          22,
          22,
          32,
          47,
          22,
          22,
          27,
          52,
          32,
          47,
          27,
          22,
          32,
          22,
          22,
          42,
          27,
          42,
          57,
          42,
          32,
          22,
          22,
          22,
          32,
          22,
          27,
          27,
          42,
          32,
          57,
          37,
          52,
          47,
          27,
          27,
          22,
          37,
          27,
          42,
          22,
          22,
          57,
          37,
          27,
          22,
          27,
          37,
          22,
          27,
          27,
          22,
          27,
          32,
          32,
          32,
          22,
          27,
          52,
          27,
          27,
          42,
          42,
          27,
          27,
          42,
          27,
          27,
          22,
          27,
          22,
          22,
          47,
          37,
          37,
          27,
          32,
          38,
          32,
          33,
          39,
          23,
          30,
          34,
          34,
          36,
          34,
          25,
          32,
          38,
          46,
          39,
          40,
          38,
          29,
          40,
          32,
          29,
          28,
          30,
          26,
          33,
          38,
          31,
          39,
          24,
          31,
          38,
          34,
          45,
          40,
          26,
          28,
          33,
          28,
          23,
          40,
          25,
          31,
          29,
          38,
          33,
          41,
          41,
          35,
          26,
          26,
          28,
          28,
          36,
          35,
          35,
          42,
          26,
          26,
          47,
          23,
          22,
          19,
          32,
          23,
          26,
          31,
          40,
          36,
          35,
          23,
          24,
          27,
          39,
          32,
          25,
          43,
          23,
          44,
          41,
          40,
          23,
          35,
          45,
          33,
          26,
          39,
          26,
          31,
          29,
          31,
          36,
          51,
          42,
          39,
          37,
          25,
          21,
          38,
          30,
          43,
          23,
          28,
          51,
          42,
          29,
          35,
          34,
          20,
          36,
          23,
          21,
          29,
          30,
          43,
          33,
          35,
          28,
          35,
          29,
          43,
          27,
          32,
          34,
          23,
          41,
          30,
          30,
          33,
          52,
          24,
          23,
          36,
          32,
          22,
          25,
          24,
          37,
          36,
          33,
          28,
          30,
          31,
          42,
          42,
          33,
          40,
          29,
          41,
          26,
          25,
          39,
          23,
          30,
          46,
          44,
          36,
          45,
          49,
          43,
          19,
          35,
          34,
          25,
          33,
          46,
          25,
          25,
          30,
          20,
          33,
          53,
          22,
          22,
          32,
          25,
          22,
          33,
          31,
          32,
          49,
          39,
          38,
          26,
          34,
          37,
          57,
          23,
          31,
          34,
          34,
          35,
          47,
          19,
          41,
          26,
          25,
          38,
          25,
          26,
          37,
          41,
          34,
          38,
          27,
          48,
          47,
          28,
          24,
          50,
          43,
          40,
          45,
          33,
          31,
          29,
          34,
          34,
          32,
          32,
          42,
          29,
          35,
          27,
          25,
          37,
          31,
          28,
          23,
          50,
          33,
          20,
          30,
          29,
          21,
          45,
          32,
          44,
          29,
          29,
          39,
          20,
          26,
          46,
          49,
          49,
          35,
          23,
          21,
          22,
          24,
          35,
          42,
          21,
          38,
          26,
          34,
          46,
          38,
          34,
          26,
          35,
          39,
          32,
          43,
          21,
          51,
          50,
          32,
          19,
          35
         ]
        }
       ],
       "layout": {
        "autosize": true,
        "template": {
         "data": {
          "bar": [
           {
            "error_x": {
             "color": "#2a3f5f"
            },
            "error_y": {
             "color": "#2a3f5f"
            },
            "marker": {
             "line": {
              "color": "#E5ECF6",
              "width": 0.5
             },
             "pattern": {
              "fillmode": "overlay",
              "size": 10,
              "solidity": 0.2
             }
            },
            "type": "bar"
           }
          ],
          "barpolar": [
           {
            "marker": {
             "line": {
              "color": "#E5ECF6",
              "width": 0.5
             },
             "pattern": {
              "fillmode": "overlay",
              "size": 10,
              "solidity": 0.2
             }
            },
            "type": "barpolar"
           }
          ],
          "carpet": [
           {
            "aaxis": {
             "endlinecolor": "#2a3f5f",
             "gridcolor": "white",
             "linecolor": "white",
             "minorgridcolor": "white",
             "startlinecolor": "#2a3f5f"
            },
            "baxis": {
             "endlinecolor": "#2a3f5f",
             "gridcolor": "white",
             "linecolor": "white",
             "minorgridcolor": "white",
             "startlinecolor": "#2a3f5f"
            },
            "type": "carpet"
           }
          ],
          "choropleth": [
           {
            "colorbar": {
             "outlinewidth": 0,
             "ticks": ""
            },
            "type": "choropleth"
           }
          ],
          "contour": [
           {
            "colorbar": {
             "outlinewidth": 0,
             "ticks": ""
            },
            "colorscale": [
             [
              0,
              "#0d0887"
             ],
             [
              0.1111111111111111,
              "#46039f"
             ],
             [
              0.2222222222222222,
              "#7201a8"
             ],
             [
              0.3333333333333333,
              "#9c179e"
             ],
             [
              0.4444444444444444,
              "#bd3786"
             ],
             [
              0.5555555555555556,
              "#d8576b"
             ],
             [
              0.6666666666666666,
              "#ed7953"
             ],
             [
              0.7777777777777778,
              "#fb9f3a"
             ],
             [
              0.8888888888888888,
              "#fdca26"
             ],
             [
              1,
              "#f0f921"
             ]
            ],
            "type": "contour"
           }
          ],
          "contourcarpet": [
           {
            "colorbar": {
             "outlinewidth": 0,
             "ticks": ""
            },
            "type": "contourcarpet"
           }
          ],
          "heatmap": [
           {
            "colorbar": {
             "outlinewidth": 0,
             "ticks": ""
            },
            "colorscale": [
             [
              0,
              "#0d0887"
             ],
             [
              0.1111111111111111,
              "#46039f"
             ],
             [
              0.2222222222222222,
              "#7201a8"
             ],
             [
              0.3333333333333333,
              "#9c179e"
             ],
             [
              0.4444444444444444,
              "#bd3786"
             ],
             [
              0.5555555555555556,
              "#d8576b"
             ],
             [
              0.6666666666666666,
              "#ed7953"
             ],
             [
              0.7777777777777778,
              "#fb9f3a"
             ],
             [
              0.8888888888888888,
              "#fdca26"
             ],
             [
              1,
              "#f0f921"
             ]
            ],
            "type": "heatmap"
           }
          ],
          "heatmapgl": [
           {
            "colorbar": {
             "outlinewidth": 0,
             "ticks": ""
            },
            "colorscale": [
             [
              0,
              "#0d0887"
             ],
             [
              0.1111111111111111,
              "#46039f"
             ],
             [
              0.2222222222222222,
              "#7201a8"
             ],
             [
              0.3333333333333333,
              "#9c179e"
             ],
             [
              0.4444444444444444,
              "#bd3786"
             ],
             [
              0.5555555555555556,
              "#d8576b"
             ],
             [
              0.6666666666666666,
              "#ed7953"
             ],
             [
              0.7777777777777778,
              "#fb9f3a"
             ],
             [
              0.8888888888888888,
              "#fdca26"
             ],
             [
              1,
              "#f0f921"
             ]
            ],
            "type": "heatmapgl"
           }
          ],
          "histogram": [
           {
            "marker": {
             "pattern": {
              "fillmode": "overlay",
              "size": 10,
              "solidity": 0.2
             }
            },
            "type": "histogram"
           }
          ],
          "histogram2d": [
           {
            "colorbar": {
             "outlinewidth": 0,
             "ticks": ""
            },
            "colorscale": [
             [
              0,
              "#0d0887"
             ],
             [
              0.1111111111111111,
              "#46039f"
             ],
             [
              0.2222222222222222,
              "#7201a8"
             ],
             [
              0.3333333333333333,
              "#9c179e"
             ],
             [
              0.4444444444444444,
              "#bd3786"
             ],
             [
              0.5555555555555556,
              "#d8576b"
             ],
             [
              0.6666666666666666,
              "#ed7953"
             ],
             [
              0.7777777777777778,
              "#fb9f3a"
             ],
             [
              0.8888888888888888,
              "#fdca26"
             ],
             [
              1,
              "#f0f921"
             ]
            ],
            "type": "histogram2d"
           }
          ],
          "histogram2dcontour": [
           {
            "colorbar": {
             "outlinewidth": 0,
             "ticks": ""
            },
            "colorscale": [
             [
              0,
              "#0d0887"
             ],
             [
              0.1111111111111111,
              "#46039f"
             ],
             [
              0.2222222222222222,
              "#7201a8"
             ],
             [
              0.3333333333333333,
              "#9c179e"
             ],
             [
              0.4444444444444444,
              "#bd3786"
             ],
             [
              0.5555555555555556,
              "#d8576b"
             ],
             [
              0.6666666666666666,
              "#ed7953"
             ],
             [
              0.7777777777777778,
              "#fb9f3a"
             ],
             [
              0.8888888888888888,
              "#fdca26"
             ],
             [
              1,
              "#f0f921"
             ]
            ],
            "type": "histogram2dcontour"
           }
          ],
          "mesh3d": [
           {
            "colorbar": {
             "outlinewidth": 0,
             "ticks": ""
            },
            "type": "mesh3d"
           }
          ],
          "parcoords": [
           {
            "line": {
             "colorbar": {
              "outlinewidth": 0,
              "ticks": ""
             }
            },
            "type": "parcoords"
           }
          ],
          "pie": [
           {
            "automargin": true,
            "type": "pie"
           }
          ],
          "scatter": [
           {
            "fillpattern": {
             "fillmode": "overlay",
             "size": 10,
             "solidity": 0.2
            },
            "type": "scatter"
           }
          ],
          "scatter3d": [
           {
            "line": {
             "colorbar": {
              "outlinewidth": 0,
              "ticks": ""
             }
            },
            "marker": {
             "colorbar": {
              "outlinewidth": 0,
              "ticks": ""
             }
            },
            "type": "scatter3d"
           }
          ],
          "scattercarpet": [
           {
            "marker": {
             "colorbar": {
              "outlinewidth": 0,
              "ticks": ""
             }
            },
            "type": "scattercarpet"
           }
          ],
          "scattergeo": [
           {
            "marker": {
             "colorbar": {
              "outlinewidth": 0,
              "ticks": ""
             }
            },
            "type": "scattergeo"
           }
          ],
          "scattergl": [
           {
            "marker": {
             "colorbar": {
              "outlinewidth": 0,
              "ticks": ""
             }
            },
            "type": "scattergl"
           }
          ],
          "scattermapbox": [
           {
            "marker": {
             "colorbar": {
              "outlinewidth": 0,
              "ticks": ""
             }
            },
            "type": "scattermapbox"
           }
          ],
          "scatterpolar": [
           {
            "marker": {
             "colorbar": {
              "outlinewidth": 0,
              "ticks": ""
             }
            },
            "type": "scatterpolar"
           }
          ],
          "scatterpolargl": [
           {
            "marker": {
             "colorbar": {
              "outlinewidth": 0,
              "ticks": ""
             }
            },
            "type": "scatterpolargl"
           }
          ],
          "scatterternary": [
           {
            "marker": {
             "colorbar": {
              "outlinewidth": 0,
              "ticks": ""
             }
            },
            "type": "scatterternary"
           }
          ],
          "surface": [
           {
            "colorbar": {
             "outlinewidth": 0,
             "ticks": ""
            },
            "colorscale": [
             [
              0,
              "#0d0887"
             ],
             [
              0.1111111111111111,
              "#46039f"
             ],
             [
              0.2222222222222222,
              "#7201a8"
             ],
             [
              0.3333333333333333,
              "#9c179e"
             ],
             [
              0.4444444444444444,
              "#bd3786"
             ],
             [
              0.5555555555555556,
              "#d8576b"
             ],
             [
              0.6666666666666666,
              "#ed7953"
             ],
             [
              0.7777777777777778,
              "#fb9f3a"
             ],
             [
              0.8888888888888888,
              "#fdca26"
             ],
             [
              1,
              "#f0f921"
             ]
            ],
            "type": "surface"
           }
          ],
          "table": [
           {
            "cells": {
             "fill": {
              "color": "#EBF0F8"
             },
             "line": {
              "color": "white"
             }
            },
            "header": {
             "fill": {
              "color": "#C8D4E3"
             },
             "line": {
              "color": "white"
             }
            },
            "type": "table"
           }
          ]
         },
         "layout": {
          "annotationdefaults": {
           "arrowcolor": "#2a3f5f",
           "arrowhead": 0,
           "arrowwidth": 1
          },
          "autotypenumbers": "strict",
          "coloraxis": {
           "colorbar": {
            "outlinewidth": 0,
            "ticks": ""
           }
          },
          "colorscale": {
           "diverging": [
            [
             0,
             "#8e0152"
            ],
            [
             0.1,
             "#c51b7d"
            ],
            [
             0.2,
             "#de77ae"
            ],
            [
             0.3,
             "#f1b6da"
            ],
            [
             0.4,
             "#fde0ef"
            ],
            [
             0.5,
             "#f7f7f7"
            ],
            [
             0.6,
             "#e6f5d0"
            ],
            [
             0.7,
             "#b8e186"
            ],
            [
             0.8,
             "#7fbc41"
            ],
            [
             0.9,
             "#4d9221"
            ],
            [
             1,
             "#276419"
            ]
           ],
           "sequential": [
            [
             0,
             "#0d0887"
            ],
            [
             0.1111111111111111,
             "#46039f"
            ],
            [
             0.2222222222222222,
             "#7201a8"
            ],
            [
             0.3333333333333333,
             "#9c179e"
            ],
            [
             0.4444444444444444,
             "#bd3786"
            ],
            [
             0.5555555555555556,
             "#d8576b"
            ],
            [
             0.6666666666666666,
             "#ed7953"
            ],
            [
             0.7777777777777778,
             "#fb9f3a"
            ],
            [
             0.8888888888888888,
             "#fdca26"
            ],
            [
             1,
             "#f0f921"
            ]
           ],
           "sequentialminus": [
            [
             0,
             "#0d0887"
            ],
            [
             0.1111111111111111,
             "#46039f"
            ],
            [
             0.2222222222222222,
             "#7201a8"
            ],
            [
             0.3333333333333333,
             "#9c179e"
            ],
            [
             0.4444444444444444,
             "#bd3786"
            ],
            [
             0.5555555555555556,
             "#d8576b"
            ],
            [
             0.6666666666666666,
             "#ed7953"
            ],
            [
             0.7777777777777778,
             "#fb9f3a"
            ],
            [
             0.8888888888888888,
             "#fdca26"
            ],
            [
             1,
             "#f0f921"
            ]
           ]
          },
          "colorway": [
           "#636efa",
           "#EF553B",
           "#00cc96",
           "#ab63fa",
           "#FFA15A",
           "#19d3f3",
           "#FF6692",
           "#B6E880",
           "#FF97FF",
           "#FECB52"
          ],
          "font": {
           "color": "#2a3f5f"
          },
          "geo": {
           "bgcolor": "white",
           "lakecolor": "white",
           "landcolor": "#E5ECF6",
           "showlakes": true,
           "showland": true,
           "subunitcolor": "white"
          },
          "hoverlabel": {
           "align": "left"
          },
          "hovermode": "closest",
          "mapbox": {
           "style": "light"
          },
          "paper_bgcolor": "white",
          "plot_bgcolor": "#E5ECF6",
          "polar": {
           "angularaxis": {
            "gridcolor": "white",
            "linecolor": "white",
            "ticks": ""
           },
           "bgcolor": "#E5ECF6",
           "radialaxis": {
            "gridcolor": "white",
            "linecolor": "white",
            "ticks": ""
           }
          },
          "scene": {
           "xaxis": {
            "backgroundcolor": "#E5ECF6",
            "gridcolor": "white",
            "gridwidth": 2,
            "linecolor": "white",
            "showbackground": true,
            "ticks": "",
            "zerolinecolor": "white"
           },
           "yaxis": {
            "backgroundcolor": "#E5ECF6",
            "gridcolor": "white",
            "gridwidth": 2,
            "linecolor": "white",
            "showbackground": true,
            "ticks": "",
            "zerolinecolor": "white"
           },
           "zaxis": {
            "backgroundcolor": "#E5ECF6",
            "gridcolor": "white",
            "gridwidth": 2,
            "linecolor": "white",
            "showbackground": true,
            "ticks": "",
            "zerolinecolor": "white"
           }
          },
          "shapedefaults": {
           "line": {
            "color": "#2a3f5f"
           }
          },
          "ternary": {
           "aaxis": {
            "gridcolor": "white",
            "linecolor": "white",
            "ticks": ""
           },
           "baxis": {
            "gridcolor": "white",
            "linecolor": "white",
            "ticks": ""
           },
           "bgcolor": "#E5ECF6",
           "caxis": {
            "gridcolor": "white",
            "linecolor": "white",
            "ticks": ""
           }
          },
          "title": {
           "x": 0.05
          },
          "xaxis": {
           "automargin": true,
           "gridcolor": "white",
           "linecolor": "white",
           "ticks": "",
           "title": {
            "standoff": 15
           },
           "zerolinecolor": "white",
           "zerolinewidth": 2
          },
          "yaxis": {
           "automargin": true,
           "gridcolor": "white",
           "linecolor": "white",
           "ticks": "",
           "title": {
            "standoff": 15
           },
           "zerolinecolor": "white",
           "zerolinewidth": 2
          }
         }
        },
        "xaxis": {
         "autorange": true,
         "range": [
          -0.25,
          1.25
         ],
         "type": "category"
        },
        "yaxis": {
         "autorange": true,
         "range": [
          9.557982201894658,
          66.44201779810534
         ],
         "type": "linear"
        }
       }
      },
      "image/png": "[encoded data removed]",
      "text/html": [
       "<div>                            <div id=\"70ea52c0-d8a1-40f0-a2a1-486b43b7d7ef\" class=\"plotly-graph-div\" style=\"height:525px; width:100%;\"></div>            <script type=\"text/javascript\">                require([\"plotly\"], function(Plotly) {                    window.PLOTLYENV=window.PLOTLYENV || {};                                    if (document.getElementById(\"70ea52c0-d8a1-40f0-a2a1-486b43b7d7ef\")) {                    Plotly.newPlot(                        \"70ea52c0-d8a1-40f0-a2a1-486b43b7d7ef\",                        [{\"legendgroup\":\"Yes\",\"line\":{\"color\":\"blue\"},\"name\":\"Yes\",\"scalegroup\":\"Yes\",\"side\":\"negative\",\"x\":[\"male\",\"female\",\"male\",\"female\",\"male\",\"female\",\"male\",\"female\",\"male\",\"female\",\"female\",\"female\",\"female\",\"male\",\"female\",\"male\",\"male\",\"female\",\"male\",\"female\",\"female\",\"female\",\"male\",\"female\",\"female\",\"female\",\"male\",\"male\",\"female\",\"female\",\"male\",\"female\",\"female\",\"male\",\"female\",\"female\",\"male\",\"female\",\"male\",\"male\",\"female\",\"male\",\"male\",\"male\",\"female\",\"male\",\"female\",\"male\",\"male\",\"male\",\"male\",\"male\",\"female\",\"male\",\"female\",\"male\",\"male\",\"male\",\"male\",\"male\",\"female\",\"female\",\"male\",\"male\",\"male\",\"female\",\"male\",\"male\",\"female\",\"female\",\"male\",\"male\",\"male\",\"female\",\"female\",\"female\",\"female\",\"male\",\"female\",\"male\",\"male\",\"female\",\"female\",\"male\",\"male\",\"female\",\"female\",\"male\",\"female\",\"female\",\"male\",\"male\",\"female\",\"female\",\"female\",\"male\",\"male\",\"female\",\"male\",\"male\",\"female\",\"male\",\"male\",\"male\",\"male\",\"female\",\"male\",\"male\",\"female\",\"female\",\"male\",\"female\",\"female\",\"female\",\"male\",\"female\",\"female\",\"female\",\"female\",\"female\",\"male\",\"female\",\"female\",\"male\",\"male\",\"male\",\"male\",\"male\",\"male\",\"male\",\"male\",\"male\",\"female\",\"male\",\"female\",\"female\",\"female\",\"male\",\"female\",\"male\",\"male\",\"male\",\"male\",\"female\",\"male\",\"male\",\"female\",\"male\",\"male\",\"male\",\"female\",\"female\",\"female\",\"male\",\"female\",\"female\",\"male\",\"male\",\"female\",\"female\",\"male\",\"male\",\"female\",\"male\",\"female\",\"female\",\"female\",\"female\",\"female\",\"female\",\"male\",\"female\",\"female\",\"female\",\"female\",\"male\",\"female\",\"female\",\"male\",\"male\",\"female\",\"male\",\"male\",\"female\",\"male\",\"female\",\"female\",\"female\",\"female\",\"female\",\"female\",\"male\",\"male\",\"female\",\"male\",\"male\",\"female\",\"female\",\"female\",\"female\",\"female\",\"female\",\"male\",\"female\",\"male\",\"male\",\"male\",\"male\",\"male\",\"male\",\"female\",\"female\",\"female\",\"female\",\"female\",\"male\",\"female\",\"male\",\"female\",\"male\",\"female\",\"female\",\"male\",\"male\",\"female\",\"female\",\"male\",\"male\",\"female\",\"female\",\"female\",\"female\",\"male\",\"male\",\"male\",\"male\",\"female\",\"female\",\"female\",\"female\",\"male\",\"female\"],\"y\":[27,27,37,32,22,22,37,22,37,32,37,42,42,37,32,27,37,27,42,47,27,27,27,27,42,27,27,32,27,32,27,32,32,37,37,32,52,42,52,37,22,27,27,47,42,27,32,32,47,37,22,27,52,27,27,32,32,22,22,42,57,32,27,32,57,42,37,42,52,27,32,22,27,37,32,27,32,32,42,32,37,27,42,27,37,27,27,32,32,22,32,27,22,32,42,42,32,32,57,47,42,37,37,27,37,32,32,37,27,47,37,27,27,22,52,27,37,27,32,22,32,22,42,32,37,42,27,37,37,22,32,32,52,47,32,32,27,42,42,27,32,47,22,32,32,22,32,38,27,37,38,51,40,41,39,22,51,39,27,44,20,38,44,33,29,36,19,28,23,40,37,32,30,34,32,24,29,45,20,39,19,31,24,24,36,33,33,41,30,27,34,28,26,37,27,39,27,21,35,47,38,42,51,38,33,36,29,27,22,33,30,22,37,53,21,44,31,37,34,27,34,44,35,30,27,35,22,43,43,42,35,33,34,39,46,24,31,40,26,34,43,23],\"type\":\"violin\"},{\"legendgroup\":\"Yes\",\"line\":{\"color\":\"red\"},\"name\":\"No\",\"scalegroup\":\"Yes\",\"side\":\"positive\",\"x\":[\"male\",\"female\",\"female\",\"male\",\"male\",\"female\",\"female\",\"male\",\"female\",\"male\",\"male\",\"male\",\"male\",\"female\",\"female\",\"female\",\"female\",\"female\",\"female\",\"female\",\"female\",\"female\",\"female\",\"female\",\"male\",\"female\",\"female\",\"male\",\"male\",\"female\",\"male\",\"female\",\"male\",\"female\",\"male\",\"female\",\"female\",\"female\",\"male\",\"female\",\"male\",\"male\",\"female\",\"female\",\"female\",\"male\",\"female\",\"female\",\"male\",\"male\",\"female\",\"male\",\"male\",\"male\",\"male\",\"female\",\"male\",\"female\",\"female\",\"male\",\"female\",\"male\",\"female\",\"male\",\"male\",\"male\",\"male\",\"female\",\"female\",\"female\",\"female\",\"female\",\"female\",\"male\",\"male\",\"male\",\"female\",\"male\",\"female\",\"male\",\"male\",\"female\",\"male\",\"female\",\"female\",\"female\",\"female\",\"female\",\"female\",\"female\",\"male\",\"male\",\"male\",\"male\",\"female\",\"male\",\"male\",\"male\",\"male\",\"female\",\"male\",\"female\",\"male\",\"female\",\"male\",\"male\",\"male\",\"male\",\"female\",\"female\",\"female\",\"female\",\"male\",\"female\",\"male\",\"male\",\"male\",\"female\",\"female\",\"female\",\"female\",\"male\",\"female\",\"female\",\"male\",\"female\",\"male\",\"male\",\"male\",\"female\",\"male\",\"female\",\"male\",\"female\",\"female\",\"female\",\"female\",\"male\",\"male\",\"female\",\"female\",\"male\",\"male\",\"male\",\"male\",\"male\",\"female\",\"female\",\"male\",\"male\",\"male\",\"male\",\"male\",\"male\",\"male\",\"female\",\"female\",\"male\",\"male\",\"female\",\"female\",\"male\",\"female\",\"female\",\"female\",\"female\",\"female\",\"male\",\"male\",\"male\",\"female\",\"female\",\"female\",\"female\",\"male\",\"female\",\"female\",\"female\",\"female\",\"female\",\"male\",\"female\",\"female\",\"female\",\"female\",\"male\",\"male\",\"male\",\"male\",\"male\",\"female\",\"male\",\"male\",\"female\",\"male\",\"male\",\"female\",\"male\",\"female\",\"male\",\"male\",\"female\",\"male\",\"female\",\"female\",\"female\",\"female\",\"female\",\"female\",\"female\",\"male\",\"male\",\"male\",\"female\",\"male\",\"male\",\"male\",\"female\",\"male\",\"female\",\"male\",\"female\",\"male\",\"female\",\"female\",\"female\",\"male\",\"male\",\"male\",\"female\",\"female\",\"female\",\"male\",\"male\",\"male\",\"female\",\"female\",\"male\",\"female\",\"male\",\"female\",\"male\",\"male\",\"female\",\"male\",\"female\",\"female\",\"female\",\"male\",\"female\",\"male\",\"male\",\"female\",\"male\",\"female\",\"female\",\"male\",\"male\",\"female\",\"female\",\"male\",\"male\",\"female\",\"female\",\"male\",\"female\",\"female\",\"male\",\"female\",\"male\",\"male\",\"female\",\"male\",\"female\",\"female\",\"male\",\"female\",\"male\",\"male\",\"male\",\"female\",\"female\",\"female\",\"female\",\"male\",\"male\",\"male\",\"female\",\"female\",\"female\",\"male\",\"male\",\"female\",\"female\",\"male\",\"female\",\"female\",\"male\",\"male\",\"female\",\"male\",\"male\",\"male\",\"female\",\"male\",\"female\",\"male\",\"male\",\"female\",\"female\",\"male\",\"male\",\"female\",\"male\",\"female\",\"male\",\"female\",\"male\",\"female\",\"female\",\"male\",\"female\",\"female\",\"male\",\"male\",\"female\",\"female\",\"male\",\"male\",\"female\",\"female\",\"female\",\"male\",\"female\",\"female\",\"female\",\"female\",\"female\",\"male\",\"female\",\"male\",\"female\",\"male\",\"male\",\"male\",\"male\",\"female\",\"male\",\"female\",\"female\",\"male\",\"female\",\"female\",\"female\",\"female\",\"male\",\"male\",\"male\",\"male\",\"female\",\"female\",\"female\",\"male\",\"male\",\"female\",\"female\",\"female\",\"female\",\"female\",\"male\",\"male\",\"female\",\"male\",\"female\",\"female\",\"female\",\"female\",\"female\",\"female\",\"male\",\"male\",\"male\",\"female\",\"female\",\"female\",\"female\",\"female\",\"female\",\"female\",\"male\",\"female\",\"male\",\"female\",\"male\",\"female\",\"female\",\"female\",\"male\",\"male\",\"female\",\"male\",\"male\",\"male\",\"male\",\"male\",\"male\",\"female\",\"female\",\"female\",\"male\",\"male\",\"male\",\"female\",\"female\",\"female\",\"male\",\"female\",\"male\",\"female\",\"female\",\"female\",\"male\",\"male\",\"male\",\"female\",\"female\",\"male\",\"female\",\"female\",\"male\",\"female\",\"female\",\"female\",\"female\",\"female\",\"male\",\"male\",\"female\",\"male\",\"female\",\"female\",\"female\",\"female\",\"female\",\"male\",\"male\",\"male\",\"female\",\"male\",\"female\",\"male\",\"male\",\"female\",\"female\",\"male\",\"male\",\"female\",\"female\",\"female\",\"female\",\"female\",\"male\",\"male\",\"male\",\"male\",\"female\",\"female\",\"male\",\"female\",\"female\",\"female\",\"female\",\"male\",\"female\",\"female\",\"female\",\"female\",\"female\",\"female\",\"male\",\"male\",\"male\",\"male\",\"male\",\"male\",\"male\",\"male\",\"female\",\"female\",\"male\",\"male\",\"male\",\"male\",\"male\",\"male\",\"female\",\"male\",\"male\",\"male\",\"female\",\"female\",\"female\",\"female\",\"female\",\"female\",\"female\",\"female\",\"male\",\"female\",\"male\",\"female\",\"female\",\"female\",\"male\",\"female\",\"male\",\"male\",\"female\",\"male\",\"male\",\"female\",\"female\",\"female\",\"female\",\"female\",\"male\",\"male\",\"female\",\"male\",\"male\",\"female\",\"male\",\"male\",\"female\",\"male\",\"male\",\"male\",\"female\",\"female\",\"female\",\"male\",\"male\",\"female\",\"male\",\"female\",\"male\",\"female\",\"female\",\"female\",\"female\",\"female\",\"female\",\"male\",\"female\",\"female\",\"female\",\"male\",\"male\",\"female\",\"male\",\"male\",\"female\",\"female\",\"female\",\"male\",\"female\",\"female\",\"female\",\"male\",\"female\",\"male\",\"male\",\"male\",\"female\",\"male\",\"female\",\"male\",\"male\",\"male\",\"male\",\"female\",\"female\",\"female\",\"female\",\"female\",\"female\",\"male\",\"female\",\"female\",\"male\",\"female\",\"female\",\"male\",\"male\",\"female\",\"male\",\"female\",\"female\",\"female\",\"female\",\"male\",\"male\",\"female\",\"female\",\"male\",\"female\",\"male\",\"female\",\"female\",\"male\",\"female\",\"male\",\"female\",\"male\",\"female\",\"male\",\"female\",\"male\",\"female\",\"female\",\"female\",\"male\",\"male\",\"female\",\"female\",\"female\",\"male\",\"female\",\"female\",\"male\",\"female\",\"female\",\"female\",\"male\",\"male\",\"female\",\"female\",\"male\",\"female\",\"female\",\"male\",\"male\",\"male\",\"male\",\"female\",\"female\",\"female\",\"female\",\"female\",\"female\",\"male\",\"female\",\"female\",\"female\",\"female\",\"female\",\"female\",\"male\",\"male\",\"female\",\"male\",\"male\",\"male\",\"male\",\"female\",\"male\",\"female\",\"female\",\"female\",\"male\",\"male\",\"female\",\"female\",\"male\",\"male\",\"male\",\"female\",\"female\",\"female\",\"male\",\"male\",\"male\",\"female\",\"female\",\"male\",\"female\",\"male\",\"male\",\"male\",\"female\",\"female\",\"male\",\"male\",\"female\",\"female\",\"male\",\"male\",\"female\",\"male\",\"female\",\"male\",\"male\",\"female\",\"female\",\"female\",\"female\",\"male\",\"female\",\"male\",\"female\",\"female\",\"male\",\"female\",\"male\",\"female\",\"female\",\"male\",\"female\",\"female\"],\"y\":[37,27,32,57,22,32,22,57,32,22,37,27,47,22,27,37,37,22,22,27,22,22,27,32,37,22,27,42,27,27,42,22,27,42,32,22,42,22,22,22,32,52,22,27,32,22,27,42,27,42,22,32,27,27,22,37,22,37,27,32,47,37,22,27,32,42,37,47,22,27,27,32,22,47,32,27,22,27,22,57,57,22,42,22,22,32,27,22,37,32,37,37,57,27,42,57,37,37,37,27,37,22,57,37,22,27,57,32,22,32,37,32,42,27,37,37,32,22,27,27,42,42,27,22,37,22,27,32,27,27,42,27,27,32,32,22,37,27,27,27,32,27,52,27,37,27,52,57,27,37,22,32,37,22,42,52,37,27,32,27,27,37,47,32,27,57,22,42,57,57,22,32,42,27,32,27,27,32,37,42,32,32,37,22,27,27,27,32,32,22,27,27,37,37,22,37,22,52,22,32,32,22,27,22,27,37,22,37,37,42,22,52,27,27,42,22,22,22,37,37,42,47,22,32,22,32,27,37,42,37,32,42,27,22,27,22,52,32,37,32,42,32,27,32,22,22,42,52,37,47,57,32,27,22,22,22,42,57,27,22,37,32,22,22,52,37,32,42,27,37,27,22,32,27,27,32,37,47,27,37,32,32,42,27,27,22,27,27,37,37,22,37,22,32,27,22,27,37,37,27,32,32,22,22,32,32,37,32,27,22,47,27,37,42,32,52,22,52,22,22,27,32,27,32,37,32,32,37,32,32,47,27,27,37,27,37,32,27,27,37,27,22,22,42,27,27,52,27,27,27,22,27,27,47,32,42,22,27,32,22,47,32,57,27,32,37,32,22,27,57,32,27,22,22,32,47,22,22,27,52,32,47,27,22,32,22,22,42,27,42,57,42,32,22,22,22,32,22,27,27,42,32,57,37,52,47,27,27,22,37,27,42,22,22,57,37,27,22,27,37,22,27,27,22,27,32,32,32,22,27,52,27,27,42,42,27,27,42,27,27,22,27,22,22,47,37,37,27,32,38,32,33,39,23,30,34,34,36,34,25,32,38,46,39,40,38,29,40,32,29,28,30,26,33,38,31,39,24,31,38,34,45,40,26,28,33,28,23,40,25,31,29,38,33,41,41,35,26,26,28,28,36,35,35,42,26,26,47,23,22,19,32,23,26,31,40,36,35,23,24,27,39,32,25,43,23,44,41,40,23,35,45,33,26,39,26,31,29,31,36,51,42,39,37,25,21,38,30,43,23,28,51,42,29,35,34,20,36,23,21,29,30,43,33,35,28,35,29,43,27,32,34,23,41,30,30,33,52,24,23,36,32,22,25,24,37,36,33,28,30,31,42,42,33,40,29,41,26,25,39,23,30,46,44,36,45,49,43,19,35,34,25,33,46,25,25,30,20,33,53,22,22,32,25,22,33,31,32,49,39,38,26,34,37,57,23,31,34,34,35,47,19,41,26,25,38,25,26,37,41,34,38,27,48,47,28,24,50,43,40,45,33,31,29,34,34,32,32,42,29,35,27,25,37,31,28,23,50,33,20,30,29,21,45,32,44,29,29,39,20,26,46,49,49,35,23,21,22,24,35,42,21,38,26,34,46,38,34,26,35,39,32,43,21,51,50,32,19,35],\"type\":\"violin\"}],                        {\"template\":{\"data\":{\"histogram2dcontour\":[{\"type\":\"histogram2dcontour\",\"colorbar\":{\"outlinewidth\":0,\"ticks\":\"\"},\"colorscale\":[[0.0,\"#0d0887\"],[0.1111111111111111,\"#46039f\"],[0.2222222222222222,\"#7201a8\"],[0.3333333333333333,\"#9c179e\"],[0.4444444444444444,\"#bd3786\"],[0.5555555555555556,\"#d8576b\"],[0.6666666666666666,\"#ed7953\"],[0.7777777777777778,\"#fb9f3a\"],[0.8888888888888888,\"#fdca26\"],[1.0,\"#f0f921\"]]}],\"choropleth\":[{\"type\":\"choropleth\",\"colorbar\":{\"outlinewidth\":0,\"ticks\":\"\"}}],\"histogram2d\":[{\"type\":\"histogram2d\",\"colorbar\":{\"outlinewidth\":0,\"ticks\":\"\"},\"colorscale\":[[0.0,\"#0d0887\"],[0.1111111111111111,\"#46039f\"],[0.2222222222222222,\"#7201a8\"],[0.3333333333333333,\"#9c179e\"],[0.4444444444444444,\"#bd3786\"],[0.5555555555555556,\"#d8576b\"],[0.6666666666666666,\"#ed7953\"],[0.7777777777777778,\"#fb9f3a\"],[0.8888888888888888,\"#fdca26\"],[1.0,\"#f0f921\"]]}],\"heatmap\":[{\"type\":\"heatmap\",\"colorbar\":{\"outlinewidth\":0,\"ticks\":\"\"},\"colorscale\":[[0.0,\"#0d0887\"],[0.1111111111111111,\"#46039f\"],[0.2222222222222222,\"#7201a8\"],[0.3333333333333333,\"#9c179e\"],[0.4444444444444444,\"#bd3786\"],[0.5555555555555556,\"#d8576b\"],[0.6666666666666666,\"#ed7953\"],[0.7777777777777778,\"#fb9f3a\"],[0.8888888888888888,\"#fdca26\"],[1.0,\"#f0f921\"]]}],\"heatmapgl\":[{\"type\":\"heatmapgl\",\"colorbar\":{\"outlinewidth\":0,\"ticks\":\"\"},\"colorscale\":[[0.0,\"#0d0887\"],[0.1111111111111111,\"#46039f\"],[0.2222222222222222,\"#7201a8\"],[0.3333333333333333,\"#9c179e\"],[0.4444444444444444,\"#bd3786\"],[0.5555555555555556,\"#d8576b\"],[0.6666666666666666,\"#ed7953\"],[0.7777777777777778,\"#fb9f3a\"],[0.8888888888888888,\"#fdca26\"],[1.0,\"#f0f921\"]]}],\"contourcarpet\":[{\"type\":\"contourcarpet\",\"colorbar\":{\"outlinewidth\":0,\"ticks\":\"\"}}],\"contour\":[{\"type\":\"contour\",\"colorbar\":{\"outlinewidth\":0,\"ticks\":\"\"},\"colorscale\":[[0.0,\"#0d0887\"],[0.1111111111111111,\"#46039f\"],[0.2222222222222222,\"#7201a8\"],[0.3333333333333333,\"#9c179e\"],[0.4444444444444444,\"#bd3786\"],[0.5555555555555556,\"#d8576b\"],[0.6666666666666666,\"#ed7953\"],[0.7777777777777778,\"#fb9f3a\"],[0.8888888888888888,\"#fdca26\"],[1.0,\"#f0f921\"]]}],\"surface\":[{\"type\":\"surface\",\"colorbar\":{\"outlinewidth\":0,\"ticks\":\"\"},\"colorscale\":[[0.0,\"#0d0887\"],[0.1111111111111111,\"#46039f\"],[0.2222222222222222,\"#7201a8\"],[0.3333333333333333,\"#9c179e\"],[0.4444444444444444,\"#bd3786\"],[0.5555555555555556,\"#d8576b\"],[0.6666666666666666,\"#ed7953\"],[0.7777777777777778,\"#fb9f3a\"],[0.8888888888888888,\"#fdca26\"],[1.0,\"#f0f921\"]]}],\"mesh3d\":[{\"type\":\"mesh3d\",\"colorbar\":{\"outlinewidth\":0,\"ticks\":\"\"}}],\"scatter\":[{\"fillpattern\":{\"fillmode\":\"overlay\",\"size\":10,\"solidity\":0.2},\"type\":\"scatter\"}],\"parcoords\":[{\"type\":\"parcoords\",\"line\":{\"colorbar\":{\"outlinewidth\":0,\"ticks\":\"\"}}}],\"scatterpolargl\":[{\"type\":\"scatterpolargl\",\"marker\":{\"colorbar\":{\"outlinewidth\":0,\"ticks\":\"\"}}}],\"bar\":[{\"error_x\":{\"color\":\"#2a3f5f\"},\"error_y\":{\"color\":\"#2a3f5f\"},\"marker\":{\"line\":{\"color\":\"#E5ECF6\",\"width\":0.5},\"pattern\":{\"fillmode\":\"overlay\",\"size\":10,\"solidity\":0.2}},\"type\":\"bar\"}],\"scattergeo\":[{\"type\":\"scattergeo\",\"marker\":{\"colorbar\":{\"outlinewidth\":0,\"ticks\":\"\"}}}],\"scatterpolar\":[{\"type\":\"scatterpolar\",\"marker\":{\"colorbar\":{\"outlinewidth\":0,\"ticks\":\"\"}}}],\"histogram\":[{\"marker\":{\"pattern\":{\"fillmode\":\"overlay\",\"size\":10,\"solidity\":0.2}},\"type\":\"histogram\"}],\"scattergl\":[{\"type\":\"scattergl\",\"marker\":{\"colorbar\":{\"outlinewidth\":0,\"ticks\":\"\"}}}],\"scatter3d\":[{\"type\":\"scatter3d\",\"line\":{\"colorbar\":{\"outlinewidth\":0,\"ticks\":\"\"}},\"marker\":{\"colorbar\":{\"outlinewidth\":0,\"ticks\":\"\"}}}],\"scattermapbox\":[{\"type\":\"scattermapbox\",\"marker\":{\"colorbar\":{\"outlinewidth\":0,\"ticks\":\"\"}}}],\"scatterternary\":[{\"type\":\"scatterternary\",\"marker\":{\"colorbar\":{\"outlinewidth\":0,\"ticks\":\"\"}}}],\"scattercarpet\":[{\"type\":\"scattercarpet\",\"marker\":{\"colorbar\":{\"outlinewidth\":0,\"ticks\":\"\"}}}],\"carpet\":[{\"aaxis\":{\"endlinecolor\":\"#2a3f5f\",\"gridcolor\":\"white\",\"linecolor\":\"white\",\"minorgridcolor\":\"white\",\"startlinecolor\":\"#2a3f5f\"},\"baxis\":{\"endlinecolor\":\"#2a3f5f\",\"gridcolor\":\"white\",\"linecolor\":\"white\",\"minorgridcolor\":\"white\",\"startlinecolor\":\"#2a3f5f\"},\"type\":\"carpet\"}],\"table\":[{\"cells\":{\"fill\":{\"color\":\"#EBF0F8\"},\"line\":{\"color\":\"white\"}},\"header\":{\"fill\":{\"color\":\"#C8D4E3\"},\"line\":{\"color\":\"white\"}},\"type\":\"table\"}],\"barpolar\":[{\"marker\":{\"line\":{\"color\":\"#E5ECF6\",\"width\":0.5},\"pattern\":{\"fillmode\":\"overlay\",\"size\":10,\"solidity\":0.2}},\"type\":\"barpolar\"}],\"pie\":[{\"automargin\":true,\"type\":\"pie\"}]},\"layout\":{\"autotypenumbers\":\"strict\",\"colorway\":[\"#636efa\",\"#EF553B\",\"#00cc96\",\"#ab63fa\",\"#FFA15A\",\"#19d3f3\",\"#FF6692\",\"#B6E880\",\"#FF97FF\",\"#FECB52\"],\"font\":{\"color\":\"#2a3f5f\"},\"hovermode\":\"closest\",\"hoverlabel\":{\"align\":\"left\"},\"paper_bgcolor\":\"white\",\"plot_bgcolor\":\"#E5ECF6\",\"polar\":{\"bgcolor\":\"#E5ECF6\",\"angularaxis\":{\"gridcolor\":\"white\",\"linecolor\":\"white\",\"ticks\":\"\"},\"radialaxis\":{\"gridcolor\":\"white\",\"linecolor\":\"white\",\"ticks\":\"\"}},\"ternary\":{\"bgcolor\":\"#E5ECF6\",\"aaxis\":{\"gridcolor\":\"white\",\"linecolor\":\"white\",\"ticks\":\"\"},\"baxis\":{\"gridcolor\":\"white\",\"linecolor\":\"white\",\"ticks\":\"\"},\"caxis\":{\"gridcolor\":\"white\",\"linecolor\":\"white\",\"ticks\":\"\"}},\"coloraxis\":{\"colorbar\":{\"outlinewidth\":0,\"ticks\":\"\"}},\"colorscale\":{\"sequential\":[[0.0,\"#0d0887\"],[0.1111111111111111,\"#46039f\"],[0.2222222222222222,\"#7201a8\"],[0.3333333333333333,\"#9c179e\"],[0.4444444444444444,\"#bd3786\"],[0.5555555555555556,\"#d8576b\"],[0.6666666666666666,\"#ed7953\"],[0.7777777777777778,\"#fb9f3a\"],[0.8888888888888888,\"#fdca26\"],[1.0,\"#f0f921\"]],\"sequentialminus\":[[0.0,\"#0d0887\"],[0.1111111111111111,\"#46039f\"],[0.2222222222222222,\"#7201a8\"],[0.3333333333333333,\"#9c179e\"],[0.4444444444444444,\"#bd3786\"],[0.5555555555555556,\"#d8576b\"],[0.6666666666666666,\"#ed7953\"],[0.7777777777777778,\"#fb9f3a\"],[0.8888888888888888,\"#fdca26\"],[1.0,\"#f0f921\"]],\"diverging\":[[0,\"#8e0152\"],[0.1,\"#c51b7d\"],[0.2,\"#de77ae\"],[0.3,\"#f1b6da\"],[0.4,\"#fde0ef\"],[0.5,\"#f7f7f7\"],[0.6,\"#e6f5d0\"],[0.7,\"#b8e186\"],[0.8,\"#7fbc41\"],[0.9,\"#4d9221\"],[1,\"#276419\"]]},\"xaxis\":{\"gridcolor\":\"white\",\"linecolor\":\"white\",\"ticks\":\"\",\"title\":{\"standoff\":15},\"zerolinecolor\":\"white\",\"automargin\":true,\"zerolinewidth\":2},\"yaxis\":{\"gridcolor\":\"white\",\"linecolor\":\"white\",\"ticks\":\"\",\"title\":{\"standoff\":15},\"zerolinecolor\":\"white\",\"automargin\":true,\"zerolinewidth\":2},\"scene\":{\"xaxis\":{\"backgroundcolor\":\"#E5ECF6\",\"gridcolor\":\"white\",\"linecolor\":\"white\",\"showbackground\":true,\"ticks\":\"\",\"zerolinecolor\":\"white\",\"gridwidth\":2},\"yaxis\":{\"backgroundcolor\":\"#E5ECF6\",\"gridcolor\":\"white\",\"linecolor\":\"white\",\"showbackground\":true,\"ticks\":\"\",\"zerolinecolor\":\"white\",\"gridwidth\":2},\"zaxis\":{\"backgroundcolor\":\"#E5ECF6\",\"gridcolor\":\"white\",\"linecolor\":\"white\",\"showbackground\":true,\"ticks\":\"\",\"zerolinecolor\":\"white\",\"gridwidth\":2}},\"shapedefaults\":{\"line\":{\"color\":\"#2a3f5f\"}},\"annotationdefaults\":{\"arrowcolor\":\"#2a3f5f\",\"arrowhead\":0,\"arrowwidth\":1},\"geo\":{\"bgcolor\":\"white\",\"landcolor\":\"#E5ECF6\",\"subunitcolor\":\"white\",\"showland\":true,\"showlakes\":true,\"lakecolor\":\"white\"},\"title\":{\"x\":0.05},\"mapbox\":{\"style\":\"light\"}}}},                        {\"responsive\": true}                    ).then(function(){\n",
       "                            \n",
       "var gd = document.getElementById('70ea52c0-d8a1-40f0-a2a1-486b43b7d7ef');\n",
       "var x = new MutationObserver(function (mutations, observer) {{\n",
       "        var display = window.getComputedStyle(gd).display;\n",
       "        if (!display || display === 'none') {{\n",
       "            console.log([gd, 'removed!']);\n",
       "            Plotly.purge(gd);\n",
       "            observer.disconnect();\n",
       "        }}\n",
       "}});\n",
       "\n",
       "// Listen for the removal of the full notebook cells\n",
       "var notebookContainer = gd.closest('#notebook-container');\n",
       "if (notebookContainer) {{\n",
       "    x.observe(notebookContainer, {childList: true});\n",
       "}}\n",
       "\n",
       "// Listen for the clearing of the current output cell\n",
       "var outputEl = gd.closest('.output');\n",
       "if (outputEl) {{\n",
       "    x.observe(outputEl, {childList: true});\n",
       "}}\n",
       "\n",
       "                        })                };                });            </script>        </div>"
      ]
     },
     "metadata": {},
     "output_type": "display_data"
    }
   ],
   "source": [
    "# Morph left and right sides based on if the customer smokes\n",
    "fig = go.Figure()\n",
    "fig.add_trace(go.Violin(x=df['gender'][df['affair_status'] == 'Yes'],\n",
    "                        y=df['age'][df['affair_status'] == 'Yes'],\n",
    "                        legendgroup='Yes', scalegroup='Yes', name='Yes',\n",
    "                        side='negative',line_color='blue'))\n",
    "fig.add_trace(go.Violin(x=df['gender'][ df['affair_status'] == 'No' ],\n",
    "                        y=df['age'][ df['affair_status'] == 'No' ],\n",
    "                        legendgroup='Yes', scalegroup='Yes', name='No',\n",
    "                        side='positive',line_color='red'))\n"
   ]
  },
  {
   "cell_type": "code",
   "execution_count": 26,
   "id": "2a2aaec3-7a6f-4d9e-848c-89e53f26018b",
   "metadata": {},
   "outputs": [
    {
     "name": "stdout",
     "output_type": "stream",
     "text": [
      "affair_status   No  Yes\n",
      "gender                 \n",
      "female         392  125\n",
      "male           327  117\n",
      "Chi-square statistic: 0.4890685838997297\n",
      "P-value: 0.48434308224434186\n",
      "affair_status   No  Yes\n",
      "gender                 \n",
      "female         392  125\n",
      "male           327  117\n",
      "There is no significant relationship between gender and affair.\n"
     ]
    }
   ],
   "source": [
    "contingency_table = pd.crosstab(df['gender'], df['affair_status'])\n",
    "print(contingency_table)\n",
    "\n",
    "# perform chi-square test on the contingency table\n",
    "chi2, p_value, dof, expected = chi2_contingency(contingency_table)\n",
    "print('Chi-square statistic:', chi2)\n",
    "print('P-value:', p_value)\n",
    "print(contingency_table)\n",
    "\n",
    "male_affairs = contingency_table.loc['male', 'Yes']\n",
    "male_total = contingency_table.loc['male', :].sum()\n",
    "male_proportion = male_affairs / male_total\n",
    "\n",
    "female_affairs = contingency_table.loc['female', 'Yes']\n",
    "female_total = contingency_table.loc['female', :].sum()\n",
    "female_proportion = female_affairs / female_total\n",
    "\n",
    "if p_value < 0.05:\n",
    "    if male_proportion > female_proportion:\n",
    "        print('Males are more probable of having an affair.')\n",
    "    else:\n",
    "        print('Females are more probable of having an affair.')\n",
    "else:\n",
    "    print('There is no significant relationship between gender and affair.')"
   ]
  },
  {
   "cell_type": "code",
   "execution_count": 27,
   "id": "c6cefaba-cce7-4372-bcb7-85bec14211d8",
   "metadata": {},
   "outputs": [
    {
     "name": "stdout",
     "output_type": "stream",
     "text": [
      "affair_status   No  Yes\n",
      "children               \n",
      "no             218   54\n",
      "yes            501  188\n",
      "Chi-square statistic: 5.330933731699149\n",
      "P-value: 0.0209501584359022\n",
      "Individuals with children are more probable of having an affair.\n"
     ]
    }
   ],
   "source": [
    "contingency_table = pd.crosstab(df['children'], df['affair_status'])\n",
    "print(contingency_table)\n",
    "\n",
    "# perform chi-square test on the contingency table\n",
    "chi2, p_value, dof, expected = chi2_contingency(contingency_table)\n",
    "print('Chi-square statistic:', chi2)\n",
    "print('P-value:', p_value)\n",
    "\n",
    "with_children_affairs = contingency_table.loc['yes', 'Yes']\n",
    "with_children_total = contingency_table.loc['yes', :].sum()\n",
    "with_children_proportion = with_children_affairs / with_children_total\n",
    "\n",
    "without_children_affairs = contingency_table.loc['no', 'Yes']\n",
    "without_children_total = contingency_table.loc['no', :].sum()\n",
    "without_children_proportion = without_children_affairs / without_children_total\n",
    "\n",
    "if p_value < 0.05:\n",
    "    if with_children_proportion > without_children_proportion:\n",
    "        print('Individuals with children are more probable of having an affair.')\n",
    "    else:\n",
    "        print('Individuals without children are more probable of having an affair.')\n",
    "else:\n",
    "    print('There is no significant relationship between children and affair.')"
   ]
  },
  {
   "cell_type": "code",
   "execution_count": 28,
   "id": "0600daa9-b6c8-46d1-8c90-ea1c52fac02c",
   "metadata": {},
   "outputs": [
    {
     "name": "stdout",
     "output_type": "stream",
     "text": [
      "affair_status   No  Yes\n",
      "region                 \n",
      "rural          359  133\n",
      "urban          360  109\n",
      "Chi-square statistic: 1.6364195047955445\n",
      "P-value: 0.20081743502011973\n",
      "There is no significant relationship between region and affair.\n"
     ]
    }
   ],
   "source": [
    "contingency_table = pd.crosstab(df['region'], df['affair_status'])\n",
    "print(contingency_table)\n",
    "\n",
    "# perform chi-square test on the contingency table\n",
    "chi2, p_value, dof, expected = chi2_contingency(contingency_table)\n",
    "print('Chi-square statistic:', chi2)\n",
    "print('P-value:', p_value)\n",
    "\n",
    "rural_affairs = contingency_table.loc['rural', 'Yes']\n",
    "rural_total = contingency_table.loc['rural', :].sum()\n",
    "rural_proportion = rural_affairs / rural_total\n",
    "\n",
    "urban_affairs = contingency_table.loc['urban', 'Yes']\n",
    "urban_total = contingency_table.loc['urban', :].sum()\n",
    "urban_proportion = urban_affairs / urban_total\n",
    "\n",
    "if p_value < 0.05:\n",
    "    if rural_proportion > urban_proportion:\n",
    "        print('Individuals living in rural regions are more probable of having an affair.')\n",
    "    else:\n",
    "        print('Individuals living in urban regions are more probable of having an affair.')\n",
    "else:\n",
    "    print('There is no significant relationship between region and affair.')"
   ]
  },
  {
   "cell_type": "code",
   "execution_count": 29,
   "id": "713eccc8-a655-4809-8c13-9ca3502fa527",
   "metadata": {},
   "outputs": [
    {
     "name": "stdout",
     "output_type": "stream",
     "text": [
      "affair_status   No  Yes\n",
      "frequentflyer          \n",
      "no             356  117\n",
      "yes            363  125\n",
      "Chi-square statistic: 0.057374721168242535\n",
      "P-value: 0.8106944744837461\n",
      "There is no significant relationship between frequent flyers and affair.\n"
     ]
    }
   ],
   "source": [
    "contingency_table = pd.crosstab(df['frequentflyer'], df['affair_status'])\n",
    "print(contingency_table)\n",
    "\n",
    "# perform chi-square test on the contingency table\n",
    "chi2, p_value, dof, expected = chi2_contingency(contingency_table)\n",
    "print('Chi-square statistic:', chi2)\n",
    "print('P-value:', p_value)\n",
    "\n",
    "frequentflyer_affairs = contingency_table.loc['yes', 'Yes']\n",
    "frequentflyer_total = contingency_table.loc['yes', :].sum()\n",
    "frequentflyer_proportion = frequentflyer_affairs / frequentflyer_total\n",
    "\n",
    "non_frequentflyer_affairs = contingency_table.loc['no', 'Yes']\n",
    "non_frequentflyer_total = contingency_table.loc['no', :].sum()\n",
    "non_frequentflyer_proportion = non_frequentflyer_affairs / non_frequentflyer_total\n",
    "\n",
    "if p_value < 0.05:\n",
    "    if frequentflyer_proportion > non_frequentflyer_proportion:\n",
    "        print('Individuals who are frequently travelling are more probable of having an affair.')\n",
    "    else:\n",
    "        print('Individuals who are not frequently travelling are more probable of having an affair.')\n",
    "else:\n",
    "    print('There is no significant relationship between frequent flyers and affair.')"
   ]
  },
  {
   "cell_type": "code",
   "execution_count": 30,
   "id": "edb57087-dc77-45ad-8571-d1b5d20f2e16",
   "metadata": {},
   "outputs": [
    {
     "name": "stdout",
     "output_type": "stream",
     "text": [
      "affair_status      No  Yes\n",
      "income_level              \n",
      "100000 - 150000    98   25\n",
      "150000 - 200,000   92   42\n",
      "200000 or more     97   34\n",
      "25000 - 50000     107   42\n",
      "50000 - 75000     111   34\n",
      "75,000 - 100000   110   35\n",
      "Under 25000       104   30\n",
      "Chi-square statistic: 5.866306544821368\n",
      "P-value: 0.43833209512358473\n",
      "There is no significant relationship between income level and affair.\n"
     ]
    }
   ],
   "source": [
    "contingency_table = pd.crosstab(df['income_level'], df['affair_status'])\n",
    "print(contingency_table)\n",
    "\n",
    "# perform chi-square test on the contingency table\n",
    "chi2, p_value, dof, expected = chi2_contingency(contingency_table)\n",
    "print('Chi-square statistic:', chi2)\n",
    "print('P-value:', p_value)\n",
    "\n",
    "if p_value < 0.05:\n",
    "    print('There is a significant relationship between income level and affair.')\n",
    "else:\n",
    "    print('There is no significant relationship between income level and affair.')"
   ]
  },
  {
   "cell_type": "code",
   "execution_count": 31,
   "id": "51258e1c-153d-4f34-bf73-cd6afffa5a0c",
   "metadata": {},
   "outputs": [
    {
     "name": "stdout",
     "output_type": "stream",
     "text": [
      "affair_status   No  Yes\n",
      "occupation             \n",
      "0.0              7    5\n",
      "1.0            108   27\n",
      "2.0             50   19\n",
      "3.0             91   38\n",
      "4.0            103   42\n",
      "5.0            199   58\n",
      "6.0            139   47\n",
      "7.0             20    6\n",
      "8.0              2    0\n",
      "Chi-square statistic: 7.878148928589999\n",
      "P-value: 0.4454626513179689\n",
      "There is no significant relationship between occupation and affair.\n"
     ]
    }
   ],
   "source": [
    "contingency_table = pd.crosstab(df['occupation'], df['affair_status'])\n",
    "print(contingency_table)\n",
    "\n",
    "# perform chi-square test on the contingency table\n",
    "chi2, p_value, dof, expected = chi2_contingency(contingency_table)\n",
    "print('Chi-square statistic:', chi2)\n",
    "print('P-value:', p_value)\n",
    "\n",
    "if p_value < 0.05:\n",
    "    print('There is a significant relationship between occupation and affair.')\n",
    "else:\n",
    "    print('There is no significant relationship between occupation and affair.')"
   ]
  },
  {
   "cell_type": "code",
   "execution_count": 32,
   "id": "27d0b034-ae7e-48fe-ad76-992fe99468e5",
   "metadata": {},
   "outputs": [
    {
     "name": "stdout",
     "output_type": "stream",
     "text": [
      "affair_status   No  Yes\n",
      "education              \n",
      "9.0              6    2\n",
      "10.0             3    3\n",
      "11.0             9    3\n",
      "12.0            44   15\n",
      "13.0            19   10\n",
      "14.0           153   53\n",
      "15.0            44   15\n",
      "16.0           144   37\n",
      "17.0            94   37\n",
      "18.0           113   41\n",
      "19.0            15    4\n",
      "20.0            73   21\n",
      "21.0             2    1\n",
      "Chi-square statistic: 6.990497496575961\n",
      "P-value: 0.8582408795035875\n",
      "There is no significant relationship between education and affair.\n"
     ]
    }
   ],
   "source": [
    "contingency_table = pd.crosstab(df['education'], df['affair_status'])\n",
    "print(contingency_table)\n",
    "\n",
    "# perform chi-square test on the contingency table\n",
    "chi2, p_value, dof, expected = chi2_contingency(contingency_table)\n",
    "print('Chi-square statistic:', chi2)\n",
    "print('P-value:', p_value)\n",
    "\n",
    "if p_value < 0.05:\n",
    "    print('There is a significant relationship between education and affair.')\n",
    "else:\n",
    "    print('There is no significant relationship between education and affair.')"
   ]
  },
  {
   "cell_type": "code",
   "execution_count": 33,
   "id": "0e0dee23-f5a8-4779-a3f2-0a8d3f44fb34",
   "metadata": {},
   "outputs": [
    {
     "name": "stdout",
     "output_type": "stream",
     "text": [
      "affair_status   No  Yes\n",
      "religiousness          \n",
      "0.0             16    4\n",
      "1.0             59   44\n",
      "2.0            212   59\n",
      "3.0            165   66\n",
      "4.0            203   53\n",
      "5.0             62   14\n",
      "6.0              2    1\n",
      "7.0              0    1\n",
      "Chi-square statistic: 27.825519155421574\n",
      "P-value: 0.00023648778326639224\n",
      "There is a significant relationship between religiousness and affair.\n"
     ]
    }
   ],
   "source": [
    "contingency_table = pd.crosstab(df['religiousness'], df['affair_status'])\n",
    "print(contingency_table)\n",
    "\n",
    "# perform chi-square test on the contingency table\n",
    "chi2, p_value, dof, expected = chi2_contingency(contingency_table)\n",
    "print('Chi-square statistic:', chi2)\n",
    "print('P-value:', p_value)\n",
    "\n",
    "if p_value < 0.05:\n",
    "    print('There is a significant relationship between religiousness and affair.')\n",
    "else:\n",
    "    print('There is no significant relationship between religiousness and affair.')"
   ]
  },
  {
   "cell_type": "code",
   "execution_count": 34,
   "id": "bd2e9e3d-bd63-43d5-a10c-589d851ee4a3",
   "metadata": {},
   "outputs": [
    {
     "data": {
      "text/plain": [
       "array([3., 4., 1., 5., 2., 0., 6., 7.])"
      ]
     },
     "execution_count": 34,
     "metadata": {},
     "output_type": "execute_result"
    }
   ],
   "source": [
    "df.religiousness.unique()"
   ]
  },
  {
   "cell_type": "code",
   "execution_count": 35,
   "id": "57cef7db-585e-425a-ba6c-12410f565771",
   "metadata": {},
   "outputs": [],
   "source": [
    "l = []\n",
    "f = list(df.religiousness)\n",
    "for i in f:\n",
    "    if i>3:\n",
    "        l.append('yes')\n",
    "    else:\n",
    "        l.append('no')\n",
    "    \n",
    "df.religiousness = l"
   ]
  },
  {
   "cell_type": "code",
   "execution_count": 36,
   "id": "dc333fe4-df0e-4f4f-a8ec-2e94d63e5fff",
   "metadata": {},
   "outputs": [
    {
     "name": "stdout",
     "output_type": "stream",
     "text": [
      "affair_status   No  Yes\n",
      "religiousness          \n",
      "no             452  173\n",
      "yes            267   69\n",
      "Chi-square statistic: 5.546801277033014\n",
      "P-value: 0.01851449211861301\n",
      "Individuals who are non-religious are more probable of having an affair.\n"
     ]
    }
   ],
   "source": [
    "contingency_table = pd.crosstab(df['religiousness'], df['affair_status'])\n",
    "print(contingency_table)\n",
    "\n",
    "# perform chi-square test on the contingency table\n",
    "chi2, p_value, dof, expected = chi2_contingency(contingency_table)\n",
    "print('Chi-square statistic:', chi2)\n",
    "print('P-value:', p_value)\n",
    "\n",
    "religious_affairs = contingency_table.loc['yes', 'Yes']\n",
    "religious_total = contingency_table.loc['yes', :].sum()\n",
    "religious_proportion = religious_affairs / religious_total\n",
    "\n",
    "non_religious_affairs = contingency_table.loc['no', 'Yes']\n",
    "non_religious_total = contingency_table.loc['no', :].sum()\n",
    "non_religious_proportion = non_religious_affairs / non_religious_total\n",
    "\n",
    "if p_value < 0.05:\n",
    "    if religious_proportion > non_religious_proportion:\n",
    "        print('Individuals who are religious are more probable of having an affair.')\n",
    "    else:\n",
    "        print('Individuals who are non-religious are more probable of having an affair.')\n",
    "else:\n",
    "    print('There is no significant relationship between frequent religiousness and affair.')"
   ]
  },
  {
   "cell_type": "code",
   "execution_count": 37,
   "id": "c5fd61ac-ab5b-452c-a9e6-35052fb2ef77",
   "metadata": {
    "tags": []
   },
   "outputs": [
    {
     "name": "stdout",
     "output_type": "stream",
     "text": [
      "affair_status   No  Yes\n",
      "yearsmarried           \n",
      "0.000           10    6\n",
      "0.125           10    1\n",
      "0.417            9    1\n",
      "0.750           27    0\n",
      "1.000           17    8\n",
      "1.500           75   12\n",
      "2.000           16    3\n",
      "3.000           15    3\n",
      "4.000           94   34\n",
      "5.000           18    6\n",
      "6.000           15    7\n",
      "7.000           76   31\n",
      "8.000           22    2\n",
      "9.000           23    3\n",
      "10.000          70   26\n",
      "11.000          25    6\n",
      "12.000          14    5\n",
      "13.000          11    9\n",
      "14.000           5    4\n",
      "15.000         149   65\n",
      "16.000           7    3\n",
      "17.000           5    0\n",
      "18.000           5    5\n",
      "19.000           1    0\n",
      "20.000           0    2\n",
      "Chi-square statistic: 50.0577779861151\n",
      "P-value: 0.0013922020842335122\n",
      "There is a significant relationship between yearsmarried and affair.\n"
     ]
    }
   ],
   "source": [
    "contingency_table = pd.crosstab(df['yearsmarried'], df['affair_status'])\n",
    "print(contingency_table)\n",
    "\n",
    "# perform chi-square test on the contingency table\n",
    "chi2, p_value, dof, expected = chi2_contingency(contingency_table)\n",
    "print('Chi-square statistic:', chi2)\n",
    "print('P-value:', p_value)\n",
    "\n",
    "if p_value < 0.05:\n",
    "    print('There is a significant relationship between yearsmarried and affair.')\n",
    "else:\n",
    "    print('There is no significant relationship between yearsmarried and affair.')"
   ]
  },
  {
   "cell_type": "code",
   "execution_count": 38,
   "id": "829d9fc8-e728-4474-825d-6cd68fa46e3b",
   "metadata": {},
   "outputs": [],
   "source": [
    "l = []\n",
    "f = list(df.yearsmarried)\n",
    "for i in f:\n",
    "    if i<10:\n",
    "        l.append('<10')\n",
    "    else:\n",
    "        l.append('>=10')\n",
    "    \n",
    "df.yearsmarried = l"
   ]
  },
  {
   "cell_type": "code",
   "execution_count": 39,
   "id": "a930bc17-46a1-4dcd-9dc6-f25af0d46e83",
   "metadata": {},
   "outputs": [
    {
     "name": "stdout",
     "output_type": "stream",
     "text": [
      "affair_status   No  Yes\n",
      "yearsmarried           \n",
      "<10            427  117\n",
      ">=10           292  125\n",
      "Chi-square statistic: 8.541672544138034\n",
      "P-value: 0.003471065389038189\n",
      "Individuals who are married for 10 years or more are more probable of having an affair.\n"
     ]
    }
   ],
   "source": [
    "contingency_table = pd.crosstab(df['yearsmarried'], df['affair_status'])\n",
    "print(contingency_table)\n",
    "\n",
    "# perform chi-square test on the contingency table\n",
    "chi2, p_value, dof, expected = chi2_contingency(contingency_table)\n",
    "print('Chi-square statistic:', chi2)\n",
    "print('P-value:', p_value)\n",
    "\n",
    "less_than_10_affairs = contingency_table.loc['<10', 'Yes']\n",
    "less_than_10_total = contingency_table.loc['<10', :].sum()\n",
    "less_than_10_proportion = less_than_10_affairs / less_than_10_total\n",
    "\n",
    "ten_or_more_affairs = contingency_table.loc['>=10', 'Yes']\n",
    "ten_or_more_total = contingency_table.loc['>=10', :].sum()\n",
    "ten_or_more_proportion = ten_or_more_affairs / ten_or_more_total\n",
    "\n",
    "if p_value < 0.05:\n",
    "    if less_than_10_proportion > ten_or_more_proportion:\n",
    "        print('Individuals who are married for less than 10 years are more probable of having an affair.')\n",
    "    else:\n",
    "        print('Individuals who are married for 10 years or more are more probable of having an affair.')\n",
    "else:\n",
    "    print('There is no significant relationship between frequent religiousness and affair.')"
   ]
  },
  {
   "cell_type": "code",
   "execution_count": 40,
   "id": "32c28756-3728-4fe9-98cc-0fd2c24a034a",
   "metadata": {},
   "outputs": [],
   "source": [
    "# Predictive Analysis"
   ]
  },
  {
   "cell_type": "code",
   "execution_count": 41,
   "id": "e5ceb549-6aa6-4b5a-a303-f9ce6b68ea44",
   "metadata": {},
   "outputs": [],
   "source": [
    "cols = list(df.columns)"
   ]
  },
  {
   "cell_type": "code",
   "execution_count": 42,
   "id": "29d76cdf-c7c9-4b12-b062-4b342a546671",
   "metadata": {},
   "outputs": [
    {
     "data": {
      "text/plain": [
       "['affairs',\n",
       " 'affair_status',\n",
       " 'gender',\n",
       " 'age',\n",
       " 'yearsmarried',\n",
       " 'children',\n",
       " 'religiousness',\n",
       " 'education',\n",
       " 'occupation',\n",
       " 'rating',\n",
       " 'region',\n",
       " 'frequentflyer',\n",
       " 'income_level']"
      ]
     },
     "execution_count": 42,
     "metadata": {},
     "output_type": "execute_result"
    }
   ],
   "source": [
    "cols"
   ]
  },
  {
   "cell_type": "code",
   "execution_count": 43,
   "id": "4b9c80e6-46be-4541-a933-1e1d8de30c6b",
   "metadata": {},
   "outputs": [
    {
     "data": {
      "text/html": [
       "<div>\n",
       "<style scoped>\n",
       "    .dataframe tbody tr th:only-of-type {\n",
       "        vertical-align: middle;\n",
       "    }\n",
       "\n",
       "    .dataframe tbody tr th {\n",
       "        vertical-align: top;\n",
       "    }\n",
       "\n",
       "    .dataframe thead th {\n",
       "        text-align: right;\n",
       "    }\n",
       "</style>\n",
       "<table border=\"1\" class=\"dataframe\">\n",
       "  <thead>\n",
       "    <tr style=\"text-align: right;\">\n",
       "      <th></th>\n",
       "      <th>affairs</th>\n",
       "      <th>affair_status</th>\n",
       "      <th>gender</th>\n",
       "      <th>age</th>\n",
       "      <th>yearsmarried</th>\n",
       "      <th>children</th>\n",
       "      <th>religiousness</th>\n",
       "      <th>education</th>\n",
       "      <th>occupation</th>\n",
       "      <th>rating</th>\n",
       "      <th>region</th>\n",
       "      <th>frequentflyer</th>\n",
       "      <th>income_level</th>\n",
       "    </tr>\n",
       "  </thead>\n",
       "  <tbody>\n",
       "    <tr>\n",
       "      <th>0</th>\n",
       "      <td>0.0</td>\n",
       "      <td>No</td>\n",
       "      <td>male</td>\n",
       "      <td>37</td>\n",
       "      <td>&gt;=10</td>\n",
       "      <td>no</td>\n",
       "      <td>no</td>\n",
       "      <td>18.0</td>\n",
       "      <td>7.0</td>\n",
       "      <td>4.0</td>\n",
       "      <td>urban</td>\n",
       "      <td>yes</td>\n",
       "      <td>150000 - 200,000</td>\n",
       "    </tr>\n",
       "    <tr>\n",
       "      <th>1</th>\n",
       "      <td>0.0</td>\n",
       "      <td>No</td>\n",
       "      <td>female</td>\n",
       "      <td>27</td>\n",
       "      <td>&lt;10</td>\n",
       "      <td>no</td>\n",
       "      <td>yes</td>\n",
       "      <td>14.0</td>\n",
       "      <td>6.0</td>\n",
       "      <td>4.0</td>\n",
       "      <td>rural</td>\n",
       "      <td>no</td>\n",
       "      <td>150000 - 200,000</td>\n",
       "    </tr>\n",
       "    <tr>\n",
       "      <th>2</th>\n",
       "      <td>0.0</td>\n",
       "      <td>No</td>\n",
       "      <td>female</td>\n",
       "      <td>32</td>\n",
       "      <td>&gt;=10</td>\n",
       "      <td>yes</td>\n",
       "      <td>no</td>\n",
       "      <td>12.0</td>\n",
       "      <td>1.0</td>\n",
       "      <td>4.0</td>\n",
       "      <td>rural</td>\n",
       "      <td>no</td>\n",
       "      <td>Under 25000</td>\n",
       "    </tr>\n",
       "    <tr>\n",
       "      <th>3</th>\n",
       "      <td>0.0</td>\n",
       "      <td>No</td>\n",
       "      <td>male</td>\n",
       "      <td>57</td>\n",
       "      <td>&gt;=10</td>\n",
       "      <td>yes</td>\n",
       "      <td>yes</td>\n",
       "      <td>18.0</td>\n",
       "      <td>6.0</td>\n",
       "      <td>5.0</td>\n",
       "      <td>rural</td>\n",
       "      <td>yes</td>\n",
       "      <td>75,000 - 100000</td>\n",
       "    </tr>\n",
       "    <tr>\n",
       "      <th>4</th>\n",
       "      <td>0.0</td>\n",
       "      <td>No</td>\n",
       "      <td>male</td>\n",
       "      <td>22</td>\n",
       "      <td>&lt;10</td>\n",
       "      <td>no</td>\n",
       "      <td>no</td>\n",
       "      <td>17.0</td>\n",
       "      <td>6.0</td>\n",
       "      <td>3.0</td>\n",
       "      <td>rural</td>\n",
       "      <td>yes</td>\n",
       "      <td>75,000 - 100000</td>\n",
       "    </tr>\n",
       "  </tbody>\n",
       "</table>\n",
       "</div>"
      ],
      "text/plain": [
       "   affairs affair_status  gender  age yearsmarried children religiousness  \\\n",
       "0      0.0            No    male   37         >=10       no            no   \n",
       "1      0.0            No  female   27          <10       no           yes   \n",
       "2      0.0            No  female   32         >=10      yes            no   \n",
       "3      0.0            No    male   57         >=10      yes           yes   \n",
       "4      0.0            No    male   22          <10       no            no   \n",
       "\n",
       "   education  occupation  rating region frequentflyer      income_level  \n",
       "0       18.0         7.0     4.0  urban           yes  150000 - 200,000  \n",
       "1       14.0         6.0     4.0  rural            no  150000 - 200,000  \n",
       "2       12.0         1.0     4.0  rural            no       Under 25000  \n",
       "3       18.0         6.0     5.0  rural           yes   75,000 - 100000  \n",
       "4       17.0         6.0     3.0  rural           yes   75,000 - 100000  "
      ]
     },
     "execution_count": 43,
     "metadata": {},
     "output_type": "execute_result"
    }
   ],
   "source": [
    "df.head()"
   ]
  },
  {
   "cell_type": "code",
   "execution_count": 44,
   "id": "5b976389-21c0-41fd-9b63-a5f9a7a32844",
   "metadata": {},
   "outputs": [
    {
     "data": {
      "text/plain": [
       "{'affair_status': {'No': 0, 'Yes': 1},\n",
       " 'gender': {'male': 0, 'female': 1},\n",
       " 'yearsmarried': {'>=10': 0, '<10': 1},\n",
       " 'children': {'no': 0, 'yes': 1},\n",
       " 'religiousness': {'no': 0, 'yes': 1},\n",
       " 'region': {'urban': 0, 'rural': 1},\n",
       " 'frequentflyer': {'yes': 0, 'no': 1},\n",
       " 'income_level': {'150000 - 200,000': 0,\n",
       "  'Under 25000': 1,\n",
       "  '75,000 - 100000': 2,\n",
       "  '50000 - 75000': 3,\n",
       "  '200000 or more': 4,\n",
       "  '100000 - 150000': 5,\n",
       "  '25000 - 50000': 6}}"
      ]
     },
     "execution_count": 44,
     "metadata": {},
     "output_type": "execute_result"
    }
   ],
   "source": [
    "c = list(df.columns)\n",
    "y = []\n",
    "g = []\n",
    "for i in range(len(c)):\n",
    "    if df[c[i]].dtype == \"object\":\n",
    "        g.append(c[i])\n",
    "        l = df[c[i]].unique()\n",
    "        y.append(l)\n",
    "\n",
    "# Label Mapping\n",
    "ma = {}\n",
    "for i in range(len(y)):\n",
    "    o = {}\n",
    "    for j in range(len(y[i])):\n",
    "        o[y[i][j]] = j\n",
    "        df.replace({g[i]:{y[i][j]:j}},inplace=True)\n",
    "    ma[g[i]] = o\n",
    "\n",
    "ma"
   ]
  },
  {
   "cell_type": "code",
   "execution_count": 45,
   "id": "87ba1573-8fd7-4633-b055-50d795f21008",
   "metadata": {},
   "outputs": [
    {
     "data": {
      "text/html": [
       "<div>\n",
       "<style scoped>\n",
       "    .dataframe tbody tr th:only-of-type {\n",
       "        vertical-align: middle;\n",
       "    }\n",
       "\n",
       "    .dataframe tbody tr th {\n",
       "        vertical-align: top;\n",
       "    }\n",
       "\n",
       "    .dataframe thead th {\n",
       "        text-align: right;\n",
       "    }\n",
       "</style>\n",
       "<table border=\"1\" class=\"dataframe\">\n",
       "  <thead>\n",
       "    <tr style=\"text-align: right;\">\n",
       "      <th></th>\n",
       "      <th>affairs</th>\n",
       "      <th>affair_status</th>\n",
       "      <th>gender</th>\n",
       "      <th>age</th>\n",
       "      <th>yearsmarried</th>\n",
       "      <th>children</th>\n",
       "      <th>religiousness</th>\n",
       "      <th>education</th>\n",
       "      <th>occupation</th>\n",
       "      <th>rating</th>\n",
       "      <th>region</th>\n",
       "      <th>frequentflyer</th>\n",
       "      <th>income_level</th>\n",
       "    </tr>\n",
       "  </thead>\n",
       "  <tbody>\n",
       "    <tr>\n",
       "      <th>0</th>\n",
       "      <td>0.0</td>\n",
       "      <td>0</td>\n",
       "      <td>0</td>\n",
       "      <td>37</td>\n",
       "      <td>0</td>\n",
       "      <td>0</td>\n",
       "      <td>0</td>\n",
       "      <td>18.0</td>\n",
       "      <td>7.0</td>\n",
       "      <td>4.0</td>\n",
       "      <td>0</td>\n",
       "      <td>0</td>\n",
       "      <td>0</td>\n",
       "    </tr>\n",
       "    <tr>\n",
       "      <th>1</th>\n",
       "      <td>0.0</td>\n",
       "      <td>0</td>\n",
       "      <td>1</td>\n",
       "      <td>27</td>\n",
       "      <td>1</td>\n",
       "      <td>0</td>\n",
       "      <td>1</td>\n",
       "      <td>14.0</td>\n",
       "      <td>6.0</td>\n",
       "      <td>4.0</td>\n",
       "      <td>1</td>\n",
       "      <td>1</td>\n",
       "      <td>0</td>\n",
       "    </tr>\n",
       "    <tr>\n",
       "      <th>2</th>\n",
       "      <td>0.0</td>\n",
       "      <td>0</td>\n",
       "      <td>1</td>\n",
       "      <td>32</td>\n",
       "      <td>0</td>\n",
       "      <td>1</td>\n",
       "      <td>0</td>\n",
       "      <td>12.0</td>\n",
       "      <td>1.0</td>\n",
       "      <td>4.0</td>\n",
       "      <td>1</td>\n",
       "      <td>1</td>\n",
       "      <td>1</td>\n",
       "    </tr>\n",
       "    <tr>\n",
       "      <th>3</th>\n",
       "      <td>0.0</td>\n",
       "      <td>0</td>\n",
       "      <td>0</td>\n",
       "      <td>57</td>\n",
       "      <td>0</td>\n",
       "      <td>1</td>\n",
       "      <td>1</td>\n",
       "      <td>18.0</td>\n",
       "      <td>6.0</td>\n",
       "      <td>5.0</td>\n",
       "      <td>1</td>\n",
       "      <td>0</td>\n",
       "      <td>2</td>\n",
       "    </tr>\n",
       "    <tr>\n",
       "      <th>4</th>\n",
       "      <td>0.0</td>\n",
       "      <td>0</td>\n",
       "      <td>0</td>\n",
       "      <td>22</td>\n",
       "      <td>1</td>\n",
       "      <td>0</td>\n",
       "      <td>0</td>\n",
       "      <td>17.0</td>\n",
       "      <td>6.0</td>\n",
       "      <td>3.0</td>\n",
       "      <td>1</td>\n",
       "      <td>0</td>\n",
       "      <td>2</td>\n",
       "    </tr>\n",
       "  </tbody>\n",
       "</table>\n",
       "</div>"
      ],
      "text/plain": [
       "   affairs  affair_status  gender  age  yearsmarried  children  religiousness  \\\n",
       "0      0.0              0       0   37             0         0              0   \n",
       "1      0.0              0       1   27             1         0              1   \n",
       "2      0.0              0       1   32             0         1              0   \n",
       "3      0.0              0       0   57             0         1              1   \n",
       "4      0.0              0       0   22             1         0              0   \n",
       "\n",
       "   education  occupation  rating  region  frequentflyer  income_level  \n",
       "0       18.0         7.0     4.0       0              0             0  \n",
       "1       14.0         6.0     4.0       1              1             0  \n",
       "2       12.0         1.0     4.0       1              1             1  \n",
       "3       18.0         6.0     5.0       1              0             2  \n",
       "4       17.0         6.0     3.0       1              0             2  "
      ]
     },
     "execution_count": 45,
     "metadata": {},
     "output_type": "execute_result"
    }
   ],
   "source": [
    "df.head()"
   ]
  },
  {
   "cell_type": "code",
   "execution_count": 46,
   "id": "f60e38f8-f77d-4a4d-acf2-adcd2b2da329",
   "metadata": {},
   "outputs": [
    {
     "name": "stdout",
     "output_type": "stream",
     "text": [
      "Accuracy: 0.7875647668393783\n",
      "Accuracy: 0.7875647668393783\n"
     ]
    }
   ],
   "source": [
    "import pandas as pd\n",
    "from sklearn.linear_model import LogisticRegression\n",
    "from sklearn.model_selection import train_test_split\n",
    "from sklearn.metrics import accuracy_score\n",
    "from sklearn.svm import SVC\n",
    "\n",
    "d_cols = ['affairs','affair_status','rating']\n",
    "\n",
    "x = df.drop(d_cols, axis=1)\n",
    "y = df['affair_status']\n",
    "x_train, x_test, y_train, y_test = train_test_split(x, y, test_size=0.2)\n",
    "\n",
    "lr = LogisticRegression()\n",
    "lr.fit(x_train, y_train)\n",
    "y_pred = lr.predict(x_test)\n",
    "\n",
    "accuracy = accuracy_score(y_test, y_pred)\n",
    "print('Accuracy:', accuracy)\n",
    "\n",
    "sv = SVC()\n",
    "sv.fit(x_train, y_train)\n",
    "y_pred = sv.predict(x_test)\n",
    "\n",
    "accuracy = accuracy_score(y_test, y_pred)\n",
    "print('Accuracy:', accuracy)\n"
   ]
  },
  {
   "cell_type": "code",
   "execution_count": 47,
   "id": "c5254b99-8bf7-4444-bad1-96b8bef28722",
   "metadata": {},
   "outputs": [
    {
     "name": "stdout",
     "output_type": "stream",
     "text": [
      "Accuracy score of the  LogisticRegression(max_iter=1000)  =  0.7875647668393783\n",
      "\n",
      "Accuracy score of the  SVC(kernel='linear')  =  0.7875647668393783\n",
      "\n",
      "Accuracy score of the  KNeighborsClassifier()  =  0.7098445595854922\n",
      "\n",
      "Accuracy score of the  RandomForestClassifier()  =  0.7564766839378239\n",
      "\n",
      "Accuracy score of the  DecisionTreeClassifier(max_depth=3, random_state=0)  =  0.7979274611398963\n",
      "\n",
      "Accuracy score of the  GaussianNB()  =  0.7875647668393783\n",
      "\n",
      "Accuracy score of the  MLPClassifier(max_iter=300, random_state=1)  =  0.7875647668393783\n",
      "\n"
     ]
    }
   ],
   "source": [
    "models = [LogisticRegression(max_iter=1000), SVC(kernel='linear'), KNeighborsClassifier(), RandomForestClassifier(),\n",
    "          DecisionTreeClassifier(random_state=0, max_depth=3), GaussianNB(),MLPClassifier(random_state=1, max_iter=300)]\n",
    "\n",
    "def compare_models_train_test():\n",
    "    for model in models:\n",
    "        # training the model\n",
    "        model.fit(x_train, y_train)\n",
    "        # evaluating the model\n",
    "        y_test_pred = model.predict(x_test)\n",
    "        accuracy = accuracy_score(y_test, y_test_pred)\n",
    "        print('Accuracy score of the ', model, ' = ', accuracy)\n",
    "        print()\n",
    "\n",
    "\n",
    "compare_models_train_test()"
   ]
  },
  {
   "cell_type": "code",
   "execution_count": 48,
   "id": "20f041b3-ac7d-4bec-b7dd-1a90b89f4bcd",
   "metadata": {},
   "outputs": [
    {
     "name": "stdout",
     "output_type": "stream",
     "text": [
      "Cross Validation accuracies for  LogisticRegression(max_iter=1000) =   [0.74611399 0.75       0.75       0.75       0.74479167]\n",
      "Accuracy % of the  LogisticRegression(max_iter=1000) 74.82\n",
      "\n",
      "Cross Validation accuracies for  SVC(kernel='linear') =   [0.74611399 0.75       0.75       0.75       0.74479167]\n",
      "Accuracy % of the  SVC(kernel='linear') 74.82\n",
      "\n",
      "Cross Validation accuracies for  KNeighborsClassifier() =   [0.70466321 0.74479167 0.703125   0.6875     0.71875   ]\n",
      "Accuracy % of the  KNeighborsClassifier() 71.18\n",
      "\n",
      "Cross Validation accuracies for  RandomForestClassifier() =   [0.75647668 0.74479167 0.75       0.69270833 0.72916667]\n",
      "Accuracy % of the  RandomForestClassifier() 73.46\n",
      "\n",
      "Cross Validation accuracies for  DecisionTreeClassifier(max_depth=3, random_state=0) =   [0.74611399 0.734375   0.75       0.75520833 0.74479167]\n",
      "Accuracy % of the  DecisionTreeClassifier(max_depth=3, random_state=0) 74.61\n",
      "\n",
      "Cross Validation accuracies for  GaussianNB() =   [0.74093264 0.75       0.75520833 0.70833333 0.74479167]\n",
      "Accuracy % of the  GaussianNB() 73.99\n",
      "\n",
      "Cross Validation accuracies for  MLPClassifier(max_iter=300, random_state=1) =   [0.74611399 0.75       0.75       0.75       0.72395833]\n",
      "Accuracy % of the  MLPClassifier(max_iter=300, random_state=1) 74.4\n",
      "\n"
     ]
    }
   ],
   "source": [
    "def compare_models_cross_validation():\n",
    "    for model in models:\n",
    "        cv_score = cross_val_score(model, x, y,cv=5)\n",
    "        mean_accuracy = sum(cv_score) / len(cv_score)\n",
    "        mean_accuracy = mean_accuracy * 100\n",
    "        mean_accuracy = round(mean_accuracy, 2)\n",
    "\n",
    "        print('Cross Validation accuracies for ', model, '=  ', cv_score)\n",
    "        print('Accuracy % of the ', model, mean_accuracy)\n",
    "        print()\n",
    "\n",
    "compare_models_cross_validation()"
   ]
  },
  {
   "cell_type": "code",
   "execution_count": 51,
   "id": "6883b3d8-9b63-47c3-97a0-7c1d6e143292",
   "metadata": {},
   "outputs": [
    {
     "name": "stdout",
     "output_type": "stream",
     "text": [
      "The individual does not have an affair\n"
     ]
    }
   ],
   "source": [
    "# Mappings\n",
    "# {'affair_status': {'No': 0, 'Yes': 1},\n",
    "#  'gender': {'male': 0, 'female': 1},\n",
    "#  'yearsmarried': {'>=10': 0, '<10': 1},\n",
    "#  'children': {'no': 0, 'yes': 1},\n",
    "#  'religiousness': {'no': 0, 'yes': 1},\n",
    "#  'region': {'urban': 0, 'rural': 1},\n",
    "#  'frequentflyer': {'yes': 0, 'no': 1},\n",
    "#  'income_level': {'150000 - 200,000': 0,\n",
    "#   'Under 25000': 1,\n",
    "#   '75,000 - 100000': 2,\n",
    "#   '50000 - 75000': 3,\n",
    "#   '200000 or more': 4,\n",
    "#   '100000 - 150000': 5,\n",
    "#   '25000 - 50000': 6}}\n",
    "\n",
    "\n",
    "# ip = [gender  age  yearsmarried  children  religiousness  education  occupation  region  frequentflyer  \n",
    "#        income_level ]\n",
    "ip = [ma['gender']['male'],27,ma['yearsmarried']['>=10'],ma['children']['yes'],ma['religiousness']['yes'],\n",
    "      12,5,ma['region']['urban'],ma['frequentflyer']['no'],ma['income_level']['200000 or more']]\n",
    "ip = np.asarray(ip).reshape(1,-1)\n",
    "s = sv.predict(ip)\n",
    "\n",
    "if s[0]==0:\n",
    "    print('The individual does not have an affair')\n",
    "else:\n",
    "    print('The individual has an affair')"
   ]
  }
 ],
 "metadata": {
  "kernelspec": {
   "display_name": "Python 3 (ipykernel)",
   "language": "python",
   "name": "python3"
  },
  "language_info": {
   "codemirror_mode": {
    "name": "ipython",
    "version": 3
   },
   "file_extension": ".py",
   "mimetype": "text/x-python",
   "name": "python",
   "nbconvert_exporter": "python",
   "pygments_lexer": "ipython3",
   "version": "3.10.2"
  }
 },
 "nbformat": 4,
 "nbformat_minor": 5
}
